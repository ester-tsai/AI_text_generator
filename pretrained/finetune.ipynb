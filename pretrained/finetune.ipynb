{
 "cells": [
  {
   "cell_type": "code",
   "execution_count": null,
   "metadata": {
    "id": "Agm8kvVRU2Ue"
   },
   "outputs": [],
   "source": [
    "# Fine tuning gpt2_medium model and use own data like company profile\n",
    "#\n",
    "# See also medium.com blog\n",
    "# \"GPT-2 Fine-Tuning Guide: Building a Chatbot for Your Company Profile\"\n",
    "# https://medium.com/@datatec.studio"
   ]
  },
  {
   "cell_type": "code",
   "execution_count": null,
   "metadata": {
    "id": "MHzJziLsVCcT"
   },
   "outputs": [],
   "source": [
    "# Install python packages\n",
    "# !pip install -r requirements.txt"
   ]
  },
  {
   "cell_type": "code",
   "execution_count": 1,
   "metadata": {
    "id": "s5rI-cgkxRYj"
   },
   "outputs": [],
   "source": [
    "import os\n",
    "from transformers import GPT2LMHeadModel, GPT2Tokenizer\n",
    "import torch\n",
    "from torch.optim import Adam\n",
    "from torch.utils.data import DataLoader\n",
    "from tqdm import tqdm\n",
    "import time\n",
    "import numpy as np\n",
    "import sys\n",
    "\n",
    "import warnings\n",
    "warnings.filterwarnings(\"ignore\")"
   ]
  },
  {
   "cell_type": "code",
   "execution_count": 3,
   "metadata": {
    "id": "T6fuYpH4VE17"
   },
   "outputs": [
    {
     "name": "stdout",
     "output_type": "stream",
     "text": [
      "cuda\n"
     ]
    }
   ],
   "source": [
    "# Define environment variable, path of data, model name and device\n",
    "# os.environ[\"HF_HOME\"] = \"/content/huggingface\"  # Replace with your desired directory\n",
    "# print(\"Please replace it with your hf access token:\")\n",
    "# os.environ[\"HF_HOME_TOKEN\"] = \"Please_replace_it_with_your_hf_access_token\"\n",
    "\n",
    "result_dir = 'resources/'\n",
    "data_file_name = 'Winfrey'\n",
    "data_file_path = f'../data/prompt_response/{data_file_name}.txt'\n",
    "\n",
    "model_name = \"gpt2\" # gpt2-medium\n",
    "device = \"cuda\" if torch.cuda.is_available() else \"mps\" if torch.backends.mps.is_available() else \"cpu\"\n",
    "print(device)"
   ]
  },
  {
   "cell_type": "code",
   "execution_count": 4,
   "metadata": {
    "id": "_ZgHPQgRuKbb"
   },
   "outputs": [],
   "source": [
    "# Write a python file to google driver\n",
    "# Sample of json datasets\n",
    "# You can also directly upload this code to your google driver\n",
    "# The code write here in this way is for better understanding of whole project\n",
    "# %%writefile chat_data.py\n",
    "\n",
    "from torch.utils.data import Dataset\n",
    "import json\n",
    "\n",
    "class ChatData(Dataset):\n",
    "    def __init__(self, path: str, tokenizer):\n",
    "        with open(path, encoding=\"utf-8\") as f:\n",
    "            self.data = f.readlines()#json.load(open(path, \"r\"))\n",
    "\n",
    "        self.X = []\n",
    "        for pair in self.data:\n",
    "            pair = eval(pair)          \n",
    "            self.X.append(f\"<start> {pair['prompt']} <response>: {pair['response']} <end>\")\n",
    "        \n",
    "        total_samples = len(self.X)  # Calculate the total number of samples\n",
    "        print(\"total_samples\", total_samples)\n",
    "        # define samples amount\n",
    "#         self.X = self.X[:500]\n",
    "        print(\"Check the preprocessing for self.X[0]:\")\n",
    "        print(self.X[0])\n",
    "\n",
    "        self.X_encoded = tokenizer(self.X, return_tensors=\"pt\", max_length=30, padding=\"max_length\", truncation=True)\n",
    "        self.input_ids = self.X_encoded['input_ids']\n",
    "        self.attention_mask = self.X_encoded['attention_mask']\n",
    "\n",
    "    def __len__(self):\n",
    "        return len(self.X)\n",
    "\n",
    "    def __getitem__(self, idx):\n",
    "        return self.input_ids[idx], self.attention_mask[idx]\n"
   ]
  },
  {
   "cell_type": "code",
   "execution_count": 5,
   "metadata": {
    "id": "_HLw88IBQHml"
   },
   "outputs": [
    {
     "data": {
      "application/vnd.jupyter.widget-view+json": {
       "model_id": "f3de117f388243359b7e25fa09283cf3",
       "version_major": 2,
       "version_minor": 0
      },
      "text/plain": [
       "tokenizer_config.json:   0%|          | 0.00/26.0 [00:00<?, ?B/s]"
      ]
     },
     "metadata": {},
     "output_type": "display_data"
    },
    {
     "data": {
      "application/vnd.jupyter.widget-view+json": {
       "model_id": "a5522f785689421a978bf2612ec8079b",
       "version_major": 2,
       "version_minor": 0
      },
      "text/plain": [
       "vocab.json:   0%|          | 0.00/1.04M [00:00<?, ?B/s]"
      ]
     },
     "metadata": {},
     "output_type": "display_data"
    },
    {
     "data": {
      "application/vnd.jupyter.widget-view+json": {
       "model_id": "401baddbbf394ea0aa2dcc5a970c523b",
       "version_major": 2,
       "version_minor": 0
      },
      "text/plain": [
       "merges.txt:   0%|          | 0.00/456k [00:00<?, ?B/s]"
      ]
     },
     "metadata": {},
     "output_type": "display_data"
    },
    {
     "data": {
      "application/vnd.jupyter.widget-view+json": {
       "model_id": "b02bb5e6a2e240e0995d9932df739b59",
       "version_major": 2,
       "version_minor": 0
      },
      "text/plain": [
       "tokenizer.json:   0%|          | 0.00/1.36M [00:00<?, ?B/s]"
      ]
     },
     "metadata": {},
     "output_type": "display_data"
    },
    {
     "data": {
      "application/vnd.jupyter.widget-view+json": {
       "model_id": "67a9082896b844f09f4161b1296e7d09",
       "version_major": 2,
       "version_minor": 0
      },
      "text/plain": [
       "config.json:   0%|          | 0.00/665 [00:00<?, ?B/s]"
      ]
     },
     "metadata": {},
     "output_type": "display_data"
    },
    {
     "name": "stdout",
     "output_type": "stream",
     "text": [
      "Number of tokens in tokenizer before adding our specific tokens: 50257\n",
      "Number of tokens in tokenizer after adding our specific tokens: 52874\n"
     ]
    },
    {
     "data": {
      "application/vnd.jupyter.widget-view+json": {
       "model_id": "40a5b49e44064e048440e9fbd5eb749d",
       "version_major": 2,
       "version_minor": 0
      },
      "text/plain": [
       "model.safetensors:   0%|          | 0.00/548M [00:00<?, ?B/s]"
      ]
     },
     "metadata": {},
     "output_type": "display_data"
    },
    {
     "data": {
      "application/vnd.jupyter.widget-view+json": {
       "model_id": "9b40680b8bc345e68b7313775e0d1e7a",
       "version_major": 2,
       "version_minor": 0
      },
      "text/plain": [
       "generation_config.json:   0%|          | 0.00/124 [00:00<?, ?B/s]"
      ]
     },
     "metadata": {},
     "output_type": "display_data"
    }
   ],
   "source": [
    "# Download model, save model and tokernize to harddisk\n",
    "## prepare tokenizer\n",
    "tokenizer = GPT2Tokenizer.from_pretrained(model_name)\n",
    "\n",
    "print(f'Number of tokens in tokenizer before adding our specific tokens: {len(tokenizer.get_vocab())}')\n",
    "\n",
    "tokenizer.add_special_tokens({\"pad_token\": \"<pad>\",\n",
    "                              \"bos_token\": \"<start>\",\n",
    "                              \"eos_token\": \"<end>\"})\n",
    "\n",
    "tokenizer.add_tokens([\"<response>:\"])\n",
    "with open(f'../data/prompt_response/groupchat.txt', encoding=\"utf-8\") as f:\n",
    "    data = f.readlines()#json.load(open(path, \"r\"))\n",
    "\n",
    "for pair in data:\n",
    "    pair = eval(pair)\n",
    "    tokenizer.add_tokens(pair['prompt'].split() + pair['response'].split())\n",
    "    \n",
    "print(f'Number of tokens in tokenizer after adding our specific tokens: {len(tokenizer.get_vocab())}')\n",
    "\n",
    "## prepare model\n",
    "### Specify the desired embedding size (must be a multiple of 8)\n",
    "desired_embedding_size = 50264  # Change this to the desired size\n",
    "model = GPT2LMHeadModel.from_pretrained(model_name).to(device)\n",
    "### Resize the embedding layer to the desired size\n",
    "model.resize_token_embeddings(len(tokenizer), desired_embedding_size)\n",
    "model = model.to(device)\n",
    "\n",
    "model.config.pad_token_id = tokenizer.eos_token_id + 1\n",
    "\n",
    "\n",
    "## save tokenizer and model to harddisk\n",
    "# tokenizer.save_pretrained(result_dir)\n",
    "# model.save_pretrained(result_dir)"
   ]
  },
  {
   "cell_type": "code",
   "execution_count": 6,
   "metadata": {
    "id": "C9CzY7I9Qjh3"
   },
   "outputs": [],
   "source": [
    "# ## load model and tokenizer from harddisk\n",
    "# ### Load the GPT-2 tokenizer\n",
    "# tokenizer = GPT2Tokenizer.from_pretrained(result_dir)\n",
    "\n",
    "# ### Load the GPT-2 model from the local folder\n",
    "# model = GPT2LMHeadModel.from_pretrained(result_dir)\n",
    "# model.to(device)"
   ]
  },
  {
   "cell_type": "code",
   "execution_count": 7,
   "metadata": {
    "id": "tuKpppvpVlUA"
   },
   "outputs": [],
   "source": [
    "# Define infer and train function\n",
    "def infer(inp_raw):\n",
    "    inp_appended = \"<start> \" + inp_raw + \" <response>: \"\n",
    "    inp = tokenizer(inp_appended, return_tensors=\"pt\")\n",
    "    X = inp[\"input_ids\"].to(device)  # Use .to(device) method to move the tensor to the specified device\n",
    "    a = inp[\"attention_mask\"].to(device)  # Use .to(device) method here as well\n",
    "\n",
    "    output = model.generate(X, attention_mask=a, max_length=100, num_return_sequences=1)\n",
    "    output = tokenizer.decode(output[0]).replace('<pad>', '')\n",
    "    output = output[output.find('<response>: ')+len('<response>: '):].replace('<response>:', '')\n",
    "    if '<end>' in output:\n",
    "        output = output[:output.find('<end>')]\n",
    "    output = ' '.join(output.split())\n",
    "    \n",
    "    prompt_response = {\n",
    "        'prompt': inp_raw,\n",
    "        'response': output\n",
    "    }\n",
    "\n",
    "    return prompt_response\n",
    "\n",
    "\n",
    "def train(chatData, model, optim):\n",
    "    \n",
    "    batches = len(chatData)\n",
    "    total_loss = 0\n",
    "\n",
    "    for i, (X, a) in tqdm(enumerate(chatData), total=len(chatData), desc=\"Training\"):\n",
    "        X = X.to(device)\n",
    "        a = a.to(device)\n",
    "        optim.zero_grad()\n",
    "        loss = model(input_ids=X, attention_mask=a, labels=X).loss\n",
    "        total_loss += loss.item()\n",
    "        loss.backward()\n",
    "        optim.step()\n",
    "\n",
    "    print(infer(\"Any progress on the PA?\"))\n",
    "    print('========================================================')\n",
    "    \n",
    "    return total_loss"
   ]
  },
  {
   "cell_type": "code",
   "execution_count": 8,
   "metadata": {
    "id": "xQrezTeDcsz1"
   },
   "outputs": [
    {
     "name": "stdout",
     "output_type": "stream",
     "text": [
      "total_samples 570\n",
      "Check the preprocessing for self.X[0]:\n",
      "<start> You named the group CSE 151B PA2. <response>: What should our group name be 😎 Ester and I used transformers for PA1 <end>\n"
     ]
    }
   ],
   "source": [
    "# from chat_data import ChatData\n",
    "\n",
    "#Load ChatData, train model and optimizer\n",
    "chatData = ChatData(data_file_path, tokenizer)\n",
    "chatData = DataLoader(chatData, batch_size=1) # batch_size=64\n",
    "\n",
    "model.train()\n",
    "\n",
    "optim = Adam(model.parameters(), lr=1e-5)"
   ]
  },
  {
   "cell_type": "code",
   "execution_count": 9,
   "metadata": {
    "id": "7VWe95ug3Bum",
    "scrolled": true
   },
   "outputs": [
    {
     "name": "stdout",
     "output_type": "stream",
     "text": [
      "Epoch 0 started\n"
     ]
    },
    {
     "name": "stderr",
     "output_type": "stream",
     "text": [
      "Training: 100%|██████████| 570/570 [00:22<00:00, 24.91it/s]\n"
     ]
    },
    {
     "name": "stdout",
     "output_type": "stream",
     "text": [
      "{'prompt': 'Any progress on the PA?', 'response': 'the PA the the the the the the the the the the the the the the the the the the the the the the the the the the the the the the the the the the the the the the the the the'}\n",
      "========================================================\n",
      "Epoch 0 finished in 0.4 minutes | total_loss = 5005.146936416626\n",
      "Epoch 1 started\n"
     ]
    },
    {
     "name": "stderr",
     "output_type": "stream",
     "text": [
      "Training: 100%|██████████| 570/570 [00:22<00:00, 25.06it/s]\n"
     ]
    },
    {
     "name": "stdout",
     "output_type": "stream",
     "text": [
      "{'prompt': 'Any progress on the PA?', 'response': 'the the the the the the the the the the the the the the the the the the the the the the the the the the the the the the the the the the the the the the the the the the the'}\n",
      "========================================================\n",
      "Epoch 1 finished in 0.39 minutes | total_loss = 2845.416191339493\n",
      "Epoch 2 started\n"
     ]
    },
    {
     "name": "stderr",
     "output_type": "stream",
     "text": [
      "Training: 100%|██████████| 570/570 [00:22<00:00, 24.86it/s]\n"
     ]
    },
    {
     "name": "stdout",
     "output_type": "stream",
     "text": [
      "{'prompt': 'Any progress on the PA?', 'response': 'and and and and and the the and and the the the the'}\n",
      "========================================================\n",
      "Epoch 2 finished in 0.39 minutes | total_loss = 2189.0655229091644\n",
      "Epoch 3 started\n"
     ]
    },
    {
     "name": "stderr",
     "output_type": "stream",
     "text": [
      "Training: 100%|██████████| 570/570 [00:22<00:00, 25.42it/s]\n"
     ]
    },
    {
     "name": "stdout",
     "output_type": "stream",
     "text": [
      "{'prompt': 'Any progress on the PA?', 'response': 'the the the the the the the the the the the the the the the the the the the the the the the the the the the the the'}\n",
      "========================================================\n",
      "Epoch 3 finished in 0.39 minutes | total_loss = 1947.0600920915604\n",
      "Epoch 4 started\n"
     ]
    },
    {
     "name": "stderr",
     "output_type": "stream",
     "text": [
      "Training: 100%|██████████| 570/570 [00:22<00:00, 25.50it/s]\n"
     ]
    },
    {
     "name": "stdout",
     "output_type": "stream",
     "text": [
      "{'prompt': 'Any progress on the PA?', 'response': 'the I I I I I I I I I I I I I I'}\n",
      "========================================================\n",
      "Epoch 4 finished in 0.38 minutes | total_loss = 1817.9150650501251\n",
      "Epoch 5 started\n"
     ]
    },
    {
     "name": "stderr",
     "output_type": "stream",
     "text": [
      "Training: 100%|██████████| 570/570 [00:21<00:00, 26.04it/s]\n"
     ]
    },
    {
     "name": "stdout",
     "output_type": "stream",
     "text": [
      "{'prompt': 'Any progress on the PA?', 'response': 'I the is the the the of the is the I is the the the the the the the the the the the the the the'}\n",
      "========================================================\n",
      "Epoch 5 finished in 0.38 minutes | total_loss = 1727.6314778923988\n",
      "Epoch 6 started\n"
     ]
    },
    {
     "name": "stderr",
     "output_type": "stream",
     "text": [
      "Training:  39%|███▉      | 222/570 [00:08<00:13, 25.63it/s]\n"
     ]
    },
    {
     "ename": "KeyboardInterrupt",
     "evalue": "",
     "output_type": "error",
     "traceback": [
      "\u001b[0;31m---------------------------------------------------------------------------\u001b[0m",
      "\u001b[0;31mKeyboardInterrupt\u001b[0m                         Traceback (most recent call last)",
      "\u001b[0;32m/tmp/ipykernel_164/926930496.py\u001b[0m in \u001b[0;36m<module>\u001b[0;34m\u001b[0m\n\u001b[1;32m      4\u001b[0m     \u001b[0mstart\u001b[0m \u001b[0;34m=\u001b[0m \u001b[0mtime\u001b[0m\u001b[0;34m.\u001b[0m\u001b[0mtime\u001b[0m\u001b[0;34m(\u001b[0m\u001b[0;34m)\u001b[0m\u001b[0;34m\u001b[0m\u001b[0;34m\u001b[0m\u001b[0m\n\u001b[1;32m      5\u001b[0m     \u001b[0mprint\u001b[0m\u001b[0;34m(\u001b[0m\u001b[0;34mf\"Epoch {epoch} started\"\u001b[0m\u001b[0;34m)\u001b[0m\u001b[0;34m\u001b[0m\u001b[0;34m\u001b[0m\u001b[0m\n\u001b[0;32m----> 6\u001b[0;31m     \u001b[0mtotal_loss\u001b[0m \u001b[0;34m=\u001b[0m \u001b[0mtrain\u001b[0m\u001b[0;34m(\u001b[0m\u001b[0mchatData\u001b[0m\u001b[0;34m,\u001b[0m \u001b[0mmodel\u001b[0m\u001b[0;34m,\u001b[0m \u001b[0moptim\u001b[0m\u001b[0;34m)\u001b[0m\u001b[0;34m\u001b[0m\u001b[0;34m\u001b[0m\u001b[0m\n\u001b[0m\u001b[1;32m      7\u001b[0m     \u001b[0mtraining_loss\u001b[0m \u001b[0;34m+=\u001b[0m \u001b[0;34m[\u001b[0m\u001b[0mtotal_loss\u001b[0m\u001b[0;34m]\u001b[0m\u001b[0;34m\u001b[0m\u001b[0;34m\u001b[0m\u001b[0m\n\u001b[1;32m      8\u001b[0m     \u001b[0mend\u001b[0m \u001b[0;34m=\u001b[0m \u001b[0mtime\u001b[0m\u001b[0;34m.\u001b[0m\u001b[0mtime\u001b[0m\u001b[0;34m(\u001b[0m\u001b[0;34m)\u001b[0m\u001b[0;34m\u001b[0m\u001b[0;34m\u001b[0m\u001b[0m\n",
      "\u001b[0;32m/tmp/ipykernel_164/3163833943.py\u001b[0m in \u001b[0;36mtrain\u001b[0;34m(chatData, model, optim)\u001b[0m\n\u001b[1;32m     27\u001b[0m \u001b[0;34m\u001b[0m\u001b[0m\n\u001b[1;32m     28\u001b[0m     \u001b[0;32mfor\u001b[0m \u001b[0mi\u001b[0m\u001b[0;34m,\u001b[0m \u001b[0;34m(\u001b[0m\u001b[0mX\u001b[0m\u001b[0;34m,\u001b[0m \u001b[0ma\u001b[0m\u001b[0;34m)\u001b[0m \u001b[0;32min\u001b[0m \u001b[0mtqdm\u001b[0m\u001b[0;34m(\u001b[0m\u001b[0menumerate\u001b[0m\u001b[0;34m(\u001b[0m\u001b[0mchatData\u001b[0m\u001b[0;34m)\u001b[0m\u001b[0;34m,\u001b[0m \u001b[0mtotal\u001b[0m\u001b[0;34m=\u001b[0m\u001b[0mlen\u001b[0m\u001b[0;34m(\u001b[0m\u001b[0mchatData\u001b[0m\u001b[0;34m)\u001b[0m\u001b[0;34m,\u001b[0m \u001b[0mdesc\u001b[0m\u001b[0;34m=\u001b[0m\u001b[0;34m\"Training\"\u001b[0m\u001b[0;34m)\u001b[0m\u001b[0;34m:\u001b[0m\u001b[0;34m\u001b[0m\u001b[0;34m\u001b[0m\u001b[0m\n\u001b[0;32m---> 29\u001b[0;31m         \u001b[0mX\u001b[0m \u001b[0;34m=\u001b[0m \u001b[0mX\u001b[0m\u001b[0;34m.\u001b[0m\u001b[0mto\u001b[0m\u001b[0;34m(\u001b[0m\u001b[0mdevice\u001b[0m\u001b[0;34m)\u001b[0m\u001b[0;34m\u001b[0m\u001b[0;34m\u001b[0m\u001b[0m\n\u001b[0m\u001b[1;32m     30\u001b[0m         \u001b[0ma\u001b[0m \u001b[0;34m=\u001b[0m \u001b[0ma\u001b[0m\u001b[0;34m.\u001b[0m\u001b[0mto\u001b[0m\u001b[0;34m(\u001b[0m\u001b[0mdevice\u001b[0m\u001b[0;34m)\u001b[0m\u001b[0;34m\u001b[0m\u001b[0;34m\u001b[0m\u001b[0m\n\u001b[1;32m     31\u001b[0m         \u001b[0moptim\u001b[0m\u001b[0;34m.\u001b[0m\u001b[0mzero_grad\u001b[0m\u001b[0;34m(\u001b[0m\u001b[0;34m)\u001b[0m\u001b[0;34m\u001b[0m\u001b[0;34m\u001b[0m\u001b[0m\n",
      "\u001b[0;31mKeyboardInterrupt\u001b[0m: "
     ]
    }
   ],
   "source": [
    "epochs = 200  # You can adjust the number of epochs as needed\n",
    "training_loss = []\n",
    "for epoch in range(epochs):\n",
    "    start = time.time()\n",
    "    print(f\"Epoch {epoch} started\")\n",
    "    total_loss = train(chatData, model, optim)\n",
    "    training_loss += [total_loss]\n",
    "    end = time.time()\n",
    "    print(f\"Epoch {epoch} finished in {np.round((end - start) / 60, 2)} minutes | total_loss = {total_loss}\")"
   ]
  },
  {
   "cell_type": "code",
   "execution_count": 42,
   "metadata": {},
   "outputs": [
    {
     "data": {
      "text/plain": [
       "0.25416309113843716"
      ]
     },
     "execution_count": 42,
     "metadata": {},
     "output_type": "execute_result"
    }
   ],
   "source": [
    "# Winfrey: 0.33749 for 100 epochs, 0.25071 for 200 epochs\n",
    "# Jonathan 0.22917 for 200 epochs\n",
    "# Ester 0.25416 for 200 epochs\n",
    "# Jeremy 0.23813 for 200 epochs\n",
    "# Samuel 0.27827 for 200 epochs\n",
    "training_loss[-1] / len(chatData)"
   ]
  },
  {
   "cell_type": "code",
   "execution_count": null,
   "metadata": {
    "id": "toCb6YovWMu5"
   },
   "outputs": [],
   "source": [
    "# inp = \"\"\n",
    "# while True:\n",
    "#     inp = input(\"Enter your input (press Enter when done): \" + \" \" * 20)\n",
    "#     print(infer(inp))"
   ]
  },
  {
   "cell_type": "code",
   "execution_count": 12,
   "metadata": {},
   "outputs": [
    {
     "data": {
      "text/plain": [
       "['I I I can I I I I I I I I I I I I I I',\n",
       " 'I I I I I I I I I I I I I',\n",
       " 'I I I I I I I I I I I']"
      ]
     },
     "execution_count": 12,
     "metadata": {},
     "output_type": "execute_result"
    }
   ],
   "source": [
    "responses = []\n",
    "for _ in range(1000):\n",
    "    response = infer('')['response']\n",
    "    responses.append(response)\n",
    "    \n",
    "responses"
   ]
  },
  {
   "cell_type": "code",
   "execution_count": 43,
   "metadata": {},
   "outputs": [],
   "source": [
    "# Save the model's state dictionary after training is complete\n",
    "torch.save(model.state_dict(), f\"models/{data_file_name}.pt\")"
   ]
  },
  {
   "cell_type": "markdown",
   "metadata": {},
   "source": [
    "# Simulate a Chat"
   ]
  },
  {
   "cell_type": "code",
   "execution_count": 64,
   "metadata": {},
   "outputs": [],
   "source": [
    "ester = GPT2LMHeadModel.from_pretrained(model_name).to(device)\n",
    "ester.resize_token_embeddings(len(tokenizer), desired_embedding_size)\n",
    "ester.load_state_dict(torch.load(\"models/Ester.pt\"))\n",
    "ester.config.pad_token_id = tokenizer.eos_token_id + 1\n",
    "\n",
    "winfrey = GPT2LMHeadModel.from_pretrained(model_name).to(device)\n",
    "winfrey.resize_token_embeddings(len(tokenizer), desired_embedding_size)\n",
    "winfrey.load_state_dict(torch.load(\"models/Winfrey.pt\"))\n",
    "winfrey.config.pad_token_id = tokenizer.eos_token_id + 1\n",
    "\n",
    "jeremy = GPT2LMHeadModel.from_pretrained(model_name).to(device)\n",
    "jeremy.resize_token_embeddings(len(tokenizer), desired_embedding_size)\n",
    "jeremy.load_state_dict(torch.load(\"models/Jeremy.pt\"))\n",
    "jeremy.config.pad_token_id = tokenizer.eos_token_id + 1\n",
    "\n",
    "jonathan = GPT2LMHeadModel.from_pretrained(model_name).to(device)\n",
    "jonathan.resize_token_embeddings(len(tokenizer), desired_embedding_size)\n",
    "jonathan.load_state_dict(torch.load(\"models/Jonathan.pt\"))\n",
    "jonathan.config.pad_token_id = tokenizer.eos_token_id + 1\n",
    "\n",
    "samuel = GPT2LMHeadModel.from_pretrained(model_name).to(device)\n",
    "samuel.resize_token_embeddings(len(tokenizer), desired_embedding_size)\n",
    "samuel.load_state_dict(torch.load(\"models/Samuel.pt\"))\n",
    "samuel.config.pad_token_id = tokenizer.eos_token_id + 1"
   ]
  },
  {
   "cell_type": "code",
   "execution_count": 78,
   "metadata": {},
   "outputs": [],
   "source": [
    "def group_infer(inp_raw, model):\n",
    "    inp_appended = \"<start> \" + inp_raw + \" <response>: \"\n",
    "    inp = tokenizer(inp_appended, return_tensors=\"pt\")\n",
    "    X = inp[\"input_ids\"].to(device)  # Use .to(device) method to move the tensor to the specified device\n",
    "    a = inp[\"attention_mask\"].to(device)  # Use .to(device) method here as well\n",
    "\n",
    "    output = model.generate(X, attention_mask=a, max_length=100, num_return_sequences=1)\n",
    "    output = tokenizer.decode(output[0])\n",
    "#     print(output)\n",
    "    output = output[output.find('<response>: ')+len('<response>: '):].replace('<pad>', '')#.replace('<response>:', '')#.replace('<pad>', '')#.replace('<end>', '')\n",
    "    if '<response>' in output:\n",
    "        output = output[:output.find('<response>')]\n",
    "    if '<end>' in output:\n",
    "        output = output[:output.find('<end>')]\n",
    "    output = ' '.join(output.split())\n",
    "    \n",
    "    prompt_response = {\n",
    "        'prompt': inp_raw,\n",
    "        'response': output\n",
    "    }\n",
    "\n",
    "    return prompt_response"
   ]
  },
  {
   "cell_type": "code",
   "execution_count": 113,
   "metadata": {},
   "outputs": [
    {
     "name": "stdout",
     "output_type": "stream",
     "text": [
      "Ester: wanna present with me?\n",
      "Jeremy: but not need to be under 200\n",
      "Winfrey: Not too sure, I only realized that very much later, the 71% val loss is already so far from me if we want, the loss is already I could just put these plots on a bunch of different type one, I\n",
      "Jonathan: Like 6-10epochs, root library!\n",
      "Winfrey: HT HT HT HT 0.9\n",
      "Jeremy: oh btw a good idea. i think the main thing we need is more general\n",
      "Ester: yes\n",
      "Jeremy: ok i just pushed its under jeremy-unet, the code is still vv scuffed but idk more than the datahub ones i think? but like the cuda than the ones i thought urs would work cuz but mb there’s than the\n",
      "Ester: \n",
      "Jeremy: ok i just pushed its under jeremy-unet, the code is still vv scuffed but idk oop im still vv using sequence length of 50 and using sequence of 50 and using sequence of 50 and using sequence of 50 and using sequence of 50 and using sequence of\n",
      "Jonathan: \n",
      "Winfrey: Ok I’ll look into it in the morning 🤓 thanksss!!\n",
      "Jonathan: do my write up part but if it go too 😅\n",
      "Winfrey: Like one hour for 6 epochs\n",
      "Jonathan: No other changes I can make todays meeting or 128 in the results google doc\n",
      "Samuel: lol ya\n"
     ]
    }
   ],
   "source": [
    "speaker = 'Ester'\n",
    "output = group_infer(\"wanna present with me?\", eval(speaker.lower())) # How's it going?\n",
    "with_name = f'{speaker}: ' + output['prompt']\n",
    "convo = [with_name]\n",
    "print(with_name)\n",
    "\n",
    "people = ['Winfrey', 'Ester', 'Jeremy', 'Samuel', 'Jonathan']\n",
    "for i in range(15):\n",
    "    response = output['response']\n",
    "    remaining_people = [person for person in people if person != speaker]\n",
    "    speaker = np.random.choice(remaining_people)\n",
    "    output = group_infer(response, eval(speaker.lower())) # assuming models are named ester, winfrey, ...\n",
    "    with_name = f'{speaker}: ' + output['response']\n",
    "    convo += [with_name]\n",
    "    print(with_name)"
   ]
  },
  {
   "cell_type": "code",
   "execution_count": null,
   "metadata": {},
   "outputs": [],
   "source": [
    "convo"
   ]
  },
  {
   "cell_type": "markdown",
   "metadata": {},
   "source": [
    "# Extra"
   ]
  },
  {
   "cell_type": "code",
   "execution_count": 44,
   "metadata": {
    "id": "T6fuYpH4VE17"
   },
   "outputs": [
    {
     "name": "stdout",
     "output_type": "stream",
     "text": [
      "cuda\n"
     ]
    }
   ],
   "source": [
    "# Define environment variable, path of data, model name and device\n",
    "# os.environ[\"HF_HOME\"] = \"/content/huggingface\"  # Replace with your desired directory\n",
    "# print(\"Please replace it with your hf access token:\")\n",
    "# os.environ[\"HF_HOME_TOKEN\"] = \"Please_replace_it_with_your_hf_access_token\"\n",
    "\n",
    "result_dir = 'resources/'\n",
    "data_file_name = 'Jeremy'\n",
    "data_file_path = f'../data/prompt_response/{data_file_name}.txt'\n",
    "\n",
    "model_name = \"gpt2\" # gpt2-medium\n",
    "device = \"cuda\" if torch.cuda.is_available() else \"mps\" if torch.backends.mps.is_available() else \"cpu\"\n",
    "print(device)"
   ]
  },
  {
   "cell_type": "code",
   "execution_count": 45,
   "metadata": {
    "id": "_ZgHPQgRuKbb"
   },
   "outputs": [],
   "source": [
    "# Write a python file to google driver\n",
    "# Sample of json datasets\n",
    "# You can also directly upload this code to your google driver\n",
    "# The code write here in this way is for better understanding of whole project\n",
    "# %%writefile chat_data.py\n",
    "\n",
    "from torch.utils.data import Dataset\n",
    "import json\n",
    "\n",
    "class ChatData(Dataset):\n",
    "    def __init__(self, path: str, tokenizer):\n",
    "        with open(path, encoding=\"utf-8\") as f:\n",
    "            self.data = f.readlines()#json.load(open(path, \"r\"))\n",
    "\n",
    "        self.X = []\n",
    "        for pair in self.data:\n",
    "            pair = eval(pair)          \n",
    "            self.X.append(f\"<start> {pair['prompt']} <response>: {pair['response']} <end>\")\n",
    "        \n",
    "        total_samples = len(self.X)  # Calculate the total number of samples\n",
    "        print(\"total_samples\", total_samples)\n",
    "        # define samples amount\n",
    "#         self.X = self.X[:500]\n",
    "        print(\"Check the preprocessing for self.X[0]:\")\n",
    "        print(self.X[0])\n",
    "\n",
    "        self.X_encoded = tokenizer(self.X, return_tensors=\"pt\", max_length=30, padding=\"max_length\", truncation=True)\n",
    "        self.input_ids = self.X_encoded['input_ids']\n",
    "        self.attention_mask = self.X_encoded['attention_mask']\n",
    "\n",
    "    def __len__(self):\n",
    "        return len(self.X)\n",
    "\n",
    "    def __getitem__(self, idx):\n",
    "        return self.input_ids[idx], self.attention_mask[idx]\n"
   ]
  },
  {
   "cell_type": "code",
   "execution_count": 46,
   "metadata": {
    "id": "_HLw88IBQHml"
   },
   "outputs": [
    {
     "name": "stdout",
     "output_type": "stream",
     "text": [
      "Number of tokens in tokenizer before adding our specific tokens: 50257\n",
      "Number of tokens in tokenizer after adding our specific tokens: 52874\n"
     ]
    }
   ],
   "source": [
    "# Download model, save model and tokernize to harddisk\n",
    "## prepare tokenizer\n",
    "tokenizer = GPT2Tokenizer.from_pretrained(model_name)\n",
    "\n",
    "print(f'Number of tokens in tokenizer before adding our specific tokens: {len(tokenizer.get_vocab())}')\n",
    "\n",
    "tokenizer.add_special_tokens({\"pad_token\": \"<pad>\",\n",
    "                              \"bos_token\": \"<start>\",\n",
    "                              \"eos_token\": \"<end>\"})\n",
    "\n",
    "tokenizer.add_tokens([\"<response>:\"])\n",
    "with open(f'../data/prompt_response/groupchat.txt', encoding=\"utf-8\") as f:\n",
    "    data = f.readlines()#json.load(open(path, \"r\"))\n",
    "\n",
    "for pair in data:\n",
    "    pair = eval(pair)\n",
    "    tokenizer.add_tokens(pair['prompt'].split() + pair['response'].split())\n",
    "    \n",
    "print(f'Number of tokens in tokenizer after adding our specific tokens: {len(tokenizer.get_vocab())}')\n",
    "\n",
    "## prepare model\n",
    "### Specify the desired embedding size (must be a multiple of 8)\n",
    "desired_embedding_size = 50264  # Change this to the desired size\n",
    "model = GPT2LMHeadModel.from_pretrained(model_name).to(device)\n",
    "### Resize the embedding layer to the desired size\n",
    "model.resize_token_embeddings(len(tokenizer), desired_embedding_size)\n",
    "model = model.to(device)\n",
    "\n",
    "model.config.pad_token_id = tokenizer.eos_token_id + 1\n",
    "\n",
    "\n",
    "## save tokenizer and model to harddisk\n",
    "# tokenizer.save_pretrained(result_dir)\n",
    "# model.save_pretrained(result_dir)"
   ]
  },
  {
   "cell_type": "code",
   "execution_count": 47,
   "metadata": {
    "id": "C9CzY7I9Qjh3"
   },
   "outputs": [],
   "source": [
    "# ## load model and tokenizer from harddisk\n",
    "# ### Load the GPT-2 tokenizer\n",
    "# tokenizer = GPT2Tokenizer.from_pretrained(result_dir)\n",
    "\n",
    "# ### Load the GPT-2 model from the local folder\n",
    "# model = GPT2LMHeadModel.from_pretrained(result_dir)\n",
    "# model.to(device)"
   ]
  },
  {
   "cell_type": "code",
   "execution_count": 48,
   "metadata": {
    "id": "tuKpppvpVlUA"
   },
   "outputs": [],
   "source": [
    "# Define infer and train function\n",
    "def infer(inp_raw):\n",
    "    inp_appended = \"<start> \" + inp_raw + \" <response>: \"\n",
    "    inp = tokenizer(inp_appended, return_tensors=\"pt\")\n",
    "    X = inp[\"input_ids\"].to(device)  # Use .to(device) method to move the tensor to the specified device\n",
    "    a = inp[\"attention_mask\"].to(device)  # Use .to(device) method here as well\n",
    "\n",
    "    output = model.generate(X, attention_mask=a, max_length=100, num_return_sequences=1)\n",
    "    output = tokenizer.decode(output[0]).replace('<pad>', '')\n",
    "    output = output[output.find('<response>: ')+len('<response>: '):].replace('<response>:', '')\n",
    "    if '<end>' in output:\n",
    "        output = output[:output.find('<end>')]\n",
    "    output = ' '.join(output.split())\n",
    "    \n",
    "    prompt_response = {\n",
    "        'prompt': inp_raw,\n",
    "        'response': output\n",
    "    }\n",
    "\n",
    "    return prompt_response\n",
    "\n",
    "\n",
    "def train(chatData, model, optim):\n",
    "    \n",
    "    batches = len(chatData)\n",
    "    total_loss = 0\n",
    "\n",
    "    for i, (X, a) in tqdm(enumerate(chatData), total=len(chatData), desc=\"Training\"):\n",
    "        X = X.to(device)\n",
    "        a = a.to(device)\n",
    "        optim.zero_grad()\n",
    "        loss = model(input_ids=X, attention_mask=a, labels=X).loss\n",
    "        total_loss += loss.item()\n",
    "        loss.backward()\n",
    "        optim.step()\n",
    "\n",
    "    print(infer(\"Any progress on the PA?\"))\n",
    "    print('========================================================')\n",
    "    \n",
    "    return total_loss"
   ]
  },
  {
   "cell_type": "code",
   "execution_count": 49,
   "metadata": {
    "id": "xQrezTeDcsz1"
   },
   "outputs": [
    {
     "name": "stdout",
     "output_type": "stream",
     "text": [
      "total_samples 164\n",
      "Check the preprocessing for self.X[0]:\n",
      "<start> What should our group name be 😎 Ester and I used transformers for PA1 <response>: lol anything works <end>\n"
     ]
    }
   ],
   "source": [
    "# from chat_data import ChatData\n",
    "\n",
    "#Load ChatData, train model and optimizer\n",
    "chatData = ChatData(data_file_path, tokenizer)\n",
    "chatData = DataLoader(chatData, batch_size=1) # batch_size=64\n",
    "\n",
    "model.train()\n",
    "\n",
    "optim = Adam(model.parameters(), lr=1e-5)"
   ]
  },
  {
   "cell_type": "code",
   "execution_count": 50,
   "metadata": {
    "id": "7VWe95ug3Bum",
    "scrolled": true
   },
   "outputs": [
    {
     "name": "stdout",
     "output_type": "stream",
     "text": [
      "Epoch 0 started\n"
     ]
    },
    {
     "name": "stderr",
     "output_type": "stream",
     "text": [
      "Training: 100%|██████████| 164/164 [00:06<00:00, 25.98it/s]\n"
     ]
    },
    {
     "name": "stdout",
     "output_type": "stream",
     "text": [
      "{'prompt': 'Any progress on the PA?', 'response': ''}\n",
      "========================================================\n",
      "Epoch 0 finished in 0.12 minutes | total_loss = 2080.854018688202\n",
      "Epoch 1 started\n"
     ]
    },
    {
     "name": "stderr",
     "output_type": "stream",
     "text": [
      "Training: 100%|██████████| 164/164 [00:06<00:00, 25.41it/s]\n"
     ]
    },
    {
     "name": "stdout",
     "output_type": "stream",
     "text": [
      "{'prompt': 'Any progress on the PA?', 'response': 'the the the the the the the the the the the the the the the the the the the the the the the the the the the the the the the the the the the the the the the the the the the'}\n",
      "========================================================\n",
      "Epoch 1 finished in 0.12 minutes | total_loss = 1050.3898530006409\n",
      "Epoch 2 started\n"
     ]
    },
    {
     "name": "stderr",
     "output_type": "stream",
     "text": [
      "Training: 100%|██████████| 164/164 [00:06<00:00, 26.34it/s]\n"
     ]
    },
    {
     "name": "stdout",
     "output_type": "stream",
     "text": [
      "{'prompt': 'Any progress on the PA?', 'response': 'the the the the the the the the the the the the the the the the the the the the the the the the the the the the the the the the the the the the the the the the the the the'}\n",
      "========================================================\n",
      "Epoch 2 finished in 0.12 minutes | total_loss = 905.3601076602936\n",
      "Epoch 3 started\n"
     ]
    },
    {
     "name": "stderr",
     "output_type": "stream",
     "text": [
      "Training: 100%|██████████| 164/164 [00:06<00:00, 25.92it/s]\n"
     ]
    },
    {
     "name": "stdout",
     "output_type": "stream",
     "text": [
      "{'prompt': 'Any progress on the PA?', 'response': 'the the the the the the the the the the the the the the the the the the the the the the the the the the the the the the the the the the the the the the the the the the the'}\n",
      "========================================================\n",
      "Epoch 3 finished in 0.12 minutes | total_loss = 840.6375958919525\n",
      "Epoch 4 started\n"
     ]
    },
    {
     "name": "stderr",
     "output_type": "stream",
     "text": [
      "Training: 100%|██████████| 164/164 [00:06<00:00, 26.01it/s]\n"
     ]
    },
    {
     "name": "stdout",
     "output_type": "stream",
     "text": [
      "{'prompt': 'Any progress on the PA?', 'response': 'the the the the the the the the the the the the the the the the the the the the the the the the the the the the the the the the the the the the the the the the the the the'}\n",
      "========================================================\n",
      "Epoch 4 finished in 0.12 minutes | total_loss = 776.005793094635\n",
      "Epoch 5 started\n"
     ]
    },
    {
     "name": "stderr",
     "output_type": "stream",
     "text": [
      "Training: 100%|██████████| 164/164 [00:06<00:00, 25.44it/s]\n"
     ]
    },
    {
     "name": "stdout",
     "output_type": "stream",
     "text": [
      "{'prompt': 'Any progress on the PA?', 'response': 'the the I’d the the the the the the the the the the the the the the the the the the the the the the the the the the the the the the the the the the the the the the the the'}\n",
      "========================================================\n",
      "Epoch 5 finished in 0.12 minutes | total_loss = 738.9772548675537\n",
      "Epoch 6 started\n"
     ]
    },
    {
     "name": "stderr",
     "output_type": "stream",
     "text": [
      "Training: 100%|██████████| 164/164 [00:06<00:00, 25.29it/s]\n"
     ]
    },
    {
     "name": "stdout",
     "output_type": "stream",
     "text": [
      "{'prompt': 'Any progress on the PA?', 'response': 'the the the the the the the the the the the the the the the the the the the the the the the the the the the the the the the the the the the the the the the the the the the'}\n",
      "========================================================\n",
      "Epoch 6 finished in 0.12 minutes | total_loss = 686.8036551475525\n",
      "Epoch 7 started\n"
     ]
    },
    {
     "name": "stderr",
     "output_type": "stream",
     "text": [
      "Training: 100%|██████████| 164/164 [00:06<00:00, 25.50it/s]\n"
     ]
    },
    {
     "name": "stdout",
     "output_type": "stream",
     "text": [
      "{'prompt': 'Any progress on the PA?', 'response': 'the the the the the the the the the the the the the the the the the the the the the the the the the the the the the the the the the the the the the the the the the the'}\n",
      "========================================================\n",
      "Epoch 7 finished in 0.12 minutes | total_loss = 651.3020269870758\n",
      "Epoch 8 started\n"
     ]
    },
    {
     "name": "stderr",
     "output_type": "stream",
     "text": [
      "Training: 100%|██████████| 164/164 [00:06<00:00, 25.32it/s]\n"
     ]
    },
    {
     "name": "stdout",
     "output_type": "stream",
     "text": [
      "{'prompt': 'Any progress on the PA?', 'response': 'the I I I I I I I I I I I I I I I I I I I I I I I I I I I I I I I I'}\n",
      "========================================================\n",
      "Epoch 8 finished in 0.12 minutes | total_loss = 619.344128370285\n",
      "Epoch 9 started\n"
     ]
    },
    {
     "name": "stderr",
     "output_type": "stream",
     "text": [
      "Training: 100%|██████████| 164/164 [00:06<00:00, 25.96it/s]\n"
     ]
    },
    {
     "name": "stdout",
     "output_type": "stream",
     "text": [
      "{'prompt': 'Any progress on the PA?', 'response': 'the the I I I'}\n",
      "========================================================\n",
      "Epoch 9 finished in 0.12 minutes | total_loss = 583.4594495296478\n",
      "Epoch 10 started\n"
     ]
    },
    {
     "name": "stderr",
     "output_type": "stream",
     "text": [
      "Training: 100%|██████████| 164/164 [00:06<00:00, 26.15it/s]\n"
     ]
    },
    {
     "name": "stdout",
     "output_type": "stream",
     "text": [
      "{'prompt': 'Any progress on the PA?', 'response': 'the I I I I I I I I I I I I I I I I I I I I I I I I I I I I I I I I I I I I I I I I'}\n",
      "========================================================\n",
      "Epoch 10 finished in 0.12 minutes | total_loss = 551.5689743757248\n",
      "Epoch 11 started\n"
     ]
    },
    {
     "name": "stderr",
     "output_type": "stream",
     "text": [
      "Training: 100%|██████████| 164/164 [00:06<00:00, 26.12it/s]\n"
     ]
    },
    {
     "name": "stdout",
     "output_type": "stream",
     "text": [
      "{'prompt': 'Any progress on the PA?', 'response': 'I I I I I I I I I I I I I I I I I I I I I I I I I I I I I I'}\n",
      "========================================================\n",
      "Epoch 11 finished in 0.12 minutes | total_loss = 534.8167617321014\n",
      "Epoch 12 started\n"
     ]
    },
    {
     "name": "stderr",
     "output_type": "stream",
     "text": [
      "Training: 100%|██████████| 164/164 [00:06<00:00, 26.33it/s]\n"
     ]
    },
    {
     "name": "stdout",
     "output_type": "stream",
     "text": [
      "{'prompt': 'Any progress on the PA?', 'response': 'the I I'}\n",
      "========================================================\n",
      "Epoch 12 finished in 0.12 minutes | total_loss = 524.8869262933731\n",
      "Epoch 13 started\n"
     ]
    },
    {
     "name": "stderr",
     "output_type": "stream",
     "text": [
      "Training: 100%|██████████| 164/164 [00:06<00:00, 26.27it/s]\n"
     ]
    },
    {
     "name": "stdout",
     "output_type": "stream",
     "text": [
      "{'prompt': 'Any progress on the PA?', 'response': 'it the I I I I'}\n",
      "========================================================\n",
      "Epoch 13 finished in 0.12 minutes | total_loss = 504.18542897701263\n",
      "Epoch 14 started\n"
     ]
    },
    {
     "name": "stderr",
     "output_type": "stream",
     "text": [
      "Training: 100%|██████████| 164/164 [00:06<00:00, 25.34it/s]\n"
     ]
    },
    {
     "name": "stdout",
     "output_type": "stream",
     "text": [
      "{'prompt': 'Any progress on the PA?', 'response': 'the I 1'}\n",
      "========================================================\n",
      "Epoch 14 finished in 0.12 minutes | total_loss = 496.21667444705963\n",
      "Epoch 15 started\n"
     ]
    },
    {
     "name": "stderr",
     "output_type": "stream",
     "text": [
      "Training: 100%|██████████| 164/164 [00:06<00:00, 26.34it/s]\n"
     ]
    },
    {
     "name": "stdout",
     "output_type": "stream",
     "text": [
      "{'prompt': 'Any progress on the PA?', 'response': 'of the'}\n",
      "========================================================\n",
      "Epoch 15 finished in 0.12 minutes | total_loss = 485.09694015979767\n",
      "Epoch 16 started\n"
     ]
    },
    {
     "name": "stderr",
     "output_type": "stream",
     "text": [
      "Training: 100%|██████████| 164/164 [00:06<00:00, 25.57it/s]\n"
     ]
    },
    {
     "name": "stdout",
     "output_type": "stream",
     "text": [
      "{'prompt': 'Any progress on the PA?', 'response': 'the is i i is i i i i i i i i i i i i i i i i i i i i i i i i i i i i i i i i i i'}\n",
      "========================================================\n",
      "Epoch 16 finished in 0.12 minutes | total_loss = 476.7772682905197\n",
      "Epoch 17 started\n"
     ]
    },
    {
     "name": "stderr",
     "output_type": "stream",
     "text": [
      "Training: 100%|██████████| 164/164 [00:06<00:00, 26.21it/s]\n"
     ]
    },
    {
     "name": "stdout",
     "output_type": "stream",
     "text": [
      "{'prompt': 'Any progress on the PA?', 'response': 'I think the I can do it on the I think the I can do it on the I can do the I can run the I can run the I I'}\n",
      "========================================================\n",
      "Epoch 17 finished in 0.12 minutes | total_loss = 460.7528997659683\n",
      "Epoch 18 started\n"
     ]
    },
    {
     "name": "stderr",
     "output_type": "stream",
     "text": [
      "Training: 100%|██████████| 164/164 [00:06<00:00, 25.78it/s]\n"
     ]
    },
    {
     "name": "stdout",
     "output_type": "stream",
     "text": [
      "{'prompt': 'Any progress on the PA?', 'response': 'on the is the same with the the'}\n",
      "========================================================\n",
      "Epoch 18 finished in 0.12 minutes | total_loss = 457.3478424549103\n",
      "Epoch 19 started\n"
     ]
    },
    {
     "name": "stderr",
     "output_type": "stream",
     "text": [
      "Training: 100%|██████████| 164/164 [00:06<00:00, 25.67it/s]\n"
     ]
    },
    {
     "name": "stdout",
     "output_type": "stream",
     "text": [
      "{'prompt': 'Any progress on the PA?', 'response': 'the i just running the i just i just running the i just just running the i just running the i just running the i just running the i just running i just running the i length of the'}\n",
      "========================================================\n",
      "Epoch 19 finished in 0.12 minutes | total_loss = 448.65524446964264\n",
      "Epoch 20 started\n"
     ]
    },
    {
     "name": "stderr",
     "output_type": "stream",
     "text": [
      "Training: 100%|██████████| 164/164 [00:06<00:00, 25.01it/s]\n"
     ]
    },
    {
     "name": "stdout",
     "output_type": "stream",
     "text": [
      "{'prompt': 'Any progress on the PA?', 'response': 'i'}\n",
      "========================================================\n",
      "Epoch 20 finished in 0.12 minutes | total_loss = 439.6555174589157\n",
      "Epoch 21 started\n"
     ]
    },
    {
     "name": "stderr",
     "output_type": "stream",
     "text": [
      "Training: 100%|██████████| 164/164 [00:06<00:00, 25.40it/s]\n"
     ]
    },
    {
     "name": "stdout",
     "output_type": "stream",
     "text": [
      "{'prompt': 'Any progress on the PA?', 'response': 'i i think it is a a a i think it is a a a a'}\n",
      "========================================================\n",
      "Epoch 21 finished in 0.12 minutes | total_loss = 434.2316914200783\n",
      "Epoch 22 started\n"
     ]
    },
    {
     "name": "stderr",
     "output_type": "stream",
     "text": [
      "Training: 100%|██████████| 164/164 [00:06<00:00, 25.56it/s]\n"
     ]
    },
    {
     "name": "stdout",
     "output_type": "stream",
     "text": [
      "{'prompt': 'Any progress on the PA?', 'response': 'i think the code is still a code on the code is still a code on the code code'}\n",
      "========================================================\n",
      "Epoch 22 finished in 0.12 minutes | total_loss = 426.16495430469513\n",
      "Epoch 23 started\n"
     ]
    },
    {
     "name": "stderr",
     "output_type": "stream",
     "text": [
      "Training: 100%|██████████| 164/164 [00:06<00:00, 24.91it/s]\n"
     ]
    },
    {
     "name": "stdout",
     "output_type": "stream",
     "text": [
      "{'prompt': 'Any progress on the PA?', 'response': 'i just i just'}\n",
      "========================================================\n",
      "Epoch 23 finished in 0.12 minutes | total_loss = 423.5032525062561\n",
      "Epoch 24 started\n"
     ]
    },
    {
     "name": "stderr",
     "output_type": "stream",
     "text": [
      "Training: 100%|██████████| 164/164 [00:06<00:00, 25.18it/s]\n"
     ]
    },
    {
     "name": "stdout",
     "output_type": "stream",
     "text": [
      "{'prompt': 'Any progress on the PA?', 'response': 'is the code for the'}\n",
      "========================================================\n",
      "Epoch 24 finished in 0.12 minutes | total_loss = 416.0020549297333\n",
      "Epoch 25 started\n"
     ]
    },
    {
     "name": "stderr",
     "output_type": "stream",
     "text": [
      "Training: 100%|██████████| 164/164 [00:06<00:00, 25.81it/s]\n"
     ]
    },
    {
     "name": "stdout",
     "output_type": "stream",
     "text": [
      "{'prompt': 'Any progress on the PA?', 'response': 'i think it should be a i think it should be a i think it should be a i think it should be i think it should be a a i think it should be a i think'}\n",
      "========================================================\n",
      "Epoch 25 finished in 0.12 minutes | total_loss = 406.1583130955696\n",
      "Epoch 26 started\n"
     ]
    },
    {
     "name": "stderr",
     "output_type": "stream",
     "text": [
      "Training: 100%|██████████| 164/164 [00:06<00:00, 25.02it/s]\n"
     ]
    },
    {
     "name": "stdout",
     "output_type": "stream",
     "text": [
      "{'prompt': 'Any progress on the PA?', 'response': 'is the most significant significant of the same code of the code of the code of the code of the code of the code of the code of the code of the code of the code of the code of the'}\n",
      "========================================================\n",
      "Epoch 26 finished in 0.12 minutes | total_loss = 409.0134562253952\n",
      "Epoch 27 started\n"
     ]
    },
    {
     "name": "stderr",
     "output_type": "stream",
     "text": [
      "Training: 100%|██████████| 164/164 [00:06<00:00, 25.62it/s]\n"
     ]
    },
    {
     "name": "stdout",
     "output_type": "stream",
     "text": [
      "{'prompt': 'Any progress on the PA?', 'response': 'just ran it for i think it just just just like it like it like it just like it just like it like it just just just like it just just like'}\n",
      "========================================================\n",
      "Epoch 27 finished in 0.12 minutes | total_loss = 395.39784747362137\n",
      "Epoch 28 started\n"
     ]
    },
    {
     "name": "stderr",
     "output_type": "stream",
     "text": [
      "Training: 100%|██████████| 164/164 [00:06<00:00, 25.06it/s]\n"
     ]
    },
    {
     "name": "stdout",
     "output_type": "stream",
     "text": [
      "{'prompt': 'Any progress on the PA?', 'response': 'i think it should be i think it should be like a i think it just just i think it just just just just i just just just oh'}\n",
      "========================================================\n",
      "Epoch 28 finished in 0.12 minutes | total_loss = 391.79660165309906\n",
      "Epoch 29 started\n"
     ]
    },
    {
     "name": "stderr",
     "output_type": "stream",
     "text": [
      "Training: 100%|██████████| 164/164 [00:06<00:00, 25.01it/s]\n"
     ]
    },
    {
     "name": "stdout",
     "output_type": "stream",
     "text": [
      "{'prompt': 'Any progress on the PA?', 'response': 'is still running on it is running on the same path with different is the same path with different path and different path and different different and different i thought it was'}\n",
      "========================================================\n",
      "Epoch 29 finished in 0.12 minutes | total_loss = 386.5696813464165\n",
      "Epoch 30 started\n"
     ]
    },
    {
     "name": "stderr",
     "output_type": "stream",
     "text": [
      "Training: 100%|██████████| 164/164 [00:06<00:00, 25.19it/s]\n"
     ]
    },
    {
     "name": "stdout",
     "output_type": "stream",
     "text": [
      "{'prompt': 'Any progress on the PA?', 'response': 'i think it is still running on the i think it just just i i think it just i think it just just just just i think it just'}\n",
      "========================================================\n",
      "Epoch 30 finished in 0.12 minutes | total_loss = 378.5182335972786\n",
      "Epoch 31 started\n"
     ]
    },
    {
     "name": "stderr",
     "output_type": "stream",
     "text": [
      "Training: 100%|██████████| 164/164 [00:06<00:00, 25.29it/s]\n"
     ]
    },
    {
     "name": "stdout",
     "output_type": "stream",
     "text": [
      "{'prompt': 'Any progress on the PA?', 'response': 'to do i think it might have been different i think it might have been i just just it might have been different i just just just just i'}\n",
      "========================================================\n",
      "Epoch 31 finished in 0.12 minutes | total_loss = 367.0468485355377\n",
      "Epoch 32 started\n"
     ]
    },
    {
     "name": "stderr",
     "output_type": "stream",
     "text": [
      "Training: 100%|██████████| 164/164 [00:06<00:00, 25.32it/s]\n"
     ]
    },
    {
     "name": "stdout",
     "output_type": "stream",
     "text": [
      "{'prompt': 'Any progress on the PA?', 'response': 'i just it just i just just just just i just just i just just just just just just i just just just just just just just just just just just just'}\n",
      "========================================================\n",
      "Epoch 32 finished in 0.12 minutes | total_loss = 357.7532507777214\n",
      "Epoch 33 started\n"
     ]
    },
    {
     "name": "stderr",
     "output_type": "stream",
     "text": [
      "Training: 100%|██████████| 164/164 [00:06<00:00, 24.98it/s]\n"
     ]
    },
    {
     "name": "stdout",
     "output_type": "stream",
     "text": [
      "{'prompt': 'Any progress on the PA?', 'response': 'i think it should be done'}\n",
      "========================================================\n",
      "Epoch 33 finished in 0.12 minutes | total_loss = 353.83563965559006\n",
      "Epoch 34 started\n"
     ]
    },
    {
     "name": "stderr",
     "output_type": "stream",
     "text": [
      "Training: 100%|██████████| 164/164 [00:06<00:00, 25.54it/s]\n"
     ]
    },
    {
     "name": "stdout",
     "output_type": "stream",
     "text": [
      "{'prompt': 'Any progress on the PA?', 'response': 'ok i just went to the same file for the i just ok i just went to the same file for the for the same file i i just went to the same file for the'}\n",
      "========================================================\n",
      "Epoch 34 finished in 0.12 minutes | total_loss = 343.61426788568497\n",
      "Epoch 35 started\n"
     ]
    },
    {
     "name": "stderr",
     "output_type": "stream",
     "text": [
      "Training: 100%|██████████| 164/164 [00:06<00:00, 25.39it/s]\n"
     ]
    },
    {
     "name": "stdout",
     "output_type": "stream",
     "text": [
      "{'prompt': 'Any progress on the PA?', 'response': 'oh oop oop oop oop oop oop oop oop oop oop oop oop oop oop oop oop oop oop oop oop oop oop oop oop oop oop oop oop oop oop oop oop oop oop oop oop oop oop oop oop'}\n",
      "========================================================\n",
      "Epoch 35 finished in 0.12 minutes | total_loss = 337.8078987598419\n",
      "Epoch 36 started\n"
     ]
    },
    {
     "name": "stderr",
     "output_type": "stream",
     "text": [
      "Training: 100%|██████████| 164/164 [00:06<00:00, 24.96it/s]\n"
     ]
    },
    {
     "name": "stdout",
     "output_type": "stream",
     "text": [
      "{'prompt': 'Any progress on the PA?', 'response': 'i just it i just'}\n",
      "========================================================\n",
      "Epoch 36 finished in 0.12 minutes | total_loss = 325.41728764772415\n",
      "Epoch 37 started\n"
     ]
    },
    {
     "name": "stderr",
     "output_type": "stream",
     "text": [
      "Training: 100%|██████████| 164/164 [00:06<00:00, 25.61it/s]\n"
     ]
    },
    {
     "name": "stdout",
     "output_type": "stream",
     "text": [
      "{'prompt': 'Any progress on the PA?', 'response': 'i think they just ran it with 50 instead of 50 i think they just ran it with 50 instead of 50 i the just just added a few percent of the results is just just added'}\n",
      "========================================================\n",
      "Epoch 37 finished in 0.12 minutes | total_loss = 324.7231719493866\n",
      "Epoch 38 started\n"
     ]
    },
    {
     "name": "stderr",
     "output_type": "stream",
     "text": [
      "Training: 100%|██████████| 164/164 [00:06<00:00, 25.12it/s]\n"
     ]
    },
    {
     "name": "stdout",
     "output_type": "stream",
     "text": [
      "{'prompt': 'Any progress on the PA?', 'response': 'is there any thing that I ran into it that I ran it through the same training file and different and the same training and the same training for different and the same and the same image of the'}\n",
      "========================================================\n",
      "Epoch 38 finished in 0.12 minutes | total_loss = 314.42033660411835\n",
      "Epoch 39 started\n"
     ]
    },
    {
     "name": "stderr",
     "output_type": "stream",
     "text": [
      "Training: 100%|██████████| 164/164 [00:06<00:00, 24.99it/s]\n"
     ]
    },
    {
     "name": "stdout",
     "output_type": "stream",
     "text": [
      "{'prompt': 'Any progress on the PA?', 'response': 'i think it should be a but the code is still running'}\n",
      "========================================================\n",
      "Epoch 39 finished in 0.12 minutes | total_loss = 307.96616768836975\n",
      "Epoch 40 started\n"
     ]
    },
    {
     "name": "stderr",
     "output_type": "stream",
     "text": [
      "Training: 100%|██████████| 164/164 [00:06<00:00, 25.48it/s]\n"
     ]
    },
    {
     "name": "stdout",
     "output_type": "stream",
     "text": [
      "{'prompt': 'Any progress on the PA?', 'response': 'I ran ran it with 30 instead of 200 and today I went through 200 and got a and I went through 200 and I just went through it 200 again so I could have done different times I thought'}\n",
      "========================================================\n",
      "Epoch 40 finished in 0.12 minutes | total_loss = 301.3886895775795\n",
      "Epoch 41 started\n"
     ]
    },
    {
     "name": "stderr",
     "output_type": "stream",
     "text": [
      "Training: 100%|██████████| 164/164 [00:06<00:00, 25.82it/s]\n"
     ]
    },
    {
     "name": "stdout",
     "output_type": "stream",
     "text": [
      "{'prompt': 'Any progress on the PA?', 'response': 'oh i just start it again i just start it again lol i it just start again lol i just i just start it again lol i just start it again lol i just start it again lol'}\n",
      "========================================================\n",
      "Epoch 41 finished in 0.12 minutes | total_loss = 293.8604828119278\n",
      "Epoch 42 started\n"
     ]
    },
    {
     "name": "stderr",
     "output_type": "stream",
     "text": [
      "Training: 100%|██████████| 164/164 [00:06<00:00, 24.58it/s]\n"
     ]
    },
    {
     "name": "stdout",
     "output_type": "stream",
     "text": [
      "{'prompt': 'Any progress on the PA?', 'response': 'I just added the'}\n",
      "========================================================\n",
      "Epoch 42 finished in 0.12 minutes | total_loss = 294.2342495918274\n",
      "Epoch 43 started\n"
     ]
    },
    {
     "name": "stderr",
     "output_type": "stream",
     "text": [
      "Training: 100%|██████████| 164/164 [00:06<00:00, 24.37it/s]\n"
     ]
    },
    {
     "name": "stdout",
     "output_type": "stream",
     "text": [
      "{'prompt': 'Any progress on the PA?', 'response': 'oh wait no no no no no i just ran it and it and it again lol lol i just push the seed of the seed lol lol lol lol lol lol lol lol lol lol lol lol'}\n",
      "========================================================\n",
      "Epoch 43 finished in 0.12 minutes | total_loss = 280.0370225906372\n",
      "Epoch 44 started\n"
     ]
    },
    {
     "name": "stderr",
     "output_type": "stream",
     "text": [
      "Training: 100%|██████████| 164/164 [00:06<00:00, 24.79it/s]\n"
     ]
    },
    {
     "name": "stdout",
     "output_type": "stream",
     "text": [
      "{'prompt': 'Any progress on the PA?', 'response': 'I ran it with 50 instead of 50 and then fill out that part 2 with 50 instead of of 50 and then fill out that part with 50 instead of 50 and then fill out that part of the part'}\n",
      "========================================================\n",
      "Epoch 44 finished in 0.12 minutes | total_loss = 269.9840254187584\n",
      "Epoch 45 started\n"
     ]
    },
    {
     "name": "stderr",
     "output_type": "stream",
     "text": [
      "Training: 100%|██████████| 164/164 [00:06<00:00, 25.36it/s]\n"
     ]
    },
    {
     "name": "stdout",
     "output_type": "stream",
     "text": [
      "{'prompt': 'Any progress on the PA?', 'response': 'oh i i just it i just it a lot more than the'}\n",
      "========================================================\n",
      "Epoch 45 finished in 0.12 minutes | total_loss = 261.5297201871872\n",
      "Epoch 46 started\n"
     ]
    },
    {
     "name": "stderr",
     "output_type": "stream",
     "text": [
      "Training: 100%|██████████| 164/164 [00:06<00:00, 24.89it/s]\n"
     ]
    },
    {
     "name": "stdout",
     "output_type": "stream",
     "text": [
      "{'prompt': 'Any progress on the PA?', 'response': 'ok i just it'}\n",
      "========================================================\n",
      "Epoch 46 finished in 0.12 minutes | total_loss = 257.7151050269604\n",
      "Epoch 47 started\n"
     ]
    },
    {
     "name": "stderr",
     "output_type": "stream",
     "text": [
      "Training: 100%|██████████| 164/164 [00:06<00:00, 25.23it/s]\n"
     ]
    },
    {
     "name": "stdout",
     "output_type": "stream",
     "text": [
      "{'prompt': 'Any progress on the PA?', 'response': 'ok i just it'}\n",
      "========================================================\n",
      "Epoch 47 finished in 0.12 minutes | total_loss = 253.74665409326553\n",
      "Epoch 48 started\n"
     ]
    },
    {
     "name": "stderr",
     "output_type": "stream",
     "text": [
      "Training: 100%|██████████| 164/164 [00:06<00:00, 25.46it/s]\n"
     ]
    },
    {
     "name": "stdout",
     "output_type": "stream",
     "text": [
      "{'prompt': 'Any progress on the PA?', 'response': 'oh oop oop im still working on it rn rn rn rn rn rn rn rn rn rn rn rn rn rn rn rn rn rn rn rn rn rn rn rn rn rn rn rn rn rn rn'}\n",
      "========================================================\n",
      "Epoch 48 finished in 0.12 minutes | total_loss = 246.30016177892685\n",
      "Epoch 49 started\n"
     ]
    },
    {
     "name": "stderr",
     "output_type": "stream",
     "text": [
      "Training: 100%|██████████| 164/164 [00:06<00:00, 25.34it/s]\n"
     ]
    },
    {
     "name": "stdout",
     "output_type": "stream",
     "text": [
      "{'prompt': 'Any progress on the PA?', 'response': 'i think they should to make a i think they like the original one --'}\n",
      "========================================================\n",
      "Epoch 49 finished in 0.12 minutes | total_loss = 243.3761449456215\n",
      "Epoch 50 started\n"
     ]
    },
    {
     "name": "stderr",
     "output_type": "stream",
     "text": [
      "Training: 100%|██████████| 164/164 [00:06<00:00, 24.32it/s]\n"
     ]
    },
    {
     "name": "stdout",
     "output_type": "stream",
     "text": [
      "{'prompt': 'Any progress on the PA?', 'response': 'I just ran it it just it like a lot of the same thing but different than the one that got too yea lol I just ran it and it just just'}\n",
      "========================================================\n",
      "Epoch 50 finished in 0.12 minutes | total_loss = 233.64895409345627\n",
      "Epoch 51 started\n"
     ]
    },
    {
     "name": "stderr",
     "output_type": "stream",
     "text": [
      "Training: 100%|██████████| 164/164 [00:06<00:00, 25.05it/s]\n"
     ]
    },
    {
     "name": "stdout",
     "output_type": "stream",
     "text": [
      "{'prompt': 'Any progress on the PA?', 'response': 'ok I can i’ll run it on your branch ok I just run it on your GPU'}\n",
      "========================================================\n",
      "Epoch 51 finished in 0.12 minutes | total_loss = 231.9178038239479\n",
      "Epoch 52 started\n"
     ]
    },
    {
     "name": "stderr",
     "output_type": "stream",
     "text": [
      "Training: 100%|██████████| 164/164 [00:06<00:00, 26.20it/s]\n"
     ]
    },
    {
     "name": "stdout",
     "output_type": "stream",
     "text": [
      "{'prompt': 'Any progress on the PA?', 'response': 'I can do anything I can do anything I just'}\n",
      "========================================================\n",
      "Epoch 52 finished in 0.12 minutes | total_loss = 219.53121399879456\n",
      "Epoch 53 started\n"
     ]
    },
    {
     "name": "stderr",
     "output_type": "stream",
     "text": [
      "Training: 100%|██████████| 164/164 [00:06<00:00, 25.97it/s]\n"
     ]
    },
    {
     "name": "stdout",
     "output_type": "stream",
     "text": [
      "{'prompt': 'Any progress on the PA?', 'response': 'oh oop oh oop oh oop im done with it rn oh oop im going into the morning i just added a part of my part'}\n",
      "========================================================\n",
      "Epoch 53 finished in 0.12 minutes | total_loss = 220.17944160103798\n",
      "Epoch 54 started\n"
     ]
    },
    {
     "name": "stderr",
     "output_type": "stream",
     "text": [
      "Training: 100%|██████████| 164/164 [00:06<00:00, 25.98it/s]\n"
     ]
    },
    {
     "name": "stdout",
     "output_type": "stream",
     "text": [
      "{'prompt': 'Any progress on the PA?', 'response': 'oh oh im stupid i just ran it and ok i just ran it and run it again lol i only modified the numbers file and are both too expensive to branch'}\n",
      "========================================================\n",
      "Epoch 54 finished in 0.12 minutes | total_loss = 212.9468280673027\n",
      "Epoch 55 started\n"
     ]
    },
    {
     "name": "stderr",
     "output_type": "stream",
     "text": [
      "Training: 100%|██████████| 164/164 [00:06<00:00, 25.88it/s]\n"
     ]
    },
    {
     "name": "stdout",
     "output_type": "stream",
     "text": [
      "{'prompt': 'Any progress on the PA?', 'response': 'i tried the 5b i just pushed'}\n",
      "========================================================\n",
      "Epoch 55 finished in 0.12 minutes | total_loss = 208.01738852262497\n",
      "Epoch 56 started\n"
     ]
    },
    {
     "name": "stderr",
     "output_type": "stream",
     "text": [
      "Training: 100%|██████████| 164/164 [00:06<00:00, 26.01it/s]\n"
     ]
    },
    {
     "name": "stdout",
     "output_type": "stream",
     "text": [
      "{'prompt': 'Any progress on the PA?', 'response': 'ok I can run it again like 16'}\n",
      "========================================================\n",
      "Epoch 56 finished in 0.12 minutes | total_loss = 199.4501445889473\n",
      "Epoch 57 started\n"
     ]
    },
    {
     "name": "stderr",
     "output_type": "stream",
     "text": [
      "Training: 100%|██████████| 164/164 [00:06<00:00, 26.13it/s]\n"
     ]
    },
    {
     "name": "stdout",
     "output_type": "stream",
     "text": [
      "{'prompt': 'Any progress on the PA?', 'response': 'I just pushed it'}\n",
      "========================================================\n",
      "Epoch 57 finished in 0.12 minutes | total_loss = 193.38634258508682\n",
      "Epoch 58 started\n"
     ]
    },
    {
     "name": "stderr",
     "output_type": "stream",
     "text": [
      "Training: 100%|██████████| 164/164 [00:06<00:00, 26.04it/s]\n"
     ]
    },
    {
     "name": "stdout",
     "output_type": "stream",
     "text": [
      "{'prompt': 'Any progress on the PA?', 'response': 'oh ok i ran it with 30 instead of 200 I used a different temperatures and i remember the session I went very fast into this time and I did not have this issue'}\n",
      "========================================================\n",
      "Epoch 58 finished in 0.12 minutes | total_loss = 189.95980873703957\n",
      "Epoch 59 started\n"
     ]
    },
    {
     "name": "stderr",
     "output_type": "stream",
     "text": [
      "Training: 100%|██████████| 164/164 [00:06<00:00, 26.11it/s]\n"
     ]
    },
    {
     "name": "stdout",
     "output_type": "stream",
     "text": [
      "{'prompt': 'Any progress on the PA?', 'response': 'I tried run it on your branch and you can verify my own branch'}\n",
      "========================================================\n",
      "Epoch 59 finished in 0.12 minutes | total_loss = 181.23757550120354\n",
      "Epoch 60 started\n"
     ]
    },
    {
     "name": "stderr",
     "output_type": "stream",
     "text": [
      "Training: 100%|██████████| 164/164 [00:06<00:00, 25.49it/s]\n"
     ]
    },
    {
     "name": "stdout",
     "output_type": "stream",
     "text": [
      "{'prompt': 'Any progress on the PA?', 'response': 'been done'}\n",
      "========================================================\n",
      "Epoch 60 finished in 0.12 minutes | total_loss = 174.9732701778412\n",
      "Epoch 61 started\n"
     ]
    },
    {
     "name": "stderr",
     "output_type": "stream",
     "text": [
      "Training: 100%|██████████| 164/164 [00:06<00:00, 24.99it/s]\n"
     ]
    },
    {
     "name": "stdout",
     "output_type": "stream",
     "text": [
      "{'prompt': 'Any progress on the PA?', 'response': 'I think I did 5b the test code on branch but want to tried any extra'}\n",
      "========================================================\n",
      "Epoch 61 finished in 0.12 minutes | total_loss = 169.9725713133812\n",
      "Epoch 62 started\n"
     ]
    },
    {
     "name": "stderr",
     "output_type": "stream",
     "text": [
      "Training: 100%|██████████| 164/164 [00:06<00:00, 25.53it/s]\n"
     ]
    },
    {
     "name": "stdout",
     "output_type": "stream",
     "text": [
      "{'prompt': 'Any progress on the PA?', 'response': 'ok i just tried the numbers'}\n",
      "========================================================\n",
      "Epoch 62 finished in 0.12 minutes | total_loss = 166.16585540771484\n",
      "Epoch 63 started\n"
     ]
    },
    {
     "name": "stderr",
     "output_type": "stream",
     "text": [
      "Training: 100%|██████████| 164/164 [00:06<00:00, 26.21it/s]\n"
     ]
    },
    {
     "name": "stdout",
     "output_type": "stream",
     "text": [
      "{'prompt': 'Any progress on the PA?', 'response': 'just pushed it idk and then fill out'}\n",
      "========================================================\n",
      "Epoch 63 finished in 0.12 minutes | total_loss = 159.01196333765984\n",
      "Epoch 64 started\n"
     ]
    },
    {
     "name": "stderr",
     "output_type": "stream",
     "text": [
      "Training: 100%|██████████| 164/164 [00:06<00:00, 25.55it/s]\n"
     ]
    },
    {
     "name": "stdout",
     "output_type": "stream",
     "text": [
      "{'prompt': 'Any progress on the PA?', 'response': 'I still can go to 50 50 again and do every 5b a sec with 30 instead of 200 i going'}\n",
      "========================================================\n",
      "Epoch 64 finished in 0.12 minutes | total_loss = 157.2831416130066\n",
      "Epoch 65 started\n"
     ]
    },
    {
     "name": "stderr",
     "output_type": "stream",
     "text": [
      "Training: 100%|██████████| 164/164 [00:06<00:00, 25.98it/s]\n"
     ]
    },
    {
     "name": "stdout",
     "output_type": "stream",
     "text": [
      "{'prompt': 'Any progress on the PA?', 'response': 'could you check the code'}\n",
      "========================================================\n",
      "Epoch 65 finished in 0.12 minutes | total_loss = 150.447219312191\n",
      "Epoch 66 started\n"
     ]
    },
    {
     "name": "stderr",
     "output_type": "stream",
     "text": [
      "Training: 100%|██████████| 164/164 [00:06<00:00, 26.14it/s]\n"
     ]
    },
    {
     "name": "stdout",
     "output_type": "stream",
     "text": [
      "{'prompt': 'Any progress on the PA?', 'response': 'i tried doing it as a cheaper option or option or branch at temp = 2 it might be faster be expensive'}\n",
      "========================================================\n",
      "Epoch 66 finished in 0.12 minutes | total_loss = 150.67164659500122\n",
      "Epoch 67 started\n"
     ]
    },
    {
     "name": "stderr",
     "output_type": "stream",
     "text": [
      "Training: 100%|██████████| 164/164 [00:06<00:00, 26.90it/s]\n"
     ]
    },
    {
     "name": "stdout",
     "output_type": "stream",
     "text": [
      "{'prompt': 'Any progress on the PA?', 'response': 'what is that'}\n",
      "========================================================\n",
      "Epoch 67 finished in 0.11 minutes | total_loss = 144.306906580925\n",
      "Epoch 68 started\n"
     ]
    },
    {
     "name": "stderr",
     "output_type": "stream",
     "text": [
      "Training: 100%|██████████| 164/164 [00:06<00:00, 26.79it/s]\n"
     ]
    },
    {
     "name": "stdout",
     "output_type": "stream",
     "text": [
      "{'prompt': 'Any progress on the PA?', 'response': 'ok I just pushed it'}\n",
      "========================================================\n",
      "Epoch 68 finished in 0.11 minutes | total_loss = 140.7770271897316\n",
      "Epoch 69 started\n"
     ]
    },
    {
     "name": "stderr",
     "output_type": "stream",
     "text": [
      "Training: 100%|██████████| 164/164 [00:05<00:00, 27.66it/s]\n"
     ]
    },
    {
     "name": "stdout",
     "output_type": "stream",
     "text": [
      "{'prompt': 'Any progress on the PA?', 'response': 'I can help you under jeremy-unet, the sequence length of 70, is 1, to be of a single prediction and target at some 5b of the branch and the temp is of at some percent of the pixel is at some'}\n",
      "========================================================\n",
      "Epoch 69 finished in 0.11 minutes | total_loss = 139.34633681178093\n",
      "Epoch 70 started\n"
     ]
    },
    {
     "name": "stderr",
     "output_type": "stream",
     "text": [
      "Training: 100%|██████████| 164/164 [00:05<00:00, 27.68it/s]\n"
     ]
    },
    {
     "name": "stdout",
     "output_type": "stream",
     "text": [
      "{'prompt': 'Any progress on the PA?', 'response': 'ok let me give u numbers in a sec ok let me give u anything up in the morning ok my part is done, tysm just a bit too yea'}\n",
      "========================================================\n",
      "Epoch 70 finished in 0.11 minutes | total_loss = 135.8421782553196\n",
      "Epoch 71 started\n"
     ]
    },
    {
     "name": "stderr",
     "output_type": "stream",
     "text": [
      "Training: 100%|██████████| 164/164 [00:05<00:00, 27.39it/s]\n"
     ]
    },
    {
     "name": "stdout",
     "output_type": "stream",
     "text": [
      "{'prompt': 'Any progress on the PA?', 'response': 'nothing significant work on it later if branch oh oop work on it later'}\n",
      "========================================================\n",
      "Epoch 71 finished in 0.11 minutes | total_loss = 136.1899838745594\n",
      "Epoch 72 started\n"
     ]
    },
    {
     "name": "stderr",
     "output_type": "stream",
     "text": [
      "Training: 100%|██████████| 164/164 [00:06<00:00, 26.84it/s]\n"
     ]
    },
    {
     "name": "stdout",
     "output_type": "stream",
     "text": [
      "{'prompt': 'Any progress on the PA?', 'response': 'nothing significant work on it later'}\n",
      "========================================================\n",
      "Epoch 72 finished in 0.11 minutes | total_loss = 132.0187812447548\n",
      "Epoch 73 started\n"
     ]
    },
    {
     "name": "stderr",
     "output_type": "stream",
     "text": [
      "Training: 100%|██████████| 164/164 [00:06<00:00, 25.75it/s]\n"
     ]
    },
    {
     "name": "stdout",
     "output_type": "stream",
     "text": [
      "{'prompt': 'Any progress on the PA?', 'response': 'Would you like to push your code'}\n",
      "========================================================\n",
      "Epoch 73 finished in 0.12 minutes | total_loss = 126.20989093184471\n",
      "Epoch 74 started\n"
     ]
    },
    {
     "name": "stderr",
     "output_type": "stream",
     "text": [
      "Training: 100%|██████████| 164/164 [00:06<00:00, 26.79it/s]\n"
     ]
    },
    {
     "name": "stdout",
     "output_type": "stream",
     "text": [
      "{'prompt': 'Any progress on the PA?', 'response': 'been 5b for most of today. but idk just start it and work on other path then you can do it again and find your own session and id 5 and remember'}\n",
      "========================================================\n",
      "Epoch 74 finished in 0.11 minutes | total_loss = 127.68005189299583\n",
      "Epoch 75 started\n"
     ]
    },
    {
     "name": "stderr",
     "output_type": "stream",
     "text": [
      "Training: 100%|██████████| 164/164 [00:06<00:00, 25.43it/s]\n"
     ]
    },
    {
     "name": "stdout",
     "output_type": "stream",
     "text": [
      "{'prompt': 'Any progress on the PA?', 'response': \"been haven't done\"}\n",
      "========================================================\n",
      "Epoch 75 finished in 0.12 minutes | total_loss = 128.83704620599747\n",
      "Epoch 76 started\n"
     ]
    },
    {
     "name": "stderr",
     "output_type": "stream",
     "text": [
      "Training: 100%|██████████| 164/164 [00:06<00:00, 25.15it/s]\n"
     ]
    },
    {
     "name": "stdout",
     "output_type": "stream",
     "text": [
      "{'prompt': 'Any progress on the PA?', 'response': 'nothing significant yet, work on it later'}\n",
      "========================================================\n",
      "Epoch 76 finished in 0.12 minutes | total_loss = 121.00294789671898\n",
      "Epoch 77 started\n"
     ]
    },
    {
     "name": "stderr",
     "output_type": "stream",
     "text": [
      "Training: 100%|██████████| 164/164 [00:06<00:00, 24.72it/s]\n"
     ]
    },
    {
     "name": "stdout",
     "output_type": "stream",
     "text": [
      "{'prompt': 'Any progress on the PA?', 'response': 'nothing significant yet,'}\n",
      "========================================================\n",
      "Epoch 77 finished in 0.12 minutes | total_loss = 116.23609863221645\n",
      "Epoch 78 started\n"
     ]
    },
    {
     "name": "stderr",
     "output_type": "stream",
     "text": [
      "Training: 100%|██████████| 164/164 [00:06<00:00, 24.28it/s]\n"
     ]
    },
    {
     "name": "stdout",
     "output_type": "stream",
     "text": [
      "{'prompt': 'Any progress on the PA?', 'response': 'nothing significant yet, work on it later'}\n",
      "========================================================\n",
      "Epoch 78 finished in 0.12 minutes | total_loss = 117.69183596968651\n",
      "Epoch 79 started\n"
     ]
    },
    {
     "name": "stderr",
     "output_type": "stream",
     "text": [
      "Training: 100%|██████████| 164/164 [00:06<00:00, 24.27it/s]\n"
     ]
    },
    {
     "name": "stdout",
     "output_type": "stream",
     "text": [
      "{'prompt': 'Any progress on the PA?', 'response': \"what were the hyperparameters so long it had any chance I had to try 200 lol just pushed at one point I thought had no chance I had we can i’ll go on it at any time you like winfrey's\"}\n",
      "========================================================\n",
      "Epoch 79 finished in 0.12 minutes | total_loss = 113.78899006545544\n",
      "Epoch 80 started\n"
     ]
    },
    {
     "name": "stderr",
     "output_type": "stream",
     "text": [
      "Training: 100%|██████████| 164/164 [00:06<00:00, 24.54it/s]\n"
     ]
    },
    {
     "name": "stdout",
     "output_type": "stream",
     "text": [
      "{'prompt': 'Any progress on the PA?', 'response': 'nothing significant work on it later but work on it later i tried but work on it later'}\n",
      "========================================================\n",
      "Epoch 80 finished in 0.12 minutes | total_loss = 109.88175025582314\n",
      "Epoch 81 started\n"
     ]
    },
    {
     "name": "stderr",
     "output_type": "stream",
     "text": [
      "Training: 100%|██████████| 164/164 [00:06<00:00, 25.81it/s]\n"
     ]
    },
    {
     "name": "stdout",
     "output_type": "stream",
     "text": [
      "{'prompt': 'Any progress on the PA?', 'response': 'nothing significant been working on it for me through 30 so far i don’t added a new part 5 file to my file that i don’t added a different numbers of the original file'}\n",
      "========================================================\n",
      "Epoch 81 finished in 0.12 minutes | total_loss = 105.96734170615673\n",
      "Epoch 82 started\n"
     ]
    },
    {
     "name": "stderr",
     "output_type": "stream",
     "text": [
      "Training: 100%|██████████| 164/164 [00:06<00:00, 24.45it/s]\n"
     ]
    },
    {
     "name": "stdout",
     "output_type": "stream",
     "text": [
      "{'prompt': 'Any progress on the PA?', 'response': 'work on it later'}\n",
      "========================================================\n",
      "Epoch 82 finished in 0.12 minutes | total_loss = 102.37047357857227\n",
      "Epoch 83 started\n"
     ]
    },
    {
     "name": "stderr",
     "output_type": "stream",
     "text": [
      "Training: 100%|██████████| 164/164 [00:06<00:00, 24.75it/s]\n"
     ]
    },
    {
     "name": "stdout",
     "output_type": "stream",
     "text": [
      "{'prompt': 'Any progress on the PA?', 'response': \"been haven't for 5b and but i’ll oh ok update when i finally done the batch size is checkpoint/best_0219 i tried doing the the batch size of the 5b is too\"}\n",
      "========================================================\n",
      "Epoch 83 finished in 0.12 minutes | total_loss = 106.54318664968014\n",
      "Epoch 84 started\n"
     ]
    },
    {
     "name": "stderr",
     "output_type": "stream",
     "text": [
      "Training: 100%|██████████| 164/164 [00:06<00:00, 25.73it/s]\n"
     ]
    },
    {
     "name": "stdout",
     "output_type": "stream",
     "text": [
      "{'prompt': 'Any progress on the PA?', 'response': 'nothing significant yet, work on it later on if I finally figure out how to do it individually any time but locally'}\n",
      "========================================================\n",
      "Epoch 84 finished in 0.12 minutes | total_loss = 104.45251141488552\n",
      "Epoch 85 started\n"
     ]
    },
    {
     "name": "stderr",
     "output_type": "stream",
     "text": [
      "Training: 100%|██████████| 164/164 [00:06<00:00, 24.72it/s]\n"
     ]
    },
    {
     "name": "stdout",
     "output_type": "stream",
     "text": [
      "{'prompt': 'Any progress on the PA?', 'response': 'nothing significant yet, significant'}\n",
      "========================================================\n",
      "Epoch 85 finished in 0.12 minutes | total_loss = 101.79105201363564\n",
      "Epoch 86 started\n"
     ]
    },
    {
     "name": "stderr",
     "output_type": "stream",
     "text": [
      "Training: 100%|██████████| 164/164 [00:06<00:00, 25.68it/s]\n"
     ]
    },
    {
     "name": "stdout",
     "output_type": "stream",
     "text": [
      "{'prompt': 'Any progress on the PA?', 'response': 'I tried not sure if it prob going into it ig it looks or i tried it later before rerunning I think it might be but not work cuz cuz really cuz I tried the code lol'}\n",
      "========================================================\n",
      "Epoch 86 finished in 0.12 minutes | total_loss = 94.03353008627892\n",
      "Epoch 87 started\n"
     ]
    },
    {
     "name": "stderr",
     "output_type": "stream",
     "text": [
      "Training: 100%|██████████| 164/164 [00:06<00:00, 26.11it/s]\n"
     ]
    },
    {
     "name": "stdout",
     "output_type": "stream",
     "text": [
      "{'prompt': 'Any progress on the PA?', 'response': 'nothing significant yet, work on it later cuz'}\n",
      "========================================================\n",
      "Epoch 87 finished in 0.12 minutes | total_loss = 95.22239656746387\n",
      "Epoch 88 started\n"
     ]
    },
    {
     "name": "stderr",
     "output_type": "stream",
     "text": [
      "Training: 100%|██████████| 164/164 [00:06<00:00, 25.26it/s]\n"
     ]
    },
    {
     "name": "stdout",
     "output_type": "stream",
     "text": [
      "{'prompt': 'Any progress on the PA?', 'response': 'oh wait no I ran it looks under 30 i think datahub would work cuz cuz we could find be the same for all epochs lol ur would work cuz ur like urs would do'}\n",
      "========================================================\n",
      "Epoch 88 finished in 0.12 minutes | total_loss = 92.85320648550987\n",
      "Epoch 89 started\n"
     ]
    },
    {
     "name": "stderr",
     "output_type": "stream",
     "text": [
      "Training: 100%|██████████| 164/164 [00:06<00:00, 25.99it/s]\n"
     ]
    },
    {
     "name": "stdout",
     "output_type": "stream",
     "text": [
      "{'prompt': 'Any progress on the PA?', 'response': 'nothing significant yet, work on it later'}\n",
      "========================================================\n",
      "Epoch 89 finished in 0.12 minutes | total_loss = 94.00861939787865\n",
      "Epoch 90 started\n"
     ]
    },
    {
     "name": "stderr",
     "output_type": "stream",
     "text": [
      "Training: 100%|██████████| 164/164 [00:06<00:00, 27.09it/s]\n"
     ]
    },
    {
     "name": "stdout",
     "output_type": "stream",
     "text": [
      "{'prompt': 'Any progress on the PA?', 'response': 'Hmm yea mine is still working on it rn but i’ll is it ready for the 5b ? ?'}\n",
      "========================================================\n",
      "Epoch 90 finished in 0.11 minutes | total_loss = 91.0774022936821\n",
      "Epoch 91 started\n"
     ]
    },
    {
     "name": "stderr",
     "output_type": "stream",
     "text": [
      "Training: 100%|██████████| 164/164 [00:05<00:00, 27.61it/s]\n"
     ]
    },
    {
     "name": "stdout",
     "output_type": "stream",
     "text": [
      "{'prompt': 'Any progress on the PA?', 'response': 'been 5b for 5b read the paper'}\n",
      "========================================================\n",
      "Epoch 91 finished in 0.11 minutes | total_loss = 86.27675607800484\n",
      "Epoch 92 started\n"
     ]
    },
    {
     "name": "stderr",
     "output_type": "stream",
     "text": [
      "Training: 100%|██████████| 164/164 [00:05<00:00, 27.55it/s]\n"
     ]
    },
    {
     "name": "stdout",
     "output_type": "stream",
     "text": [
      "{'prompt': 'Any progress on the PA?', 'response': 'nothing significant yet, work on it later i’m oh btw'}\n",
      "========================================================\n",
      "Epoch 92 finished in 0.11 minutes | total_loss = 88.15772052109241\n",
      "Epoch 93 started\n"
     ]
    },
    {
     "name": "stderr",
     "output_type": "stream",
     "text": [
      "Training: 100%|██████████| 164/164 [00:05<00:00, 27.74it/s]\n"
     ]
    },
    {
     "name": "stdout",
     "output_type": "stream",
     "text": [
      "{'prompt': 'Any progress on the PA?', 'response': 'oh oop im still working on it rn oh btw did we submit the 5b model on it rn i think we had the training time to do this batch size of 5b but take our names and we could say'}\n",
      "========================================================\n",
      "Epoch 93 finished in 0.11 minutes | total_loss = 98.26678720116615\n",
      "Epoch 94 started\n"
     ]
    },
    {
     "name": "stderr",
     "output_type": "stream",
     "text": [
      "Training: 100%|██████████| 164/164 [00:05<00:00, 27.54it/s]\n"
     ]
    },
    {
     "name": "stdout",
     "output_type": "stream",
     "text": [
      "{'prompt': 'Any progress on the PA?', 'response': 'oh shoot oh shoot'}\n",
      "========================================================\n",
      "Epoch 94 finished in 0.11 minutes | total_loss = 88.16120420396328\n",
      "Epoch 95 started\n"
     ]
    },
    {
     "name": "stderr",
     "output_type": "stream",
     "text": [
      "Training: 100%|██████████| 164/164 [00:05<00:00, 27.44it/s]\n"
     ]
    },
    {
     "name": "stdout",
     "output_type": "stream",
     "text": [
      "{'prompt': 'Any progress on the PA?', 'response': 'oh oop btw nothing has done 5b'}\n",
      "========================================================\n",
      "Epoch 95 finished in 0.11 minutes | total_loss = 81.9128229022026\n",
      "Epoch 96 started\n"
     ]
    },
    {
     "name": "stderr",
     "output_type": "stream",
     "text": [
      "Training: 100%|██████████| 164/164 [00:05<00:00, 27.64it/s]\n"
     ]
    },
    {
     "name": "stdout",
     "output_type": "stream",
     "text": [
      "{'prompt': 'Any progress on the PA?', 'response': 'ok nothing significant yet,'}\n",
      "========================================================\n",
      "Epoch 96 finished in 0.11 minutes | total_loss = 84.61534814536572\n",
      "Epoch 97 started\n"
     ]
    },
    {
     "name": "stderr",
     "output_type": "stream",
     "text": [
      "Training: 100%|██████████| 164/164 [00:06<00:00, 26.82it/s]\n"
     ]
    },
    {
     "name": "stdout",
     "output_type": "stream",
     "text": [
      "{'prompt': 'Any progress on the PA?', 'response': 'oh btw im still working on it rn'}\n",
      "========================================================\n",
      "Epoch 97 finished in 0.11 minutes | total_loss = 84.02475365996361\n",
      "Epoch 98 started\n"
     ]
    },
    {
     "name": "stderr",
     "output_type": "stream",
     "text": [
      "Training: 100%|██████████| 164/164 [00:06<00:00, 27.20it/s]\n"
     ]
    },
    {
     "name": "stdout",
     "output_type": "stream",
     "text": [
      "{'prompt': 'Any progress on the PA?', 'response': 'ok I push the code to my branch and it keep running overnight overnight'}\n",
      "========================================================\n",
      "Epoch 98 finished in 0.11 minutes | total_loss = 77.72409024834633\n",
      "Epoch 99 started\n"
     ]
    },
    {
     "name": "stderr",
     "output_type": "stream",
     "text": [
      "Training: 100%|██████████| 164/164 [00:06<00:00, 26.84it/s]\n"
     ]
    },
    {
     "name": "stdout",
     "output_type": "stream",
     "text": [
      "{'prompt': 'Any progress on the PA?', 'response': 'nothing significant yet, gonna work on it later on branch the plot might be faster but not really significant'}\n",
      "========================================================\n",
      "Epoch 99 finished in 0.11 minutes | total_loss = 80.67192313075066\n",
      "Epoch 100 started\n"
     ]
    },
    {
     "name": "stderr",
     "output_type": "stream",
     "text": [
      "Training: 100%|██████████| 164/164 [00:06<00:00, 27.07it/s]\n"
     ]
    },
    {
     "name": "stdout",
     "output_type": "stream",
     "text": [
      "{'prompt': 'Any progress on the PA?', 'response': \"nothing significant yet, gonna work on part 5 i’m oh btw do you have anything to go on today when you're start working on the parts 5\"}\n",
      "========================================================\n",
      "Epoch 100 finished in 0.11 minutes | total_loss = 78.33940160274506\n",
      "Epoch 101 started\n"
     ]
    },
    {
     "name": "stderr",
     "output_type": "stream",
     "text": [
      "Training: 100%|██████████| 164/164 [00:06<00:00, 26.58it/s]\n"
     ]
    },
    {
     "name": "stdout",
     "output_type": "stream",
     "text": [
      "{'prompt': 'Any progress on the PA?', 'response': 'ok i’ll run those'}\n",
      "========================================================\n",
      "Epoch 101 finished in 0.11 minutes | total_loss = 75.00247256457806\n",
      "Epoch 102 started\n"
     ]
    },
    {
     "name": "stderr",
     "output_type": "stream",
     "text": [
      "Training: 100%|██████████| 164/164 [00:06<00:00, 26.88it/s]\n"
     ]
    },
    {
     "name": "stdout",
     "output_type": "stream",
     "text": [
      "{'prompt': 'Any progress on the PA?', 'response': 'nothing significant yet,'}\n",
      "========================================================\n",
      "Epoch 102 finished in 0.11 minutes | total_loss = 78.19386230409145\n",
      "Epoch 103 started\n"
     ]
    },
    {
     "name": "stderr",
     "output_type": "stream",
     "text": [
      "Training: 100%|██████████| 164/164 [00:06<00:00, 26.73it/s]\n"
     ]
    },
    {
     "name": "stdout",
     "output_type": "stream",
     "text": [
      "{'prompt': 'Any progress on the PA?', 'response': 'nothing significant yet,'}\n",
      "========================================================\n",
      "Epoch 103 finished in 0.11 minutes | total_loss = 75.81908620893955\n",
      "Epoch 104 started\n"
     ]
    },
    {
     "name": "stderr",
     "output_type": "stream",
     "text": [
      "Training: 100%|██████████| 164/164 [00:06<00:00, 25.46it/s]\n"
     ]
    },
    {
     "name": "stdout",
     "output_type": "stream",
     "text": [
      "{'prompt': 'Any progress on the PA?', 'response': 'nothing significant yet,'}\n",
      "========================================================\n",
      "Epoch 104 finished in 0.12 minutes | total_loss = 73.13564157485962\n",
      "Epoch 105 started\n"
     ]
    },
    {
     "name": "stderr",
     "output_type": "stream",
     "text": [
      "Training: 100%|██████████| 164/164 [00:06<00:00, 25.71it/s]\n"
     ]
    },
    {
     "name": "stdout",
     "output_type": "stream",
     "text": [
      "{'prompt': 'Any progress on the PA?', 'response': \"nothing significant yet, gonna work on it later when you're show up in the morning 🤓\"}\n",
      "========================================================\n",
      "Epoch 105 finished in 0.12 minutes | total_loss = 73.47743545472622\n",
      "Epoch 106 started\n"
     ]
    },
    {
     "name": "stderr",
     "output_type": "stream",
     "text": [
      "Training: 100%|██████████| 164/164 [00:06<00:00, 26.26it/s]\n"
     ]
    },
    {
     "name": "stdout",
     "output_type": "stream",
     "text": [
      "{'prompt': 'Any progress on the PA?', 'response': 'nothing significant yet, gonna work on it later'}\n",
      "========================================================\n",
      "Epoch 106 finished in 0.12 minutes | total_loss = 73.96514712274075\n",
      "Epoch 107 started\n"
     ]
    },
    {
     "name": "stderr",
     "output_type": "stream",
     "text": [
      "Training: 100%|██████████| 164/164 [00:06<00:00, 25.93it/s]\n"
     ]
    },
    {
     "name": "stdout",
     "output_type": "stream",
     "text": [
      "{'prompt': 'Any progress on the PA?', 'response': 'nothing significant yet, gonna work on it later oh btw nothing significant gonna work on it later oh btw'}\n",
      "========================================================\n",
      "Epoch 107 finished in 0.12 minutes | total_loss = 75.41302432119846\n",
      "Epoch 108 started\n"
     ]
    },
    {
     "name": "stderr",
     "output_type": "stream",
     "text": [
      "Training: 100%|██████████| 164/164 [00:06<00:00, 26.02it/s]\n"
     ]
    },
    {
     "name": "stdout",
     "output_type": "stream",
     "text": [
      "{'prompt': 'Any progress on the PA?', 'response': 'nothing significant yet, gonna work on it later if you want to do it individually again like 30 sec'}\n",
      "========================================================\n",
      "Epoch 108 finished in 0.12 minutes | total_loss = 69.0310877263546\n",
      "Epoch 109 started\n"
     ]
    },
    {
     "name": "stderr",
     "output_type": "stream",
     "text": [
      "Training: 100%|██████████| 164/164 [00:06<00:00, 26.11it/s]\n"
     ]
    },
    {
     "name": "stdout",
     "output_type": "stream",
     "text": [
      "{'prompt': 'Any progress on the PA?', 'response': 'yea'}\n",
      "========================================================\n",
      "Epoch 109 finished in 0.12 minutes | total_loss = 71.6322260349989\n",
      "Epoch 110 started\n"
     ]
    },
    {
     "name": "stderr",
     "output_type": "stream",
     "text": [
      "Training: 100%|██████████| 164/164 [00:06<00:00, 26.63it/s]\n"
     ]
    },
    {
     "name": "stdout",
     "output_type": "stream",
     "text": [
      "{'prompt': 'Any progress on the PA?', 'response': \"nothing significant yet, gonna work on it later on oh ok i’ll i’ll update after i i finally i’ll update i'll update after i need a lot\"}\n",
      "========================================================\n",
      "Epoch 110 finished in 0.12 minutes | total_loss = 69.07966847717762\n",
      "Epoch 111 started\n"
     ]
    },
    {
     "name": "stderr",
     "output_type": "stream",
     "text": [
      "Training: 100%|██████████| 164/164 [00:06<00:00, 26.49it/s]\n"
     ]
    },
    {
     "name": "stdout",
     "output_type": "stream",
     "text": [
      "{'prompt': 'Any progress on the PA?', 'response': 'nothing significant yet, gonna work on it later better open my readme ig it better ig it better ig it better ig it better ig better ig it better ig better ig it better ig better ig it better ig better'}\n",
      "========================================================\n",
      "Epoch 111 finished in 0.11 minutes | total_loss = 64.24151848256588\n",
      "Epoch 112 started\n"
     ]
    },
    {
     "name": "stderr",
     "output_type": "stream",
     "text": [
      "Training: 100%|██████████| 164/164 [00:06<00:00, 25.06it/s]\n"
     ]
    },
    {
     "name": "stdout",
     "output_type": "stream",
     "text": [
      "{'prompt': 'Any progress on the PA?', 'response': \"ok i’ll just checked, out -- i've created a 4x4 and a lot more temp\"}\n",
      "========================================================\n",
      "Epoch 112 finished in 0.12 minutes | total_loss = 65.48506878316402\n",
      "Epoch 113 started\n"
     ]
    },
    {
     "name": "stderr",
     "output_type": "stream",
     "text": [
      "Training: 100%|██████████| 164/164 [00:06<00:00, 24.83it/s]\n"
     ]
    },
    {
     "name": "stdout",
     "output_type": "stream",
     "text": [
      "{'prompt': 'Any progress on the PA?', 'response': 'nothing significant yet, gonna run both 200 and 50 again and again and report back'}\n",
      "========================================================\n",
      "Epoch 113 finished in 0.12 minutes | total_loss = 67.2342521250248\n",
      "Epoch 114 started\n"
     ]
    },
    {
     "name": "stderr",
     "output_type": "stream",
     "text": [
      "Training: 100%|██████████| 164/164 [00:06<00:00, 25.22it/s]\n"
     ]
    },
    {
     "name": "stdout",
     "output_type": "stream",
     "text": [
      "{'prompt': 'Any progress on the PA?', 'response': \"ok i just pushed it looks out -- i've --\"}\n",
      "========================================================\n",
      "Epoch 114 finished in 0.12 minutes | total_loss = 64.59932088851929\n",
      "Epoch 115 started\n"
     ]
    },
    {
     "name": "stderr",
     "output_type": "stream",
     "text": [
      "Training: 100%|██████████| 164/164 [00:06<00:00, 26.33it/s]\n"
     ]
    },
    {
     "name": "stdout",
     "output_type": "stream",
     "text": [
      "{'prompt': 'Any progress on the PA?', 'response': 'ok i’ll my bit is finished. i tried a super expensive thing lol i only modified the basic_fcn file for my branch'}\n",
      "========================================================\n",
      "Epoch 115 finished in 0.12 minutes | total_loss = 63.55435261130333\n",
      "Epoch 116 started\n"
     ]
    },
    {
     "name": "stderr",
     "output_type": "stream",
     "text": [
      "Training: 100%|██████████| 164/164 [00:06<00:00, 25.35it/s]\n"
     ]
    },
    {
     "name": "stdout",
     "output_type": "stream",
     "text": [
      "{'prompt': 'Any progress on the PA?', 'response': \"ok ok my part is done, i'm i'm just a little slowly built different\"}\n",
      "========================================================\n",
      "Epoch 116 finished in 0.12 minutes | total_loss = 62.384442910552025\n",
      "Epoch 117 started\n"
     ]
    },
    {
     "name": "stderr",
     "output_type": "stream",
     "text": [
      "Training: 100%|██████████| 164/164 [00:06<00:00, 25.43it/s]\n"
     ]
    },
    {
     "name": "stdout",
     "output_type": "stream",
     "text": [
      "{'prompt': 'Any progress on the PA?', 'response': \"ok if it didn't show up in the morning 🤓 i’m just slowly using a different server? code\"}\n",
      "========================================================\n",
      "Epoch 117 finished in 0.12 minutes | total_loss = 66.51897758245468\n",
      "Epoch 118 started\n"
     ]
    },
    {
     "name": "stderr",
     "output_type": "stream",
     "text": [
      "Training: 100%|██████████| 164/164 [00:06<00:00, 24.91it/s]\n"
     ]
    },
    {
     "name": "stdout",
     "output_type": "stream",
     "text": [
      "{'prompt': 'Any progress on the PA?', 'response': 'oh how many neurons are u using their'}\n",
      "========================================================\n",
      "Epoch 118 finished in 0.12 minutes | total_loss = 63.34255100786686\n",
      "Epoch 119 started\n"
     ]
    },
    {
     "name": "stderr",
     "output_type": "stream",
     "text": [
      "Training: 100%|██████████| 164/164 [00:06<00:00, 25.40it/s]\n"
     ]
    },
    {
     "name": "stdout",
     "output_type": "stream",
     "text": [
      "{'prompt': 'Any progress on the PA?', 'response': 'oh ok i’ll look into it in the morning 🤓 thanksss!! just'}\n",
      "========================================================\n",
      "Epoch 119 finished in 0.12 minutes | total_loss = 60.9899305999279\n",
      "Epoch 120 started\n"
     ]
    },
    {
     "name": "stderr",
     "output_type": "stream",
     "text": [
      "Training: 100%|██████████| 164/164 [00:06<00:00, 25.09it/s]\n"
     ]
    },
    {
     "name": "stdout",
     "output_type": "stream",
     "text": [
      "{'prompt': 'Any progress on the PA?', 'response': 'been afk for all epochs ok at the end of the report? i tried still get the 5b umm for 5b umm umm umm umm umm umm umm umm umm umm umm umm umm umm umm umm umm umm umm umm'}\n",
      "========================================================\n",
      "Epoch 120 finished in 0.12 minutes | total_loss = 58.70300827920437\n",
      "Epoch 121 started\n"
     ]
    },
    {
     "name": "stderr",
     "output_type": "stream",
     "text": [
      "Training: 100%|██████████| 164/164 [00:06<00:00, 26.33it/s]\n"
     ]
    },
    {
     "name": "stdout",
     "output_type": "stream",
     "text": [
      "{'prompt': 'Any progress on the PA?', 'response': 'ok I just ran it twice and i do not have this my morning yea lol run those'}\n",
      "========================================================\n",
      "Epoch 121 finished in 0.12 minutes | total_loss = 57.225286558270454\n",
      "Epoch 122 started\n"
     ]
    },
    {
     "name": "stderr",
     "output_type": "stream",
     "text": [
      "Training: 100%|██████████| 164/164 [00:06<00:00, 24.87it/s]\n"
     ]
    },
    {
     "name": "stdout",
     "output_type": "stream",
     "text": [
      "{'prompt': 'Any progress on the PA?', 'response': 'been afk for most of today.'}\n",
      "========================================================\n",
      "Epoch 122 finished in 0.12 minutes | total_loss = 60.849888399243355\n",
      "Epoch 123 started\n"
     ]
    },
    {
     "name": "stderr",
     "output_type": "stream",
     "text": [
      "Training: 100%|██████████| 164/164 [00:06<00:00, 25.91it/s]\n"
     ]
    },
    {
     "name": "stdout",
     "output_type": "stream",
     "text": [
      "{'prompt': 'Any progress on the PA?', 'response': 'nothing significant yet,'}\n",
      "========================================================\n",
      "Epoch 123 finished in 0.12 minutes | total_loss = 62.96800069510937\n",
      "Epoch 124 started\n"
     ]
    },
    {
     "name": "stderr",
     "output_type": "stream",
     "text": [
      "Training: 100%|██████████| 164/164 [00:06<00:00, 26.34it/s]\n"
     ]
    },
    {
     "name": "stdout",
     "output_type": "stream",
     "text": [
      "{'prompt': 'Any progress on the PA?', 'response': 'nothing significant yet, gonna work on it later but need be under 200 oh oop'}\n",
      "========================================================\n",
      "Epoch 124 finished in 0.12 minutes | total_loss = 56.54207022488117\n",
      "Epoch 125 started\n"
     ]
    },
    {
     "name": "stderr",
     "output_type": "stream",
     "text": [
      "Training: 100%|██████████| 164/164 [00:06<00:00, 25.77it/s]\n"
     ]
    },
    {
     "name": "stdout",
     "output_type": "stream",
     "text": [
      "{'prompt': 'Any progress on the PA?', 'response': \"yea i'll just tried\"}\n",
      "========================================================\n",
      "Epoch 125 finished in 0.12 minutes | total_loss = 56.191138342022896\n",
      "Epoch 126 started\n"
     ]
    },
    {
     "name": "stderr",
     "output_type": "stream",
     "text": [
      "Training: 100%|██████████| 164/164 [00:06<00:00, 25.41it/s]\n"
     ]
    },
    {
     "name": "stdout",
     "output_type": "stream",
     "text": [
      "{'prompt': 'Any progress on the PA?', 'response': 'nothing significant yet,'}\n",
      "========================================================\n",
      "Epoch 126 finished in 0.12 minutes | total_loss = 55.90727178752422\n",
      "Epoch 127 started\n"
     ]
    },
    {
     "name": "stderr",
     "output_type": "stream",
     "text": [
      "Training: 100%|██████████| 164/164 [00:06<00:00, 25.86it/s]\n"
     ]
    },
    {
     "name": "stdout",
     "output_type": "stream",
     "text": [
      "{'prompt': 'Any progress on the PA?', 'response': \"yea oh oop im still working on it rn but i’ll just better fixed after i thought i thought done the train analysis at an time point i don't I thought they don’t as a cheaper model or model or\"}\n",
      "========================================================\n",
      "Epoch 127 finished in 0.12 minutes | total_loss = 54.78206968307495\n",
      "Epoch 128 started\n"
     ]
    },
    {
     "name": "stderr",
     "output_type": "stream",
     "text": [
      "Training: 100%|██████████| 164/164 [00:06<00:00, 26.47it/s]\n"
     ]
    },
    {
     "name": "stdout",
     "output_type": "stream",
     "text": [
      "{'prompt': 'Any progress on the PA?', 'response': 'nothing significant yet, gonna work on it later on how is it possible ?'}\n",
      "========================================================\n",
      "Epoch 128 finished in 0.11 minutes | total_loss = 53.894580222666264\n",
      "Epoch 129 started\n"
     ]
    },
    {
     "name": "stderr",
     "output_type": "stream",
     "text": [
      "Training: 100%|██████████| 164/164 [00:06<00:00, 25.70it/s]\n"
     ]
    },
    {
     "name": "stdout",
     "output_type": "stream",
     "text": [
      "{'prompt': 'Any progress on the PA?', 'response': 'yea i have my own part lol just slowly using the captive'}\n",
      "========================================================\n",
      "Epoch 129 finished in 0.12 minutes | total_loss = 53.35364593565464\n",
      "Epoch 130 started\n"
     ]
    },
    {
     "name": "stderr",
     "output_type": "stream",
     "text": [
      "Training: 100%|██████████| 164/164 [00:06<00:00, 25.92it/s]\n"
     ]
    },
    {
     "name": "stdout",
     "output_type": "stream",
     "text": [
      "{'prompt': 'Any progress on the PA?', 'response': 'nothing significant yet, gonna work on it later'}\n",
      "========================================================\n",
      "Epoch 130 finished in 0.12 minutes | total_loss = 56.24775020778179\n",
      "Epoch 131 started\n"
     ]
    },
    {
     "name": "stderr",
     "output_type": "stream",
     "text": [
      "Training: 100%|██████████| 164/164 [00:06<00:00, 26.28it/s]\n"
     ]
    },
    {
     "name": "stdout",
     "output_type": "stream",
     "text": [
      "{'prompt': 'Any progress on the PA?', 'response': 'nothing significant yet, gonna work on it later on the idea oh ok i’ll start it later on the my parts yea'}\n",
      "========================================================\n",
      "Epoch 131 finished in 0.12 minutes | total_loss = 57.931483671069145\n",
      "Epoch 132 started\n"
     ]
    },
    {
     "name": "stderr",
     "output_type": "stream",
     "text": [
      "Training: 100%|██████████| 164/164 [00:06<00:00, 26.78it/s]\n"
     ]
    },
    {
     "name": "stdout",
     "output_type": "stream",
     "text": [
      "{'prompt': 'Any progress on the PA?', 'response': 'yea i will run those'}\n",
      "========================================================\n",
      "Epoch 132 finished in 0.11 minutes | total_loss = 56.23453763127327\n",
      "Epoch 133 started\n"
     ]
    },
    {
     "name": "stderr",
     "output_type": "stream",
     "text": [
      "Training: 100%|██████████| 164/164 [00:06<00:00, 26.47it/s]\n"
     ]
    },
    {
     "name": "stdout",
     "output_type": "stream",
     "text": [
      "{'prompt': 'Any progress on the PA?', 'response': 'been done before baseline_train oh oop im still working on it rn oh btw did we submit the custom1 seed or could we submit the seed or add a seed to the batch but we still need the seed'}\n",
      "========================================================\n",
      "Epoch 133 finished in 0.11 minutes | total_loss = 52.99275489151478\n",
      "Epoch 134 started\n"
     ]
    },
    {
     "name": "stderr",
     "output_type": "stream",
     "text": [
      "Training: 100%|██████████| 164/164 [00:06<00:00, 26.09it/s]\n"
     ]
    },
    {
     "name": "stdout",
     "output_type": "stream",
     "text": [
      "{'prompt': 'Any progress on the PA?', 'response': 'yea'}\n",
      "========================================================\n",
      "Epoch 134 finished in 0.12 minutes | total_loss = 52.11366692185402\n",
      "Epoch 135 started\n"
     ]
    },
    {
     "name": "stderr",
     "output_type": "stream",
     "text": [
      "Training: 100%|██████████| 164/164 [00:06<00:00, 23.96it/s]\n"
     ]
    },
    {
     "name": "stdout",
     "output_type": "stream",
     "text": [
      "{'prompt': 'Any progress on the PA?', 'response': 'nothing significant yet, gonna work on it later oh oop'}\n",
      "========================================================\n",
      "Epoch 135 finished in 0.13 minutes | total_loss = 52.165097162127495\n",
      "Epoch 136 started\n"
     ]
    },
    {
     "name": "stderr",
     "output_type": "stream",
     "text": [
      "Training: 100%|██████████| 164/164 [00:06<00:00, 26.00it/s]\n"
     ]
    },
    {
     "name": "stdout",
     "output_type": "stream",
     "text": [
      "{'prompt': 'Any progress on the PA?', 'response': 'ok i’ll look into it in the morning 🤓 thanksss!!'}\n",
      "========================================================\n",
      "Epoch 136 finished in 0.12 minutes | total_loss = 49.225947856903076\n",
      "Epoch 137 started\n"
     ]
    },
    {
     "name": "stderr",
     "output_type": "stream",
     "text": [
      "Training: 100%|██████████| 164/164 [00:06<00:00, 26.07it/s]\n"
     ]
    },
    {
     "name": "stdout",
     "output_type": "stream",
     "text": [
      "{'prompt': 'Any progress on the PA?', 'response': 'nothing significant yet, gonna work on it later oh wait no im stupid doing anything significant gonna work on it later'}\n",
      "========================================================\n",
      "Epoch 137 finished in 0.12 minutes | total_loss = 50.05139733850956\n",
      "Epoch 138 started\n"
     ]
    },
    {
     "name": "stderr",
     "output_type": "stream",
     "text": [
      "Training: 100%|██████████| 164/164 [00:06<00:00, 26.00it/s]\n"
     ]
    },
    {
     "name": "stdout",
     "output_type": "stream",
     "text": [
      "{'prompt': 'Any progress on the PA?', 'response': 'ok I just pushed to my branch'}\n",
      "========================================================\n",
      "Epoch 138 finished in 0.12 minutes | total_loss = 50.743810907006264\n",
      "Epoch 139 started\n"
     ]
    },
    {
     "name": "stderr",
     "output_type": "stream",
     "text": [
      "Training: 100%|██████████| 164/164 [00:06<00:00, 25.95it/s]\n"
     ]
    },
    {
     "name": "stdout",
     "output_type": "stream",
     "text": [
      "{'prompt': 'Any progress on the PA?', 'response': 'nothing significant yet, gonna gonna work on it later i’m'}\n",
      "========================================================\n",
      "Epoch 139 finished in 0.12 minutes | total_loss = 52.418798834085464\n",
      "Epoch 140 started\n"
     ]
    },
    {
     "name": "stderr",
     "output_type": "stream",
     "text": [
      "Training: 100%|██████████| 164/164 [00:06<00:00, 25.92it/s]\n"
     ]
    },
    {
     "name": "stdout",
     "output_type": "stream",
     "text": [
      "{'prompt': 'Any progress on the PA?', 'response': 'yea work on it later when i finally figure out how to do it individually i’ll how to do it individually'}\n",
      "========================================================\n",
      "Epoch 140 finished in 0.12 minutes | total_loss = 51.47589313983917\n",
      "Epoch 141 started\n"
     ]
    },
    {
     "name": "stderr",
     "output_type": "stream",
     "text": [
      "Training: 100%|██████████| 164/164 [00:06<00:00, 26.91it/s]\n"
     ]
    },
    {
     "name": "stdout",
     "output_type": "stream",
     "text": [
      "{'prompt': 'Any progress on the PA?', 'response': \"ok i’ll look kinda weird i tried the one I don't see doing this\"}\n",
      "========================================================\n",
      "Epoch 141 finished in 0.11 minutes | total_loss = 49.01714123785496\n",
      "Epoch 142 started\n"
     ]
    },
    {
     "name": "stderr",
     "output_type": "stream",
     "text": [
      "Training: 100%|██████████| 164/164 [00:06<00:00, 26.35it/s]\n"
     ]
    },
    {
     "name": "stdout",
     "output_type": "stream",
     "text": [
      "{'prompt': 'Any progress on the PA?', 'response': 'yea run both 200 and 50 again and report back'}\n",
      "========================================================\n",
      "Epoch 142 finished in 0.12 minutes | total_loss = 48.79264670610428\n",
      "Epoch 143 started\n"
     ]
    },
    {
     "name": "stderr",
     "output_type": "stream",
     "text": [
      "Training: 100%|██████████| 164/164 [00:06<00:00, 26.70it/s]\n"
     ]
    },
    {
     "name": "stdout",
     "output_type": "stream",
     "text": [
      "{'prompt': 'Any progress on the PA?', 'response': 'nothing significant yet, gonna gonna work on it later cuz ig done with the new train description and train train description later on the training ig done with the new train description'}\n",
      "========================================================\n",
      "Epoch 143 finished in 0.11 minutes | total_loss = 51.299845799803734\n",
      "Epoch 144 started\n"
     ]
    },
    {
     "name": "stderr",
     "output_type": "stream",
     "text": [
      "Training: 100%|██████████| 164/164 [00:05<00:00, 27.43it/s]\n"
     ]
    },
    {
     "name": "stdout",
     "output_type": "stream",
     "text": [
      "{'prompt': 'Any progress on the PA?', 'response': 'nothing significant yet, gonna work on it later'}\n",
      "========================================================\n",
      "Epoch 144 finished in 0.11 minutes | total_loss = 48.66090227663517\n",
      "Epoch 145 started\n"
     ]
    },
    {
     "name": "stderr",
     "output_type": "stream",
     "text": [
      "Training: 100%|██████████| 164/164 [00:06<00:00, 25.82it/s]\n"
     ]
    },
    {
     "name": "stdout",
     "output_type": "stream",
     "text": [
      "{'prompt': 'Any progress on the PA?', 'response': 'yea'}\n",
      "========================================================\n",
      "Epoch 145 finished in 0.12 minutes | total_loss = 52.22848477959633\n",
      "Epoch 146 started\n"
     ]
    },
    {
     "name": "stderr",
     "output_type": "stream",
     "text": [
      "Training: 100%|██████████| 164/164 [00:06<00:00, 26.06it/s]\n"
     ]
    },
    {
     "name": "stdout",
     "output_type": "stream",
     "text": [
      "{'prompt': 'Any progress on the PA?', 'response': 'nothing significant yet, gonna work on it later'}\n",
      "========================================================\n",
      "Epoch 146 finished in 0.12 minutes | total_loss = 46.191656067967415\n",
      "Epoch 147 started\n"
     ]
    },
    {
     "name": "stderr",
     "output_type": "stream",
     "text": [
      "Training: 100%|██████████| 164/164 [00:06<00:00, 25.66it/s]\n"
     ]
    },
    {
     "name": "stdout",
     "output_type": "stream",
     "text": [
      "{'prompt': 'Any progress on the PA?', 'response': 'nothing significant yet, gonna work on it later on when is done oh btw i’ll start working on it later on the forward line'}\n",
      "========================================================\n",
      "Epoch 147 finished in 0.12 minutes | total_loss = 48.96381434798241\n",
      "Epoch 148 started\n"
     ]
    },
    {
     "name": "stderr",
     "output_type": "stream",
     "text": [
      "Training: 100%|██████████| 164/164 [00:06<00:00, 25.85it/s]\n"
     ]
    },
    {
     "name": "stdout",
     "output_type": "stream",
     "text": [
      "{'prompt': 'Any progress on the PA?', 'response': \"yea nothing significant yet, gonna work on it later cuz oh btw oh i'll add extra ^\"}\n",
      "========================================================\n",
      "Epoch 148 finished in 0.12 minutes | total_loss = 47.104008972644806\n",
      "Epoch 149 started\n"
     ]
    },
    {
     "name": "stderr",
     "output_type": "stream",
     "text": [
      "Training: 100%|██████████| 164/164 [00:06<00:00, 26.11it/s]\n"
     ]
    },
    {
     "name": "stdout",
     "output_type": "stream",
     "text": [
      "{'prompt': 'Any progress on the PA?', 'response': 'nothing significant yet, gonna work on it later cuz how do we do do it individually'}\n",
      "========================================================\n",
      "Epoch 149 finished in 0.12 minutes | total_loss = 47.13882619142532\n",
      "Epoch 150 started\n"
     ]
    },
    {
     "name": "stderr",
     "output_type": "stream",
     "text": [
      "Training: 100%|██████████| 164/164 [00:06<00:00, 25.94it/s]\n"
     ]
    },
    {
     "name": "stdout",
     "output_type": "stream",
     "text": [
      "{'prompt': 'Any progress on the PA?', 'response': 'nothing significant yet, gonna work on it later cuz oh oop it looks do you have anything to show up in the morning 🤓'}\n",
      "========================================================\n",
      "Epoch 150 finished in 0.12 minutes | total_loss = 46.825725108385086\n",
      "Epoch 151 started\n"
     ]
    },
    {
     "name": "stderr",
     "output_type": "stream",
     "text": [
      "Training: 100%|██████████| 164/164 [00:06<00:00, 25.99it/s]\n"
     ]
    },
    {
     "name": "stdout",
     "output_type": "stream",
     "text": [
      "{'prompt': 'Any progress on the PA?', 'response': 'nothing significant yet, gonna work on it later cuz how does it work cuz ? The results are different after rerunning analysis ig ig ill say they did different after analysis i thought they might have been different'}\n",
      "========================================================\n",
      "Epoch 151 finished in 0.12 minutes | total_loss = 44.34068492054939\n",
      "Epoch 152 started\n"
     ]
    },
    {
     "name": "stderr",
     "output_type": "stream",
     "text": [
      "Training: 100%|██████████| 164/164 [00:06<00:00, 25.48it/s]\n"
     ]
    },
    {
     "name": "stdout",
     "output_type": "stream",
     "text": [
      "{'prompt': 'Any progress on the PA?', 'response': 'nothing significant yet, gonna work on it later just tried'}\n",
      "========================================================\n",
      "Epoch 152 finished in 0.12 minutes | total_loss = 46.171661734580994\n",
      "Epoch 153 started\n"
     ]
    },
    {
     "name": "stderr",
     "output_type": "stream",
     "text": [
      "Training: 100%|██████████| 164/164 [00:06<00:00, 25.90it/s]\n"
     ]
    },
    {
     "name": "stdout",
     "output_type": "stream",
     "text": [
      "{'prompt': 'Any progress on the PA?', 'response': 'oh ok yea i’ll start today little bit, just slowly i tried using a different server?'}\n",
      "========================================================\n",
      "Epoch 153 finished in 0.12 minutes | total_loss = 44.846581637859344\n",
      "Epoch 154 started\n"
     ]
    },
    {
     "name": "stderr",
     "output_type": "stream",
     "text": [
      "Training: 100%|██████████| 164/164 [00:06<00:00, 25.88it/s]\n"
     ]
    },
    {
     "name": "stdout",
     "output_type": "stream",
     "text": [
      "{'prompt': 'Any progress on the PA?', 'response': 'yea the plots under figures, the sequence length is 1,'}\n",
      "========================================================\n",
      "Epoch 154 finished in 0.12 minutes | total_loss = 44.817463636398315\n",
      "Epoch 155 started\n"
     ]
    },
    {
     "name": "stderr",
     "output_type": "stream",
     "text": [
      "Training: 100%|██████████| 164/164 [00:06<00:00, 25.19it/s]\n"
     ]
    },
    {
     "name": "stdout",
     "output_type": "stream",
     "text": [
      "{'prompt': 'Any progress on the PA?', 'response': 'nothing significant yet, gonna work on it later how do you do it individually i’ll The same for me'}\n",
      "========================================================\n",
      "Epoch 155 finished in 0.12 minutes | total_loss = 49.20214335620403\n",
      "Epoch 156 started\n"
     ]
    },
    {
     "name": "stderr",
     "output_type": "stream",
     "text": [
      "Training: 100%|██████████| 164/164 [00:06<00:00, 26.00it/s]\n"
     ]
    },
    {
     "name": "stdout",
     "output_type": "stream",
     "text": [
      "{'prompt': 'Any progress on the PA?', 'response': 'nothing significant yet, gonna work on it later'}\n",
      "========================================================\n",
      "Epoch 156 finished in 0.12 minutes | total_loss = 47.746889129281044\n",
      "Epoch 157 started\n"
     ]
    },
    {
     "name": "stderr",
     "output_type": "stream",
     "text": [
      "Training: 100%|██████████| 164/164 [00:06<00:00, 26.10it/s]\n"
     ]
    },
    {
     "name": "stdout",
     "output_type": "stream",
     "text": [
      "{'prompt': 'Any progress on the PA?', 'response': 'nothing significant yet, gonna work on it later doing it later'}\n",
      "========================================================\n",
      "Epoch 157 finished in 0.12 minutes | total_loss = 46.47547768056393\n",
      "Epoch 158 started\n"
     ]
    },
    {
     "name": "stderr",
     "output_type": "stream",
     "text": [
      "Training: 100%|██████████| 164/164 [00:06<00:00, 25.75it/s]\n"
     ]
    },
    {
     "name": "stdout",
     "output_type": "stream",
     "text": [
      "{'prompt': 'Any progress on the PA?', 'response': 'nothing significant yet, gonna work on it later cuz oh btw do you have anything that work on it later i think we need to do the batch size of 5b'}\n",
      "========================================================\n",
      "Epoch 158 finished in 0.12 minutes | total_loss = 43.37338510155678\n",
      "Epoch 159 started\n"
     ]
    },
    {
     "name": "stderr",
     "output_type": "stream",
     "text": [
      "Training: 100%|██████████| 164/164 [00:06<00:00, 25.68it/s]\n"
     ]
    },
    {
     "name": "stdout",
     "output_type": "stream",
     "text": [
      "{'prompt': 'Any progress on the PA?', 'response': 'okok oh how many neurons are u using'}\n",
      "========================================================\n",
      "Epoch 159 finished in 0.12 minutes | total_loss = 43.82839798927307\n",
      "Epoch 160 started\n"
     ]
    },
    {
     "name": "stderr",
     "output_type": "stream",
     "text": [
      "Training: 100%|██████████| 164/164 [00:06<00:00, 25.77it/s]\n"
     ]
    },
    {
     "name": "stdout",
     "output_type": "stream",
     "text": [
      "{'prompt': 'Any progress on the PA?', 'response': 'oh btw where / how are we meeting tmr or ig today'}\n",
      "========================================================\n",
      "Epoch 160 finished in 0.12 minutes | total_loss = 44.217741906642914\n",
      "Epoch 161 started\n"
     ]
    },
    {
     "name": "stderr",
     "output_type": "stream",
     "text": [
      "Training: 100%|██████████| 164/164 [00:06<00:00, 26.17it/s]\n"
     ]
    },
    {
     "name": "stdout",
     "output_type": "stream",
     "text": [
      "{'prompt': 'Any progress on the PA?', 'response': 'yea'}\n",
      "========================================================\n",
      "Epoch 161 finished in 0.12 minutes | total_loss = 43.73858331143856\n",
      "Epoch 162 started\n"
     ]
    },
    {
     "name": "stderr",
     "output_type": "stream",
     "text": [
      "Training: 100%|██████████| 164/164 [00:06<00:00, 25.46it/s]\n"
     ]
    },
    {
     "name": "stdout",
     "output_type": "stream",
     "text": [
      "{'prompt': 'Any progress on the PA?', 'response': 'nothing significant yet, yet, gonna work on it later cuz i’m do you use? the seed and plot after the batch size is 1,'}\n",
      "========================================================\n",
      "Epoch 162 finished in 0.12 minutes | total_loss = 43.80150502920151\n",
      "Epoch 163 started\n"
     ]
    },
    {
     "name": "stderr",
     "output_type": "stream",
     "text": [
      "Training: 100%|██████████| 164/164 [00:06<00:00, 25.97it/s]\n"
     ]
    },
    {
     "name": "stdout",
     "output_type": "stream",
     "text": [
      "{'prompt': 'Any progress on the PA?', 'response': 'nothing significant yet, gonna work on it later oh btw do you use?'}\n",
      "========================================================\n",
      "Epoch 163 finished in 0.12 minutes | total_loss = 44.14048598706722\n",
      "Epoch 164 started\n"
     ]
    },
    {
     "name": "stderr",
     "output_type": "stream",
     "text": [
      "Training: 100%|██████████| 164/164 [00:06<00:00, 26.04it/s]\n"
     ]
    },
    {
     "name": "stdout",
     "output_type": "stream",
     "text": [
      "{'prompt': 'Any progress on the PA?', 'response': 'oh ok i’ll push mine but it has low acc ok pushed mb try a different server?'}\n",
      "========================================================\n",
      "Epoch 164 finished in 0.12 minutes | total_loss = 42.579742297530174\n",
      "Epoch 165 started\n"
     ]
    },
    {
     "name": "stderr",
     "output_type": "stream",
     "text": [
      "Training: 100%|██████████| 164/164 [00:06<00:00, 25.75it/s]\n"
     ]
    },
    {
     "name": "stdout",
     "output_type": "stream",
     "text": [
      "{'prompt': 'Any progress on the PA?', 'response': 'yea i tried the dropout plots under figures, the sequence length is'}\n",
      "========================================================\n",
      "Epoch 165 finished in 0.12 minutes | total_loss = 44.53278163075447\n",
      "Epoch 166 started\n"
     ]
    },
    {
     "name": "stderr",
     "output_type": "stream",
     "text": [
      "Training: 100%|██████████| 164/164 [00:06<00:00, 26.82it/s]\n"
     ]
    },
    {
     "name": "stdout",
     "output_type": "stream",
     "text": [
      "{'prompt': 'Any progress on the PA?', 'response': 'nothing significant yet, gonna gonna work on it later'}\n",
      "========================================================\n",
      "Epoch 166 finished in 0.11 minutes | total_loss = 46.05279944837093\n",
      "Epoch 167 started\n"
     ]
    },
    {
     "name": "stderr",
     "output_type": "stream",
     "text": [
      "Training: 100%|██████████| 164/164 [00:06<00:00, 26.48it/s]\n"
     ]
    },
    {
     "name": "stdout",
     "output_type": "stream",
     "text": [
      "{'prompt': 'Any progress on the PA?', 'response': 'yea a working on our tasks but i’ll want to spend any progress added'}\n",
      "========================================================\n",
      "Epoch 167 finished in 0.12 minutes | total_loss = 43.08247397840023\n",
      "Epoch 168 started\n"
     ]
    },
    {
     "name": "stderr",
     "output_type": "stream",
     "text": [
      "Training: 100%|██████████| 164/164 [00:06<00:00, 26.34it/s]\n"
     ]
    },
    {
     "name": "stdout",
     "output_type": "stream",
     "text": [
      "{'prompt': 'Any progress on the PA?', 'response': \"yea just tried out -- i've created a sepearte and updated later\"}\n",
      "========================================================\n",
      "Epoch 168 finished in 0.12 minutes | total_loss = 43.35895901918411\n",
      "Epoch 169 started\n"
     ]
    },
    {
     "name": "stderr",
     "output_type": "stream",
     "text": [
      "Training: 100%|██████████| 164/164 [00:06<00:00, 27.06it/s]\n"
     ]
    },
    {
     "name": "stdout",
     "output_type": "stream",
     "text": [
      "{'prompt': 'Any progress on the PA?', 'response': 'yea nothing significant yet,'}\n",
      "========================================================\n",
      "Epoch 169 finished in 0.11 minutes | total_loss = 40.49113516509533\n",
      "Epoch 170 started\n"
     ]
    },
    {
     "name": "stderr",
     "output_type": "stream",
     "text": [
      "Training: 100%|██████████| 164/164 [00:06<00:00, 25.12it/s]\n"
     ]
    },
    {
     "name": "stdout",
     "output_type": "stream",
     "text": [
      "{'prompt': 'Any progress on the PA?', 'response': 'nothing significant yet, gonna work on it later'}\n",
      "========================================================\n",
      "Epoch 170 finished in 0.12 minutes | total_loss = 41.03130362927914\n",
      "Epoch 171 started\n"
     ]
    },
    {
     "name": "stderr",
     "output_type": "stream",
     "text": [
      "Training: 100%|██████████| 164/164 [00:06<00:00, 24.64it/s]\n"
     ]
    },
    {
     "name": "stdout",
     "output_type": "stream",
     "text": [
      "{'prompt': 'Any progress on the PA?', 'response': 'yea'}\n",
      "========================================================\n",
      "Epoch 171 finished in 0.12 minutes | total_loss = 42.13035632669926\n",
      "Epoch 172 started\n"
     ]
    },
    {
     "name": "stderr",
     "output_type": "stream",
     "text": [
      "Training: 100%|██████████| 164/164 [00:06<00:00, 24.73it/s]\n"
     ]
    },
    {
     "name": "stdout",
     "output_type": "stream",
     "text": [
      "{'prompt': 'Any progress on the PA?', 'response': 'nothing significant yet, gonna work on it later cuz'}\n",
      "========================================================\n",
      "Epoch 172 finished in 0.12 minutes | total_loss = 41.51577538251877\n",
      "Epoch 173 started\n"
     ]
    },
    {
     "name": "stderr",
     "output_type": "stream",
     "text": [
      "Training: 100%|██████████| 164/164 [00:06<00:00, 24.68it/s]\n"
     ]
    },
    {
     "name": "stdout",
     "output_type": "stream",
     "text": [
      "{'prompt': 'Any progress on the PA?', 'response': 'nothing significant yet, gonna work on it later on the part after rerunning oh btw how does the classifier know which label is the most popular ? the most popular ? the most popular ?'}\n",
      "========================================================\n",
      "Epoch 173 finished in 0.12 minutes | total_loss = 41.941074535250664\n",
      "Epoch 174 started\n"
     ]
    },
    {
     "name": "stderr",
     "output_type": "stream",
     "text": [
      "Training: 100%|██████████| 164/164 [00:06<00:00, 24.77it/s]\n"
     ]
    },
    {
     "name": "stdout",
     "output_type": "stream",
     "text": [
      "{'prompt': 'Any progress on the PA?', 'response': 'yea i tried going to test with the new train code lol'}\n",
      "========================================================\n",
      "Epoch 174 finished in 0.12 minutes | total_loss = 40.14102320373058\n",
      "Epoch 175 started\n"
     ]
    },
    {
     "name": "stderr",
     "output_type": "stream",
     "text": [
      "Training: 100%|██████████| 164/164 [00:06<00:00, 26.21it/s]\n"
     ]
    },
    {
     "name": "stdout",
     "output_type": "stream",
     "text": [
      "{'prompt': 'Any progress on the PA?', 'response': 'yea a break anyways'}\n",
      "========================================================\n",
      "Epoch 175 finished in 0.12 minutes | total_loss = 41.82508850097656\n",
      "Epoch 176 started\n"
     ]
    },
    {
     "name": "stderr",
     "output_type": "stream",
     "text": [
      "Training: 100%|██████████| 164/164 [00:06<00:00, 24.97it/s]\n"
     ]
    },
    {
     "name": "stdout",
     "output_type": "stream",
     "text": [
      "{'prompt': 'Any progress on the PA?', 'response': 'been afk for most of today. i jst added a lot more'}\n",
      "========================================================\n",
      "Epoch 176 finished in 0.12 minutes | total_loss = 41.36702059209347\n",
      "Epoch 177 started\n"
     ]
    },
    {
     "name": "stderr",
     "output_type": "stream",
     "text": [
      "Training: 100%|██████████| 164/164 [00:06<00:00, 25.37it/s]\n"
     ]
    },
    {
     "name": "stdout",
     "output_type": "stream",
     "text": [
      "{'prompt': 'Any progress on the PA?', 'response': 'nothing significant yet, gonna work on it later give me like time for the rest of this week,'}\n",
      "========================================================\n",
      "Epoch 177 finished in 0.12 minutes | total_loss = 40.63912819325924\n",
      "Epoch 178 started\n"
     ]
    },
    {
     "name": "stderr",
     "output_type": "stream",
     "text": [
      "Training: 100%|██████████| 164/164 [00:06<00:00, 25.85it/s]\n"
     ]
    },
    {
     "name": "stdout",
     "output_type": "stream",
     "text": [
      "{'prompt': 'Any progress on the PA?', 'response': 'nothing significant yet, gonna work on it later'}\n",
      "========================================================\n",
      "Epoch 178 finished in 0.12 minutes | total_loss = 42.45006360113621\n",
      "Epoch 179 started\n"
     ]
    },
    {
     "name": "stderr",
     "output_type": "stream",
     "text": [
      "Training: 100%|██████████| 164/164 [00:06<00:00, 25.97it/s]\n"
     ]
    },
    {
     "name": "stdout",
     "output_type": "stream",
     "text": [
      "{'prompt': 'Any progress on the PA?', 'response': 'yea i will run it twice again'}\n",
      "========================================================\n",
      "Epoch 179 finished in 0.12 minutes | total_loss = 40.081650383770466\n",
      "Epoch 180 started\n"
     ]
    },
    {
     "name": "stderr",
     "output_type": "stream",
     "text": [
      "Training: 100%|██████████| 164/164 [00:06<00:00, 24.92it/s]\n"
     ]
    },
    {
     "name": "stdout",
     "output_type": "stream",
     "text": [
      "{'prompt': 'Any progress on the PA?', 'response': 'nothing significant yet, gonna work on it later on my branch + the other part 5'}\n",
      "========================================================\n",
      "Epoch 180 finished in 0.12 minutes | total_loss = 39.41822172701359\n",
      "Epoch 181 started\n"
     ]
    },
    {
     "name": "stderr",
     "output_type": "stream",
     "text": [
      "Training: 100%|██████████| 164/164 [00:06<00:00, 25.85it/s]\n"
     ]
    },
    {
     "name": "stdout",
     "output_type": "stream",
     "text": [
      "{'prompt': 'Any progress on the PA?', 'response': \"yea i'll run both 200 and 50 again\"}\n",
      "========================================================\n",
      "Epoch 181 finished in 0.12 minutes | total_loss = 41.2518504858017\n",
      "Epoch 182 started\n"
     ]
    },
    {
     "name": "stderr",
     "output_type": "stream",
     "text": [
      "Training: 100%|██████████| 164/164 [00:06<00:00, 25.32it/s]\n"
     ]
    },
    {
     "name": "stdout",
     "output_type": "stream",
     "text": [
      "{'prompt': 'Any progress on the PA?', 'response': 'okok using sequence length of 70, and the training show up in class using sequence length of 50 and the training umm'}\n",
      "========================================================\n",
      "Epoch 182 finished in 0.12 minutes | total_loss = 41.78366148471832\n",
      "Epoch 183 started\n"
     ]
    },
    {
     "name": "stderr",
     "output_type": "stream",
     "text": [
      "Training: 100%|██████████| 164/164 [00:06<00:00, 24.80it/s]\n"
     ]
    },
    {
     "name": "stdout",
     "output_type": "stream",
     "text": [
      "{'prompt': 'Any progress on the PA?', 'response': 'yea what time works for you?'}\n",
      "========================================================\n",
      "Epoch 183 finished in 0.12 minutes | total_loss = 41.87289625406265\n",
      "Epoch 184 started\n"
     ]
    },
    {
     "name": "stderr",
     "output_type": "stream",
     "text": [
      "Training: 100%|██████████| 164/164 [00:06<00:00, 25.62it/s]\n"
     ]
    },
    {
     "name": "stdout",
     "output_type": "stream",
     "text": [
      "{'prompt': 'Any progress on the PA?', 'response': \"just saying 5b out -- i've created a branch path for a branch\"}\n",
      "========================================================\n",
      "Epoch 184 finished in 0.12 minutes | total_loss = 40.342639818787575\n",
      "Epoch 185 started\n"
     ]
    },
    {
     "name": "stderr",
     "output_type": "stream",
     "text": [
      "Training: 100%|██████████| 164/164 [00:06<00:00, 26.09it/s]\n"
     ]
    },
    {
     "name": "stdout",
     "output_type": "stream",
     "text": [
      "{'prompt': 'Any progress on the PA?', 'response': 'nothing significant yet, gonna work on it later I think we can go ahead with our models different'}\n",
      "========================================================\n",
      "Epoch 185 finished in 0.12 minutes | total_loss = 41.064400777220726\n",
      "Epoch 186 started\n"
     ]
    },
    {
     "name": "stderr",
     "output_type": "stream",
     "text": [
      "Training: 100%|██████████| 164/164 [00:06<00:00, 24.85it/s]\n"
     ]
    },
    {
     "name": "stdout",
     "output_type": "stream",
     "text": [
      "{'prompt': 'Any progress on the PA?', 'response': 'nothing significant yet, gonna work on it later on the idea but i’ll start working on it later on the path look like sure I can do it individually but need to do the batch size of 5 for the datahub bit'}\n",
      "========================================================\n",
      "Epoch 186 finished in 0.12 minutes | total_loss = 39.66738644242287\n",
      "Epoch 187 started\n"
     ]
    },
    {
     "name": "stderr",
     "output_type": "stream",
     "text": [
      "Training: 100%|██████████| 164/164 [00:06<00:00, 25.60it/s]\n"
     ]
    },
    {
     "name": "stdout",
     "output_type": "stream",
     "text": [
      "{'prompt': 'Any progress on the PA?', 'response': 'yea'}\n",
      "========================================================\n",
      "Epoch 187 finished in 0.12 minutes | total_loss = 39.87787427008152\n",
      "Epoch 188 started\n"
     ]
    },
    {
     "name": "stderr",
     "output_type": "stream",
     "text": [
      "Training: 100%|██████████| 164/164 [00:06<00:00, 24.32it/s]\n"
     ]
    },
    {
     "name": "stdout",
     "output_type": "stream",
     "text": [
      "{'prompt': 'Any progress on the PA?', 'response': 'nothing significant yet, gonna work on it later anyways i think we need to push the code for it'}\n",
      "========================================================\n",
      "Epoch 188 finished in 0.12 minutes | total_loss = 39.23275227844715\n",
      "Epoch 189 started\n"
     ]
    },
    {
     "name": "stderr",
     "output_type": "stream",
     "text": [
      "Training: 100%|██████████| 164/164 [00:06<00:00, 25.77it/s]\n"
     ]
    },
    {
     "name": "stdout",
     "output_type": "stream",
     "text": [
      "{'prompt': 'Any progress on the PA?', 'response': 'nothing significant yet, gonna work on it later on when I finally ig figure out how to do it individually i’ll also also check ig ig in this week, also check ig ig in this pixel 5 min'}\n",
      "========================================================\n",
      "Epoch 189 finished in 0.12 minutes | total_loss = 39.2507843375206\n",
      "Epoch 190 started\n"
     ]
    },
    {
     "name": "stderr",
     "output_type": "stream",
     "text": [
      "Training: 100%|██████████| 164/164 [00:06<00:00, 26.19it/s]\n"
     ]
    },
    {
     "name": "stdout",
     "output_type": "stream",
     "text": [
      "{'prompt': 'Any progress on the PA?', 'response': 'yea nothing significant yet, gonna work on it later'}\n",
      "========================================================\n",
      "Epoch 190 finished in 0.12 minutes | total_loss = 38.741277158260345\n",
      "Epoch 191 started\n"
     ]
    },
    {
     "name": "stderr",
     "output_type": "stream",
     "text": [
      "Training: 100%|██████████| 164/164 [00:06<00:00, 26.16it/s]\n"
     ]
    },
    {
     "name": "stdout",
     "output_type": "stream",
     "text": [
      "{'prompt': 'Any progress on the PA?', 'response': 'nothing significant yet, gonna work on it later twice oh btw Chu do you have anything to try our un-tuned or fill out your own file lol'}\n",
      "========================================================\n",
      "Epoch 191 finished in 0.12 minutes | total_loss = 38.9770610332489\n",
      "Epoch 192 started\n"
     ]
    },
    {
     "name": "stderr",
     "output_type": "stream",
     "text": [
      "Training: 100%|██████████| 164/164 [00:06<00:00, 26.03it/s]\n"
     ]
    },
    {
     "name": "stdout",
     "output_type": "stream",
     "text": [
      "{'prompt': 'Any progress on the PA?', 'response': 'yea nothing significant yet, gonna work on it later'}\n",
      "========================================================\n",
      "Epoch 192 finished in 0.12 minutes | total_loss = 41.22951139509678\n",
      "Epoch 193 started\n"
     ]
    },
    {
     "name": "stderr",
     "output_type": "stream",
     "text": [
      "Training: 100%|██████████| 164/164 [00:06<00:00, 25.70it/s]\n"
     ]
    },
    {
     "name": "stdout",
     "output_type": "stream",
     "text": [
      "{'prompt': 'Any progress on the PA?', 'response': 'nothing significant yet, gonna work on it later oh btw did we submit a submit to the train train length of 50 and the batch size 1, would say'}\n",
      "========================================================\n",
      "Epoch 193 finished in 0.12 minutes | total_loss = 41.82932770252228\n",
      "Epoch 194 started\n"
     ]
    },
    {
     "name": "stderr",
     "output_type": "stream",
     "text": [
      "Training: 100%|██████████| 164/164 [00:06<00:00, 26.37it/s]\n"
     ]
    },
    {
     "name": "stdout",
     "output_type": "stream",
     "text": [
      "{'prompt': 'Any progress on the PA?', 'response': \"nothing significant yet, gonna work on it later if you're oh btw i’ll work on it later\"}\n",
      "========================================================\n",
      "Epoch 194 finished in 0.12 minutes | total_loss = 38.358652234077454\n",
      "Epoch 195 started\n"
     ]
    },
    {
     "name": "stderr",
     "output_type": "stream",
     "text": [
      "Training: 100%|██████████| 164/164 [00:06<00:00, 26.28it/s]\n"
     ]
    },
    {
     "name": "stdout",
     "output_type": "stream",
     "text": [
      "{'prompt': 'Any progress on the PA?', 'response': 'nothing significant yet, yet,'}\n",
      "========================================================\n",
      "Epoch 195 finished in 0.12 minutes | total_loss = 38.87744249403477\n",
      "Epoch 196 started\n"
     ]
    },
    {
     "name": "stderr",
     "output_type": "stream",
     "text": [
      "Training: 100%|██████████| 164/164 [00:06<00:00, 25.87it/s]\n"
     ]
    },
    {
     "name": "stdout",
     "output_type": "stream",
     "text": [
      "{'prompt': 'Any progress on the PA?', 'response': 'nothing significant yet, gonna work on it later'}\n",
      "========================================================\n",
      "Epoch 196 finished in 0.12 minutes | total_loss = 39.164535880088806\n",
      "Epoch 197 started\n"
     ]
    },
    {
     "name": "stderr",
     "output_type": "stream",
     "text": [
      "Training: 100%|██████████| 164/164 [00:06<00:00, 25.42it/s]\n"
     ]
    },
    {
     "name": "stdout",
     "output_type": "stream",
     "text": [
      "{'prompt': 'Any progress on the PA?', 'response': 'nothing significant yet, gonna work on it rn oh btw take ur name'}\n",
      "========================================================\n",
      "Epoch 197 finished in 0.12 minutes | total_loss = 38.559163719415665\n",
      "Epoch 198 started\n"
     ]
    },
    {
     "name": "stderr",
     "output_type": "stream",
     "text": [
      "Training: 100%|██████████| 164/164 [00:06<00:00, 25.33it/s]\n"
     ]
    },
    {
     "name": "stdout",
     "output_type": "stream",
     "text": [
      "{'prompt': 'Any progress on the PA?', 'response': 'yea i will run it a single prediction and target i would pushed doing both 200 and 50 again and report back after rerunning'}\n",
      "========================================================\n",
      "Epoch 198 finished in 0.12 minutes | total_loss = 39.798970848321915\n",
      "Epoch 199 started\n"
     ]
    },
    {
     "name": "stderr",
     "output_type": "stream",
     "text": [
      "Training: 100%|██████████| 164/164 [00:06<00:00, 25.96it/s]\n"
     ]
    },
    {
     "name": "stdout",
     "output_type": "stream",
     "text": [
      "{'prompt': 'Any progress on the PA?', 'response': 'nothing significant yet, work on it later'}\n",
      "========================================================\n",
      "Epoch 199 finished in 0.12 minutes | total_loss = 39.053896084427834\n"
     ]
    }
   ],
   "source": [
    "epochs = 200  # You can adjust the number of epochs as needed\n",
    "training_loss = []\n",
    "for epoch in range(epochs):\n",
    "    start = time.time()\n",
    "    print(f\"Epoch {epoch} started\")\n",
    "    total_loss = train(chatData, model, optim)\n",
    "    training_loss += [total_loss]\n",
    "    end = time.time()\n",
    "    print(f\"Epoch {epoch} finished in {np.round((end - start) / 60, 2)} minutes | total_loss = {total_loss}\")"
   ]
  },
  {
   "cell_type": "code",
   "execution_count": 51,
   "metadata": {},
   "outputs": [
    {
     "data": {
      "text/plain": [
       "0.2381335127099258"
      ]
     },
     "execution_count": 51,
     "metadata": {},
     "output_type": "execute_result"
    }
   ],
   "source": [
    "# Winfrey: 0.33749 for 100 epochs, 0.25071 for 200 epochs\n",
    "# Jonathan 38.9592 for 200 epochs\n",
    "training_loss[-1] / len(chatData)"
   ]
  },
  {
   "cell_type": "code",
   "execution_count": 52,
   "metadata": {},
   "outputs": [],
   "source": [
    "# Save the model's state dictionary after training is complete\n",
    "torch.save(model.state_dict(), f\"models/{data_file_name}.pt\")"
   ]
  },
  {
   "cell_type": "code",
   "execution_count": null,
   "metadata": {},
   "outputs": [],
   "source": []
  },
  {
   "cell_type": "code",
   "execution_count": null,
   "metadata": {},
   "outputs": [],
   "source": []
  },
  {
   "cell_type": "code",
   "execution_count": 53,
   "metadata": {
    "id": "T6fuYpH4VE17"
   },
   "outputs": [
    {
     "name": "stdout",
     "output_type": "stream",
     "text": [
      "cuda\n"
     ]
    }
   ],
   "source": [
    "# Define environment variable, path of data, model name and device\n",
    "# os.environ[\"HF_HOME\"] = \"/content/huggingface\"  # Replace with your desired directory\n",
    "# print(\"Please replace it with your hf access token:\")\n",
    "# os.environ[\"HF_HOME_TOKEN\"] = \"Please_replace_it_with_your_hf_access_token\"\n",
    "\n",
    "result_dir = 'resources/'\n",
    "data_file_name = 'Samuel'\n",
    "data_file_path = f'../data/prompt_response/{data_file_name}.txt'\n",
    "\n",
    "model_name = \"gpt2\" # gpt2-medium\n",
    "device = \"cuda\" if torch.cuda.is_available() else \"mps\" if torch.backends.mps.is_available() else \"cpu\"\n",
    "print(device)"
   ]
  },
  {
   "cell_type": "code",
   "execution_count": 54,
   "metadata": {
    "id": "_ZgHPQgRuKbb"
   },
   "outputs": [],
   "source": [
    "# Write a python file to google driver\n",
    "# Sample of json datasets\n",
    "# You can also directly upload this code to your google driver\n",
    "# The code write here in this way is for better understanding of whole project\n",
    "# %%writefile chat_data.py\n",
    "\n",
    "from torch.utils.data import Dataset\n",
    "import json\n",
    "\n",
    "class ChatData(Dataset):\n",
    "    def __init__(self, path: str, tokenizer):\n",
    "        with open(path, encoding=\"utf-8\") as f:\n",
    "            self.data = f.readlines()#json.load(open(path, \"r\"))\n",
    "\n",
    "        self.X = []\n",
    "        for pair in self.data:\n",
    "            pair = eval(pair)          \n",
    "            self.X.append(f\"<start> {pair['prompt']} <response>: {pair['response']} <end>\")\n",
    "        \n",
    "        total_samples = len(self.X)  # Calculate the total number of samples\n",
    "        print(\"total_samples\", total_samples)\n",
    "        # define samples amount\n",
    "#         self.X = self.X[:500]\n",
    "        print(\"Check the preprocessing for self.X[0]:\")\n",
    "        print(self.X[0])\n",
    "\n",
    "        self.X_encoded = tokenizer(self.X, return_tensors=\"pt\", max_length=30, padding=\"max_length\", truncation=True)\n",
    "        self.input_ids = self.X_encoded['input_ids']\n",
    "        self.attention_mask = self.X_encoded['attention_mask']\n",
    "\n",
    "    def __len__(self):\n",
    "        return len(self.X)\n",
    "\n",
    "    def __getitem__(self, idx):\n",
    "        return self.input_ids[idx], self.attention_mask[idx]\n"
   ]
  },
  {
   "cell_type": "code",
   "execution_count": 55,
   "metadata": {
    "id": "_HLw88IBQHml"
   },
   "outputs": [
    {
     "name": "stdout",
     "output_type": "stream",
     "text": [
      "Number of tokens in tokenizer before adding our specific tokens: 50257\n",
      "Number of tokens in tokenizer after adding our specific tokens: 52874\n"
     ]
    }
   ],
   "source": [
    "# Download model, save model and tokernize to harddisk\n",
    "## prepare tokenizer\n",
    "tokenizer = GPT2Tokenizer.from_pretrained(model_name)\n",
    "\n",
    "print(f'Number of tokens in tokenizer before adding our specific tokens: {len(tokenizer.get_vocab())}')\n",
    "\n",
    "tokenizer.add_special_tokens({\"pad_token\": \"<pad>\",\n",
    "                              \"bos_token\": \"<start>\",\n",
    "                              \"eos_token\": \"<end>\"})\n",
    "\n",
    "tokenizer.add_tokens([\"<response>:\"])\n",
    "with open(f'../data/prompt_response/groupchat.txt', encoding=\"utf-8\") as f:\n",
    "    data = f.readlines()#json.load(open(path, \"r\"))\n",
    "\n",
    "for pair in data:\n",
    "    pair = eval(pair)\n",
    "    tokenizer.add_tokens(pair['prompt'].split() + pair['response'].split())\n",
    "    \n",
    "print(f'Number of tokens in tokenizer after adding our specific tokens: {len(tokenizer.get_vocab())}')\n",
    "\n",
    "## prepare model\n",
    "### Specify the desired embedding size (must be a multiple of 8)\n",
    "desired_embedding_size = 50264  # Change this to the desired size\n",
    "model = GPT2LMHeadModel.from_pretrained(model_name).to(device)\n",
    "### Resize the embedding layer to the desired size\n",
    "model.resize_token_embeddings(len(tokenizer), desired_embedding_size)\n",
    "model = model.to(device)\n",
    "\n",
    "model.config.pad_token_id = tokenizer.eos_token_id + 1\n",
    "\n",
    "\n",
    "## save tokenizer and model to harddisk\n",
    "# tokenizer.save_pretrained(result_dir)\n",
    "# model.save_pretrained(result_dir)"
   ]
  },
  {
   "cell_type": "code",
   "execution_count": 56,
   "metadata": {
    "id": "C9CzY7I9Qjh3"
   },
   "outputs": [],
   "source": [
    "# ## load model and tokenizer from harddisk\n",
    "# ### Load the GPT-2 tokenizer\n",
    "# tokenizer = GPT2Tokenizer.from_pretrained(result_dir)\n",
    "\n",
    "# ### Load the GPT-2 model from the local folder\n",
    "# model = GPT2LMHeadModel.from_pretrained(result_dir)\n",
    "# model.to(device)"
   ]
  },
  {
   "cell_type": "code",
   "execution_count": 57,
   "metadata": {
    "id": "tuKpppvpVlUA"
   },
   "outputs": [],
   "source": [
    "# Define infer and train function\n",
    "def infer(inp_raw):\n",
    "    inp_appended = \"<start> \" + inp_raw + \" <response>: \"\n",
    "    inp = tokenizer(inp_appended, return_tensors=\"pt\")\n",
    "    X = inp[\"input_ids\"].to(device)  # Use .to(device) method to move the tensor to the specified device\n",
    "    a = inp[\"attention_mask\"].to(device)  # Use .to(device) method here as well\n",
    "\n",
    "    output = model.generate(X, attention_mask=a, max_length=100, num_return_sequences=1)\n",
    "    output = tokenizer.decode(output[0]).replace('<pad>', '')\n",
    "    output = output[output.find('<response>: ')+len('<response>: '):].replace('<response>:', '')\n",
    "    if '<end>' in output:\n",
    "        output = output[:output.find('<end>')]\n",
    "    output = ' '.join(output.split())\n",
    "    \n",
    "    prompt_response = {\n",
    "        'prompt': inp_raw,\n",
    "        'response': output\n",
    "    }\n",
    "\n",
    "    return prompt_response\n",
    "\n",
    "\n",
    "def train(chatData, model, optim):\n",
    "    \n",
    "    batches = len(chatData)\n",
    "    total_loss = 0\n",
    "\n",
    "    for i, (X, a) in tqdm(enumerate(chatData), total=len(chatData), desc=\"Training\"):\n",
    "        X = X.to(device)\n",
    "        a = a.to(device)\n",
    "        optim.zero_grad()\n",
    "        loss = model(input_ids=X, attention_mask=a, labels=X).loss\n",
    "        total_loss += loss.item()\n",
    "        loss.backward()\n",
    "        optim.step()\n",
    "\n",
    "    print(infer(\"Any progress on the PA?\"))\n",
    "    print('========================================================')\n",
    "    \n",
    "    return total_loss"
   ]
  },
  {
   "cell_type": "code",
   "execution_count": 58,
   "metadata": {
    "id": "xQrezTeDcsz1"
   },
   "outputs": [
    {
     "name": "stdout",
     "output_type": "stream",
     "text": [
      "total_samples 65\n",
      "Check the preprocessing for self.X[0]:\n",
      "<start> I’ve done literally nothing but I’ll try for part 4 <response>: I also haven't done anything but I'll start today <end>\n"
     ]
    }
   ],
   "source": [
    "# from chat_data import ChatData\n",
    "\n",
    "#Load ChatData, train model and optimizer\n",
    "chatData = ChatData(data_file_path, tokenizer)\n",
    "chatData = DataLoader(chatData, batch_size=1) # batch_size=64\n",
    "\n",
    "model.train()\n",
    "\n",
    "optim = Adam(model.parameters(), lr=1e-5)"
   ]
  },
  {
   "cell_type": "code",
   "execution_count": 61,
   "metadata": {
    "id": "7VWe95ug3Bum",
    "scrolled": true
   },
   "outputs": [
    {
     "name": "stdout",
     "output_type": "stream",
     "text": [
      "Epoch 0 started\n"
     ]
    },
    {
     "name": "stderr",
     "output_type": "stream",
     "text": [
      "Training: 100%|██████████| 65/65 [00:02<00:00, 24.05it/s]\n"
     ]
    },
    {
     "name": "stdout",
     "output_type": "stream",
     "text": [
      "{'prompt': 'Any progress on the PA?', 'response': 'p p p p p p p p p p p p p p p p p p p p p p p p p p p p p p p p p p p p p p p p p p p'}\n",
      "========================================================\n",
      "Epoch 0 finished in 0.06 minutes | total_loss = 458.35883593559265\n",
      "Epoch 1 started\n"
     ]
    },
    {
     "name": "stderr",
     "output_type": "stream",
     "text": [
      "Training: 100%|██████████| 65/65 [00:02<00:00, 24.71it/s]\n"
     ]
    },
    {
     "name": "stdout",
     "output_type": "stream",
     "text": [
      "{'prompt': 'Any progress on the PA?', 'response': 'the the the the the the the the the the the the the the the the the the the the the the the the the the the the the the the the the the the the the the the the the the the'}\n",
      "========================================================\n",
      "Epoch 1 finished in 0.06 minutes | total_loss = 433.2690110206604\n",
      "Epoch 2 started\n"
     ]
    },
    {
     "name": "stderr",
     "output_type": "stream",
     "text": [
      "Training: 100%|██████████| 65/65 [00:03<00:00, 21.46it/s]\n"
     ]
    },
    {
     "name": "stdout",
     "output_type": "stream",
     "text": [
      "{'prompt': 'Any progress on the PA?', 'response': 'the the the the the the the the the the the the the the the the the the the the the the the the the the the the the the the the the the the the the the the the the the the'}\n",
      "========================================================\n",
      "Epoch 2 finished in 0.06 minutes | total_loss = 399.0187118053436\n",
      "Epoch 3 started\n"
     ]
    },
    {
     "name": "stderr",
     "output_type": "stream",
     "text": [
      "Training: 100%|██████████| 65/65 [00:03<00:00, 20.88it/s]\n"
     ]
    },
    {
     "name": "stdout",
     "output_type": "stream",
     "text": [
      "{'prompt': 'Any progress on the PA?', 'response': 'the the the the the the the the the the the the the the the the the the the the the the the the the the the the the the the the the the the the the the the the the the the'}\n",
      "========================================================\n",
      "Epoch 3 finished in 0.06 minutes | total_loss = 382.93962240219116\n",
      "Epoch 4 started\n"
     ]
    },
    {
     "name": "stderr",
     "output_type": "stream",
     "text": [
      "Training: 100%|██████████| 65/65 [00:03<00:00, 21.62it/s]\n"
     ]
    },
    {
     "name": "stdout",
     "output_type": "stream",
     "text": [
      "{'prompt': 'Any progress on the PA?', 'response': 'p p p p p p p p p p p p p p p p p p p p p p p p p p p p p p p p p p p p p p p p p p p'}\n",
      "========================================================\n",
      "Epoch 4 finished in 0.06 minutes | total_loss = 357.96977186203003\n",
      "Epoch 5 started\n"
     ]
    },
    {
     "name": "stderr",
     "output_type": "stream",
     "text": [
      "Training: 100%|██████████| 65/65 [00:03<00:00, 21.65it/s]\n"
     ]
    },
    {
     "name": "stdout",
     "output_type": "stream",
     "text": [
      "{'prompt': 'Any progress on the PA?', 'response': 'the the the the the the the the the the the the the the the the the the the the the the the the the the the the the the the the the the the the the the the the the the the'}\n",
      "========================================================\n",
      "Epoch 5 finished in 0.06 minutes | total_loss = 347.75797486305237\n",
      "Epoch 6 started\n"
     ]
    },
    {
     "name": "stderr",
     "output_type": "stream",
     "text": [
      "Training: 100%|██████████| 65/65 [00:02<00:00, 25.78it/s]\n"
     ]
    },
    {
     "name": "stdout",
     "output_type": "stream",
     "text": [
      "{'prompt': 'Any progress on the PA?', 'response': 'the the the the the the the the the the the the the the the the the the the the the the the the the the the the the the the the the the the the the the the the the the the'}\n",
      "========================================================\n",
      "Epoch 6 finished in 0.05 minutes | total_loss = 329.05651092529297\n",
      "Epoch 7 started\n"
     ]
    },
    {
     "name": "stderr",
     "output_type": "stream",
     "text": [
      "Training: 100%|██████████| 65/65 [00:02<00:00, 26.37it/s]\n"
     ]
    },
    {
     "name": "stdout",
     "output_type": "stream",
     "text": [
      "{'prompt': 'Any progress on the PA?', 'response': 'the the the the the the the the the the the the the the the the the the the the the the the the the the the the the the the the the the the the the the the the the the the'}\n",
      "========================================================\n",
      "Epoch 7 finished in 0.05 minutes | total_loss = 324.3746292591095\n",
      "Epoch 8 started\n"
     ]
    },
    {
     "name": "stderr",
     "output_type": "stream",
     "text": [
      "Training: 100%|██████████| 65/65 [00:02<00:00, 26.44it/s]\n"
     ]
    },
    {
     "name": "stdout",
     "output_type": "stream",
     "text": [
      "{'prompt': 'Any progress on the PA?', 'response': 'the the the the the the the the the the the the the the the the the the the the the the the the the the the the the the the the the the the the the the the the the the the'}\n",
      "========================================================\n",
      "Epoch 8 finished in 0.05 minutes | total_loss = 302.5545642375946\n",
      "Epoch 9 started\n"
     ]
    },
    {
     "name": "stderr",
     "output_type": "stream",
     "text": [
      "Training: 100%|██████████| 65/65 [00:02<00:00, 25.96it/s]\n"
     ]
    },
    {
     "name": "stdout",
     "output_type": "stream",
     "text": [
      "{'prompt': 'Any progress on the PA?', 'response': 'the the the the the the the the the the the the the the the the the the the the the the the the the the the the the the the the the the the the the the the the the the the'}\n",
      "========================================================\n",
      "Epoch 9 finished in 0.05 minutes | total_loss = 281.0136194229126\n",
      "Epoch 10 started\n"
     ]
    },
    {
     "name": "stderr",
     "output_type": "stream",
     "text": [
      "Training: 100%|██████████| 65/65 [00:02<00:00, 25.87it/s]\n"
     ]
    },
    {
     "name": "stdout",
     "output_type": "stream",
     "text": [
      "{'prompt': 'Any progress on the PA?', 'response': 'the'}\n",
      "========================================================\n",
      "Epoch 10 finished in 0.05 minutes | total_loss = 262.8006772994995\n",
      "Epoch 11 started\n"
     ]
    },
    {
     "name": "stderr",
     "output_type": "stream",
     "text": [
      "Training: 100%|██████████| 65/65 [00:02<00:00, 26.20it/s]\n"
     ]
    },
    {
     "name": "stdout",
     "output_type": "stream",
     "text": [
      "{'prompt': 'Any progress on the PA?', 'response': ''}\n",
      "========================================================\n",
      "Epoch 11 finished in 0.05 minutes | total_loss = 241.47103142738342\n",
      "Epoch 12 started\n"
     ]
    },
    {
     "name": "stderr",
     "output_type": "stream",
     "text": [
      "Training: 100%|██████████| 65/65 [00:02<00:00, 26.33it/s]\n"
     ]
    },
    {
     "name": "stdout",
     "output_type": "stream",
     "text": [
      "{'prompt': 'Any progress on the PA?', 'response': ''}\n",
      "========================================================\n",
      "Epoch 12 finished in 0.05 minutes | total_loss = 231.67581808567047\n",
      "Epoch 13 started\n"
     ]
    },
    {
     "name": "stderr",
     "output_type": "stream",
     "text": [
      "Training: 100%|██████████| 65/65 [00:02<00:00, 26.40it/s]\n"
     ]
    },
    {
     "name": "stdout",
     "output_type": "stream",
     "text": [
      "{'prompt': 'Any progress on the PA?', 'response': ''}\n",
      "========================================================\n",
      "Epoch 13 finished in 0.05 minutes | total_loss = 228.34101366996765\n",
      "Epoch 14 started\n"
     ]
    },
    {
     "name": "stderr",
     "output_type": "stream",
     "text": [
      "Training: 100%|██████████| 65/65 [00:02<00:00, 26.47it/s]\n"
     ]
    },
    {
     "name": "stdout",
     "output_type": "stream",
     "text": [
      "{'prompt': 'Any progress on the PA?', 'response': 'the'}\n",
      "========================================================\n",
      "Epoch 14 finished in 0.05 minutes | total_loss = 219.97556233406067\n",
      "Epoch 15 started\n"
     ]
    },
    {
     "name": "stderr",
     "output_type": "stream",
     "text": [
      "Training: 100%|██████████| 65/65 [00:02<00:00, 25.65it/s]\n"
     ]
    },
    {
     "name": "stdout",
     "output_type": "stream",
     "text": [
      "{'prompt': 'Any progress on the PA?', 'response': ''}\n",
      "========================================================\n",
      "Epoch 15 finished in 0.05 minutes | total_loss = 212.99546039104462\n",
      "Epoch 16 started\n"
     ]
    },
    {
     "name": "stderr",
     "output_type": "stream",
     "text": [
      "Training: 100%|██████████| 65/65 [00:02<00:00, 25.54it/s]\n"
     ]
    },
    {
     "name": "stdout",
     "output_type": "stream",
     "text": [
      "{'prompt': 'Any progress on the PA?', 'response': 'the the'}\n",
      "========================================================\n",
      "Epoch 16 finished in 0.05 minutes | total_loss = 198.8366094827652\n",
      "Epoch 17 started\n"
     ]
    },
    {
     "name": "stderr",
     "output_type": "stream",
     "text": [
      "Training: 100%|██████████| 65/65 [00:02<00:00, 25.02it/s]\n"
     ]
    },
    {
     "name": "stdout",
     "output_type": "stream",
     "text": [
      "{'prompt': 'Any progress on the PA?', 'response': ''}\n",
      "========================================================\n",
      "Epoch 17 finished in 0.05 minutes | total_loss = 198.4661865234375\n",
      "Epoch 18 started\n"
     ]
    },
    {
     "name": "stderr",
     "output_type": "stream",
     "text": [
      "Training: 100%|██████████| 65/65 [00:02<00:00, 25.47it/s]\n"
     ]
    },
    {
     "name": "stdout",
     "output_type": "stream",
     "text": [
      "{'prompt': 'Any progress on the PA?', 'response': ''}\n",
      "========================================================\n",
      "Epoch 18 finished in 0.05 minutes | total_loss = 194.92739498615265\n",
      "Epoch 19 started\n"
     ]
    },
    {
     "name": "stderr",
     "output_type": "stream",
     "text": [
      "Training: 100%|██████████| 65/65 [00:02<00:00, 26.09it/s]\n"
     ]
    },
    {
     "name": "stdout",
     "output_type": "stream",
     "text": [
      "{'prompt': 'Any progress on the PA?', 'response': 'a'}\n",
      "========================================================\n",
      "Epoch 19 finished in 0.05 minutes | total_loss = 191.66650485992432\n",
      "Epoch 20 started\n"
     ]
    },
    {
     "name": "stderr",
     "output_type": "stream",
     "text": [
      "Training: 100%|██████████| 65/65 [00:02<00:00, 24.08it/s]\n"
     ]
    },
    {
     "name": "stdout",
     "output_type": "stream",
     "text": [
      "{'prompt': 'Any progress on the PA?', 'response': 'the the the the the'}\n",
      "========================================================\n",
      "Epoch 20 finished in 0.06 minutes | total_loss = 196.2561011314392\n",
      "Epoch 21 started\n"
     ]
    },
    {
     "name": "stderr",
     "output_type": "stream",
     "text": [
      "Training: 100%|██████████| 65/65 [00:02<00:00, 23.88it/s]\n"
     ]
    },
    {
     "name": "stdout",
     "output_type": "stream",
     "text": [
      "{'prompt': 'Any progress on the PA?', 'response': ''}\n",
      "========================================================\n",
      "Epoch 21 finished in 0.06 minutes | total_loss = 188.5986224412918\n",
      "Epoch 22 started\n"
     ]
    },
    {
     "name": "stderr",
     "output_type": "stream",
     "text": [
      "Training: 100%|██████████| 65/65 [00:02<00:00, 24.75it/s]\n"
     ]
    },
    {
     "name": "stdout",
     "output_type": "stream",
     "text": [
      "{'prompt': 'Any progress on the PA?', 'response': 'the the the the the the the the the the the the the the the the the the the'}\n",
      "========================================================\n",
      "Epoch 22 finished in 0.06 minutes | total_loss = 180.95924711227417\n",
      "Epoch 23 started\n"
     ]
    },
    {
     "name": "stderr",
     "output_type": "stream",
     "text": [
      "Training: 100%|██████████| 65/65 [00:02<00:00, 24.63it/s]\n"
     ]
    },
    {
     "name": "stdout",
     "output_type": "stream",
     "text": [
      "{'prompt': 'Any progress on the PA?', 'response': 'the'}\n",
      "========================================================\n",
      "Epoch 23 finished in 0.06 minutes | total_loss = 175.15789395570755\n",
      "Epoch 24 started\n"
     ]
    },
    {
     "name": "stderr",
     "output_type": "stream",
     "text": [
      "Training: 100%|██████████| 65/65 [00:02<00:00, 25.29it/s]\n"
     ]
    },
    {
     "name": "stdout",
     "output_type": "stream",
     "text": [
      "{'prompt': 'Any progress on the PA?', 'response': 'the the the the the sense'}\n",
      "========================================================\n",
      "Epoch 24 finished in 0.05 minutes | total_loss = 177.4648558497429\n",
      "Epoch 25 started\n"
     ]
    },
    {
     "name": "stderr",
     "output_type": "stream",
     "text": [
      "Training: 100%|██████████| 65/65 [00:02<00:00, 25.31it/s]\n"
     ]
    },
    {
     "name": "stdout",
     "output_type": "stream",
     "text": [
      "{'prompt': 'Any progress on the PA?', 'response': 'the the the the the the the the the the the the the the the the the the the the the the the the'}\n",
      "========================================================\n",
      "Epoch 25 finished in 0.05 minutes | total_loss = 174.48842656612396\n",
      "Epoch 26 started\n"
     ]
    },
    {
     "name": "stderr",
     "output_type": "stream",
     "text": [
      "Training: 100%|██████████| 65/65 [00:02<00:00, 25.39it/s]\n"
     ]
    },
    {
     "name": "stdout",
     "output_type": "stream",
     "text": [
      "{'prompt': 'Any progress on the PA?', 'response': 'the'}\n",
      "========================================================\n",
      "Epoch 26 finished in 0.05 minutes | total_loss = 169.8596819639206\n",
      "Epoch 27 started\n"
     ]
    },
    {
     "name": "stderr",
     "output_type": "stream",
     "text": [
      "Training: 100%|██████████| 65/65 [00:02<00:00, 24.98it/s]\n"
     ]
    },
    {
     "name": "stdout",
     "output_type": "stream",
     "text": [
      "{'prompt': 'Any progress on the PA?', 'response': 'the'}\n",
      "========================================================\n",
      "Epoch 27 finished in 0.05 minutes | total_loss = 162.54958701133728\n",
      "Epoch 28 started\n"
     ]
    },
    {
     "name": "stderr",
     "output_type": "stream",
     "text": [
      "Training: 100%|██████████| 65/65 [00:02<00:00, 25.51it/s]\n"
     ]
    },
    {
     "name": "stdout",
     "output_type": "stream",
     "text": [
      "{'prompt': 'Any progress on the PA?', 'response': 'the the the the'}\n",
      "========================================================\n",
      "Epoch 28 finished in 0.05 minutes | total_loss = 163.51539951562881\n",
      "Epoch 29 started\n"
     ]
    },
    {
     "name": "stderr",
     "output_type": "stream",
     "text": [
      "Training: 100%|██████████| 65/65 [00:02<00:00, 23.37it/s]\n"
     ]
    },
    {
     "name": "stdout",
     "output_type": "stream",
     "text": [
      "{'prompt': 'Any progress on the PA?', 'response': 'the'}\n",
      "========================================================\n",
      "Epoch 29 finished in 0.06 minutes | total_loss = 160.71150332689285\n",
      "Epoch 30 started\n"
     ]
    },
    {
     "name": "stderr",
     "output_type": "stream",
     "text": [
      "Training: 100%|██████████| 65/65 [00:02<00:00, 24.88it/s]\n"
     ]
    },
    {
     "name": "stdout",
     "output_type": "stream",
     "text": [
      "{'prompt': 'Any progress on the PA?', 'response': ''}\n",
      "========================================================\n",
      "Epoch 30 finished in 0.05 minutes | total_loss = 161.7188059091568\n",
      "Epoch 31 started\n"
     ]
    },
    {
     "name": "stderr",
     "output_type": "stream",
     "text": [
      "Training: 100%|██████████| 65/65 [00:02<00:00, 24.84it/s]\n"
     ]
    },
    {
     "name": "stdout",
     "output_type": "stream",
     "text": [
      "{'prompt': 'Any progress on the PA?', 'response': 'is the'}\n",
      "========================================================\n",
      "Epoch 31 finished in 0.06 minutes | total_loss = 159.47638207674026\n",
      "Epoch 32 started\n"
     ]
    },
    {
     "name": "stderr",
     "output_type": "stream",
     "text": [
      "Training: 100%|██████████| 65/65 [00:02<00:00, 24.63it/s]\n"
     ]
    },
    {
     "name": "stdout",
     "output_type": "stream",
     "text": [
      "{'prompt': 'Any progress on the PA?', 'response': ''}\n",
      "========================================================\n",
      "Epoch 32 finished in 0.06 minutes | total_loss = 161.62958085536957\n",
      "Epoch 33 started\n"
     ]
    },
    {
     "name": "stderr",
     "output_type": "stream",
     "text": [
      "Training: 100%|██████████| 65/65 [00:02<00:00, 24.68it/s]\n"
     ]
    },
    {
     "name": "stdout",
     "output_type": "stream",
     "text": [
      "{'prompt': 'Any progress on the PA?', 'response': 'a is the a the'}\n",
      "========================================================\n",
      "Epoch 33 finished in 0.06 minutes | total_loss = 157.07330125570297\n",
      "Epoch 34 started\n"
     ]
    },
    {
     "name": "stderr",
     "output_type": "stream",
     "text": [
      "Training: 100%|██████████| 65/65 [00:02<00:00, 24.90it/s]\n"
     ]
    },
    {
     "name": "stdout",
     "output_type": "stream",
     "text": [
      "{'prompt': 'Any progress on the PA?', 'response': ''}\n",
      "========================================================\n",
      "Epoch 34 finished in 0.05 minutes | total_loss = 157.49714350700378\n",
      "Epoch 35 started\n"
     ]
    },
    {
     "name": "stderr",
     "output_type": "stream",
     "text": [
      "Training: 100%|██████████| 65/65 [00:02<00:00, 24.89it/s]\n"
     ]
    },
    {
     "name": "stdout",
     "output_type": "stream",
     "text": [
      "{'prompt': 'Any progress on the PA?', 'response': 'the'}\n",
      "========================================================\n",
      "Epoch 35 finished in 0.06 minutes | total_loss = 152.51417297124863\n",
      "Epoch 36 started\n"
     ]
    },
    {
     "name": "stderr",
     "output_type": "stream",
     "text": [
      "Training: 100%|██████████| 65/65 [00:02<00:00, 23.32it/s]\n"
     ]
    },
    {
     "name": "stdout",
     "output_type": "stream",
     "text": [
      "{'prompt': 'Any progress on the PA?', 'response': 'the'}\n",
      "========================================================\n",
      "Epoch 36 finished in 0.06 minutes | total_loss = 154.98676717281342\n",
      "Epoch 37 started\n"
     ]
    },
    {
     "name": "stderr",
     "output_type": "stream",
     "text": [
      "Training: 100%|██████████| 65/65 [00:02<00:00, 24.38it/s]\n"
     ]
    },
    {
     "name": "stdout",
     "output_type": "stream",
     "text": [
      "{'prompt': 'Any progress on the PA?', 'response': 'the the'}\n",
      "========================================================\n",
      "Epoch 37 finished in 0.06 minutes | total_loss = 154.14860785007477\n",
      "Epoch 38 started\n"
     ]
    },
    {
     "name": "stderr",
     "output_type": "stream",
     "text": [
      "Training: 100%|██████████| 65/65 [00:02<00:00, 25.35it/s]\n"
     ]
    },
    {
     "name": "stdout",
     "output_type": "stream",
     "text": [
      "{'prompt': 'Any progress on the PA?', 'response': ''}\n",
      "========================================================\n",
      "Epoch 38 finished in 0.05 minutes | total_loss = 150.7970649600029\n",
      "Epoch 39 started\n"
     ]
    },
    {
     "name": "stderr",
     "output_type": "stream",
     "text": [
      "Training: 100%|██████████| 65/65 [00:02<00:00, 24.84it/s]\n"
     ]
    },
    {
     "name": "stdout",
     "output_type": "stream",
     "text": [
      "{'prompt': 'Any progress on the PA?', 'response': ''}\n",
      "========================================================\n",
      "Epoch 39 finished in 0.05 minutes | total_loss = 146.15838462114334\n",
      "Epoch 40 started\n"
     ]
    },
    {
     "name": "stderr",
     "output_type": "stream",
     "text": [
      "Training: 100%|██████████| 65/65 [00:02<00:00, 25.19it/s]\n"
     ]
    },
    {
     "name": "stdout",
     "output_type": "stream",
     "text": [
      "{'prompt': 'Any progress on the PA?', 'response': ''}\n",
      "========================================================\n",
      "Epoch 40 finished in 0.05 minutes | total_loss = 140.71482187509537\n",
      "Epoch 41 started\n"
     ]
    },
    {
     "name": "stderr",
     "output_type": "stream",
     "text": [
      "Training: 100%|██████████| 65/65 [00:02<00:00, 24.89it/s]\n"
     ]
    },
    {
     "name": "stdout",
     "output_type": "stream",
     "text": [
      "{'prompt': 'Any progress on the PA?', 'response': 'is'}\n",
      "========================================================\n",
      "Epoch 41 finished in 0.06 minutes | total_loss = 141.39397829771042\n",
      "Epoch 42 started\n"
     ]
    },
    {
     "name": "stderr",
     "output_type": "stream",
     "text": [
      "Training: 100%|██████████| 65/65 [00:02<00:00, 25.16it/s]\n"
     ]
    },
    {
     "name": "stdout",
     "output_type": "stream",
     "text": [
      "{'prompt': 'Any progress on the PA?', 'response': ''}\n",
      "========================================================\n",
      "Epoch 42 finished in 0.05 minutes | total_loss = 138.06968611478806\n",
      "Epoch 43 started\n"
     ]
    },
    {
     "name": "stderr",
     "output_type": "stream",
     "text": [
      "Training: 100%|██████████| 65/65 [00:02<00:00, 25.56it/s]\n"
     ]
    },
    {
     "name": "stdout",
     "output_type": "stream",
     "text": [
      "{'prompt': 'Any progress on the PA?', 'response': 'is'}\n",
      "========================================================\n",
      "Epoch 43 finished in 0.05 minutes | total_loss = 137.70021450519562\n",
      "Epoch 44 started\n"
     ]
    },
    {
     "name": "stderr",
     "output_type": "stream",
     "text": [
      "Training: 100%|██████████| 65/65 [00:02<00:00, 27.00it/s]\n"
     ]
    },
    {
     "name": "stdout",
     "output_type": "stream",
     "text": [
      "{'prompt': 'Any progress on the PA?', 'response': 'i was'}\n",
      "========================================================\n",
      "Epoch 44 finished in 0.05 minutes | total_loss = 136.10155445337296\n",
      "Epoch 45 started\n"
     ]
    },
    {
     "name": "stderr",
     "output_type": "stream",
     "text": [
      "Training: 100%|██████████| 65/65 [00:02<00:00, 26.08it/s]\n"
     ]
    },
    {
     "name": "stdout",
     "output_type": "stream",
     "text": [
      "{'prompt': 'Any progress on the PA?', 'response': ''}\n",
      "========================================================\n",
      "Epoch 45 finished in 0.05 minutes | total_loss = 136.84726321697235\n",
      "Epoch 46 started\n"
     ]
    },
    {
     "name": "stderr",
     "output_type": "stream",
     "text": [
      "Training: 100%|██████████| 65/65 [00:02<00:00, 26.88it/s]\n"
     ]
    },
    {
     "name": "stdout",
     "output_type": "stream",
     "text": [
      "{'prompt': 'Any progress on the PA?', 'response': ''}\n",
      "========================================================\n",
      "Epoch 46 finished in 0.05 minutes | total_loss = 132.09545093774796\n",
      "Epoch 47 started\n"
     ]
    },
    {
     "name": "stderr",
     "output_type": "stream",
     "text": [
      "Training: 100%|██████████| 65/65 [00:02<00:00, 27.07it/s]\n"
     ]
    },
    {
     "name": "stdout",
     "output_type": "stream",
     "text": [
      "{'prompt': 'Any progress on the PA?', 'response': ''}\n",
      "========================================================\n",
      "Epoch 47 finished in 0.05 minutes | total_loss = 134.9292466044426\n",
      "Epoch 48 started\n"
     ]
    },
    {
     "name": "stderr",
     "output_type": "stream",
     "text": [
      "Training: 100%|██████████| 65/65 [00:02<00:00, 27.58it/s]\n"
     ]
    },
    {
     "name": "stdout",
     "output_type": "stream",
     "text": [
      "{'prompt': 'Any progress on the PA?', 'response': ''}\n",
      "========================================================\n",
      "Epoch 48 finished in 0.05 minutes | total_loss = 130.9826202392578\n",
      "Epoch 49 started\n"
     ]
    },
    {
     "name": "stderr",
     "output_type": "stream",
     "text": [
      "Training: 100%|██████████| 65/65 [00:02<00:00, 27.43it/s]\n"
     ]
    },
    {
     "name": "stdout",
     "output_type": "stream",
     "text": [
      "{'prompt': 'Any progress on the PA?', 'response': ''}\n",
      "========================================================\n",
      "Epoch 49 finished in 0.05 minutes | total_loss = 129.31938010454178\n",
      "Epoch 50 started\n"
     ]
    },
    {
     "name": "stderr",
     "output_type": "stream",
     "text": [
      "Training: 100%|██████████| 65/65 [00:02<00:00, 27.78it/s]\n"
     ]
    },
    {
     "name": "stdout",
     "output_type": "stream",
     "text": [
      "{'prompt': 'Any progress on the PA?', 'response': 'i i think it is the i think'}\n",
      "========================================================\n",
      "Epoch 50 finished in 0.05 minutes | total_loss = 125.91308110952377\n",
      "Epoch 51 started\n"
     ]
    },
    {
     "name": "stderr",
     "output_type": "stream",
     "text": [
      "Training: 100%|██████████| 65/65 [00:02<00:00, 26.62it/s]\n"
     ]
    },
    {
     "name": "stdout",
     "output_type": "stream",
     "text": [
      "{'prompt': 'Any progress on the PA?', 'response': ''}\n",
      "========================================================\n",
      "Epoch 51 finished in 0.05 minutes | total_loss = 126.35934853553772\n",
      "Epoch 52 started\n"
     ]
    },
    {
     "name": "stderr",
     "output_type": "stream",
     "text": [
      "Training: 100%|██████████| 65/65 [00:02<00:00, 27.03it/s]\n"
     ]
    },
    {
     "name": "stdout",
     "output_type": "stream",
     "text": [
      "{'prompt': 'Any progress on the PA?', 'response': 'is the state of the'}\n",
      "========================================================\n",
      "Epoch 52 finished in 0.05 minutes | total_loss = 122.5635734796524\n",
      "Epoch 53 started\n"
     ]
    },
    {
     "name": "stderr",
     "output_type": "stream",
     "text": [
      "Training: 100%|██████████| 65/65 [00:02<00:00, 26.70it/s]\n"
     ]
    },
    {
     "name": "stdout",
     "output_type": "stream",
     "text": [
      "{'prompt': 'Any progress on the PA?', 'response': 'oh'}\n",
      "========================================================\n",
      "Epoch 53 finished in 0.05 minutes | total_loss = 120.86737531423569\n",
      "Epoch 54 started\n"
     ]
    },
    {
     "name": "stderr",
     "output_type": "stream",
     "text": [
      "Training: 100%|██████████| 65/65 [00:02<00:00, 25.92it/s]\n"
     ]
    },
    {
     "name": "stdout",
     "output_type": "stream",
     "text": [
      "{'prompt': 'Any progress on the PA?', 'response': 'i was'}\n",
      "========================================================\n",
      "Epoch 54 finished in 0.05 minutes | total_loss = 119.35885536670685\n",
      "Epoch 55 started\n"
     ]
    },
    {
     "name": "stderr",
     "output_type": "stream",
     "text": [
      "Training: 100%|██████████| 65/65 [00:02<00:00, 25.84it/s]\n"
     ]
    },
    {
     "name": "stdout",
     "output_type": "stream",
     "text": [
      "{'prompt': 'Any progress on the PA?', 'response': 'i think i think'}\n",
      "========================================================\n",
      "Epoch 55 finished in 0.05 minutes | total_loss = 120.45080932974815\n",
      "Epoch 56 started\n"
     ]
    },
    {
     "name": "stderr",
     "output_type": "stream",
     "text": [
      "Training: 100%|██████████| 65/65 [00:02<00:00, 26.69it/s]\n"
     ]
    },
    {
     "name": "stdout",
     "output_type": "stream",
     "text": [
      "{'prompt': 'Any progress on the PA?', 'response': ''}\n",
      "========================================================\n",
      "Epoch 56 finished in 0.05 minutes | total_loss = 122.83821985125542\n",
      "Epoch 57 started\n"
     ]
    },
    {
     "name": "stderr",
     "output_type": "stream",
     "text": [
      "Training: 100%|██████████| 65/65 [00:02<00:00, 27.75it/s]\n"
     ]
    },
    {
     "name": "stdout",
     "output_type": "stream",
     "text": [
      "{'prompt': 'Any progress on the PA?', 'response': 'ok'}\n",
      "========================================================\n",
      "Epoch 57 finished in 0.05 minutes | total_loss = 120.1212420463562\n",
      "Epoch 58 started\n"
     ]
    },
    {
     "name": "stderr",
     "output_type": "stream",
     "text": [
      "Training: 100%|██████████| 65/65 [00:02<00:00, 27.57it/s]\n"
     ]
    },
    {
     "name": "stdout",
     "output_type": "stream",
     "text": [
      "{'prompt': 'Any progress on the PA?', 'response': 'i i was a a new and the i i was'}\n",
      "========================================================\n",
      "Epoch 58 finished in 0.05 minutes | total_loss = 115.76788198947906\n",
      "Epoch 59 started\n"
     ]
    },
    {
     "name": "stderr",
     "output_type": "stream",
     "text": [
      "Training: 100%|██████████| 65/65 [00:02<00:00, 26.63it/s]\n"
     ]
    },
    {
     "name": "stdout",
     "output_type": "stream",
     "text": [
      "{'prompt': 'Any progress on the PA?', 'response': 'how do you need to set a a'}\n",
      "========================================================\n",
      "Epoch 59 finished in 0.05 minutes | total_loss = 112.79552263021469\n",
      "Epoch 60 started\n"
     ]
    },
    {
     "name": "stderr",
     "output_type": "stream",
     "text": [
      "Training: 100%|██████████| 65/65 [00:02<00:00, 27.79it/s]\n"
     ]
    },
    {
     "name": "stdout",
     "output_type": "stream",
     "text": [
      "{'prompt': 'Any progress on the PA?', 'response': 'i was'}\n",
      "========================================================\n",
      "Epoch 60 finished in 0.05 minutes | total_loss = 112.2202929854393\n",
      "Epoch 61 started\n"
     ]
    },
    {
     "name": "stderr",
     "output_type": "stream",
     "text": [
      "Training: 100%|██████████| 65/65 [00:02<00:00, 27.51it/s]\n"
     ]
    },
    {
     "name": "stdout",
     "output_type": "stream",
     "text": [
      "{'prompt': 'Any progress on the PA?', 'response': 'i was getting a'}\n",
      "========================================================\n",
      "Epoch 61 finished in 0.05 minutes | total_loss = 108.90228506922722\n",
      "Epoch 62 started\n"
     ]
    },
    {
     "name": "stderr",
     "output_type": "stream",
     "text": [
      "Training: 100%|██████████| 65/65 [00:02<00:00, 27.53it/s]\n"
     ]
    },
    {
     "name": "stdout",
     "output_type": "stream",
     "text": [
      "{'prompt': 'Any progress on the PA?', 'response': 'oh okay'}\n",
      "========================================================\n",
      "Epoch 62 finished in 0.05 minutes | total_loss = 106.68228620290756\n",
      "Epoch 63 started\n"
     ]
    },
    {
     "name": "stderr",
     "output_type": "stream",
     "text": [
      "Training: 100%|██████████| 65/65 [00:02<00:00, 27.33it/s]\n"
     ]
    },
    {
     "name": "stdout",
     "output_type": "stream",
     "text": [
      "{'prompt': 'Any progress on the PA?', 'response': 'error error is the same error that the error is the same error that got and got the same error that got the same error that got the same error that got the same error error that got'}\n",
      "========================================================\n",
      "Epoch 63 finished in 0.05 minutes | total_loss = 106.9087139070034\n",
      "Epoch 64 started\n"
     ]
    },
    {
     "name": "stderr",
     "output_type": "stream",
     "text": [
      "Training: 100%|██████████| 65/65 [00:02<00:00, 27.16it/s]\n"
     ]
    },
    {
     "name": "stdout",
     "output_type": "stream",
     "text": [
      "{'prompt': 'Any progress on the PA?', 'response': 'ok'}\n",
      "========================================================\n",
      "Epoch 64 finished in 0.05 minutes | total_loss = 103.5571239888668\n",
      "Epoch 65 started\n"
     ]
    },
    {
     "name": "stderr",
     "output_type": "stream",
     "text": [
      "Training: 100%|██████████| 65/65 [00:02<00:00, 26.12it/s]\n"
     ]
    },
    {
     "name": "stdout",
     "output_type": "stream",
     "text": [
      "{'prompt': 'Any progress on the PA?', 'response': 'i was going to try to part 4 i was going to'}\n",
      "========================================================\n",
      "Epoch 65 finished in 0.05 minutes | total_loss = 100.98059505224228\n",
      "Epoch 66 started\n"
     ]
    },
    {
     "name": "stderr",
     "output_type": "stream",
     "text": [
      "Training: 100%|██████████| 65/65 [00:02<00:00, 26.38it/s]\n"
     ]
    },
    {
     "name": "stdout",
     "output_type": "stream",
     "text": [
      "{'prompt': 'Any progress on the PA?', 'response': 'yes no no no no no no for the state in the state'}\n",
      "========================================================\n",
      "Epoch 66 finished in 0.05 minutes | total_loss = 102.4294561445713\n",
      "Epoch 67 started\n"
     ]
    },
    {
     "name": "stderr",
     "output_type": "stream",
     "text": [
      "Training: 100%|██████████| 65/65 [00:02<00:00, 26.30it/s]\n"
     ]
    },
    {
     "name": "stdout",
     "output_type": "stream",
     "text": [
      "{'prompt': 'Any progress on the PA?', 'response': 'i was going to to get a i was going to get a'}\n",
      "========================================================\n",
      "Epoch 67 finished in 0.05 minutes | total_loss = 106.8462031185627\n",
      "Epoch 68 started\n"
     ]
    },
    {
     "name": "stderr",
     "output_type": "stream",
     "text": [
      "Training: 100%|██████████| 65/65 [00:02<00:00, 27.74it/s]\n"
     ]
    },
    {
     "name": "stdout",
     "output_type": "stream",
     "text": [
      "{'prompt': 'Any progress on the PA?', 'response': 'is the'}\n",
      "========================================================\n",
      "Epoch 68 finished in 0.05 minutes | total_loss = 104.31909093260765\n",
      "Epoch 69 started\n"
     ]
    },
    {
     "name": "stderr",
     "output_type": "stream",
     "text": [
      "Training: 100%|██████████| 65/65 [00:02<00:00, 24.39it/s]\n"
     ]
    },
    {
     "name": "stdout",
     "output_type": "stream",
     "text": [
      "{'prompt': 'Any progress on the PA?', 'response': 'i was just thinking about the report oh thanks for okay thanks for getting'}\n",
      "========================================================\n",
      "Epoch 69 finished in 0.06 minutes | total_loss = 103.1916444003582\n",
      "Epoch 70 started\n"
     ]
    },
    {
     "name": "stderr",
     "output_type": "stream",
     "text": [
      "Training: 100%|██████████| 65/65 [00:02<00:00, 25.02it/s]\n"
     ]
    },
    {
     "name": "stdout",
     "output_type": "stream",
     "text": [
      "{'prompt': 'Any progress on the PA?', 'response': 'ok oh do you have anything to add to the'}\n",
      "========================================================\n",
      "Epoch 70 finished in 0.06 minutes | total_loss = 98.82743927836418\n",
      "Epoch 71 started\n"
     ]
    },
    {
     "name": "stderr",
     "output_type": "stream",
     "text": [
      "Training: 100%|██████████| 65/65 [00:02<00:00, 26.41it/s]\n"
     ]
    },
    {
     "name": "stdout",
     "output_type": "stream",
     "text": [
      "{'prompt': 'Any progress on the PA?', 'response': 'ok for the state in the'}\n",
      "========================================================\n",
      "Epoch 71 finished in 0.05 minutes | total_loss = 98.53295177221298\n",
      "Epoch 72 started\n"
     ]
    },
    {
     "name": "stderr",
     "output_type": "stream",
     "text": [
      "Training: 100%|██████████| 65/65 [00:02<00:00, 26.98it/s]\n"
     ]
    },
    {
     "name": "stdout",
     "output_type": "stream",
     "text": [
      "{'prompt': 'Any progress on the PA?', 'response': 'how do you think it would like to be part of the'}\n",
      "========================================================\n",
      "Epoch 72 finished in 0.05 minutes | total_loss = 92.69448581337929\n",
      "Epoch 73 started\n"
     ]
    },
    {
     "name": "stderr",
     "output_type": "stream",
     "text": [
      "Training: 100%|██████████| 65/65 [00:02<00:00, 26.71it/s]\n"
     ]
    },
    {
     "name": "stdout",
     "output_type": "stream",
     "text": [
      "{'prompt': 'Any progress on the PA?', 'response': 'ok'}\n",
      "========================================================\n",
      "Epoch 73 finished in 0.05 minutes | total_loss = 90.10347747802734\n",
      "Epoch 74 started\n"
     ]
    },
    {
     "name": "stderr",
     "output_type": "stream",
     "text": [
      "Training: 100%|██████████| 65/65 [00:02<00:00, 27.83it/s]\n"
     ]
    },
    {
     "name": "stdout",
     "output_type": "stream",
     "text": [
      "{'prompt': 'Any progress on the PA?', 'response': 'ok oh'}\n",
      "========================================================\n",
      "Epoch 74 finished in 0.05 minutes | total_loss = 93.68962797522545\n",
      "Epoch 75 started\n"
     ]
    },
    {
     "name": "stderr",
     "output_type": "stream",
     "text": [
      "Training: 100%|██████████| 65/65 [00:02<00:00, 27.66it/s]\n"
     ]
    },
    {
     "name": "stdout",
     "output_type": "stream",
     "text": [
      "{'prompt': 'Any progress on the PA?', 'response': 'i okay i think it has'}\n",
      "========================================================\n",
      "Epoch 75 finished in 0.05 minutes | total_loss = 92.32933789491653\n",
      "Epoch 76 started\n"
     ]
    },
    {
     "name": "stderr",
     "output_type": "stream",
     "text": [
      "Training: 100%|██████████| 65/65 [00:02<00:00, 27.58it/s]\n"
     ]
    },
    {
     "name": "stdout",
     "output_type": "stream",
     "text": [
      "{'prompt': 'Any progress on the PA?', 'response': ''}\n",
      "========================================================\n",
      "Epoch 76 finished in 0.05 minutes | total_loss = 88.10938474535942\n",
      "Epoch 77 started\n"
     ]
    },
    {
     "name": "stderr",
     "output_type": "stream",
     "text": [
      "Training: 100%|██████████| 65/65 [00:02<00:00, 26.55it/s]\n"
     ]
    },
    {
     "name": "stdout",
     "output_type": "stream",
     "text": [
      "{'prompt': 'Any progress on the PA?', 'response': 'no oh okay'}\n",
      "========================================================\n",
      "Epoch 77 finished in 0.05 minutes | total_loss = 85.7275692820549\n",
      "Epoch 78 started\n"
     ]
    },
    {
     "name": "stderr",
     "output_type": "stream",
     "text": [
      "Training: 100%|██████████| 65/65 [00:02<00:00, 27.54it/s]\n"
     ]
    },
    {
     "name": "stdout",
     "output_type": "stream",
     "text": [
      "{'prompt': 'Any progress on the PA?', 'response': 'ok'}\n",
      "========================================================\n",
      "Epoch 78 finished in 0.05 minutes | total_loss = 84.2911406159401\n",
      "Epoch 79 started\n"
     ]
    },
    {
     "name": "stderr",
     "output_type": "stream",
     "text": [
      "Training: 100%|██████████| 65/65 [00:02<00:00, 27.32it/s]\n"
     ]
    },
    {
     "name": "stdout",
     "output_type": "stream",
     "text": [
      "{'prompt': 'Any progress on the PA?', 'response': 'no try for part 4 try for part 5 4 is i think'}\n",
      "========================================================\n",
      "Epoch 79 finished in 0.05 minutes | total_loss = 77.80897757411003\n",
      "Epoch 80 started\n"
     ]
    },
    {
     "name": "stderr",
     "output_type": "stream",
     "text": [
      "Training: 100%|██████████| 65/65 [00:02<00:00, 26.18it/s]\n"
     ]
    },
    {
     "name": "stdout",
     "output_type": "stream",
     "text": [
      "{'prompt': 'Any progress on the PA?', 'response': 'i was just thinking we could okay a okay think it would be a the'}\n",
      "========================================================\n",
      "Epoch 80 finished in 0.05 minutes | total_loss = 77.65867421030998\n",
      "Epoch 81 started\n"
     ]
    },
    {
     "name": "stderr",
     "output_type": "stream",
     "text": [
      "Training: 100%|██████████| 65/65 [00:02<00:00, 27.69it/s]\n"
     ]
    },
    {
     "name": "stdout",
     "output_type": "stream",
     "text": [
      "{'prompt': 'Any progress on the PA?', 'response': 'i think it has no how it okay'}\n",
      "========================================================\n",
      "Epoch 81 finished in 0.05 minutes | total_loss = 77.34224182367325\n",
      "Epoch 82 started\n"
     ]
    },
    {
     "name": "stderr",
     "output_type": "stream",
     "text": [
      "Training: 100%|██████████| 65/65 [00:02<00:00, 26.60it/s]\n"
     ]
    },
    {
     "name": "stdout",
     "output_type": "stream",
     "text": [
      "{'prompt': 'Any progress on the PA?', 'response': 'ok'}\n",
      "========================================================\n",
      "Epoch 82 finished in 0.05 minutes | total_loss = 74.31988084316254\n",
      "Epoch 83 started\n"
     ]
    },
    {
     "name": "stderr",
     "output_type": "stream",
     "text": [
      "Training: 100%|██████████| 65/65 [00:02<00:00, 26.35it/s]\n"
     ]
    },
    {
     "name": "stdout",
     "output_type": "stream",
     "text": [
      "{'prompt': 'Any progress on the PA?', 'response': 'is always'}\n",
      "========================================================\n",
      "Epoch 83 finished in 0.05 minutes | total_loss = 76.23797655105591\n",
      "Epoch 84 started\n"
     ]
    },
    {
     "name": "stderr",
     "output_type": "stream",
     "text": [
      "Training: 100%|██████████| 65/65 [00:02<00:00, 26.37it/s]\n"
     ]
    },
    {
     "name": "stdout",
     "output_type": "stream",
     "text": [
      "{'prompt': 'Any progress on the PA?', 'response': 'wait wait how it is'}\n",
      "========================================================\n",
      "Epoch 84 finished in 0.05 minutes | total_loss = 70.02939873933792\n",
      "Epoch 85 started\n"
     ]
    },
    {
     "name": "stderr",
     "output_type": "stream",
     "text": [
      "Training: 100%|██████████| 65/65 [00:02<00:00, 26.66it/s]\n"
     ]
    },
    {
     "name": "stdout",
     "output_type": "stream",
     "text": [
      "{'prompt': 'Any progress on the PA?', 'response': 'no cell after the i i think it okay'}\n",
      "========================================================\n",
      "Epoch 85 finished in 0.05 minutes | total_loss = 71.59170693159103\n",
      "Epoch 86 started\n"
     ]
    },
    {
     "name": "stderr",
     "output_type": "stream",
     "text": [
      "Training: 100%|██████████| 65/65 [00:02<00:00, 26.50it/s]\n"
     ]
    },
    {
     "name": "stdout",
     "output_type": "stream",
     "text": [
      "{'prompt': 'Any progress on the PA?', 'response': 'i was going to the and get the and get the and get the oh okay'}\n",
      "========================================================\n",
      "Epoch 86 finished in 0.05 minutes | total_loss = 72.00286960601807\n",
      "Epoch 87 started\n"
     ]
    },
    {
     "name": "stderr",
     "output_type": "stream",
     "text": [
      "Training: 100%|██████████| 65/65 [00:02<00:00, 26.71it/s]\n"
     ]
    },
    {
     "name": "stdout",
     "output_type": "stream",
     "text": [
      "{'prompt': 'Any progress on the PA?', 'response': 'how it might be done i okay think this work for the i think this has no sense and the best sense and the same sense and the oh okay'}\n",
      "========================================================\n",
      "Epoch 87 finished in 0.05 minutes | total_loss = 66.14742729067802\n",
      "Epoch 88 started\n"
     ]
    },
    {
     "name": "stderr",
     "output_type": "stream",
     "text": [
      "Training: 100%|██████████| 65/65 [00:02<00:00, 27.57it/s]\n"
     ]
    },
    {
     "name": "stdout",
     "output_type": "stream",
     "text": [
      "{'prompt': 'Any progress on the PA?', 'response': 'yes on the how it oh okay'}\n",
      "========================================================\n",
      "Epoch 88 finished in 0.05 minutes | total_loss = 68.51437294483185\n",
      "Epoch 89 started\n"
     ]
    },
    {
     "name": "stderr",
     "output_type": "stream",
     "text": [
      "Training: 100%|██████████| 65/65 [00:02<00:00, 25.24it/s]\n"
     ]
    },
    {
     "name": "stdout",
     "output_type": "stream",
     "text": [
      "{'prompt': 'Any progress on the PA?', 'response': 'ok'}\n",
      "========================================================\n",
      "Epoch 89 finished in 0.05 minutes | total_loss = 64.98394122719765\n",
      "Epoch 90 started\n"
     ]
    },
    {
     "name": "stderr",
     "output_type": "stream",
     "text": [
      "Training: 100%|██████████| 65/65 [00:02<00:00, 25.66it/s]\n"
     ]
    },
    {
     "name": "stdout",
     "output_type": "stream",
     "text": [
      "{'prompt': 'Any progress on the PA?', 'response': 'no okay how it works for it oh okay'}\n",
      "========================================================\n",
      "Epoch 90 finished in 0.05 minutes | total_loss = 63.357682943344116\n",
      "Epoch 91 started\n"
     ]
    },
    {
     "name": "stderr",
     "output_type": "stream",
     "text": [
      "Training: 100%|██████████| 65/65 [00:02<00:00, 26.86it/s]\n"
     ]
    },
    {
     "name": "stdout",
     "output_type": "stream",
     "text": [
      "{'prompt': 'Any progress on the PA?', 'response': 'is the single state oh'}\n",
      "========================================================\n",
      "Epoch 91 finished in 0.05 minutes | total_loss = 64.19666987657547\n",
      "Epoch 92 started\n"
     ]
    },
    {
     "name": "stderr",
     "output_type": "stream",
     "text": [
      "Training: 100%|██████████| 65/65 [00:02<00:00, 26.42it/s]\n"
     ]
    },
    {
     "name": "stdout",
     "output_type": "stream",
     "text": [
      "{'prompt': 'Any progress on the PA?', 'response': 'is it always'}\n",
      "========================================================\n",
      "Epoch 92 finished in 0.05 minutes | total_loss = 61.131399780511856\n",
      "Epoch 93 started\n"
     ]
    },
    {
     "name": "stderr",
     "output_type": "stream",
     "text": [
      "Training: 100%|██████████| 65/65 [00:02<00:00, 26.67it/s]\n"
     ]
    },
    {
     "name": "stdout",
     "output_type": "stream",
     "text": [
      "{'prompt': 'Any progress on the PA?', 'response': 'i was gonna going to try to proofread the i was going to try to the i was going to try to the i was going to try to the i was going to to try to the'}\n",
      "========================================================\n",
      "Epoch 93 finished in 0.05 minutes | total_loss = 62.0642064511776\n",
      "Epoch 94 started\n"
     ]
    },
    {
     "name": "stderr",
     "output_type": "stream",
     "text": [
      "Training: 100%|██████████| 65/65 [00:02<00:00, 27.35it/s]\n"
     ]
    },
    {
     "name": "stdout",
     "output_type": "stream",
     "text": [
      "{'prompt': 'Any progress on the PA?', 'response': 'ok'}\n",
      "========================================================\n",
      "Epoch 94 finished in 0.05 minutes | total_loss = 62.34192544221878\n",
      "Epoch 95 started\n"
     ]
    },
    {
     "name": "stderr",
     "output_type": "stream",
     "text": [
      "Training: 100%|██████████| 65/65 [00:02<00:00, 27.86it/s]\n"
     ]
    },
    {
     "name": "stdout",
     "output_type": "stream",
     "text": [
      "{'prompt': 'Any progress on the PA?', 'response': 'no no work cell for this work for translation bc u need to proofread work for translation bc u need to get into the lol ya'}\n",
      "========================================================\n",
      "Epoch 95 finished in 0.05 minutes | total_loss = 61.11546218395233\n",
      "Epoch 96 started\n"
     ]
    },
    {
     "name": "stderr",
     "output_type": "stream",
     "text": [
      "Training: 100%|██████████| 65/65 [00:02<00:00, 27.08it/s]\n"
     ]
    },
    {
     "name": "stdout",
     "output_type": "stream",
     "text": [
      "{'prompt': 'Any progress on the PA?', 'response': 'ok'}\n",
      "========================================================\n",
      "Epoch 96 finished in 0.05 minutes | total_loss = 62.90463411808014\n",
      "Epoch 97 started\n"
     ]
    },
    {
     "name": "stderr",
     "output_type": "stream",
     "text": [
      "Training: 100%|██████████| 65/65 [00:02<00:00, 26.36it/s]\n"
     ]
    },
    {
     "name": "stdout",
     "output_type": "stream",
     "text": [
      "{'prompt': 'Any progress on the PA?', 'response': 'how soon do you need to get before you submit? I thought it I thought it be a'}\n",
      "========================================================\n",
      "Epoch 97 finished in 0.05 minutes | total_loss = 56.045414209365845\n",
      "Epoch 98 started\n"
     ]
    },
    {
     "name": "stderr",
     "output_type": "stream",
     "text": [
      "Training: 100%|██████████| 65/65 [00:02<00:00, 26.02it/s]\n"
     ]
    },
    {
     "name": "stdout",
     "output_type": "stream",
     "text": [
      "{'prompt': 'Any progress on the PA?', 'response': 'ok'}\n",
      "========================================================\n",
      "Epoch 98 finished in 0.05 minutes | total_loss = 53.92682082951069\n",
      "Epoch 99 started\n"
     ]
    },
    {
     "name": "stderr",
     "output_type": "stream",
     "text": [
      "Training: 100%|██████████| 65/65 [00:02<00:00, 26.34it/s]\n"
     ]
    },
    {
     "name": "stdout",
     "output_type": "stream",
     "text": [
      "{'prompt': 'Any progress on the PA?', 'response': 'is gonna be okay this for the report i was going to submit the report i think it has huge'}\n",
      "========================================================\n",
      "Epoch 99 finished in 0.05 minutes | total_loss = 57.08599936962128\n",
      "Epoch 100 started\n"
     ]
    },
    {
     "name": "stderr",
     "output_type": "stream",
     "text": [
      "Training: 100%|██████████| 65/65 [00:02<00:00, 26.39it/s]\n"
     ]
    },
    {
     "name": "stdout",
     "output_type": "stream",
     "text": [
      "{'prompt': 'Any progress on the PA?', 'response': 'i was gonna going to do part 4 i was going to part 4 bc i okay was going to part 4 5 i also is going to part 5 bc i also also is going to part 5'}\n",
      "========================================================\n",
      "Epoch 100 finished in 0.05 minutes | total_loss = 53.81529858708382\n",
      "Epoch 101 started\n"
     ]
    },
    {
     "name": "stderr",
     "output_type": "stream",
     "text": [
      "Training: 100%|██████████| 65/65 [00:02<00:00, 26.57it/s]\n"
     ]
    },
    {
     "name": "stdout",
     "output_type": "stream",
     "text": [
      "{'prompt': 'Any progress on the PA?', 'response': 'do you want to set a new branch'}\n",
      "========================================================\n",
      "Epoch 101 finished in 0.05 minutes | total_loss = 53.83520343899727\n",
      "Epoch 102 started\n"
     ]
    },
    {
     "name": "stderr",
     "output_type": "stream",
     "text": [
      "Training: 100%|██████████| 65/65 [00:02<00:00, 26.80it/s]\n"
     ]
    },
    {
     "name": "stdout",
     "output_type": "stream",
     "text": [
      "{'prompt': 'Any progress on the PA?', 'response': 'wait where is the new and the new oh'}\n",
      "========================================================\n",
      "Epoch 102 finished in 0.05 minutes | total_loss = 53.44234837591648\n",
      "Epoch 103 started\n"
     ]
    },
    {
     "name": "stderr",
     "output_type": "stream",
     "text": [
      "Training: 100%|██████████| 65/65 [00:02<00:00, 26.30it/s]\n"
     ]
    },
    {
     "name": "stdout",
     "output_type": "stream",
     "text": [
      "{'prompt': 'Any progress on the PA?', 'response': 'ok'}\n",
      "========================================================\n",
      "Epoch 103 finished in 0.05 minutes | total_loss = 51.988642156124115\n",
      "Epoch 104 started\n"
     ]
    },
    {
     "name": "stderr",
     "output_type": "stream",
     "text": [
      "Training: 100%|██████████| 65/65 [00:02<00:00, 25.66it/s]\n"
     ]
    },
    {
     "name": "stdout",
     "output_type": "stream",
     "text": [
      "{'prompt': 'Any progress on the PA?', 'response': 'ok'}\n",
      "========================================================\n",
      "Epoch 104 finished in 0.06 minutes | total_loss = 50.84401550889015\n",
      "Epoch 105 started\n"
     ]
    },
    {
     "name": "stderr",
     "output_type": "stream",
     "text": [
      "Training: 100%|██████████| 65/65 [00:02<00:00, 26.89it/s]\n"
     ]
    },
    {
     "name": "stdout",
     "output_type": "stream",
     "text": [
      "{'prompt': 'Any progress on the PA?', 'response': 'no cell state oh okay'}\n",
      "========================================================\n",
      "Epoch 105 finished in 0.05 minutes | total_loss = 51.94679370522499\n",
      "Epoch 106 started\n"
     ]
    },
    {
     "name": "stderr",
     "output_type": "stream",
     "text": [
      "Training: 100%|██████████| 65/65 [00:02<00:00, 27.85it/s]\n"
     ]
    },
    {
     "name": "stdout",
     "output_type": "stream",
     "text": [
      "{'prompt': 'Any progress on the PA?', 'response': 'how it might be in the think so for the report oh'}\n",
      "========================================================\n",
      "Epoch 106 finished in 0.05 minutes | total_loss = 49.68545043468475\n",
      "Epoch 107 started\n"
     ]
    },
    {
     "name": "stderr",
     "output_type": "stream",
     "text": [
      "Training: 100%|██████████| 65/65 [00:02<00:00, 27.68it/s]\n"
     ]
    },
    {
     "name": "stdout",
     "output_type": "stream",
     "text": [
      "{'prompt': 'Any progress on the PA?', 'response': 'how soon do you need to get'}\n",
      "========================================================\n",
      "Epoch 107 finished in 0.05 minutes | total_loss = 49.379703879356384\n",
      "Epoch 108 started\n"
     ]
    },
    {
     "name": "stderr",
     "output_type": "stream",
     "text": [
      "Training: 100%|██████████| 65/65 [00:02<00:00, 27.68it/s]\n"
     ]
    },
    {
     "name": "stdout",
     "output_type": "stream",
     "text": [
      "{'prompt': 'Any progress on the PA?', 'response': 'ok'}\n",
      "========================================================\n",
      "Epoch 108 finished in 0.05 minutes | total_loss = 49.171678215265274\n",
      "Epoch 109 started\n"
     ]
    },
    {
     "name": "stderr",
     "output_type": "stream",
     "text": [
      "Training: 100%|██████████| 65/65 [00:02<00:00, 26.68it/s]\n"
     ]
    },
    {
     "name": "stdout",
     "output_type": "stream",
     "text": [
      "{'prompt': 'Any progress on the PA?', 'response': 'I still kinda this state is about the notebook model 4 I still have'}\n",
      "========================================================\n",
      "Epoch 109 finished in 0.05 minutes | total_loss = 47.622946470975876\n",
      "Epoch 110 started\n"
     ]
    },
    {
     "name": "stderr",
     "output_type": "stream",
     "text": [
      "Training: 100%|██████████| 65/65 [00:02<00:00, 27.14it/s]\n"
     ]
    },
    {
     "name": "stdout",
     "output_type": "stream",
     "text": [
      "{'prompt': 'Any progress on the PA?', 'response': 'no sense that would work? be a new'}\n",
      "========================================================\n",
      "Epoch 110 finished in 0.05 minutes | total_loss = 47.56606085598469\n",
      "Epoch 111 started\n"
     ]
    },
    {
     "name": "stderr",
     "output_type": "stream",
     "text": [
      "Training: 100%|██████████| 65/65 [00:02<00:00, 27.72it/s]\n"
     ]
    },
    {
     "name": "stdout",
     "output_type": "stream",
     "text": [
      "{'prompt': 'Any progress on the PA?', 'response': 'no idea how it knows tho'}\n",
      "========================================================\n",
      "Epoch 111 finished in 0.05 minutes | total_loss = 45.43572363257408\n",
      "Epoch 112 started\n"
     ]
    },
    {
     "name": "stderr",
     "output_type": "stream",
     "text": [
      "Training: 100%|██████████| 65/65 [00:02<00:00, 24.49it/s]\n"
     ]
    },
    {
     "name": "stdout",
     "output_type": "stream",
     "text": [
      "{'prompt': 'Any progress on the PA?', 'response': 'no changes on the i proofread think so'}\n",
      "========================================================\n",
      "Epoch 112 finished in 0.06 minutes | total_loss = 44.885655120015144\n",
      "Epoch 113 started\n"
     ]
    },
    {
     "name": "stderr",
     "output_type": "stream",
     "text": [
      "Training: 100%|██████████| 65/65 [00:02<00:00, 26.98it/s]\n"
     ]
    },
    {
     "name": "stdout",
     "output_type": "stream",
     "text": [
      "{'prompt': 'Any progress on the PA?', 'response': 'is it that it knows has no sense and the best sense that it be proofread'}\n",
      "========================================================\n",
      "Epoch 113 finished in 0.05 minutes | total_loss = 44.41744112968445\n",
      "Epoch 114 started\n"
     ]
    },
    {
     "name": "stderr",
     "output_type": "stream",
     "text": [
      "Training: 100%|██████████| 65/65 [00:02<00:00, 27.50it/s]\n"
     ]
    },
    {
     "name": "stdout",
     "output_type": "stream",
     "text": [
      "{'prompt': 'Any progress on the PA?', 'response': 'no how it knows tho'}\n",
      "========================================================\n",
      "Epoch 114 finished in 0.05 minutes | total_loss = 45.38873142004013\n",
      "Epoch 115 started\n"
     ]
    },
    {
     "name": "stderr",
     "output_type": "stream",
     "text": [
      "Training: 100%|██████████| 65/65 [00:02<00:00, 26.86it/s]\n"
     ]
    },
    {
     "name": "stdout",
     "output_type": "stream",
     "text": [
      "{'prompt': 'Any progress on the PA?', 'response': 'is gonna the final'}\n",
      "========================================================\n",
      "Epoch 115 finished in 0.05 minutes | total_loss = 45.3053335249424\n",
      "Epoch 116 started\n"
     ]
    },
    {
     "name": "stderr",
     "output_type": "stream",
     "text": [
      "Training: 100%|██████████| 65/65 [00:02<00:00, 26.93it/s]\n"
     ]
    },
    {
     "name": "stdout",
     "output_type": "stream",
     "text": [
      "{'prompt': 'Any progress on the PA?', 'response': 'oh okay'}\n",
      "========================================================\n",
      "Epoch 116 finished in 0.05 minutes | total_loss = 42.66597302258015\n",
      "Epoch 117 started\n"
     ]
    },
    {
     "name": "stderr",
     "output_type": "stream",
     "text": [
      "Training: 100%|██████████| 65/65 [00:02<00:00, 27.41it/s]\n"
     ]
    },
    {
     "name": "stdout",
     "output_type": "stream",
     "text": [
      "{'prompt': 'Any progress on the PA?', 'response': 'is it always 30?'}\n",
      "========================================================\n",
      "Epoch 117 finished in 0.05 minutes | total_loss = 45.43449145555496\n",
      "Epoch 118 started\n"
     ]
    },
    {
     "name": "stderr",
     "output_type": "stream",
     "text": [
      "Training: 100%|██████████| 65/65 [00:02<00:00, 26.78it/s]\n"
     ]
    },
    {
     "name": "stdout",
     "output_type": "stream",
     "text": [
      "{'prompt': 'Any progress on the PA?', 'response': 'no cell state ok'}\n",
      "========================================================\n",
      "Epoch 118 finished in 0.05 minutes | total_loss = 44.08918231725693\n",
      "Epoch 119 started\n"
     ]
    },
    {
     "name": "stderr",
     "output_type": "stream",
     "text": [
      "Training: 100%|██████████| 65/65 [00:02<00:00, 26.87it/s]\n"
     ]
    },
    {
     "name": "stdout",
     "output_type": "stream",
     "text": [
      "{'prompt': 'Any progress on the PA?', 'response': 'I still need to specify the same for the i was gonna going to submit the final i I still need to be'}\n",
      "========================================================\n",
      "Epoch 119 finished in 0.05 minutes | total_loss = 40.23826062679291\n",
      "Epoch 120 started\n"
     ]
    },
    {
     "name": "stderr",
     "output_type": "stream",
     "text": [
      "Training: 100%|██████████| 65/65 [00:02<00:00, 26.92it/s]\n"
     ]
    },
    {
     "name": "stdout",
     "output_type": "stream",
     "text": [
      "{'prompt': 'Any progress on the PA?', 'response': 'ok'}\n",
      "========================================================\n",
      "Epoch 120 finished in 0.05 minutes | total_loss = 39.43935842812061\n",
      "Epoch 121 started\n"
     ]
    },
    {
     "name": "stderr",
     "output_type": "stream",
     "text": [
      "Training: 100%|██████████| 65/65 [00:02<00:00, 27.08it/s]\n"
     ]
    },
    {
     "name": "stdout",
     "output_type": "stream",
     "text": [
      "{'prompt': 'Any progress on the PA?', 'response': 'sure'}\n",
      "========================================================\n",
      "Epoch 121 finished in 0.05 minutes | total_loss = 40.60566267371178\n",
      "Epoch 122 started\n"
     ]
    },
    {
     "name": "stderr",
     "output_type": "stream",
     "text": [
      "Training: 100%|██████████| 65/65 [00:02<00:00, 26.90it/s]\n"
     ]
    },
    {
     "name": "stdout",
     "output_type": "stream",
     "text": [
      "{'prompt': 'Any progress on the PA?', 'response': 'do you have anything to add to the i was gonna going to get'}\n",
      "========================================================\n",
      "Epoch 122 finished in 0.05 minutes | total_loss = 38.38971504569054\n",
      "Epoch 123 started\n"
     ]
    },
    {
     "name": "stderr",
     "output_type": "stream",
     "text": [
      "Training: 100%|██████████| 65/65 [00:02<00:00, 25.56it/s]\n"
     ]
    },
    {
     "name": "stdout",
     "output_type": "stream",
     "text": [
      "{'prompt': 'Any progress on the PA?', 'response': 'ok'}\n",
      "========================================================\n",
      "Epoch 123 finished in 0.05 minutes | total_loss = 37.70833836495876\n",
      "Epoch 124 started\n"
     ]
    },
    {
     "name": "stderr",
     "output_type": "stream",
     "text": [
      "Training: 100%|██████████| 65/65 [00:02<00:00, 27.55it/s]\n"
     ]
    },
    {
     "name": "stdout",
     "output_type": "stream",
     "text": [
      "{'prompt': 'Any progress on the PA?', 'response': 'ok'}\n",
      "========================================================\n",
      "Epoch 124 finished in 0.05 minutes | total_loss = 38.33452935516834\n",
      "Epoch 125 started\n"
     ]
    },
    {
     "name": "stderr",
     "output_type": "stream",
     "text": [
      "Training: 100%|██████████| 65/65 [00:02<00:00, 25.88it/s]\n"
     ]
    },
    {
     "name": "stdout",
     "output_type": "stream",
     "text": [
      "{'prompt': 'Any progress on the PA?', 'response': 'i was gonna til 9-9:15😬 was the i jonathan was going to go go to the i dont for the final'}\n",
      "========================================================\n",
      "Epoch 125 finished in 0.05 minutes | total_loss = 39.44226232171059\n",
      "Epoch 126 started\n"
     ]
    },
    {
     "name": "stderr",
     "output_type": "stream",
     "text": [
      "Training: 100%|██████████| 65/65 [00:02<00:00, 26.48it/s]\n"
     ]
    },
    {
     "name": "stdout",
     "output_type": "stream",
     "text": [
      "{'prompt': 'Any progress on the PA?', 'response': 'yes but one of the GANs is reversed. the'}\n",
      "========================================================\n",
      "Epoch 126 finished in 0.05 minutes | total_loss = 41.838663816452026\n",
      "Epoch 127 started\n"
     ]
    },
    {
     "name": "stderr",
     "output_type": "stream",
     "text": [
      "Training: 100%|██████████| 65/65 [00:02<00:00, 27.64it/s]\n"
     ]
    },
    {
     "name": "stdout",
     "output_type": "stream",
     "text": [
      "{'prompt': 'Any progress on the PA?', 'response': 'the report oh okay'}\n",
      "========================================================\n",
      "Epoch 127 finished in 0.05 minutes | total_loss = 36.95232740044594\n",
      "Epoch 128 started\n"
     ]
    },
    {
     "name": "stderr",
     "output_type": "stream",
     "text": [
      "Training: 100%|██████████| 65/65 [00:02<00:00, 27.67it/s]\n"
     ]
    },
    {
     "name": "stdout",
     "output_type": "stream",
     "text": [
      "{'prompt': 'Any progress on the PA?', 'response': 'is it that the report oh okay'}\n",
      "========================================================\n",
      "Epoch 128 finished in 0.05 minutes | total_loss = 37.111991122365\n",
      "Epoch 129 started\n"
     ]
    },
    {
     "name": "stderr",
     "output_type": "stream",
     "text": [
      "Training: 100%|██████████| 65/65 [00:02<00:00, 27.64it/s]\n"
     ]
    },
    {
     "name": "stdout",
     "output_type": "stream",
     "text": [
      "{'prompt': 'Any progress on the PA?', 'response': 'yes true oop wait where is the repo for the most of the data at? cool'}\n",
      "========================================================\n",
      "Epoch 129 finished in 0.05 minutes | total_loss = 35.51811292767525\n",
      "Epoch 130 started\n"
     ]
    },
    {
     "name": "stderr",
     "output_type": "stream",
     "text": [
      "Training: 100%|██████████| 65/65 [00:02<00:00, 27.85it/s]\n"
     ]
    },
    {
     "name": "stdout",
     "output_type": "stream",
     "text": [
      "{'prompt': 'Any progress on the PA?', 'response': 'yes true or no for table 1 in table 4 no how it knows'}\n",
      "========================================================\n",
      "Epoch 130 finished in 0.05 minutes | total_loss = 39.034176766872406\n",
      "Epoch 131 started\n"
     ]
    },
    {
     "name": "stderr",
     "output_type": "stream",
     "text": [
      "Training: 100%|██████████| 65/65 [00:02<00:00, 26.62it/s]\n"
     ]
    },
    {
     "name": "stdout",
     "output_type": "stream",
     "text": [
      "{'prompt': 'Any progress on the PA?', 'response': 'is an error that the prompt is getting earlier is reversed. the most of the and the final'}\n",
      "========================================================\n",
      "Epoch 131 finished in 0.05 minutes | total_loss = 38.13788640499115\n",
      "Epoch 132 started\n"
     ]
    },
    {
     "name": "stderr",
     "output_type": "stream",
     "text": [
      "Training: 100%|██████████| 65/65 [00:02<00:00, 26.96it/s]\n"
     ]
    },
    {
     "name": "stdout",
     "output_type": "stream",
     "text": [
      "{'prompt': 'Any progress on the PA?', 'response': 'is it always 30?'}\n",
      "========================================================\n",
      "Epoch 132 finished in 0.05 minutes | total_loss = 33.224631667137146\n",
      "Epoch 133 started\n"
     ]
    },
    {
     "name": "stderr",
     "output_type": "stream",
     "text": [
      "Training: 100%|██████████| 65/65 [00:02<00:00, 24.37it/s]\n"
     ]
    },
    {
     "name": "stdout",
     "output_type": "stream",
     "text": [
      "{'prompt': 'Any progress on the PA?', 'response': 'is reversed. no idea how it knows tho oh okay'}\n",
      "========================================================\n",
      "Epoch 133 finished in 0.06 minutes | total_loss = 35.319767504930496\n",
      "Epoch 134 started\n"
     ]
    },
    {
     "name": "stderr",
     "output_type": "stream",
     "text": [
      "Training: 100%|██████████| 65/65 [00:02<00:00, 26.45it/s]\n"
     ]
    },
    {
     "name": "stdout",
     "output_type": "stream",
     "text": [
      "{'prompt': 'Any progress on the PA?', 'response': 'ok'}\n",
      "========================================================\n",
      "Epoch 134 finished in 0.05 minutes | total_loss = 34.095930233597755\n",
      "Epoch 135 started\n"
     ]
    },
    {
     "name": "stderr",
     "output_type": "stream",
     "text": [
      "Training: 100%|██████████| 65/65 [00:02<00:00, 27.80it/s]\n"
     ]
    },
    {
     "name": "stdout",
     "output_type": "stream",
     "text": [
      "{'prompt': 'Any progress on the PA?', 'response': 'i was gonna go into the notebook and get the right hand of the Data Cleaning'}\n",
      "========================================================\n",
      "Epoch 135 finished in 0.05 minutes | total_loss = 36.158791556954384\n",
      "Epoch 136 started\n"
     ]
    },
    {
     "name": "stderr",
     "output_type": "stream",
     "text": [
      "Training: 100%|██████████| 65/65 [00:02<00:00, 27.23it/s]\n"
     ]
    },
    {
     "name": "stdout",
     "output_type": "stream",
     "text": [
      "{'prompt': 'Any progress on the PA?', 'response': 'is it that the data Cleaning'}\n",
      "========================================================\n",
      "Epoch 136 finished in 0.05 minutes | total_loss = 30.732626914978027\n",
      "Epoch 137 started\n"
     ]
    },
    {
     "name": "stderr",
     "output_type": "stream",
     "text": [
      "Training: 100%|██████████| 65/65 [00:02<00:00, 27.67it/s]\n"
     ]
    },
    {
     "name": "stdout",
     "output_type": "stream",
     "text": [
      "{'prompt': 'Any progress on the PA?', 'response': 'i was just thinking we could finetune a gpt model like to our model like to our model is reversed. the same that is the notebook'}\n",
      "========================================================\n",
      "Epoch 137 finished in 0.05 minutes | total_loss = 33.55832099914551\n",
      "Epoch 138 started\n"
     ]
    },
    {
     "name": "stderr",
     "output_type": "stream",
     "text": [
      "Training: 100%|██████████| 65/65 [00:02<00:00, 27.29it/s]\n"
     ]
    },
    {
     "name": "stdout",
     "output_type": "stream",
     "text": [
      "{'prompt': 'Any progress on the PA?', 'response': 'i was just thinking we could finetune a gpt model like this lol lol im getting a new error after using the model for the new lol im getting a new error after using the model for new lol im'}\n",
      "========================================================\n",
      "Epoch 138 finished in 0.05 minutes | total_loss = 32.20814824104309\n",
      "Epoch 139 started\n"
     ]
    },
    {
     "name": "stderr",
     "output_type": "stream",
     "text": [
      "Training: 100%|██████████| 65/65 [00:02<00:00, 26.75it/s]\n"
     ]
    },
    {
     "name": "stdout",
     "output_type": "stream",
     "text": [
      "{'prompt': 'Any progress on the PA?', 'response': 'no work it knows'}\n",
      "========================================================\n",
      "Epoch 139 finished in 0.05 minutes | total_loss = 34.76180770993233\n",
      "Epoch 140 started\n"
     ]
    },
    {
     "name": "stderr",
     "output_type": "stream",
     "text": [
      "Training: 100%|██████████| 65/65 [00:02<00:00, 27.63it/s]\n"
     ]
    },
    {
     "name": "stdout",
     "output_type": "stream",
     "text": [
      "{'prompt': 'Any progress on the PA?', 'response': 'is reversed. the notebook and the report for the notebook'}\n",
      "========================================================\n",
      "Epoch 140 finished in 0.05 minutes | total_loss = 33.06084328889847\n",
      "Epoch 141 started\n"
     ]
    },
    {
     "name": "stderr",
     "output_type": "stream",
     "text": [
      "Training: 100%|██████████| 65/65 [00:02<00:00, 27.08it/s]\n"
     ]
    },
    {
     "name": "stdout",
     "output_type": "stream",
     "text": [
      "{'prompt': 'Any progress on the PA?', 'response': 'yes true or not true or the bottom is the start, and the from the bottom up the up'}\n",
      "========================================================\n",
      "Epoch 141 finished in 0.05 minutes | total_loss = 31.067831933498383\n",
      "Epoch 142 started\n"
     ]
    },
    {
     "name": "stderr",
     "output_type": "stream",
     "text": [
      "Training: 100%|██████████| 65/65 [00:02<00:00, 27.42it/s]\n"
     ]
    },
    {
     "name": "stdout",
     "output_type": "stream",
     "text": [
      "{'prompt': 'Any progress on the PA?', 'response': 'i was gonna go into the notebook and get the and the go into the go into the and the go into the the go and the be into the go and the go into the and the go into'}\n",
      "========================================================\n",
      "Epoch 142 finished in 0.05 minutes | total_loss = 30.396276533603668\n",
      "Epoch 143 started\n"
     ]
    },
    {
     "name": "stderr",
     "output_type": "stream",
     "text": [
      "Training: 100%|██████████| 65/65 [00:02<00:00, 24.98it/s]\n"
     ]
    },
    {
     "name": "stdout",
     "output_type": "stream",
     "text": [
      "{'prompt': 'Any progress on the PA?', 'response': 'is it always 30?'}\n",
      "========================================================\n",
      "Epoch 143 finished in 0.06 minutes | total_loss = 31.20644098520279\n",
      "Epoch 144 started\n"
     ]
    },
    {
     "name": "stderr",
     "output_type": "stream",
     "text": [
      "Training: 100%|██████████| 65/65 [00:02<00:00, 26.29it/s]\n"
     ]
    },
    {
     "name": "stdout",
     "output_type": "stream",
     "text": [
      "{'prompt': 'Any progress on the PA?', 'response': 'would 9:15 i was gonna getting the same error that jonathan got and you were getting earlier'}\n",
      "========================================================\n",
      "Epoch 144 finished in 0.05 minutes | total_loss = 32.57942509651184\n",
      "Epoch 145 started\n"
     ]
    },
    {
     "name": "stderr",
     "output_type": "stream",
     "text": [
      "Training: 100%|██████████| 65/65 [00:02<00:00, 27.74it/s]\n"
     ]
    },
    {
     "name": "stdout",
     "output_type": "stream",
     "text": [
      "{'prompt': 'Any progress on the PA?', 'response': 'no idea how it knows tho tho'}\n",
      "========================================================\n",
      "Epoch 145 finished in 0.05 minutes | total_loss = 29.166564777493477\n",
      "Epoch 146 started\n"
     ]
    },
    {
     "name": "stderr",
     "output_type": "stream",
     "text": [
      "Training: 100%|██████████| 65/65 [00:02<00:00, 27.22it/s]\n"
     ]
    },
    {
     "name": "stdout",
     "output_type": "stream",
     "text": [
      "{'prompt': 'Any progress on the PA?', 'response': 'no sense for the no sense for the final part 4 I still need to get added?'}\n",
      "========================================================\n",
      "Epoch 146 finished in 0.05 minutes | total_loss = 31.311774656176567\n",
      "Epoch 147 started\n"
     ]
    },
    {
     "name": "stderr",
     "output_type": "stream",
     "text": [
      "Training: 100%|██████████| 65/65 [00:02<00:00, 25.37it/s]\n"
     ]
    },
    {
     "name": "stdout",
     "output_type": "stream",
     "text": [
      "{'prompt': 'Any progress on the PA?', 'response': 'is reversed. the prompt state = cell state?'}\n",
      "========================================================\n",
      "Epoch 147 finished in 0.06 minutes | total_loss = 29.041836738586426\n",
      "Epoch 148 started\n"
     ]
    },
    {
     "name": "stderr",
     "output_type": "stream",
     "text": [
      "Training: 100%|██████████| 65/65 [00:02<00:00, 27.61it/s]\n"
     ]
    },
    {
     "name": "stdout",
     "output_type": "stream",
     "text": [
      "{'prompt': 'Any progress on the PA?', 'response': 'is it always 30? no sense and how we train our baseline bert for this round. cool cool i dont cool'}\n",
      "========================================================\n",
      "Epoch 148 finished in 0.05 minutes | total_loss = 29.48616287112236\n",
      "Epoch 149 started\n"
     ]
    },
    {
     "name": "stderr",
     "output_type": "stream",
     "text": [
      "Training: 100%|██████████| 65/65 [00:02<00:00, 27.71it/s]\n"
     ]
    },
    {
     "name": "stdout",
     "output_type": "stream",
     "text": [
      "{'prompt': 'Any progress on the PA?', 'response': 'would 9:15 like to proofread the environment and start with a naive version without considering the same environment and the version oh okay'}\n",
      "========================================================\n",
      "Epoch 149 finished in 0.05 minutes | total_loss = 30.771612241864204\n",
      "Epoch 150 started\n"
     ]
    },
    {
     "name": "stderr",
     "output_type": "stream",
     "text": [
      "Training: 100%|██████████| 65/65 [00:02<00:00, 25.99it/s]\n"
     ]
    },
    {
     "name": "stdout",
     "output_type": "stream",
     "text": [
      "{'prompt': 'Any progress on the PA?', 'response': 'is it always 30?'}\n",
      "========================================================\n",
      "Epoch 150 finished in 0.05 minutes | total_loss = 31.643681839108467\n",
      "Epoch 151 started\n"
     ]
    },
    {
     "name": "stderr",
     "output_type": "stream",
     "text": [
      "Training: 100%|██████████| 65/65 [00:02<00:00, 27.43it/s]\n"
     ]
    },
    {
     "name": "stdout",
     "output_type": "stream",
     "text": [
      "{'prompt': 'Any progress on the PA?', 'response': 'ok'}\n",
      "========================================================\n",
      "Epoch 151 finished in 0.05 minutes | total_loss = 28.299561887979507\n",
      "Epoch 152 started\n"
     ]
    },
    {
     "name": "stderr",
     "output_type": "stream",
     "text": [
      "Training: 100%|██████████| 65/65 [00:02<00:00, 27.19it/s]\n"
     ]
    },
    {
     "name": "stdout",
     "output_type": "stream",
     "text": [
      "{'prompt': 'Any progress on the PA?', 'response': 'do you have the conversation notebook'}\n",
      "========================================================\n",
      "Epoch 152 finished in 0.05 minutes | total_loss = 28.059002161026\n",
      "Epoch 153 started\n"
     ]
    },
    {
     "name": "stderr",
     "output_type": "stream",
     "text": [
      "Training: 100%|██████████| 65/65 [00:02<00:00, 27.43it/s]\n"
     ]
    },
    {
     "name": "stdout",
     "output_type": "stream",
     "text": [
      "{'prompt': 'Any progress on the PA?', 'response': 'I still need to get added? i still is reversed. it'}\n",
      "========================================================\n",
      "Epoch 153 finished in 0.05 minutes | total_loss = 28.28746323287487\n",
      "Epoch 154 started\n"
     ]
    },
    {
     "name": "stderr",
     "output_type": "stream",
     "text": [
      "Training: 100%|██████████| 65/65 [00:02<00:00, 27.70it/s]\n"
     ]
    },
    {
     "name": "stdout",
     "output_type": "stream",
     "text": [
      "{'prompt': 'Any progress on the PA?', 'response': 'ok'}\n",
      "========================================================\n",
      "Epoch 154 finished in 0.05 minutes | total_loss = 27.305360421538353\n",
      "Epoch 155 started\n"
     ]
    },
    {
     "name": "stderr",
     "output_type": "stream",
     "text": [
      "Training: 100%|██████████| 65/65 [00:02<00:00, 27.67it/s]\n"
     ]
    },
    {
     "name": "stdout",
     "output_type": "stream",
     "text": [
      "{'prompt': 'Any progress on the PA?', 'response': \"how soon do you need to get the added? I also haven't\"}\n",
      "========================================================\n",
      "Epoch 155 finished in 0.05 minutes | total_loss = 26.582947820425034\n",
      "Epoch 156 started\n"
     ]
    },
    {
     "name": "stderr",
     "output_type": "stream",
     "text": [
      "Training: 100%|██████████| 65/65 [00:02<00:00, 26.51it/s]\n"
     ]
    },
    {
     "name": "stdout",
     "output_type": "stream",
     "text": [
      "{'prompt': 'Any progress on the PA?', 'response': 'is it always 30?'}\n",
      "========================================================\n",
      "Epoch 156 finished in 0.05 minutes | total_loss = 26.840948417782784\n",
      "Epoch 157 started\n"
     ]
    },
    {
     "name": "stderr",
     "output_type": "stream",
     "text": [
      "Training: 100%|██████████| 65/65 [00:02<00:00, 26.65it/s]\n"
     ]
    },
    {
     "name": "stdout",
     "output_type": "stream",
     "text": [
      "{'prompt': 'Any progress on the PA?', 'response': 'is reversed. an email from Ester for the invitation? i dont think this has huge potential 😂😂 hi'}\n",
      "========================================================\n",
      "Epoch 157 finished in 0.05 minutes | total_loss = 27.632719926536083\n",
      "Epoch 158 started\n"
     ]
    },
    {
     "name": "stderr",
     "output_type": "stream",
     "text": [
      "Training: 100%|██████████| 65/65 [00:02<00:00, 27.80it/s]\n"
     ]
    },
    {
     "name": "stdout",
     "output_type": "stream",
     "text": [
      "{'prompt': 'Any progress on the PA?', 'response': 'is inviting going to submit the i dont for the report'}\n",
      "========================================================\n",
      "Epoch 158 finished in 0.05 minutes | total_loss = 29.31970226764679\n",
      "Epoch 159 started\n"
     ]
    },
    {
     "name": "stderr",
     "output_type": "stream",
     "text": [
      "Training: 100%|██████████| 65/65 [00:02<00:00, 27.44it/s]\n"
     ]
    },
    {
     "name": "stdout",
     "output_type": "stream",
     "text": [
      "{'prompt': 'Any progress on the PA?', 'response': 'would anyone work? work? think so'}\n",
      "========================================================\n",
      "Epoch 159 finished in 0.05 minutes | total_loss = 35.75193156301975\n",
      "Epoch 160 started\n"
     ]
    },
    {
     "name": "stderr",
     "output_type": "stream",
     "text": [
      "Training: 100%|██████████| 65/65 [00:02<00:00, 25.90it/s]\n"
     ]
    },
    {
     "name": "stdout",
     "output_type": "stream",
     "text": [
      "{'prompt': 'Any progress on the PA?', 'response': 'is it always 30?'}\n",
      "========================================================\n",
      "Epoch 160 finished in 0.05 minutes | total_loss = 27.266303434967995\n",
      "Epoch 161 started\n"
     ]
    },
    {
     "name": "stderr",
     "output_type": "stream",
     "text": [
      "Training: 100%|██████████| 65/65 [00:02<00:00, 26.35it/s]\n"
     ]
    },
    {
     "name": "stdout",
     "output_type": "stream",
     "text": [
      "{'prompt': 'Any progress on the PA?', 'response': 'is it always 30?'}\n",
      "========================================================\n",
      "Epoch 161 finished in 0.05 minutes | total_loss = 24.42592529952526\n",
      "Epoch 162 started\n"
     ]
    },
    {
     "name": "stderr",
     "output_type": "stream",
     "text": [
      "Training: 100%|██████████| 65/65 [00:02<00:00, 25.72it/s]\n"
     ]
    },
    {
     "name": "stdout",
     "output_type": "stream",
     "text": [
      "{'prompt': 'Any progress on the PA?', 'response': 'no cell state oh okay'}\n",
      "========================================================\n",
      "Epoch 162 finished in 0.05 minutes | total_loss = 27.245058476924896\n",
      "Epoch 163 started\n"
     ]
    },
    {
     "name": "stderr",
     "output_type": "stream",
     "text": [
      "Training: 100%|██████████| 65/65 [00:02<00:00, 27.57it/s]\n"
     ]
    },
    {
     "name": "stdout",
     "output_type": "stream",
     "text": [
      "{'prompt': 'Any progress on the PA?', 'response': 'i was gonna go into the notebook and get the right data oh okay'}\n",
      "========================================================\n",
      "Epoch 163 finished in 0.05 minutes | total_loss = 23.626707434654236\n",
      "Epoch 164 started\n"
     ]
    },
    {
     "name": "stderr",
     "output_type": "stream",
     "text": [
      "Training: 100%|██████████| 65/65 [00:02<00:00, 26.46it/s]\n"
     ]
    },
    {
     "name": "stdout",
     "output_type": "stream",
     "text": [
      "{'prompt': 'Any progress on the PA?', 'response': 'would 9:15 work? like to get added? I still need to get the for the bottom up on the'}\n",
      "========================================================\n",
      "Epoch 164 finished in 0.05 minutes | total_loss = 24.847815185785294\n",
      "Epoch 165 started\n"
     ]
    },
    {
     "name": "stderr",
     "output_type": "stream",
     "text": [
      "Training: 100%|██████████| 65/65 [00:02<00:00, 27.64it/s]\n"
     ]
    },
    {
     "name": "stdout",
     "output_type": "stream",
     "text": [
      "{'prompt': 'Any progress on the PA?', 'response': 'no idea how it knows tho'}\n",
      "========================================================\n",
      "Epoch 165 finished in 0.05 minutes | total_loss = 22.97076328098774\n",
      "Epoch 166 started\n"
     ]
    },
    {
     "name": "stderr",
     "output_type": "stream",
     "text": [
      "Training: 100%|██████████| 65/65 [00:02<00:00, 27.00it/s]\n"
     ]
    },
    {
     "name": "stdout",
     "output_type": "stream",
     "text": [
      "{'prompt': 'Any progress on the PA?', 'response': 'ok'}\n",
      "========================================================\n",
      "Epoch 166 finished in 0.05 minutes | total_loss = 24.68951742351055\n",
      "Epoch 167 started\n"
     ]
    },
    {
     "name": "stderr",
     "output_type": "stream",
     "text": [
      "Training: 100%|██████████| 65/65 [00:02<00:00, 26.41it/s]\n"
     ]
    },
    {
     "name": "stdout",
     "output_type": "stream",
     "text": [
      "{'prompt': 'Any progress on the PA?', 'response': 'do we need to describe and our single branch? I still need to get added?'}\n",
      "========================================================\n",
      "Epoch 167 finished in 0.05 minutes | total_loss = 23.66404540836811\n",
      "Epoch 168 started\n"
     ]
    },
    {
     "name": "stderr",
     "output_type": "stream",
     "text": [
      "Training: 100%|██████████| 65/65 [00:02<00:00, 26.18it/s]\n"
     ]
    },
    {
     "name": "stdout",
     "output_type": "stream",
     "text": [
      "{'prompt': 'Any progress on the PA?', 'response': 'ok'}\n",
      "========================================================\n",
      "Epoch 168 finished in 0.05 minutes | total_loss = 24.18239377439022\n",
      "Epoch 169 started\n"
     ]
    },
    {
     "name": "stderr",
     "output_type": "stream",
     "text": [
      "Training: 100%|██████████| 65/65 [00:02<00:00, 27.48it/s]\n"
     ]
    },
    {
     "name": "stdout",
     "output_type": "stream",
     "text": [
      "{'prompt': 'Any progress on the PA?', 'response': 'how it knows tho is it be tbh for the PA no part 4 or 5 also'}\n",
      "========================================================\n",
      "Epoch 169 finished in 0.05 minutes | total_loss = 24.507935881614685\n",
      "Epoch 170 started\n"
     ]
    },
    {
     "name": "stderr",
     "output_type": "stream",
     "text": [
      "Training: 100%|██████████| 65/65 [00:02<00:00, 25.48it/s]\n"
     ]
    },
    {
     "name": "stdout",
     "output_type": "stream",
     "text": [
      "{'prompt': 'Any progress on the PA?', 'response': 'is it has no sense and the best sense that the best sense that the conversation best sense for the best sense that the best sense for the best sense is reversed. the notebook'}\n",
      "========================================================\n",
      "Epoch 170 finished in 0.05 minutes | total_loss = 22.93016767501831\n",
      "Epoch 171 started\n"
     ]
    },
    {
     "name": "stderr",
     "output_type": "stream",
     "text": [
      "Training: 100%|██████████| 65/65 [00:02<00:00, 26.33it/s]\n"
     ]
    },
    {
     "name": "stdout",
     "output_type": "stream",
     "text": [
      "{'prompt': 'Any progress on the PA?', 'response': 'no idea how it knows tho tho'}\n",
      "========================================================\n",
      "Epoch 171 finished in 0.05 minutes | total_loss = 24.552181467413902\n",
      "Epoch 172 started\n"
     ]
    },
    {
     "name": "stderr",
     "output_type": "stream",
     "text": [
      "Training: 100%|██████████| 65/65 [00:02<00:00, 26.70it/s]\n"
     ]
    },
    {
     "name": "stdout",
     "output_type": "stream",
     "text": [
      "{'prompt': 'Any progress on the PA?', 'response': 'ok'}\n",
      "========================================================\n",
      "Epoch 172 finished in 0.05 minutes | total_loss = 24.239913314580917\n",
      "Epoch 173 started\n"
     ]
    },
    {
     "name": "stderr",
     "output_type": "stream",
     "text": [
      "Training: 100%|██████████| 65/65 [00:02<00:00, 26.78it/s]\n"
     ]
    },
    {
     "name": "stdout",
     "output_type": "stream",
     "text": [
      "{'prompt': 'Any progress on the PA?', 'response': 'would anyone be going til 9-9:15😬 would 9:15'}\n",
      "========================================================\n",
      "Epoch 173 finished in 0.05 minutes | total_loss = 23.730394825339317\n",
      "Epoch 174 started\n"
     ]
    },
    {
     "name": "stderr",
     "output_type": "stream",
     "text": [
      "Training: 100%|██████████| 65/65 [00:02<00:00, 26.57it/s]\n"
     ]
    },
    {
     "name": "stdout",
     "output_type": "stream",
     "text": [
      "{'prompt': 'Any progress on the PA?', 'response': 'til 9-9:15😬 til you aren’t the final'}\n",
      "========================================================\n",
      "Epoch 174 finished in 0.05 minutes | total_loss = 22.948933020234108\n",
      "Epoch 175 started\n"
     ]
    },
    {
     "name": "stderr",
     "output_type": "stream",
     "text": [
      "Training: 100%|██████████| 65/65 [00:02<00:00, 27.82it/s]\n"
     ]
    },
    {
     "name": "stdout",
     "output_type": "stream",
     "text": [
      "{'prompt': 'Any progress on the PA?', 'response': 'oh okay'}\n",
      "========================================================\n",
      "Epoch 175 finished in 0.05 minutes | total_loss = 23.507358461618423\n",
      "Epoch 176 started\n"
     ]
    },
    {
     "name": "stderr",
     "output_type": "stream",
     "text": [
      "Training: 100%|██████████| 65/65 [00:02<00:00, 27.21it/s]\n"
     ]
    },
    {
     "name": "stdout",
     "output_type": "stream",
     "text": [
      "{'prompt': 'Any progress on the PA?', 'response': 'no but how it knows tho'}\n",
      "========================================================\n",
      "Epoch 176 finished in 0.05 minutes | total_loss = 21.243233531713486\n",
      "Epoch 177 started\n"
     ]
    },
    {
     "name": "stderr",
     "output_type": "stream",
     "text": [
      "Training: 100%|██████████| 65/65 [00:02<00:00, 25.32it/s]\n"
     ]
    },
    {
     "name": "stdout",
     "output_type": "stream",
     "text": [
      "{'prompt': 'Any progress on the PA?', 'response': 'is it always 30?'}\n",
      "========================================================\n",
      "Epoch 177 finished in 0.05 minutes | total_loss = 22.263961538672447\n",
      "Epoch 178 started\n"
     ]
    },
    {
     "name": "stderr",
     "output_type": "stream",
     "text": [
      "Training: 100%|██████████| 65/65 [00:02<00:00, 26.10it/s]\n"
     ]
    },
    {
     "name": "stdout",
     "output_type": "stream",
     "text": [
      "{'prompt': 'Any progress on the PA?', 'response': 'ok'}\n",
      "========================================================\n",
      "Epoch 178 finished in 0.05 minutes | total_loss = 23.33533937484026\n",
      "Epoch 179 started\n"
     ]
    },
    {
     "name": "stderr",
     "output_type": "stream",
     "text": [
      "Training: 100%|██████████| 65/65 [00:02<00:00, 24.60it/s]\n"
     ]
    },
    {
     "name": "stdout",
     "output_type": "stream",
     "text": [
      "{'prompt': 'Any progress on the PA?', 'response': 'ok'}\n",
      "========================================================\n",
      "Epoch 179 finished in 0.06 minutes | total_loss = 22.830748543143272\n",
      "Epoch 180 started\n"
     ]
    },
    {
     "name": "stderr",
     "output_type": "stream",
     "text": [
      "Training: 100%|██████████| 65/65 [00:02<00:00, 25.99it/s]\n"
     ]
    },
    {
     "name": "stdout",
     "output_type": "stream",
     "text": [
      "{'prompt': 'Any progress on the PA?', 'response': 'does not need to be tbh most of the data Cleaning is reversed. the prompt most of the'}\n",
      "========================================================\n",
      "Epoch 180 finished in 0.05 minutes | total_loss = 19.981650933623314\n",
      "Epoch 181 started\n"
     ]
    },
    {
     "name": "stderr",
     "output_type": "stream",
     "text": [
      "Training: 100%|██████████| 65/65 [00:02<00:00, 26.35it/s]\n"
     ]
    },
    {
     "name": "stdout",
     "output_type": "stream",
     "text": [
      "{'prompt': 'Any progress on the PA?', 'response': 'how you train it how it knows cool'}\n",
      "========================================================\n",
      "Epoch 181 finished in 0.05 minutes | total_loss = 22.452640920877457\n",
      "Epoch 182 started\n"
     ]
    },
    {
     "name": "stderr",
     "output_type": "stream",
     "text": [
      "Training: 100%|██████████| 65/65 [00:02<00:00, 27.39it/s]\n"
     ]
    },
    {
     "name": "stdout",
     "output_type": "stream",
     "text": [
      "{'prompt': 'Any progress on the PA?', 'response': 'ok'}\n",
      "========================================================\n",
      "Epoch 182 finished in 0.05 minutes | total_loss = 25.567490458488464\n",
      "Epoch 183 started\n"
     ]
    },
    {
     "name": "stderr",
     "output_type": "stream",
     "text": [
      "Training: 100%|██████████| 65/65 [00:02<00:00, 27.28it/s]\n"
     ]
    },
    {
     "name": "stdout",
     "output_type": "stream",
     "text": [
      "{'prompt': 'Any progress on the PA?', 'response': 'i got the same error that jonathan got and you were getting earlier thanks'}\n",
      "========================================================\n",
      "Epoch 183 finished in 0.05 minutes | total_loss = 22.552235573530197\n",
      "Epoch 184 started\n"
     ]
    },
    {
     "name": "stderr",
     "output_type": "stream",
     "text": [
      "Training: 100%|██████████| 65/65 [00:02<00:00, 26.43it/s]\n"
     ]
    },
    {
     "name": "stdout",
     "output_type": "stream",
     "text": [
      "{'prompt': 'Any progress on the PA?', 'response': 'sure'}\n",
      "========================================================\n",
      "Epoch 184 finished in 0.05 minutes | total_loss = 20.679515182971954\n",
      "Epoch 185 started\n"
     ]
    },
    {
     "name": "stderr",
     "output_type": "stream",
     "text": [
      "Training: 100%|██████████| 65/65 [00:02<00:00, 25.94it/s]\n"
     ]
    },
    {
     "name": "stdout",
     "output_type": "stream",
     "text": [
      "{'prompt': 'Any progress on the PA?', 'response': 'wait where is the repo for the final'}\n",
      "========================================================\n",
      "Epoch 185 finished in 0.05 minutes | total_loss = 20.533649504184723\n",
      "Epoch 186 started\n"
     ]
    },
    {
     "name": "stderr",
     "output_type": "stream",
     "text": [
      "Training: 100%|██████████| 65/65 [00:02<00:00, 27.76it/s]\n"
     ]
    },
    {
     "name": "stdout",
     "output_type": "stream",
     "text": [
      "{'prompt': 'Any progress on the PA?', 'response': 'wait where is the repo for the final'}\n",
      "========================================================\n",
      "Epoch 186 finished in 0.05 minutes | total_loss = 21.262380465865135\n",
      "Epoch 187 started\n"
     ]
    },
    {
     "name": "stderr",
     "output_type": "stream",
     "text": [
      "Training: 100%|██████████| 65/65 [00:02<00:00, 27.72it/s]\n"
     ]
    },
    {
     "name": "stdout",
     "output_type": "stream",
     "text": [
      "{'prompt': 'Any progress on the PA?', 'response': 'would 9:15 not be home til 9-9:15😬'}\n",
      "========================================================\n",
      "Epoch 187 finished in 0.05 minutes | total_loss = 21.11106936633587\n",
      "Epoch 188 started\n"
     ]
    },
    {
     "name": "stderr",
     "output_type": "stream",
     "text": [
      "Training: 100%|██████████| 65/65 [00:02<00:00, 27.11it/s]\n"
     ]
    },
    {
     "name": "stdout",
     "output_type": "stream",
     "text": [
      "{'prompt': 'Any progress on the PA?', 'response': 'i was just thinking we could finetune a gpt model like this lol im getting a new error after using the report I was just thinking we could finetune a model like this lol im getting a new error'}\n",
      "========================================================\n",
      "Epoch 188 finished in 0.05 minutes | total_loss = 19.974980726838112\n",
      "Epoch 189 started\n"
     ]
    },
    {
     "name": "stderr",
     "output_type": "stream",
     "text": [
      "Training: 100%|██████████| 65/65 [00:02<00:00, 26.81it/s]\n"
     ]
    },
    {
     "name": "stdout",
     "output_type": "stream",
     "text": [
      "{'prompt': 'Any progress on the PA?', 'response': 'no idea how it knows tho'}\n",
      "========================================================\n",
      "Epoch 189 finished in 0.05 minutes | total_loss = 23.327060893177986\n",
      "Epoch 190 started\n"
     ]
    },
    {
     "name": "stderr",
     "output_type": "stream",
     "text": [
      "Training: 100%|██████████| 65/65 [00:02<00:00, 26.94it/s]\n"
     ]
    },
    {
     "name": "stdout",
     "output_type": "stream",
     "text": [
      "{'prompt': 'Any progress on the PA?', 'response': 'no idea how it knows tho'}\n",
      "========================================================\n",
      "Epoch 190 finished in 0.05 minutes | total_loss = 21.951877310872078\n",
      "Epoch 191 started\n"
     ]
    },
    {
     "name": "stderr",
     "output_type": "stream",
     "text": [
      "Training: 100%|██████████| 65/65 [00:02<00:00, 27.67it/s]\n"
     ]
    },
    {
     "name": "stdout",
     "output_type": "stream",
     "text": [
      "{'prompt': 'Any progress on the PA?', 'response': 'ok'}\n",
      "========================================================\n",
      "Epoch 191 finished in 0.05 minutes | total_loss = 19.84999753534794\n",
      "Epoch 192 started\n"
     ]
    },
    {
     "name": "stderr",
     "output_type": "stream",
     "text": [
      "Training: 100%|██████████| 65/65 [00:02<00:00, 27.09it/s]\n"
     ]
    },
    {
     "name": "stdout",
     "output_type": "stream",
     "text": [
      "{'prompt': 'Any progress on the PA?', 'response': 'i was just thinking we could finetune a gpt model like this oh okay'}\n",
      "========================================================\n",
      "Epoch 192 finished in 0.05 minutes | total_loss = 19.193326249718666\n",
      "Epoch 193 started\n"
     ]
    },
    {
     "name": "stderr",
     "output_type": "stream",
     "text": [
      "Training: 100%|██████████| 65/65 [00:02<00:00, 26.92it/s]\n"
     ]
    },
    {
     "name": "stdout",
     "output_type": "stream",
     "text": [
      "{'prompt': 'Any progress on the PA?', 'response': 'is inviting the notebook hi'}\n",
      "========================================================\n",
      "Epoch 193 finished in 0.05 minutes | total_loss = 20.458406016230583\n",
      "Epoch 194 started\n"
     ]
    },
    {
     "name": "stderr",
     "output_type": "stream",
     "text": [
      "Training: 100%|██████████| 65/65 [00:02<00:00, 27.81it/s]\n"
     ]
    },
    {
     "name": "stdout",
     "output_type": "stream",
     "text": [
      "{'prompt': 'Any progress on the PA?', 'response': 'ok'}\n",
      "========================================================\n",
      "Epoch 194 finished in 0.05 minutes | total_loss = 19.998744353652\n",
      "Epoch 195 started\n"
     ]
    },
    {
     "name": "stderr",
     "output_type": "stream",
     "text": [
      "Training: 100%|██████████| 65/65 [00:02<00:00, 27.56it/s]\n"
     ]
    },
    {
     "name": "stdout",
     "output_type": "stream",
     "text": [
      "{'prompt': 'Any progress on the PA?', 'response': 'ok'}\n",
      "========================================================\n",
      "Epoch 195 finished in 0.05 minutes | total_loss = 19.182190120220184\n",
      "Epoch 196 started\n"
     ]
    },
    {
     "name": "stderr",
     "output_type": "stream",
     "text": [
      "Training: 100%|██████████| 65/65 [00:02<00:00, 26.64it/s]\n"
     ]
    },
    {
     "name": "stdout",
     "output_type": "stream",
     "text": [
      "{'prompt': 'Any progress on the PA?', 'response': 'i was gonna go into the notebook'}\n",
      "========================================================\n",
      "Epoch 196 finished in 0.05 minutes | total_loss = 20.18259573727846\n",
      "Epoch 197 started\n"
     ]
    },
    {
     "name": "stderr",
     "output_type": "stream",
     "text": [
      "Training: 100%|██████████| 65/65 [00:02<00:00, 27.92it/s]\n"
     ]
    },
    {
     "name": "stdout",
     "output_type": "stream",
     "text": [
      "{'prompt': 'Any progress on the PA?', 'response': 'no idea yet'}\n",
      "========================================================\n",
      "Epoch 197 finished in 0.05 minutes | total_loss = 20.861480936408043\n",
      "Epoch 198 started\n"
     ]
    },
    {
     "name": "stderr",
     "output_type": "stream",
     "text": [
      "Training: 100%|██████████| 65/65 [00:02<00:00, 27.22it/s]\n"
     ]
    },
    {
     "name": "stdout",
     "output_type": "stream",
     "text": [
      "{'prompt': 'Any progress on the PA?', 'response': 'no but one of the GANs sounds good'}\n",
      "========================================================\n",
      "Epoch 198 finished in 0.05 minutes | total_loss = 19.126213908195496\n",
      "Epoch 199 started\n"
     ]
    },
    {
     "name": "stderr",
     "output_type": "stream",
     "text": [
      "Training: 100%|██████████| 65/65 [00:02<00:00, 26.75it/s]\n"
     ]
    },
    {
     "name": "stdout",
     "output_type": "stream",
     "text": [
      "{'prompt': 'Any progress on the PA?', 'response': 'no idea how it knows tho'}\n",
      "========================================================\n",
      "Epoch 199 finished in 0.05 minutes | total_loss = 18.08785840123892\n"
     ]
    }
   ],
   "source": [
    "epochs = 200  # You can adjust the number of epochs as needed\n",
    "training_loss = []\n",
    "for epoch in range(epochs):\n",
    "    start = time.time()\n",
    "    print(f\"Epoch {epoch} started\")\n",
    "    total_loss = train(chatData, model, optim)\n",
    "    training_loss += [total_loss]\n",
    "    end = time.time()\n",
    "    print(f\"Epoch {epoch} finished in {np.round((end - start) / 60, 2)} minutes | total_loss = {total_loss}\")"
   ]
  },
  {
   "cell_type": "code",
   "execution_count": 62,
   "metadata": {},
   "outputs": [
    {
     "data": {
      "text/plain": [
       "0.2782747446344449"
      ]
     },
     "execution_count": 62,
     "metadata": {},
     "output_type": "execute_result"
    }
   ],
   "source": [
    "# Winfrey: 0.33749 for 100 epochs, 0.25071 for 200 epochs\n",
    "# Jonathan 38.9592 for 200 epochs\n",
    "training_loss[-1] / len(chatData)"
   ]
  },
  {
   "cell_type": "code",
   "execution_count": 63,
   "metadata": {},
   "outputs": [],
   "source": [
    "# Save the model's state dictionary after training is complete\n",
    "torch.save(model.state_dict(), f\"models/{data_file_name}.pt\")"
   ]
  },
  {
   "cell_type": "code",
   "execution_count": null,
   "metadata": {},
   "outputs": [],
   "source": []
  }
 ],
 "metadata": {
  "accelerator": "GPU",
  "colab": {
   "gpuType": "T4",
   "provenance": []
  },
  "kernelspec": {
   "display_name": "Python 3 (ipykernel)",
   "language": "python",
   "name": "python3"
  },
  "language_info": {
   "codemirror_mode": {
    "name": "ipython",
    "version": 3
   },
   "file_extension": ".py",
   "mimetype": "text/x-python",
   "name": "python",
   "nbconvert_exporter": "python",
   "pygments_lexer": "ipython3",
   "version": "3.9.5"
  }
 },
 "nbformat": 4,
 "nbformat_minor": 1
}
