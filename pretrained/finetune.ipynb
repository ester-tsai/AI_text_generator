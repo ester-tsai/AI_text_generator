{
 "cells": [
  {
   "cell_type": "code",
   "execution_count": 1,
   "metadata": {
    "id": "Agm8kvVRU2Ue"
   },
   "outputs": [],
   "source": [
    "# Fine tuning gpt2_medium model and use own data like company profile\n",
    "#\n",
    "# See also medium.com blog\n",
    "# \"GPT-2 Fine-Tuning Guide: Building a Chatbot for Your Company Profile\"\n",
    "# https://medium.com/@datatec.studio\n",
    "#\n",
    "\n",
    "# Mount google driver\n",
    "# from google.colab import drive\n",
    "# drive.mount('/content/drive')"
   ]
  },
  {
   "cell_type": "code",
   "execution_count": 2,
   "metadata": {
    "id": "B-j40wpGU8y7"
   },
   "outputs": [],
   "source": [
    "# Change to google driver folder which contains datasets\n",
    "# This folder will also be used to save model\n",
    "# %cd /content/drive/MyDrive/GPT2_Lab_DTS"
   ]
  },
  {
   "cell_type": "code",
   "execution_count": 3,
   "metadata": {
    "id": "MHzJziLsVCcT"
   },
   "outputs": [],
   "source": [
    "# Install python packages\n",
    "# !pip install -r requirements.txt"
   ]
  },
  {
   "cell_type": "code",
   "execution_count": 4,
   "metadata": {
    "id": "s5rI-cgkxRYj"
   },
   "outputs": [],
   "source": [
    "import os\n",
    "from transformers import GPT2LMHeadModel, GPT2Tokenizer\n",
    "import torch\n",
    "from torch.optim import Adam\n",
    "from torch.utils.data import DataLoader\n",
    "import tqdm\n",
    "import time\n",
    "import numpy as np\n",
    "import sys"
   ]
  },
  {
   "cell_type": "code",
   "execution_count": 5,
   "metadata": {
    "id": "T6fuYpH4VE17"
   },
   "outputs": [
    {
     "name": "stdout",
     "output_type": "stream",
     "text": [
      "cuda\n"
     ]
    }
   ],
   "source": [
    "# Define environment variable, path of data, model name and device\n",
    "# os.environ[\"HF_HOME\"] = \"/content/huggingface\"  # Replace with your desired directory\n",
    "# print(\"Please replace it with your hf access token:\")\n",
    "# os.environ[\"HF_HOME_TOKEN\"] = \"Please_replace_it_with_your_hf_access_token\"\n",
    "\n",
    "result_dir = 'resources/'\n",
    "data_file_name = 'Ester'\n",
    "data_file_path = f'../data/{data_file_name}.txt'\n",
    "\n",
    "model_name = \"gpt2\" # gpt2-medium\n",
    "device = \"cuda\" if torch.cuda.is_available() else \"mps\" if torch.backends.mps.is_available() else \"cpu\"\n",
    "print(device)"
   ]
  },
  {
   "cell_type": "code",
   "execution_count": 6,
   "metadata": {
    "id": "_ZgHPQgRuKbb"
   },
   "outputs": [],
   "source": [
    "# Write a python file to google driver\n",
    "# Sample of json datasets\n",
    "# You can also directly upload this code to your google driver\n",
    "# The code write here in this way is for better understanding of whole project\n",
    "# %%writefile chat_data.py\n",
    "\n",
    "from torch.utils.data import Dataset\n",
    "import json\n",
    "\n",
    "class ChatData(Dataset):\n",
    "    def __init__(self, path: str, tokenizer):\n",
    "        with open(path, encoding=\"utf-8\") as f:\n",
    "            self.data = f.readlines()#json.load(open(path, \"r\"))\n",
    "\n",
    "        self.X = []\n",
    "        for pair in self.data:\n",
    "            pair = eval(pair)          \n",
    "            self.X.append(f\"<start> {pair['prompt']} <response>: {pair['response']} <end>\")\n",
    "        \n",
    "        total_samples = len(self.X)  # Calculate the total number of samples\n",
    "        print(\"total_samples\", total_samples)\n",
    "        # define samples amount\n",
    "#         self.X = self.X[:500]\n",
    "        print(\"Check the preprocessing for self.X[0]:\")\n",
    "        print(self.X[0])\n",
    "\n",
    "        self.X_encoded = tokenizer(self.X, return_tensors=\"pt\", max_length=30, padding=\"max_length\", truncation=True)\n",
    "        self.input_ids = self.X_encoded['input_ids']\n",
    "        self.attention_mask = self.X_encoded['attention_mask']\n",
    "\n",
    "    def __len__(self):\n",
    "        return len(self.X)\n",
    "\n",
    "    def __getitem__(self, idx):\n",
    "        return self.input_ids[idx], self.attention_mask[idx]\n"
   ]
  },
  {
   "cell_type": "code",
   "execution_count": 8,
   "metadata": {
    "id": "_HLw88IBQHml"
   },
   "outputs": [],
   "source": [
    "# Download model, save model and tokernize to harddisk\n",
    "## prepare tokenizer\n",
    "tokenizer = GPT2Tokenizer.from_pretrained(model_name)\n",
    "tokenizer.add_special_tokens({\"pad_token\": \"<pad>\",\n",
    "                              \"bos_token\": \"<start>\",\n",
    "                              \"eos_token\": \"<end>\"})\n",
    "\n",
    "tokenizer.add_tokens([\"<response>:\"])\n",
    "with open(data_file_path, encoding=\"utf-8\") as f:\n",
    "    data = f.readlines()#json.load(open(path, \"r\"))\n",
    "\n",
    "for pair in data:\n",
    "    pair = eval(pair)\n",
    "#     for token in pair['prompt'].split() + pair['response'].split()\n",
    "    tokenizer.add_tokens(pair['prompt'].split() + pair['response'].split())\n",
    "    \n",
    "\n",
    "## prepare model\n",
    "### Specify the desired embedding size (must be a multiple of 8)\n",
    "desired_embedding_size = 50264  # Change this to the desired size\n",
    "model = GPT2LMHeadModel.from_pretrained(model_name).to(device)\n",
    "### Resize the embedding layer to the desired size\n",
    "model.resize_token_embeddings(len(tokenizer), desired_embedding_size)\n",
    "model = model.to(device)\n",
    "\n",
    "## save tokenizer and model to harddisk\n",
    "# tokenizer.save_pretrained(result_dir)\n",
    "# model.save_pretrained(result_dir)"
   ]
  },
  {
   "cell_type": "code",
   "execution_count": 9,
   "metadata": {
    "id": "C9CzY7I9Qjh3"
   },
   "outputs": [
    {
     "name": "stderr",
     "output_type": "stream",
     "text": [
      "Special tokens have been added in the vocabulary, make sure the associated word embeddings are fine-tuned or trained.\n"
     ]
    },
    {
     "data": {
      "text/plain": [
       "GPT2LMHeadModel(\n",
       "  (transformer): GPT2Model(\n",
       "    (wte): Embedding(100528, 768)\n",
       "    (wpe): Embedding(1024, 768)\n",
       "    (drop): Dropout(p=0.1, inplace=False)\n",
       "    (h): ModuleList(\n",
       "      (0-11): 12 x GPT2Block(\n",
       "        (ln_1): LayerNorm((768,), eps=1e-05, elementwise_affine=True)\n",
       "        (attn): GPT2Attention(\n",
       "          (c_attn): Conv1D()\n",
       "          (c_proj): Conv1D()\n",
       "          (attn_dropout): Dropout(p=0.1, inplace=False)\n",
       "          (resid_dropout): Dropout(p=0.1, inplace=False)\n",
       "        )\n",
       "        (ln_2): LayerNorm((768,), eps=1e-05, elementwise_affine=True)\n",
       "        (mlp): GPT2MLP(\n",
       "          (c_fc): Conv1D()\n",
       "          (c_proj): Conv1D()\n",
       "          (act): NewGELUActivation()\n",
       "          (dropout): Dropout(p=0.1, inplace=False)\n",
       "        )\n",
       "      )\n",
       "    )\n",
       "    (ln_f): LayerNorm((768,), eps=1e-05, elementwise_affine=True)\n",
       "  )\n",
       "  (lm_head): Linear(in_features=768, out_features=100528, bias=False)\n",
       ")"
      ]
     },
     "execution_count": 9,
     "metadata": {},
     "output_type": "execute_result"
    }
   ],
   "source": [
    "# ## load model and tokenizer from harddisk\n",
    "# ### Load the GPT-2 tokenizer\n",
    "# tokenizer = GPT2Tokenizer.from_pretrained(result_dir)\n",
    "\n",
    "# ### Load the GPT-2 model from the local folder\n",
    "# model = GPT2LMHeadModel.from_pretrained(result_dir)\n",
    "# model.to(device)"
   ]
  },
  {
   "cell_type": "code",
   "execution_count": 18,
   "metadata": {
    "id": "tuKpppvpVlUA"
   },
   "outputs": [],
   "source": [
    "# Define infer and train function\n",
    "def infer(inp):\n",
    "    inp = \"<start> \" + inp + \" <response>: \"\n",
    "    inp = tokenizer(inp, return_tensors=\"pt\")\n",
    "    X = inp[\"input_ids\"].to(device)  # Use .to(device) method to move the tensor to the specified device\n",
    "    a = inp[\"attention_mask\"].to(device)  # Use .to(device) method here as well\n",
    "\n",
    "    output = model.generate(X, attention_mask=a, max_length=100, num_return_sequences=1)\n",
    "\n",
    "    output = tokenizer.decode(output[0])\n",
    "    output = output[:output.find('<end>')].replace('<pad>', '')\n",
    "    output = ' '.join(output.split())\n",
    "\n",
    "    return output\n",
    "\n",
    "def train(chatData, model, optim):\n",
    "    \n",
    "    batches = len(chatData)\n",
    "\n",
    "    for i, (X, a) in enumerate(chatData):\n",
    "        X = X.to(device)\n",
    "        a = a.to(device)\n",
    "        optim.zero_grad()\n",
    "        loss = model(input_ids=X, attention_mask=a, labels=X).loss\n",
    "        loss.backward()\n",
    "        optim.step()\n",
    "        if i % 100 == 0:\n",
    "            print(f'iter {i} out of {batches}')\n",
    "\n",
    "    print(infer(\"I created my own branch in our repo\"))\n",
    "    print('========================================================')\n",
    "\n",
    "# def train(chatData, model, optim):\n",
    "    \n",
    "#     batches = len(chatData)\n",
    "\n",
    "#     for i, (X, a) in tqdm(chatData):\n",
    "#         X = X.to(device)\n",
    "#         a = a.to(device)\n",
    "#         optim.zero_grad()\n",
    "#         loss = model(input_ids=X, attention_mask=a, labels=X).loss\n",
    "#         loss.backward()\n",
    "#         optim.step()\n",
    "#         if i % 100 == 0:\n",
    "#             print(f'iter {i} out of {batches}')\n",
    "\n",
    "#     print(infer(\"Do we need to bring anything?\"))\n",
    "#     print('========================================================')"
   ]
  },
  {
   "cell_type": "code",
   "execution_count": 11,
   "metadata": {
    "id": "xQrezTeDcsz1"
   },
   "outputs": [
    {
     "name": "stdout",
     "output_type": "stream",
     "text": [
      "total_samples 538\n",
      "Check the preprocessing for self.X[0]:\n",
      "<start> Thanks Ester! <response>: Ester named the group CSE 151B PA2. <end>\n"
     ]
    }
   ],
   "source": [
    "# from chat_data import ChatData\n",
    "\n",
    "#Load ChatData, train model and optimizer\n",
    "chatData = ChatData(data_file_path, tokenizer)\n",
    "chatData = DataLoader(chatData, batch_size=1) # batch_size=64\n",
    "\n",
    "model.train()\n",
    "\n",
    "optim = Adam(model.parameters(), lr=1e-5)"
   ]
  },
  {
   "cell_type": "code",
   "execution_count": 12,
   "metadata": {
    "id": "7VWe95ug3Bum",
    "scrolled": true
   },
   "outputs": [
    {
     "name": "stdout",
     "output_type": "stream",
     "text": [
      "Epoch 0 started\n",
      "iter 0 out of 538\n",
      "iter 100 out of 538\n",
      "iter 200 out of 538\n",
      "iter 300 out of 538\n",
      "iter 400 out of 538\n",
      "iter 500 out of 538\n"
     ]
    },
    {
     "name": "stderr",
     "output_type": "stream",
     "text": [
      "Setting `pad_token_id` to `eos_token_id`:50256 for open-end generation.\n"
     ]
    },
    {
     "name": "stdout",
     "output_type": "stream",
     "text": [
      "<start>  I   created   my   own   branch   in   our   repo   <response>:   in   in   in   in   in   in   in   in   in   in   in   in   in   in   in   in   in   in   in   in   in   in   in   in   in   in   in   in   in   in   in   in   in   in   in   in   in   in   in   in  \n",
      "========================================================\n",
      "Epoch 0 finished in 0.52 minutes\n",
      "Epoch 1 started\n",
      "iter 0 out of 538\n",
      "iter 100 out of 538\n",
      "iter 200 out of 538\n",
      "iter 300 out of 538\n",
      "iter 400 out of 538\n",
      "iter 500 out of 538\n"
     ]
    },
    {
     "name": "stderr",
     "output_type": "stream",
     "text": [
      "Setting `pad_token_id` to `eos_token_id`:50256 for open-end generation.\n"
     ]
    },
    {
     "name": "stdout",
     "output_type": "stream",
     "text": [
      "<start>  I   created   my   own   branch   in   our   repo   <response>:   the   the   the   the   the   the   the   the   the   the   the   the   the   the   the   the   the   the   the   the   the   the   the   the   the   the   the   the   the   the   the   the   the   the   the   the   the   the   the   the  \n",
      "========================================================\n",
      "Epoch 1 finished in 0.51 minutes\n",
      "Epoch 2 started\n",
      "iter 0 out of 538\n",
      "iter 100 out of 538\n",
      "iter 200 out of 538\n",
      "iter 300 out of 538\n",
      "iter 400 out of 538\n",
      "iter 500 out of 538\n"
     ]
    },
    {
     "name": "stderr",
     "output_type": "stream",
     "text": [
      "Setting `pad_token_id` to `eos_token_id`:50256 for open-end generation.\n"
     ]
    },
    {
     "name": "stdout",
     "output_type": "stream",
     "text": [
      "<start>  I   created   my   own   branch   in   our   repo   <response>:  <pad> <pad><pad><pad><pad><pad><pad><pad><pad><pad><pad><pad><pad><pad><pad><pad><pad><pad><pad><pad><pad><pad><pad><pad><pad><pad><pad><pad><pad><pad><pad><pad><pad><pad><pad><pad><pad><pad><pad><pad><pad><pad><pad><pad><pad><pad><pad><pad><pad><pad><pad><pad><pad><pad><pad><pad><pad><pad><pad><pad><pad><pad><pad><pad><pad><pad><pad><pad><pad><pad><pad><pad><pad><pad><pad><pad><pad><pad><pad>\n",
      "========================================================\n",
      "Epoch 2 finished in 0.51 minutes\n",
      "Epoch 3 started\n",
      "iter 0 out of 538\n",
      "iter 100 out of 538\n",
      "iter 200 out of 538\n",
      "iter 300 out of 538\n",
      "iter 400 out of 538\n",
      "iter 500 out of 538\n"
     ]
    },
    {
     "name": "stderr",
     "output_type": "stream",
     "text": [
      "Setting `pad_token_id` to `eos_token_id`:50256 for open-end generation.\n"
     ]
    },
    {
     "name": "stdout",
     "output_type": "stream",
     "text": [
      "<start>  I   created   my   own   branch   in   our   repo   <response>:  <pad><pad><pad><pad><pad><pad><pad><pad><pad><pad><pad><pad><pad><pad><pad><pad><pad><pad><pad><pad><pad><pad><pad><pad><pad><pad><pad><pad><pad><pad><pad><pad><pad><pad><pad><pad><pad><pad><pad><pad><pad><pad><pad><pad><pad><pad><pad><pad><pad><pad><pad><pad><pad><pad><pad><pad><pad><pad><pad><pad><pad><pad><pad><pad><pad><pad><pad><pad><pad><pad><pad><pad><pad><pad><pad><pad><pad><pad><pad><pad>\n",
      "========================================================\n",
      "Epoch 3 finished in 0.51 minutes\n",
      "Epoch 4 started\n",
      "iter 0 out of 538\n",
      "iter 100 out of 538\n",
      "iter 200 out of 538\n",
      "iter 300 out of 538\n",
      "iter 400 out of 538\n",
      "iter 500 out of 538\n"
     ]
    },
    {
     "name": "stderr",
     "output_type": "stream",
     "text": [
      "Setting `pad_token_id` to `eos_token_id`:50256 for open-end generation.\n"
     ]
    },
    {
     "name": "stdout",
     "output_type": "stream",
     "text": [
      "<start>  I   created   my   own   branch   in   our   repo   <response>:   the  <pad><pad><pad><pad><pad><pad><pad><pad><pad><pad><pad><pad><pad><pad><pad><pad><pad><pad><pad><pad><pad><pad><pad><pad><pad><pad><pad><pad><pad><pad><pad><pad><pad><pad><pad><pad><pad><pad><pad><pad><pad><pad><pad><pad><pad><pad><pad><pad><pad><pad><pad><pad><pad><pad><pad><pad><pad><pad><pad><pad><pad><pad><pad><pad><pad><pad><pad><pad><pad><pad><pad><pad><pad><pad><pad><pad><pad><pad>\n",
      "========================================================\n",
      "Epoch 4 finished in 0.52 minutes\n",
      "Epoch 5 started\n",
      "iter 0 out of 538\n",
      "iter 100 out of 538\n",
      "iter 200 out of 538\n",
      "iter 300 out of 538\n",
      "iter 400 out of 538\n",
      "iter 500 out of 538\n"
     ]
    },
    {
     "name": "stderr",
     "output_type": "stream",
     "text": [
      "Setting `pad_token_id` to `eos_token_id`:50256 for open-end generation.\n"
     ]
    },
    {
     "name": "stdout",
     "output_type": "stream",
     "text": [
      "<start>  I   created   my   own   branch   in   our   repo   <response>:   <response>:  <pad><pad><pad><pad><pad><pad><pad><pad><pad><pad><pad><pad><pad><pad><pad><pad><pad><pad><pad><pad><pad><pad><pad><pad><pad><pad><pad><pad><pad><pad><pad><pad><pad><pad><pad><pad><pad><pad><pad><pad><pad><pad><pad><pad><pad><pad><pad><pad><pad><pad><pad><pad><pad><pad><pad><pad><pad><pad><pad><pad><pad><pad><pad><pad><pad><pad><pad><pad><pad><pad><pad><pad><pad><pad><pad><pad><pad><pad>\n",
      "========================================================\n",
      "Epoch 5 finished in 0.52 minutes\n",
      "Epoch 6 started\n",
      "iter 0 out of 538\n",
      "iter 100 out of 538\n",
      "iter 200 out of 538\n",
      "iter 300 out of 538\n",
      "iter 400 out of 538\n",
      "iter 500 out of 538\n"
     ]
    },
    {
     "name": "stderr",
     "output_type": "stream",
     "text": [
      "Setting `pad_token_id` to `eos_token_id`:50256 for open-end generation.\n"
     ]
    },
    {
     "name": "stdout",
     "output_type": "stream",
     "text": [
      "<start>  I   created   my   own   branch   in   our   repo   <response>:   <response>:   <response>:   <response>:   <response>: <pad><pad><pad><pad><pad><pad><pad><pad><pad><pad><pad><pad><pad><pad><pad><pad><pad><pad><pad><pad><pad><pad><pad><pad><pad><pad><pad><pad><pad><pad><pad><pad><pad><pad><pad><pad><pad><pad><pad><pad><pad><pad><pad><pad><pad><pad><pad><pad><pad><pad><pad><pad><pad><pad><pad><pad><pad><pad><pad><pad><pad><pad><pad><pad><pad><pad><pad><pad><pad><pad><pad><pad><pad>\n",
      "========================================================\n",
      "Epoch 6 finished in 0.51 minutes\n",
      "Epoch 7 started\n",
      "iter 0 out of 538\n",
      "iter 100 out of 538\n",
      "iter 200 out of 538\n",
      "iter 300 out of 538\n",
      "iter 400 out of 538\n",
      "iter 500 out of 538\n"
     ]
    },
    {
     "name": "stderr",
     "output_type": "stream",
     "text": [
      "Setting `pad_token_id` to `eos_token_id`:50256 for open-end generation.\n"
     ]
    },
    {
     "name": "stdout",
     "output_type": "stream",
     "text": [
      "<start>  I   created   my   own   branch   in   our   repo   <response>:   <response>:   <response>: <pad><pad><pad><pad><pad><pad><pad><pad><pad><pad><pad><pad><pad><pad><pad><pad><pad><pad><pad><pad><pad><pad><pad><pad><pad><pad><pad><pad><pad><pad><pad><pad><pad><pad><pad><pad><pad><pad><pad><pad><pad><pad><pad><pad><pad><pad><pad><pad><pad><pad><pad><pad><pad><pad><pad><pad><pad><pad><pad><pad><pad><pad><pad><pad><pad><pad><pad><pad><pad><pad><pad><pad><pad><pad><pad><pad><pad>\n",
      "========================================================\n",
      "Epoch 7 finished in 0.51 minutes\n",
      "Epoch 8 started\n",
      "iter 0 out of 538\n",
      "iter 100 out of 538\n",
      "iter 200 out of 538\n",
      "iter 300 out of 538\n",
      "iter 400 out of 538\n",
      "iter 500 out of 538\n"
     ]
    },
    {
     "name": "stderr",
     "output_type": "stream",
     "text": [
      "Setting `pad_token_id` to `eos_token_id`:50256 for open-end generation.\n"
     ]
    },
    {
     "name": "stdout",
     "output_type": "stream",
     "text": [
      "<start>  I   created   my   own   branch   in   our   repo   <response>:    I   can   run   the   code   and   the   code   <response>:   <response>:   <response>:   <response>:   I   can   <response>:   the   code   <response>:   I   can   <response>:   the   code   and   the   code   to   the   code   <response>:   <response>:   <response>:   <response>:   <response>:   <response>:   <response>:   I   can   run   the\n",
      "========================================================\n",
      "Epoch 8 finished in 0.51 minutes\n",
      "Epoch 9 started\n",
      "iter 0 out of 538\n",
      "iter 100 out of 538\n",
      "iter 200 out of 538\n",
      "iter 300 out of 538\n",
      "iter 400 out of 538\n",
      "iter 500 out of 538\n"
     ]
    },
    {
     "name": "stderr",
     "output_type": "stream",
     "text": [
      "Setting `pad_token_id` to `eos_token_id`:50256 for open-end generation.\n"
     ]
    },
    {
     "name": "stdout",
     "output_type": "stream",
     "text": [
      "<start>  I   created   my   own   branch   in   our   repo   <response>:   <response>:   <response>:   <response>:   <response>:   <response>:   <response>:   <response>:   <response>:   <response>:   <response>:   <response>:   <response>:   <response>:   <response>:   <response>:   <response>:   <response>:   <response>:   <response>:   <response>:   <response>:   <response>:   <response>:   <response>:   <response>:   <response>:   <response>:   <response>:   <response>:   <response>:   <response>:   <response>:   <response>:   <response>:   <response>:   <response>:   <response>:   <response>:   <response>:   <response>:  \n",
      "========================================================\n",
      "Epoch 9 finished in 0.52 minutes\n",
      "Epoch 10 started\n",
      "iter 0 out of 538\n",
      "iter 100 out of 538\n",
      "iter 200 out of 538\n",
      "iter 300 out of 538\n",
      "iter 400 out of 538\n",
      "iter 500 out of 538\n"
     ]
    },
    {
     "name": "stderr",
     "output_type": "stream",
     "text": [
      "Setting `pad_token_id` to `eos_token_id`:50256 for open-end generation.\n"
     ]
    },
    {
     "name": "stdout",
     "output_type": "stream",
     "text": [
      "<start>  I   created   my   own   branch   in   our   repo   <response>:   <response>:   <response>:   <response>:   <response>:   <response>:   <response>:   <response>:   <response>:   <response>:   <response>:   <response>:   <response>:   <response>:   <response>:   <response>:   <response>:   <response>:   <response>:   <response>:   <response>:   <response>:   <response>:   <response>:   <response>:   <response>:   <response>:   <response>:   <response>:   <response>:   <response>:   <response>:   <response>:   <response>:   <response>:   <response>:   <response>:   <response>:   <response>:   <response>:   <response>:  \n",
      "========================================================\n",
      "Epoch 10 finished in 0.51 minutes\n",
      "Epoch 11 started\n",
      "iter 0 out of 538\n",
      "iter 100 out of 538\n",
      "iter 200 out of 538\n",
      "iter 300 out of 538\n",
      "iter 400 out of 538\n",
      "iter 500 out of 538\n"
     ]
    },
    {
     "name": "stderr",
     "output_type": "stream",
     "text": [
      "Setting `pad_token_id` to `eos_token_id`:50256 for open-end generation.\n"
     ]
    },
    {
     "name": "stdout",
     "output_type": "stream",
     "text": [
      "<start>  I   created   my   own   branch   in   our   repo   <response>:   <response>:   <response>:   <response>:   <response>:   <response>:   <response>:   <response>:   <response>:   <response>:   <response>:   <response>:   <response>:   <response>:   <response>:   <response>:   <response>:   <response>:   <response>:   <response>:   <response>:   <response>:   <response>:   <response>:   <response>:   <response>:   <response>:   <response>:   <response>:   <response>:   <response>:   <response>:   <response>:   <response>:   <response>:   <response>:   <response>:   <response>:   <response>:   <response>:   <response>:  \n",
      "========================================================\n",
      "Epoch 11 finished in 0.51 minutes\n",
      "Epoch 12 started\n",
      "iter 0 out of 538\n",
      "iter 100 out of 538\n",
      "iter 200 out of 538\n",
      "iter 300 out of 538\n",
      "iter 400 out of 538\n",
      "iter 500 out of 538\n"
     ]
    },
    {
     "name": "stderr",
     "output_type": "stream",
     "text": [
      "Setting `pad_token_id` to `eos_token_id`:50256 for open-end generation.\n"
     ]
    },
    {
     "name": "stdout",
     "output_type": "stream",
     "text": [
      "<start>  I   created   my   own   branch   in   our   repo   <response>:   <response>:   <response>:   I   created   my   own   <response>:   <response>:   <response>:   <response>:   <response>:   <response>:   <response>:   <response>:   <response>:   I   created   the   <response>:  <end><pad><pad><pad><pad><pad><pad><pad><pad><pad><pad><pad><pad><pad><pad><pad><pad><pad><pad><pad><pad><pad><pad><pad><pad><pad><pad><pad><pad><pad><pad><pad><pad><pad><pad><pad><pad><pad><pad><pad><pad><pad>\n",
      "========================================================\n",
      "Epoch 12 finished in 0.52 minutes\n",
      "Epoch 13 started\n",
      "iter 0 out of 538\n",
      "iter 100 out of 538\n",
      "iter 200 out of 538\n",
      "iter 300 out of 538\n",
      "iter 400 out of 538\n",
      "iter 500 out of 538\n"
     ]
    },
    {
     "name": "stderr",
     "output_type": "stream",
     "text": [
      "Setting `pad_token_id` to `eos_token_id`:50256 for open-end generation.\n"
     ]
    },
    {
     "name": "stdout",
     "output_type": "stream",
     "text": [
      "<start>  I   created   my   own   branch   in   our   repo   <response>:   <response>:   I   <response>:   <response>:   <response>:   <response>:   <response>:   <response>:   <response>:   <response>:   <response>:   <response>:   <response>:   <response>:   <response>:   <response>:   <response>:   <response>:   <response>:   <response>:   <response>:   <response>:   <response>:  <end><pad><pad><pad><pad><pad><pad><pad><pad><pad><pad><pad><pad><pad><pad><pad><pad><pad><pad><pad><pad><pad><pad><pad><pad><pad><pad><pad><pad><pad><pad><pad><pad><pad>\n",
      "========================================================\n",
      "Epoch 13 finished in 0.52 minutes\n",
      "Epoch 14 started\n",
      "iter 0 out of 538\n",
      "iter 100 out of 538\n",
      "iter 200 out of 538\n",
      "iter 300 out of 538\n",
      "iter 400 out of 538\n",
      "iter 500 out of 538\n"
     ]
    },
    {
     "name": "stderr",
     "output_type": "stream",
     "text": [
      "Setting `pad_token_id` to `eos_token_id`:50256 for open-end generation.\n"
     ]
    },
    {
     "name": "stdout",
     "output_type": "stream",
     "text": [
      "<start>  I   created   my   own   branch   in   our   repo   <response>:   <response>:   <response>:   <response>:   <response>:   <response>:   <response>:   <response>:   <response>:   <response>:   <response>:   <response>:   <response>:   <response>:   <response>:   <response>:  <end><pad><pad><pad><pad><pad><pad><pad><pad><pad><pad><pad><pad><pad><pad><pad><pad><pad><pad><pad><pad><pad><pad><pad><pad><pad><pad><pad><pad><pad><pad><pad><pad><pad><pad><pad><pad><pad><pad><pad><pad><pad><pad><pad><pad><pad><pad><pad><pad><pad>\n",
      "========================================================\n",
      "Epoch 14 finished in 0.51 minutes\n",
      "Epoch 15 started\n",
      "iter 0 out of 538\n",
      "iter 100 out of 538\n",
      "iter 200 out of 538\n",
      "iter 300 out of 538\n",
      "iter 400 out of 538\n",
      "iter 500 out of 538\n"
     ]
    },
    {
     "name": "stderr",
     "output_type": "stream",
     "text": [
      "Setting `pad_token_id` to `eos_token_id`:50256 for open-end generation.\n"
     ]
    },
    {
     "name": "stdout",
     "output_type": "stream",
     "text": [
      "<start>  I   created   my   own   branch   in   our   repo   <response>:   <response>:    I   <response>:   I   <response>:   I   <response>:   I   <response>:   I   <response>:   <response>:   <response>:   <response>:   <response>:   <response>:   <response>:   <response>:  <end><pad><pad><pad><pad><pad><pad><pad><pad><pad><pad><pad><pad><pad><pad><pad><pad><pad><pad><pad><pad><pad><pad><pad><pad><pad><pad><pad><pad><pad><pad><pad><pad><pad><pad><pad><pad><pad><pad><pad><pad><pad><pad>\n",
      "========================================================\n",
      "Epoch 15 finished in 0.51 minutes\n",
      "Epoch 16 started\n",
      "iter 0 out of 538\n",
      "iter 100 out of 538\n",
      "iter 200 out of 538\n",
      "iter 300 out of 538\n",
      "iter 400 out of 538\n",
      "iter 500 out of 538\n"
     ]
    },
    {
     "name": "stderr",
     "output_type": "stream",
     "text": [
      "Setting `pad_token_id` to `eos_token_id`:50256 for open-end generation.\n"
     ]
    },
    {
     "name": "stdout",
     "output_type": "stream",
     "text": [
      "<start>  I   created   my   own   branch   in   our   repo   <response>:   <response>:   I   created   my   own   in   the   report   <response>:   <response>:   I   <response>:   <response>:   <response>:  <end><pad><pad><pad><pad><pad><pad><pad><pad><pad><pad><pad><pad><pad><pad><pad><pad><pad><pad><pad><pad><pad><pad><pad><pad><pad><pad><pad><pad><pad><pad><pad><pad><pad><pad><pad><pad><pad><pad><pad><pad><pad><pad><pad><pad><pad><pad><pad><pad><pad><pad><pad>\n",
      "========================================================\n",
      "Epoch 16 finished in 0.51 minutes\n",
      "Epoch 17 started\n",
      "iter 0 out of 538\n",
      "iter 100 out of 538\n",
      "iter 200 out of 538\n",
      "iter 300 out of 538\n",
      "iter 400 out of 538\n",
      "iter 500 out of 538\n"
     ]
    },
    {
     "name": "stderr",
     "output_type": "stream",
     "text": [
      "Setting `pad_token_id` to `eos_token_id`:50256 for open-end generation.\n"
     ]
    },
    {
     "name": "stdout",
     "output_type": "stream",
     "text": [
      "<start>  I   created   my   own   branch   in   our   repo   <response>:   <response>:   <response>:   <response>:  <end><pad><pad><pad><pad><pad><pad><pad><pad><pad><pad><pad><pad><pad><pad><pad><pad><pad><pad><pad><pad><pad><pad><pad><pad><pad><pad><pad><pad><pad><pad><pad><pad><pad><pad><pad><pad><pad><pad><pad><pad><pad><pad><pad><pad><pad><pad><pad><pad><pad><pad><pad><pad><pad><pad><pad><pad><pad><pad><pad><pad><pad><pad><pad><pad><pad><pad><pad><pad><pad><pad><pad><pad><pad>\n",
      "========================================================\n",
      "Epoch 17 finished in 0.52 minutes\n",
      "Epoch 18 started\n",
      "iter 0 out of 538\n",
      "iter 100 out of 538\n",
      "iter 200 out of 538\n",
      "iter 300 out of 538\n",
      "iter 400 out of 538\n",
      "iter 500 out of 538\n"
     ]
    },
    {
     "name": "stderr",
     "output_type": "stream",
     "text": [
      "Setting `pad_token_id` to `eos_token_id`:50256 for open-end generation.\n"
     ]
    },
    {
     "name": "stdout",
     "output_type": "stream",
     "text": [
      "<start>  I   created   my   own   branch   in   our   repo   <response>:   I   created   my   own   <response>:   I   created   my   own   <response>:   I   created   my   own   <response>:   <response>:   I   created   my   own  <end><pad><pad><pad><pad><pad><pad><pad><pad><pad><pad><pad><pad><pad><pad><pad><pad><pad><pad><pad><pad><pad><pad><pad><pad><pad><pad><pad><pad><pad><pad><pad><pad><pad><pad><pad><pad><pad><pad><pad>\n",
      "========================================================\n",
      "Epoch 18 finished in 0.52 minutes\n",
      "Epoch 19 started\n",
      "iter 0 out of 538\n",
      "iter 100 out of 538\n",
      "iter 200 out of 538\n",
      "iter 300 out of 538\n",
      "iter 400 out of 538\n",
      "iter 500 out of 538\n"
     ]
    },
    {
     "name": "stderr",
     "output_type": "stream",
     "text": [
      "Setting `pad_token_id` to `eos_token_id`:50256 for open-end generation.\n"
     ]
    },
    {
     "name": "stdout",
     "output_type": "stream",
     "text": [
      "<start>  I   created   my   own   branch   in   our   repo   <response>:   I   created   a   new   <response>:   I   created   a   new  <end><pad><pad><pad><pad><pad><pad><pad><pad><pad><pad><pad><pad><pad><pad><pad><pad><pad><pad><pad><pad><pad><pad><pad><pad><pad><pad><pad><pad><pad><pad><pad><pad><pad><pad><pad><pad><pad><pad><pad><pad><pad><pad><pad><pad><pad><pad><pad><pad><pad><pad><pad><pad><pad><pad><pad><pad><pad><pad><pad><pad><pad>\n",
      "========================================================\n",
      "Epoch 19 finished in 0.51 minutes\n",
      "Epoch 20 started\n",
      "iter 0 out of 538\n",
      "iter 100 out of 538\n",
      "iter 200 out of 538\n",
      "iter 300 out of 538\n",
      "iter 400 out of 538\n",
      "iter 500 out of 538\n"
     ]
    },
    {
     "name": "stderr",
     "output_type": "stream",
     "text": [
      "Setting `pad_token_id` to `eos_token_id`:50256 for open-end generation.\n"
     ]
    },
    {
     "name": "stdout",
     "output_type": "stream",
     "text": [
      "<start>  I   created   my   own   branch   in   our   repo   <response>:   I   created   my   own   code   on   my   own  <end><pad><pad><pad><pad><pad><pad><pad><pad><pad><pad><pad><pad><pad><pad><pad><pad><pad><pad><pad><pad><pad><pad><pad><pad><pad><pad><pad><pad><pad><pad><pad><pad><pad><pad><pad><pad><pad><pad><pad><pad><pad><pad><pad><pad><pad><pad><pad><pad><pad><pad><pad><pad><pad><pad><pad><pad><pad><pad><pad><pad><pad><pad><pad>\n",
      "========================================================\n",
      "Epoch 20 finished in 0.52 minutes\n",
      "Epoch 21 started\n",
      "iter 0 out of 538\n",
      "iter 100 out of 538\n",
      "iter 200 out of 538\n",
      "iter 300 out of 538\n",
      "iter 400 out of 538\n",
      "iter 500 out of 538\n"
     ]
    },
    {
     "name": "stderr",
     "output_type": "stream",
     "text": [
      "Setting `pad_token_id` to `eos_token_id`:50256 for open-end generation.\n"
     ]
    },
    {
     "name": "stdout",
     "output_type": "stream",
     "text": [
      "<start>  I   created   my   own   branch   in   our   repo   <response>:   I   created   my   own   <response>:   I   created   my   own  <end><pad><pad><pad><pad><pad><pad><pad><pad><pad><pad><pad><pad><pad><pad><pad><pad><pad><pad><pad><pad><pad><pad><pad><pad><pad><pad><pad><pad><pad><pad><pad><pad><pad><pad><pad><pad><pad><pad><pad><pad><pad><pad><pad><pad><pad><pad><pad><pad><pad><pad><pad><pad><pad><pad><pad><pad><pad><pad><pad><pad><pad>\n",
      "========================================================\n",
      "Epoch 21 finished in 0.51 minutes\n",
      "Epoch 22 started\n",
      "iter 0 out of 538\n",
      "iter 100 out of 538\n",
      "iter 200 out of 538\n",
      "iter 300 out of 538\n",
      "iter 400 out of 538\n",
      "iter 500 out of 538\n"
     ]
    },
    {
     "name": "stderr",
     "output_type": "stream",
     "text": [
      "Setting `pad_token_id` to `eos_token_id`:50256 for open-end generation.\n"
     ]
    },
    {
     "name": "stdout",
     "output_type": "stream",
     "text": [
      "<start>  I   created   my   own   branch   in   our   repo   <response>:   I   created   my   own   code   on   my   page   <response>:   I   created   a   folder   for   my   branch   and   a   folder   for   my   <response>:   <end><pad><pad><pad><pad><pad><pad><pad><pad><pad><pad><pad><pad><pad><pad><pad><pad><pad><pad><pad><pad><pad><pad><pad><pad><pad><pad><pad><pad><pad><pad><pad><pad><pad><pad>\n",
      "========================================================\n",
      "Epoch 22 finished in 0.51 minutes\n",
      "Epoch 23 started\n",
      "iter 0 out of 538\n",
      "iter 100 out of 538\n",
      "iter 200 out of 538\n",
      "iter 300 out of 538\n",
      "iter 400 out of 538\n",
      "iter 500 out of 538\n"
     ]
    },
    {
     "name": "stderr",
     "output_type": "stream",
     "text": [
      "Setting `pad_token_id` to `eos_token_id`:50256 for open-end generation.\n"
     ]
    },
    {
     "name": "stdout",
     "output_type": "stream",
     "text": [
      "<start>  I   created   my   own   branch   in   our   repo   <response>:    I   created   my   branch   in   our  <end><pad><pad><pad><pad><pad><pad><pad><pad><pad><pad><pad><pad><pad><pad><pad><pad><pad><pad><pad><pad><pad><pad><pad><pad><pad><pad><pad><pad><pad><pad><pad><pad><pad><pad><pad><pad><pad><pad><pad><pad><pad><pad><pad><pad><pad><pad><pad><pad><pad><pad><pad><pad><pad><pad><pad><pad><pad><pad><pad><pad><pad><pad><pad><pad><pad><pad>\n",
      "========================================================\n",
      "Epoch 23 finished in 0.51 minutes\n",
      "Epoch 24 started\n",
      "iter 0 out of 538\n",
      "iter 100 out of 538\n",
      "iter 200 out of 538\n",
      "iter 300 out of 538\n",
      "iter 400 out of 538\n",
      "iter 500 out of 538\n"
     ]
    },
    {
     "name": "stderr",
     "output_type": "stream",
     "text": [
      "Setting `pad_token_id` to `eos_token_id`:50256 for open-end generation.\n"
     ]
    },
    {
     "name": "stdout",
     "output_type": "stream",
     "text": [
      "<start>  I   created   my   own   branch   in   our   repo   <response>:   I   created   my   own   code   on   my   table   and   on   my   <response>:   I   created   my   own   code   on   my   branch   own  <end><pad><pad><pad><pad><pad><pad><pad><pad><pad><pad><pad><pad><pad><pad><pad><pad><pad><pad><pad><pad><pad><pad><pad><pad><pad><pad><pad><pad><pad><pad><pad><pad><pad><pad><pad><pad><pad>\n",
      "========================================================\n",
      "Epoch 24 finished in 0.51 minutes\n",
      "Epoch 25 started\n",
      "iter 0 out of 538\n",
      "iter 100 out of 538\n",
      "iter 200 out of 538\n",
      "iter 300 out of 538\n",
      "iter 400 out of 538\n",
      "iter 500 out of 538\n"
     ]
    },
    {
     "name": "stderr",
     "output_type": "stream",
     "text": [
      "Setting `pad_token_id` to `eos_token_id`:50256 for open-end generation.\n"
     ]
    },
    {
     "name": "stdout",
     "output_type": "stream",
     "text": [
      "<start>  I   created   my   own   branch   in   our   repo   <response>:   I   branch   the   code   for   my   branch  <end><pad><pad><pad><pad><pad><pad><pad><pad><pad><pad><pad><pad><pad><pad><pad><pad><pad><pad><pad><pad>  I   created   my   own  <end><pad><pad><pad><pad><pad><pad><pad><pad><pad><pad><pad><pad><pad><pad><pad><pad><pad><pad><pad><pad><pad><pad><pad><pad><pad> <end><pad><pad><pad><pad><pad><pad><pad><pad>\n",
      "========================================================\n",
      "Epoch 25 finished in 0.51 minutes\n",
      "Epoch 26 started\n",
      "iter 0 out of 538\n",
      "iter 100 out of 538\n",
      "iter 200 out of 538\n",
      "iter 300 out of 538\n",
      "iter 400 out of 538\n",
      "iter 500 out of 538\n"
     ]
    },
    {
     "name": "stderr",
     "output_type": "stream",
     "text": [
      "Setting `pad_token_id` to `eos_token_id`:50256 for open-end generation.\n"
     ]
    },
    {
     "name": "stdout",
     "output_type": "stream",
     "text": [
      "<start>  I   created   my   own   branch   in   our   repo   <response>:   I   created   my   own  <end><pad><pad><pad><pad><pad><pad><pad><pad><pad><pad><pad><pad><pad><pad><pad><pad><pad><pad><pad><pad><pad><pad><pad><pad><pad><pad><pad><pad><pad><pad><pad><pad><pad><pad><pad>  just   created   my   own   in   the  <end><pad><pad><pad><pad><pad><pad><pad><pad><pad><pad><pad><pad><pad><pad><pad><pad><pad><pad><pad><pad><pad><pad>\n",
      "========================================================\n",
      "Epoch 26 finished in 0.51 minutes\n",
      "Epoch 27 started\n",
      "iter 0 out of 538\n",
      "iter 100 out of 538\n",
      "iter 200 out of 538\n",
      "iter 300 out of 538\n",
      "iter 400 out of 538\n",
      "iter 500 out of 538\n"
     ]
    },
    {
     "name": "stderr",
     "output_type": "stream",
     "text": [
      "Setting `pad_token_id` to `eos_token_id`:50256 for open-end generation.\n"
     ]
    },
    {
     "name": "stdout",
     "output_type": "stream",
     "text": [
      "<start>  I   created   my   own   branch   in   our   repo   <response>:   I   didn’t   created   my   own   branch   in   our   baseline  <end><pad><pad><pad><pad><pad><pad><pad><pad><pad><pad><pad><pad><pad><pad><pad><pad><pad><pad><pad><pad><pad><pad><pad><pad><pad><pad><pad><pad><pad><pad><pad><pad><pad><pad><pad><pad><pad><pad><pad><pad><pad><pad><pad><pad><pad><pad><pad><pad><pad><pad><pad><pad><pad><pad><pad><pad><pad><pad><pad><pad><pad>\n",
      "========================================================\n",
      "Epoch 27 finished in 0.52 minutes\n",
      "Epoch 28 started\n",
      "iter 0 out of 538\n",
      "iter 100 out of 538\n",
      "iter 200 out of 538\n",
      "iter 300 out of 538\n",
      "iter 400 out of 538\n",
      "iter 500 out of 538\n"
     ]
    },
    {
     "name": "stderr",
     "output_type": "stream",
     "text": [
      "Setting `pad_token_id` to `eos_token_id`:50256 for open-end generation.\n"
     ]
    },
    {
     "name": "stdout",
     "output_type": "stream",
     "text": [
      "<start>  I   created   my   own   branch   in   our   repo   <response>:   I   created   a   doc   that   should   be   updated   <response>:   I   didn’t   created   a   doc   that   should   be   updated  <end><pad><pad><pad><pad><pad><pad><pad><pad><pad><pad><pad><pad><pad><pad><pad><pad><pad><pad><pad><pad>  768   --n-epochs  <end><pad><pad><pad><pad><pad><pad><pad><pad><pad><pad> <end><pad><pad><pad><pad><pad>\n",
      "========================================================\n",
      "Epoch 28 finished in 0.51 minutes\n",
      "Epoch 29 started\n",
      "iter 0 out of 538\n",
      "iter 100 out of 538\n",
      "iter 200 out of 538\n",
      "iter 300 out of 538\n",
      "iter 400 out of 538\n",
      "iter 500 out of 538\n"
     ]
    },
    {
     "name": "stderr",
     "output_type": "stream",
     "text": [
      "Setting `pad_token_id` to `eos_token_id`:50256 for open-end generation.\n"
     ]
    },
    {
     "name": "stdout",
     "output_type": "stream",
     "text": [
      "<start>  I   created   my   own   branch   in   our   repo   <response>:   I   created   my   own   code   in   our   folder   <response>:   I   created   my   own   code   in   our   folder    <response>:   I   created   my   own   code   in   our  <end><pad><pad><pad><pad><pad><pad><pad><pad><pad><pad><pad><pad><pad><pad><pad><pad><pad><pad><pad><pad><pad><pad><pad><pad><pad><pad><pad><pad>\n",
      "========================================================\n",
      "Epoch 29 finished in 0.52 minutes\n",
      "Epoch 30 started\n",
      "iter 0 out of 538\n",
      "iter 100 out of 538\n",
      "iter 200 out of 538\n",
      "iter 300 out of 538\n",
      "iter 400 out of 538\n",
      "iter 500 out of 538\n"
     ]
    },
    {
     "name": "stderr",
     "output_type": "stream",
     "text": [
      "Setting `pad_token_id` to `eos_token_id`:50256 for open-end generation.\n"
     ]
    },
    {
     "name": "stdout",
     "output_type": "stream",
     "text": [
      "<start>  I   created   my   own   branch   in   our   repo   <response>:   I   guys   created   my   own   section   of   ester1   <response>:    I   created   my   own   section   of  <end><pad><pad><pad><pad><pad><pad><pad><pad><pad><pad><pad><pad><pad><pad><pad><pad><pad><pad><pad> <end><pad> <end><pad><pad><pad><pad><pad><pad><pad><pad><pad><pad><pad><pad><pad><pad><pad> <end><pad><pad><pad><pad><pad><pad><pad>\n",
      "========================================================\n",
      "Epoch 30 finished in 0.52 minutes\n",
      "Epoch 31 started\n",
      "iter 0 out of 538\n",
      "iter 100 out of 538\n",
      "iter 200 out of 538\n",
      "iter 300 out of 538\n",
      "iter 400 out of 538\n",
      "iter 500 out of 538\n"
     ]
    },
    {
     "name": "stderr",
     "output_type": "stream",
     "text": [
      "Setting `pad_token_id` to `eos_token_id`:50256 for open-end generation.\n"
     ]
    },
    {
     "name": "stdout",
     "output_type": "stream",
     "text": [
      "<start>  I   created   my   own   branch   in   our   repo   <response>:   I   didn’t   created   my   own   branch   in   our  <end><pad><pad><pad><pad><pad><pad><pad><pad><pad><pad><pad><pad><pad><pad><pad><pad><pad><pad><pad><pad><pad><pad><pad><pad><pad><pad><pad><pad><pad><pad><pad><pad>  768   --n-epochs   10   --n-epochs   768  <end><pad><pad><pad><pad><pad><pad><pad><pad><pad><pad><pad><pad><pad><pad><pad><pad><pad><pad><pad>\n",
      "========================================================\n",
      "Epoch 31 finished in 0.51 minutes\n",
      "Epoch 32 started\n",
      "iter 0 out of 538\n",
      "iter 100 out of 538\n",
      "iter 200 out of 538\n",
      "iter 300 out of 538\n",
      "iter 400 out of 538\n",
      "iter 500 out of 538\n"
     ]
    },
    {
     "name": "stderr",
     "output_type": "stream",
     "text": [
      "Setting `pad_token_id` to `eos_token_id`:50256 for open-end generation.\n"
     ]
    },
    {
     "name": "stdout",
     "output_type": "stream",
     "text": [
      "<start>  I   created   my   own   branch   in   our   repo   <response>:   I   created   my   own   branch   in   our   own  <end><pad><pad><pad><pad><pad><pad><pad><pad><pad><pad><pad><pad><pad><pad><pad><pad><pad><pad><pad><pad><pad><pad><pad><pad><pad><pad><pad><pad><pad><pad><pad><pad><pad><pad><pad><pad><pad><pad><pad><pad><pad><pad><pad><pad><pad><pad><pad><pad><pad><pad><pad><pad><pad><pad><pad><pad><pad><pad><pad><pad><pad><pad><pad>\n",
      "========================================================\n",
      "Epoch 32 finished in 0.51 minutes\n",
      "Epoch 33 started\n",
      "iter 0 out of 538\n",
      "iter 100 out of 538\n",
      "iter 200 out of 538\n",
      "iter 300 out of 538\n",
      "iter 400 out of 538\n",
      "iter 500 out of 538\n"
     ]
    },
    {
     "name": "stderr",
     "output_type": "stream",
     "text": [
      "Setting `pad_token_id` to `eos_token_id`:50256 for open-end generation.\n"
     ]
    },
    {
     "name": "stdout",
     "output_type": "stream",
     "text": [
      "<start>  I   created   my   own   branch   in   our   repo   <response>:   I   created   my   own   branch   in   our   poll.   <end><pad><pad><pad><pad><pad><pad><pad><pad><pad><pad><pad><pad><pad><pad><pad><pad><pad><pad><pad><pad><pad><pad><pad><pad><pad><pad><pad><pad><pad><pad><pad><pad><pad><pad> <end><pad><pad><pad><pad><pad><pad><pad><pad><pad><pad><pad><pad><pad><pad><pad><pad><pad><pad><pad><pad><pad>  768   768  \n",
      "========================================================\n",
      "Epoch 33 finished in 0.51 minutes\n",
      "Epoch 34 started\n",
      "iter 0 out of 538\n",
      "iter 100 out of 538\n",
      "iter 200 out of 538\n",
      "iter 300 out of 538\n",
      "iter 400 out of 538\n",
      "iter 500 out of 538\n"
     ]
    },
    {
     "name": "stderr",
     "output_type": "stream",
     "text": [
      "Setting `pad_token_id` to `eos_token_id`:50256 for open-end generation.\n"
     ]
    },
    {
     "name": "stdout",
     "output_type": "stream",
     "text": [
      "<start>  I   created   my   own   branch   in   our   repo   <response>:   I   pushed   the   baseline   I   pushed   the   latest  <end><pad><pad><pad><pad><pad><pad><pad><pad><pad><pad><pad><pad><pad><pad><pad><pad><pad><pad><pad><pad><pad><pad><pad><pad><pad><pad><pad><pad><pad><pad><pad><pad><pad><pad><pad><pad><pad><pad><pad><pad><pad><pad><pad><pad><pad><pad><pad><pad><pad><pad><pad><pad><pad><pad><pad><pad><pad><pad><pad><pad><pad><pad><pad>\n",
      "========================================================\n",
      "Epoch 34 finished in 0.52 minutes\n",
      "Epoch 35 started\n",
      "iter 0 out of 538\n",
      "iter 100 out of 538\n",
      "iter 200 out of 538\n",
      "iter 300 out of 538\n",
      "iter 400 out of 538\n",
      "iter 500 out of 538\n"
     ]
    },
    {
     "name": "stderr",
     "output_type": "stream",
     "text": [
      "Setting `pad_token_id` to `eos_token_id`:50256 for open-end generation.\n"
     ]
    },
    {
     "name": "stdout",
     "output_type": "stream",
     "text": [
      "<start>  I   created   my   own   branch   in   our   repo   <response>:   I   didn’t   created   my   own   branch   in   our   poll.     <end><pad><pad><pad><pad><pad><pad><pad><pad><pad><pad><pad><pad><pad><pad><pad><pad><pad><pad><pad><pad><pad><pad><pad><pad><pad><pad><pad><pad><pad><pad><pad><pad><pad><pad><pad><pad><pad><pad><pad><pad><pad><pad><pad><pad><pad><pad><pad><pad><pad><pad><pad><pad><pad><pad><pad><pad><pad><pad>\n",
      "========================================================\n",
      "Epoch 35 finished in 0.51 minutes\n",
      "Epoch 36 started\n",
      "iter 0 out of 538\n",
      "iter 100 out of 538\n",
      "iter 200 out of 538\n",
      "iter 300 out of 538\n",
      "iter 400 out of 538\n",
      "iter 500 out of 538\n"
     ]
    },
    {
     "name": "stderr",
     "output_type": "stream",
     "text": [
      "Setting `pad_token_id` to `eos_token_id`:50256 for open-end generation.\n"
     ]
    },
    {
     "name": "stdout",
     "output_type": "stream",
     "text": [
      "<start>  I   created   my   own   branch   in   our   repo   <response>:   I   didn’t   created   my   own   branch   in   our  <end><pad><pad><pad><pad><pad><pad><pad><pad><pad><pad><pad><pad><pad><pad><pad><pad><pad> <end><pad><pad><pad><pad><pad> <end><pad><pad><pad><pad><pad><pad><pad><pad><pad><pad><pad><pad><pad><pad><pad><pad><pad><pad><pad><pad><pad><pad><pad><pad><pad><pad><pad><pad><pad><pad><pad><pad><pad><pad><pad><pad><pad>\n",
      "========================================================\n",
      "Epoch 36 finished in 0.52 minutes\n",
      "Epoch 37 started\n",
      "iter 0 out of 538\n",
      "iter 100 out of 538\n",
      "iter 200 out of 538\n",
      "iter 300 out of 538\n",
      "iter 400 out of 538\n",
      "iter 500 out of 538\n"
     ]
    },
    {
     "name": "stderr",
     "output_type": "stream",
     "text": [
      "Setting `pad_token_id` to `eos_token_id`:50256 for open-end generation.\n"
     ]
    },
    {
     "name": "stdout",
     "output_type": "stream",
     "text": [
      "<start>  I   created   my   own   branch   in   our   repo   <response>:   I   pushed   started   on   the   code   on   ester1  <end><pad><pad><pad><pad><pad><pad><pad><pad><pad><pad><pad><pad><pad><pad><pad><pad><pad><pad><pad><pad><pad><pad><pad><pad><pad><pad><pad><pad><pad><pad><pad><pad><pad><pad><pad><pad><pad><pad><pad><pad><pad><pad><pad><pad><pad><pad><pad><pad><pad><pad><pad><pad>  just  <end><pad><pad><pad>  just   updated\n",
      "========================================================\n",
      "Epoch 37 finished in 0.51 minutes\n",
      "Epoch 38 started\n",
      "iter 0 out of 538\n",
      "iter 100 out of 538\n",
      "iter 200 out of 538\n",
      "iter 300 out of 538\n",
      "iter 400 out of 538\n",
      "iter 500 out of 538\n"
     ]
    },
    {
     "name": "stderr",
     "output_type": "stream",
     "text": [
      "Setting `pad_token_id` to `eos_token_id`:50256 for open-end generation.\n"
     ]
    },
    {
     "name": "stdout",
     "output_type": "stream",
     "text": [
      "<start>  I   created   my   own   branch   in   our   repo   <response>:   I   created   my   own   branch   in   our   folder  <end><pad><pad><pad><pad><pad><pad><pad><pad><pad><pad><pad><pad><pad><pad><pad><pad><pad><pad><pad><pad><pad><pad><pad><pad><pad><pad><pad><pad><pad><pad> <end><pad><pad><pad><pad><pad><pad><pad><pad><pad><pad><pad><pad><pad><pad><pad><pad><pad><pad> <end><pad><pad><pad><pad><pad><pad><pad> <end><pad><pad>\n",
      "========================================================\n",
      "Epoch 38 finished in 0.51 minutes\n",
      "Epoch 39 started\n",
      "iter 0 out of 538\n",
      "iter 100 out of 538\n",
      "iter 200 out of 538\n",
      "iter 300 out of 538\n",
      "iter 400 out of 538\n",
      "iter 500 out of 538\n"
     ]
    },
    {
     "name": "stderr",
     "output_type": "stream",
     "text": [
      "Setting `pad_token_id` to `eos_token_id`:50256 for open-end generation.\n"
     ]
    },
    {
     "name": "stdout",
     "output_type": "stream",
     "text": [
      "<start>  I   created   my   own   branch   in   our   repo   <response>:   I   pushed   the   updated   util.py   to   branch   but   I   need   a   break  <end><pad><pad><pad><pad><pad><pad><pad><pad><pad><pad><pad><pad><pad><pad><pad><pad><pad><pad><pad> <end><pad><pad><pad><pad><pad><pad><pad><pad><pad><pad><pad><pad><pad><pad><pad>  just   updated   the   section   headers   to  <end><pad>  just   replace\n",
      "========================================================\n",
      "Epoch 39 finished in 0.51 minutes\n",
      "Epoch 40 started\n",
      "iter 0 out of 538\n",
      "iter 100 out of 538\n",
      "iter 200 out of 538\n",
      "iter 300 out of 538\n",
      "iter 400 out of 538\n",
      "iter 500 out of 538\n"
     ]
    },
    {
     "name": "stderr",
     "output_type": "stream",
     "text": [
      "Setting `pad_token_id` to `eos_token_id`:50256 for open-end generation.\n"
     ]
    },
    {
     "name": "stdout",
     "output_type": "stream",
     "text": [
      "<start>  I   created   my   own   branch   in   our   repo   <response>:   I   created   my   own   branch   in   our   poll.    I   created   a   branch   link   to   my   branch   <response>:   I   created   a   branch   link   to   my   page   <response>:   I   pushed   created   a   branch   link   to   my   branch   Then   I   created   a   branch\n",
      "========================================================\n",
      "Epoch 40 finished in 0.52 minutes\n",
      "Epoch 41 started\n",
      "iter 0 out of 538\n",
      "iter 100 out of 538\n",
      "iter 200 out of 538\n",
      "iter 300 out of 538\n",
      "iter 400 out of 538\n",
      "iter 500 out of 538\n"
     ]
    },
    {
     "name": "stderr",
     "output_type": "stream",
     "text": [
      "Setting `pad_token_id` to `eos_token_id`:50256 for open-end generation.\n"
     ]
    },
    {
     "name": "stdout",
     "output_type": "stream",
     "text": [
      "<start>  I   created   my   own   branch   in   our   repo   <response>:   I   created   my   own   branch   in   our   poll.  <end><pad><pad><pad><pad><pad><pad><pad><pad><pad><pad><pad><pad><pad><pad><pad><pad><pad><pad><pad><pad>  768   --n-epochs   just   just   got   got   better  <end><pad><pad><pad><pad><pad><pad><pad><pad><pad><pad><pad><pad><pad><pad><pad><pad><pad><pad><pad><pad><pad><pad><pad><pad><pad><pad><pad>\n",
      "========================================================\n",
      "Epoch 41 finished in 0.52 minutes\n",
      "Epoch 42 started\n",
      "iter 0 out of 538\n",
      "iter 100 out of 538\n",
      "iter 200 out of 538\n",
      "iter 300 out of 538\n",
      "iter 400 out of 538\n",
      "iter 500 out of 538\n"
     ]
    },
    {
     "name": "stderr",
     "output_type": "stream",
     "text": [
      "Setting `pad_token_id` to `eos_token_id`:50256 for open-end generation.\n"
     ]
    },
    {
     "name": "stdout",
     "output_type": "stream",
     "text": [
      "<start>  I   created   my   own   branch   in   our   repo   <response>:   I   pushed   it   worked   😔  <end><pad><pad><pad><pad><pad><pad><pad><pad><pad><pad><pad>  ^   just   got   anyone   done   for   \"Methods   got   the   best   result  <end><pad><pad><pad><pad><pad><pad><pad><pad><pad>  ^   just   got   better  <end><pad><pad><pad><pad><pad><pad><pad><pad><pad><pad><pad><pad><pad><pad><pad>\n",
      "========================================================\n",
      "Epoch 42 finished in 0.52 minutes\n",
      "Epoch 43 started\n",
      "iter 0 out of 538\n",
      "iter 100 out of 538\n",
      "iter 200 out of 538\n",
      "iter 300 out of 538\n",
      "iter 400 out of 538\n",
      "iter 500 out of 538\n"
     ]
    },
    {
     "name": "stderr",
     "output_type": "stream",
     "text": [
      "Setting `pad_token_id` to `eos_token_id`:50256 for open-end generation.\n"
     ]
    },
    {
     "name": "stdout",
     "output_type": "stream",
     "text": [
      "<start>  I   created   my   own   branch   in   our   repo   <response>:   I   pushed   the   baseline   version   locally   but   if   you   like   the   version   71%   you   can   clone   my   latest   branch  <end><pad><pad><pad><pad><pad><pad><pad><pad>  just   fixed   the   plots   and  <end> <end><pad><pad><pad><pad><pad>  ^   just   got   some   good   fixes  <end>\n",
      "========================================================\n",
      "Epoch 43 finished in 0.51 minutes\n",
      "Epoch 44 started\n",
      "iter 0 out of 538\n",
      "iter 100 out of 538\n",
      "iter 200 out of 538\n",
      "iter 300 out of 538\n",
      "iter 400 out of 538\n",
      "iter 500 out of 538\n"
     ]
    },
    {
     "name": "stderr",
     "output_type": "stream",
     "text": [
      "Setting `pad_token_id` to `eos_token_id`:50256 for open-end generation.\n"
     ]
    },
    {
     "name": "stdout",
     "output_type": "stream",
     "text": [
      "<start>  I   created   my   own   branch   in   our   repo   <response>:   Feel   free   to   change   anything   that   we   guys  <end><pad><pad><pad><pad><pad><pad><pad><pad><pad><pad><pad><pad>  ^  <end><pad><pad><pad><pad>  ^  <end><pad><pad><pad><pad><pad><pad><pad>  just  <end>  ^   just   got   better   than   baseline  <end><pad><pad><pad><pad><pad><pad><pad><pad><pad><pad><pad><pad><pad><pad>\n",
      "========================================================\n",
      "Epoch 44 finished in 0.52 minutes\n",
      "Epoch 45 started\n",
      "iter 0 out of 538\n",
      "iter 100 out of 538\n",
      "iter 200 out of 538\n",
      "iter 300 out of 538\n",
      "iter 400 out of 538\n",
      "iter 500 out of 538\n"
     ]
    },
    {
     "name": "stderr",
     "output_type": "stream",
     "text": [
      "Setting `pad_token_id` to `eos_token_id`:50256 for open-end generation.\n"
     ]
    },
    {
     "name": "stdout",
     "output_type": "stream",
     "text": [
      "<start>  I   created   my   own   branch   in   our   repo   <response>:   I   pushed  <end><pad><pad><pad><pad><pad><pad><pad><pad><pad><pad><pad><pad><pad><pad><pad><pad><pad><pad><pad><pad><pad><pad><pad><pad><pad><pad><pad><pad><pad><pad><pad>  I   created   my   own   code  <end><pad><pad><pad><pad><pad><pad><pad><pad><pad><pad><pad><pad><pad>  just   updated   my   branch  <end><pad><pad><pad><pad><pad><pad><pad><pad><pad>\n",
      "========================================================\n",
      "Epoch 45 finished in 0.51 minutes\n",
      "Epoch 46 started\n",
      "iter 0 out of 538\n",
      "iter 100 out of 538\n",
      "iter 200 out of 538\n",
      "iter 300 out of 538\n",
      "iter 400 out of 538\n",
      "iter 500 out of 538\n"
     ]
    },
    {
     "name": "stderr",
     "output_type": "stream",
     "text": [
      "Setting `pad_token_id` to `eos_token_id`:50256 for open-end generation.\n"
     ]
    },
    {
     "name": "stdout",
     "output_type": "stream",
     "text": [
      "<start>  I   created   my   own   branch   in   our   repo   <response>:   I   pushed   the   updated   util.py   to   master,   but   I   didn’t   didn’t   the   branch   loss   still   has   a   lower   loss?  <end><pad><pad><pad><pad><pad><pad><pad><pad><pad><pad><pad><pad><pad><pad><pad><pad><pad><pad>  If   you   use   the   baseline   loss   D   is   still   above   the  \n",
      "========================================================\n",
      "Epoch 46 finished in 0.51 minutes\n",
      "Epoch 47 started\n",
      "iter 0 out of 538\n",
      "iter 100 out of 538\n",
      "iter 200 out of 538\n",
      "iter 300 out of 538\n",
      "iter 400 out of 538\n",
      "iter 500 out of 538\n"
     ]
    },
    {
     "name": "stderr",
     "output_type": "stream",
     "text": [
      "Setting `pad_token_id` to `eos_token_id`:50256 for open-end generation.\n"
     ]
    },
    {
     "name": "stdout",
     "output_type": "stream",
     "text": [
      "<start>  I   created   my   own   branch   in   our   repo   <response>:   I   created   my   own   code   on   ester1  <end><pad><pad><pad><pad><pad><pad><pad><pad><pad><pad><pad><pad><pad><pad><pad><pad><pad><pad><pad><pad><pad><pad><pad><pad><pad><pad><pad><pad><pad><pad><pad><pad><pad><pad><pad><pad><pad><pad>  just   updated   ester1   Now  <end><pad><pad><pad><pad><pad><pad><pad><pad><pad><pad><pad><pad><pad><pad>  just  \n",
      "========================================================\n",
      "Epoch 47 finished in 0.51 minutes\n",
      "Epoch 48 started\n",
      "iter 0 out of 538\n",
      "iter 100 out of 538\n",
      "iter 200 out of 538\n",
      "iter 300 out of 538\n",
      "iter 400 out of 538\n",
      "iter 500 out of 538\n"
     ]
    },
    {
     "name": "stderr",
     "output_type": "stream",
     "text": [
      "Setting `pad_token_id` to `eos_token_id`:50256 for open-end generation.\n"
     ]
    },
    {
     "name": "stdout",
     "output_type": "stream",
     "text": [
      "<start>  I   created   my   own   branch   in   our   repo   <response>:   I   pushed   a   lot   of   custom   ones  <end><pad><pad><pad><pad><pad><pad><pad><pad><pad><pad><pad><pad><pad><pad><pad><pad><pad><pad><pad><pad><pad><pad><pad><pad><pad><pad><pad><pad><pad><pad><pad><pad><pad><pad><pad><pad><pad>  ^  <end><pad><pad><pad><pad><pad><pad><pad><pad><pad>  I   created   my   own   code  <end><pad><pad><pad>\n",
      "========================================================\n",
      "Epoch 48 finished in 0.51 minutes\n",
      "Epoch 49 started\n",
      "iter 0 out of 538\n",
      "iter 100 out of 538\n",
      "iter 200 out of 538\n",
      "iter 300 out of 538\n",
      "iter 400 out of 538\n",
      "iter 500 out of 538\n"
     ]
    },
    {
     "name": "stderr",
     "output_type": "stream",
     "text": [
      "Setting `pad_token_id` to `eos_token_id`:50256 for open-end generation.\n"
     ]
    },
    {
     "name": "stdout",
     "output_type": "stream",
     "text": [
      "<start>  I   created   my   own   branch   in   our   repo   <response>:   I   pushed   the   updated   ester1   to   master,   but   I   didn’t   will   update   it   if   it   gets   higher  <end><pad><pad><pad><pad><pad><pad><pad><pad><pad><pad><pad><pad><pad><pad><pad><pad><pad><pad><pad><pad><pad><pad><pad><pad><pad><pad><pad><pad>  I   created   my   own   code   on   my   branch  \n",
      "========================================================\n",
      "Epoch 49 finished in 0.51 minutes\n",
      "Epoch 50 started\n",
      "iter 0 out of 538\n",
      "iter 100 out of 538\n",
      "iter 200 out of 538\n",
      "iter 300 out of 538\n",
      "iter 400 out of 538\n",
      "iter 500 out of 538\n"
     ]
    },
    {
     "name": "stderr",
     "output_type": "stream",
     "text": [
      "Setting `pad_token_id` to `eos_token_id`:50256 for open-end generation.\n"
     ]
    },
    {
     "name": "stdout",
     "output_type": "stream",
     "text": [
      "<start>  I   created   my   own   branch   in   our   repo   <response>:    I   pushed   the   updated   util.py   to   master,   but   I   need   a   parameter   fix   after   and   see   if   it’s   a   better   version   or   better  <end><pad><pad><pad><pad><pad><pad><pad><pad><pad><pad> <end><pad><pad>  I   can   run   my   updated   version   of   5b   latest\n",
      "========================================================\n",
      "Epoch 50 finished in 0.51 minutes\n",
      "Epoch 51 started\n",
      "iter 0 out of 538\n",
      "iter 100 out of 538\n",
      "iter 200 out of 538\n",
      "iter 300 out of 538\n",
      "iter 400 out of 538\n",
      "iter 500 out of 538\n"
     ]
    },
    {
     "name": "stderr",
     "output_type": "stream",
     "text": [
      "Setting `pad_token_id` to `eos_token_id`:50256 for open-end generation.\n"
     ]
    },
    {
     "name": "stdout",
     "output_type": "stream",
     "text": [
      "<start>  I   created   my   own   branch   in   our   repo   <response>:   I   pushed   the   updated   util.py   on   overleaf   <response>:  <end><pad><pad><pad><pad><pad> <end><pad><pad><pad> <end><pad><pad><pad> <end><pad><pad><pad> <end><pad> <end><pad><pad> <end><pad><pad><pad> <end><pad> <end><pad><pad><pad> <pad> <end><pad><pad> <end><pad> <end><pad> <end><pad> <end><pad><pad><pad><pad> <end>\n",
      "========================================================\n",
      "Epoch 51 finished in 0.51 minutes\n",
      "Epoch 52 started\n",
      "iter 0 out of 538\n",
      "iter 100 out of 538\n",
      "iter 200 out of 538\n",
      "iter 300 out of 538\n",
      "iter 400 out of 538\n",
      "iter 500 out of 538\n"
     ]
    },
    {
     "name": "stderr",
     "output_type": "stream",
     "text": [
      "Setting `pad_token_id` to `eos_token_id`:50256 for open-end generation.\n"
     ]
    },
    {
     "name": "stdout",
     "output_type": "stream",
     "text": [
      "<start>  I   created   my   own   branch   in   our   repo   <response>:   I   created   my   own   branch   in   our   own  <end><pad><pad><pad><pad><pad><pad><pad><pad><pad><pad><pad><pad><pad><pad><pad><pad><pad><pad><pad><pad><pad>  just   created   my   own   code  <end><pad><pad><pad><pad><pad><pad><pad><pad><pad> <end><pad>  I   pushed   the   updated   util.py   --  <end> <end> <end>\n",
      "========================================================\n",
      "Epoch 52 finished in 0.51 minutes\n",
      "Epoch 53 started\n",
      "iter 0 out of 538\n",
      "iter 100 out of 538\n",
      "iter 200 out of 538\n",
      "iter 300 out of 538\n",
      "iter 400 out of 538\n",
      "iter 500 out of 538\n"
     ]
    },
    {
     "name": "stderr",
     "output_type": "stream",
     "text": [
      "Setting `pad_token_id` to `eos_token_id`:50256 for open-end generation.\n"
     ]
    },
    {
     "name": "stdout",
     "output_type": "stream",
     "text": [
      "<start>  I   created   my   own   branch   in   our   repo   <response>:   I   pushed   the   updated   util.py   on   overleaf  <end><pad><pad><pad><pad><pad><pad><pad><pad><pad><pad><pad><pad><pad><pad><pad><pad><pad><pad><pad><pad><pad><pad><pad><pad><pad><pad><pad><pad><pad><pad><pad><pad><pad><pad><pad><pad><pad><pad><pad> <end><pad><pad><pad><pad><pad><pad><pad><pad><pad><pad><pad><pad><pad><pad><pad><pad><pad><pad><pad><pad><pad><pad><pad><pad>\n",
      "========================================================\n",
      "Epoch 53 finished in 0.51 minutes\n",
      "Epoch 54 started\n",
      "iter 0 out of 538\n",
      "iter 100 out of 538\n",
      "iter 200 out of 538\n",
      "iter 300 out of 538\n",
      "iter 400 out of 538\n",
      "iter 500 out of 538\n"
     ]
    },
    {
     "name": "stderr",
     "output_type": "stream",
     "text": [
      "Setting `pad_token_id` to `eos_token_id`:50256 for open-end generation.\n"
     ]
    },
    {
     "name": "stdout",
     "output_type": "stream",
     "text": [
      "<start>  I   created   my   own   branch   in   our   repo   <response>:     Ester  <end><pad><pad><pad><pad><pad><pad><pad><pad> <end><pad><pad> <end><pad>  ^   just   got   more   GB  <end><pad><pad><pad><pad><pad><pad><pad><pad><pad>  I   pushed   created   my   own   branch   in   our   repo  <end><pad><pad> <end> <end><pad><pad> <end><pad> <end><pad><pad><pad><pad><pad> \n",
      "========================================================\n",
      "Epoch 54 finished in 0.51 minutes\n",
      "Epoch 55 started\n",
      "iter 0 out of 538\n",
      "iter 100 out of 538\n",
      "iter 200 out of 538\n",
      "iter 300 out of 538\n",
      "iter 400 out of 538\n",
      "iter 500 out of 538\n"
     ]
    },
    {
     "name": "stderr",
     "output_type": "stream",
     "text": [
      "Setting `pad_token_id` to `eos_token_id`:50256 for open-end generation.\n"
     ]
    },
    {
     "name": "stdout",
     "output_type": "stream",
     "text": [
      "<start>  I   created   my   own   branch   in   our   repo   <response>:   I   created   my   own   state   in   our   repo  <end><pad><pad><pad><pad><pad><pad><pad><pad><pad><pad><pad><pad><pad><pad><pad>  just   updated   ester1  <end><pad><pad><pad><pad><pad><pad><pad>  to   better   see   if   my   higher   number   on   the   chart   is   higher   :   D  <end><pad><pad><pad>\n",
      "========================================================\n",
      "Epoch 55 finished in 0.51 minutes\n",
      "Epoch 56 started\n",
      "iter 0 out of 538\n",
      "iter 100 out of 538\n",
      "iter 200 out of 538\n",
      "iter 300 out of 538\n",
      "iter 400 out of 538\n",
      "iter 500 out of 538\n"
     ]
    },
    {
     "name": "stderr",
     "output_type": "stream",
     "text": [
      "Setting `pad_token_id` to `eos_token_id`:50256 for open-end generation.\n"
     ]
    },
    {
     "name": "stdout",
     "output_type": "stream",
     "text": [
      "<start>  I   created   my   own   branch   in   our   repo   <response>:    I   pushed   the   updated   util.py   to   master,   but   I   can   only   update   the   code  <end><pad><pad><pad><pad><pad> <end><pad><pad>  Are   you   all   free   to   update   the   branch   after   changing   the   kernel  ?  <end><pad><pad><pad>  Are   you   all   free   to\n",
      "========================================================\n",
      "Epoch 56 finished in 0.51 minutes\n",
      "Epoch 57 started\n",
      "iter 0 out of 538\n",
      "iter 100 out of 538\n",
      "iter 200 out of 538\n",
      "iter 300 out of 538\n",
      "iter 400 out of 538\n",
      "iter 500 out of 538\n"
     ]
    },
    {
     "name": "stderr",
     "output_type": "stream",
     "text": [
      "Setting `pad_token_id` to `eos_token_id`:50256 for open-end generation.\n"
     ]
    },
    {
     "name": "stdout",
     "output_type": "stream",
     "text": [
      "<start>  I   created   my   own   branch   in   our   repo   <response>:   I   pushed   to   share   earlier!   but   if   you   want   the   DSMLP   GPU   I   can   share   the   graph   with   baseline  <end><pad><pad><pad><pad><pad><pad><pad><pad><pad><pad><pad><pad><pad><pad><pad><pad><pad><pad><pad><pad><pad><pad><pad><pad><pad><pad><pad><pad><pad><pad><pad><pad><pad><pad>  just   run   the  \n",
      "========================================================\n",
      "Epoch 57 finished in 0.51 minutes\n",
      "Epoch 58 started\n",
      "iter 0 out of 538\n",
      "iter 100 out of 538\n",
      "iter 200 out of 538\n",
      "iter 300 out of 538\n",
      "iter 400 out of 538\n",
      "iter 500 out of 538\n"
     ]
    },
    {
     "name": "stderr",
     "output_type": "stream",
     "text": [
      "Setting `pad_token_id` to `eos_token_id`:50256 for open-end generation.\n"
     ]
    },
    {
     "name": "stdout",
     "output_type": "stream",
     "text": [
      "<start>  I   created   my   own   branch   in   our   repo   <response>:    I   pushed   the   updated   util.py   to   master,   but   I   didn’t   it   if   it’s   a   lot   easier   to   implement   the   baseline  <end><pad><pad><pad><pad><pad><pad><pad><pad><pad><pad><pad><pad><pad><pad><pad><pad><pad><pad><pad><pad><pad><pad> <end><pad><pad><pad> <end><pad><pad><pad><pad><pad>  just   updated\n",
      "========================================================\n",
      "Epoch 58 finished in 0.51 minutes\n",
      "Epoch 59 started\n",
      "iter 0 out of 538\n",
      "iter 100 out of 538\n",
      "iter 200 out of 538\n",
      "iter 300 out of 538\n",
      "iter 400 out of 538\n",
      "iter 500 out of 538\n"
     ]
    },
    {
     "name": "stderr",
     "output_type": "stream",
     "text": [
      "Setting `pad_token_id` to `eos_token_id`:50256 for open-end generation.\n"
     ]
    },
    {
     "name": "stdout",
     "output_type": "stream",
     "text": [
      "<start>  I   created   my   own   branch   in   our   repo   <response>:   I   pushed   the   updated   version   locally   to   3*3  <end><pad><pad><pad><pad><pad><pad><pad><pad><pad><pad><pad><pad><pad><pad><pad><pad><pad><pad><pad> <end><pad><pad><pad><pad><pad><pad><pad><pad><pad><pad><pad><pad><pad><pad><pad><pad><pad><pad><pad><pad><pad><pad><pad><pad> <end><pad><pad><pad><pad><pad> <end><pad><pad><pad><pad><pad><pad><pad><pad><pad>\n",
      "========================================================\n",
      "Epoch 59 finished in 0.52 minutes\n",
      "Epoch 60 started\n",
      "iter 0 out of 538\n",
      "iter 100 out of 538\n",
      "iter 200 out of 538\n",
      "iter 300 out of 538\n",
      "iter 400 out of 538\n",
      "iter 500 out of 538\n"
     ]
    },
    {
     "name": "stderr",
     "output_type": "stream",
     "text": [
      "Setting `pad_token_id` to `eos_token_id`:50256 for open-end generation.\n"
     ]
    },
    {
     "name": "stdout",
     "output_type": "stream",
     "text": [
      "<start>  I   created   my   own   branch   in   our   repo   <response>:   I   pushed   the   updated   util.py   to   master,   but   I   will   need   the   baseline   to   still   update   the   updated   section  <end><pad><pad><pad><pad><pad><pad><pad><pad><pad><pad><pad><pad><pad><pad><pad><pad><pad><pad><pad><pad><pad><pad><pad><pad><pad> <end><pad> <end><pad><pad><pad>  just   fixed   the   issue\n",
      "========================================================\n",
      "Epoch 60 finished in 0.52 minutes\n",
      "Epoch 61 started\n",
      "iter 0 out of 538\n",
      "iter 100 out of 538\n",
      "iter 200 out of 538\n",
      "iter 300 out of 538\n",
      "iter 400 out of 538\n",
      "iter 500 out of 538\n"
     ]
    },
    {
     "name": "stderr",
     "output_type": "stream",
     "text": [
      "Setting `pad_token_id` to `eos_token_id`:50256 for open-end generation.\n"
     ]
    },
    {
     "name": "stdout",
     "output_type": "stream",
     "text": [
      "<start>  I   created   my   own   branch   in   our   repo   <response>:    I’ll   update   code   to   do   the   full   validation  <end><pad><pad><pad><pad><pad><pad><pad><pad><pad><pad><pad><pad><pad><pad><pad><pad><pad><pad> <end><pad><pad><pad>  just   submitted,   for   the   validation   update  <end> <end><pad><pad><pad><pad> <end><pad><pad><pad><pad><pad><pad><pad><pad> <end><pad><pad> <end><pad> <end>\n",
      "========================================================\n",
      "Epoch 61 finished in 0.51 minutes\n",
      "Epoch 62 started\n",
      "iter 0 out of 538\n",
      "iter 100 out of 538\n",
      "iter 200 out of 538\n",
      "iter 300 out of 538\n",
      "iter 400 out of 538\n",
      "iter 500 out of 538\n"
     ]
    },
    {
     "name": "stderr",
     "output_type": "stream",
     "text": [
      "Setting `pad_token_id` to `eos_token_id`:50256 for open-end generation.\n"
     ]
    },
    {
     "name": "stdout",
     "output_type": "stream",
     "text": [
      "<start>  I   created   my   own   branch   in   our   repo   <response>:   I   pushed   the   updated   util.py   to   implement   but   somehow   down   to   part   5!  <end><pad><pad><pad><pad><pad><pad><pad><pad><pad><pad><pad><pad><pad><pad><pad><pad><pad><pad><pad><pad><pad><pad><pad><pad><pad><pad><pad><pad><pad><pad><pad><pad><pad><pad><pad><pad><pad><pad><pad><pad><pad><pad><pad><pad><pad><pad><pad><pad><pad><pad><pad><pad><pad>\n",
      "========================================================\n",
      "Epoch 62 finished in 0.51 minutes\n",
      "Epoch 63 started\n",
      "iter 0 out of 538\n",
      "iter 100 out of 538\n",
      "iter 200 out of 538\n",
      "iter 300 out of 538\n",
      "iter 400 out of 538\n",
      "iter 500 out of 538\n"
     ]
    },
    {
     "name": "stderr",
     "output_type": "stream",
     "text": [
      "Setting `pad_token_id` to `eos_token_id`:50256 for open-end generation.\n"
     ]
    },
    {
     "name": "stdout",
     "output_type": "stream",
     "text": [
      "<start>  I   created   my   own   branch   in   our   repo   <response>:   I   pushed   ester1  <end><pad><pad><pad><pad><pad><pad><pad><pad><pad><pad><pad><pad><pad><pad><pad><pad><pad><pad><pad><pad><pad><pad><pad><pad><pad><pad><pad><pad><pad><pad><pad><pad><pad><pad><pad><pad><pad><pad><pad><pad><pad><pad><pad><pad><pad><pad> <end><pad><pad><pad><pad><pad><pad><pad><pad><pad><pad><pad><pad><pad><pad><pad><pad><pad><pad><pad><pad><pad><pad><pad><pad><pad>\n",
      "========================================================\n",
      "Epoch 63 finished in 0.51 minutes\n",
      "Epoch 64 started\n",
      "iter 0 out of 538\n",
      "iter 100 out of 538\n",
      "iter 200 out of 538\n",
      "iter 300 out of 538\n",
      "iter 400 out of 538\n",
      "iter 500 out of 538\n"
     ]
    },
    {
     "name": "stderr",
     "output_type": "stream",
     "text": [
      "Setting `pad_token_id` to `eos_token_id`:50256 for open-end generation.\n"
     ]
    },
    {
     "name": "stdout",
     "output_type": "stream",
     "text": [
      "<start>  I   created   my   own   branch   in   our   repo   <response>:   <end><pad><pad><pad><pad><pad><pad><pad><pad><pad><pad><pad><pad><pad><pad><pad><pad><pad><pad><pad><pad><pad><pad><pad><pad><pad><pad><pad><pad><pad><pad><pad><pad><pad><pad><pad><pad><pad><pad><pad><pad><pad><pad><pad><pad><pad><pad><pad><pad><pad><pad> <end><pad><pad><pad><pad><pad><pad><pad><pad><pad><pad><pad><pad><pad><pad><pad><pad><pad><pad> <end><pad><pad><pad><pad><pad><pad>\n",
      "========================================================\n",
      "Epoch 64 finished in 0.51 minutes\n",
      "Epoch 65 started\n",
      "iter 0 out of 538\n",
      "iter 100 out of 538\n",
      "iter 200 out of 538\n",
      "iter 300 out of 538\n",
      "iter 400 out of 538\n",
      "iter 500 out of 538\n"
     ]
    },
    {
     "name": "stderr",
     "output_type": "stream",
     "text": [
      "Setting `pad_token_id` to `eos_token_id`:50256 for open-end generation.\n"
     ]
    },
    {
     "name": "stdout",
     "output_type": "stream",
     "text": [
      "<start>  I   created   my   own   branch   in   our   repo   <response>:   I   pushed   the   updated   util.py   to   master,   I   create   a   branch   link   to   my   branch   <response>:   I   pushed   the   branch   link   to   my   branch  <end><pad><pad><pad><pad><pad><pad><pad><pad><pad><pad><pad><pad><pad><pad><pad><pad><pad><pad><pad><pad> <end><pad> <end><pad> <end> <end><pad>\n",
      "========================================================\n",
      "Epoch 65 finished in 0.51 minutes\n",
      "Epoch 66 started\n",
      "iter 0 out of 538\n",
      "iter 100 out of 538\n",
      "iter 200 out of 538\n",
      "iter 300 out of 538\n",
      "iter 400 out of 538\n",
      "iter 500 out of 538\n"
     ]
    },
    {
     "name": "stderr",
     "output_type": "stream",
     "text": [
      "Setting `pad_token_id` to `eos_token_id`:50256 for open-end generation.\n"
     ]
    },
    {
     "name": "stdout",
     "output_type": "stream",
     "text": [
      "<start>  I   created   my   own   branch   in   our   repo   <response>:    I   pushed   the   updated   util.py   +   Improving   on   my   branch  <end><pad><pad><pad><pad><pad><pad><pad><pad><pad><pad><pad><pad><pad><pad><pad><pad><pad><pad><pad><pad><pad><pad><pad><pad><pad><pad><pad><pad><pad><pad><pad> <end><pad><pad><pad> <end><pad><pad><pad><pad><pad><pad><pad><pad><pad> <end><pad><pad><pad> <end><pad><pad><pad><pad>\n",
      "========================================================\n",
      "Epoch 66 finished in 0.51 minutes\n",
      "Epoch 67 started\n",
      "iter 0 out of 538\n",
      "iter 100 out of 538\n",
      "iter 200 out of 538\n",
      "iter 300 out of 538\n",
      "iter 400 out of 538\n",
      "iter 500 out of 538\n"
     ]
    },
    {
     "name": "stderr",
     "output_type": "stream",
     "text": [
      "Setting `pad_token_id` to `eos_token_id`:50256 for open-end generation.\n"
     ]
    },
    {
     "name": "stdout",
     "output_type": "stream",
     "text": [
      "<start>  I   created   my   own   branch   in   our   repo   <response>:   I   pushed   the   updated   util.py   to   master,   but   I   will   need   the   updated   code  <end><pad><pad><pad><pad><pad><pad><pad><pad><pad><pad><pad><pad><pad><pad><pad><pad><pad><pad><pad>  just   updated   ester1   to  <pad><pad><pad> <end> <end><pad><pad><pad><pad><pad> <end><pad><pad><pad><pad><pad> <end><pad> \n",
      "========================================================\n",
      "Epoch 67 finished in 0.51 minutes\n",
      "Epoch 68 started\n",
      "iter 0 out of 538\n",
      "iter 100 out of 538\n",
      "iter 200 out of 538\n",
      "iter 300 out of 538\n",
      "iter 400 out of 538\n",
      "iter 500 out of 538\n"
     ]
    },
    {
     "name": "stderr",
     "output_type": "stream",
     "text": [
      "Setting `pad_token_id` to `eos_token_id`:50256 for open-end generation.\n"
     ]
    },
    {
     "name": "stdout",
     "output_type": "stream",
     "text": [
      "<start>  I   created   my   own   branch   in   our   repo   <response>:   I   pushed   the   updated   util.py   to   master,   but   I   need   a   minor   fix   after   i   fj   the   updated   kernel   <response>:  <end><pad><pad><pad><pad><pad><pad><pad><pad><pad><pad> <end><pad><pad><pad><pad><pad><pad><pad><pad><pad><pad><pad> <end><pad><pad><pad><pad><pad> <end><pad><pad> <end><pad><pad><pad>\n",
      "========================================================\n",
      "Epoch 68 finished in 0.51 minutes\n",
      "Epoch 69 started\n",
      "iter 0 out of 538\n",
      "iter 100 out of 538\n",
      "iter 200 out of 538\n",
      "iter 300 out of 538\n",
      "iter 400 out of 538\n",
      "iter 500 out of 538\n"
     ]
    },
    {
     "name": "stderr",
     "output_type": "stream",
     "text": [
      "Setting `pad_token_id` to `eos_token_id`:50256 for open-end generation.\n"
     ]
    },
    {
     "name": "stdout",
     "output_type": "stream",
     "text": [
      "<start>  I   created   my   own   branch   in   our   repo   <response>:   I   pushed   the   updated   util.py   to   master,   but   I   need   a   minor   fix   after   and   see   if   there’s   help  <end><pad><pad><pad><pad><pad><pad><pad><pad><pad><pad><pad><pad><pad><pad><pad><pad><pad><pad><pad><pad><pad><pad><pad> <end><pad>  I   created   my   own   in   our   repo  \n",
      "========================================================\n",
      "Epoch 69 finished in 0.51 minutes\n",
      "Epoch 70 started\n",
      "iter 0 out of 538\n",
      "iter 100 out of 538\n",
      "iter 200 out of 538\n",
      "iter 300 out of 538\n",
      "iter 400 out of 538\n",
      "iter 500 out of 538\n"
     ]
    },
    {
     "name": "stderr",
     "output_type": "stream",
     "text": [
      "Setting `pad_token_id` to `eos_token_id`:50256 for open-end generation.\n"
     ]
    },
    {
     "name": "stdout",
     "output_type": "stream",
     "text": [
      "<start>  I   created   my   own   branch   in   our   repo   <response>:   I   pushed   the   updated   util.py   to   master,   but   I   need   a   minor   fix   after   i   fj   it   but   gets   better   than   the   baseline  <end><pad><pad><pad><pad><pad><pad><pad><pad><pad> <end><pad><pad><pad><pad><pad><pad><pad> <end><pad><pad><pad><pad><pad><pad><pad><pad><pad><pad><pad> <end>\n",
      "========================================================\n",
      "Epoch 70 finished in 0.51 minutes\n",
      "Epoch 71 started\n",
      "iter 0 out of 538\n",
      "iter 100 out of 538\n",
      "iter 200 out of 538\n",
      "iter 300 out of 538\n",
      "iter 400 out of 538\n",
      "iter 500 out of 538\n"
     ]
    },
    {
     "name": "stderr",
     "output_type": "stream",
     "text": [
      "Setting `pad_token_id` to `eos_token_id`:50256 for open-end generation.\n"
     ]
    },
    {
     "name": "stdout",
     "output_type": "stream",
     "text": [
      "<start>  I   created   my   own   branch   in   our   repo   <response>:   I   pushed   a   paper   SimCLR   named   \"a5000\"  <end><pad><pad><pad><pad><pad><pad><pad><pad><pad><pad><pad><pad><pad><pad><pad><pad><pad><pad><pad><pad><pad><pad><pad><pad><pad><pad><pad><pad><pad><pad><pad><pad><pad><pad><pad><pad><pad><pad><pad> <end><pad><pad><pad> <end><pad><pad><pad><pad><pad><pad><pad><pad><pad><pad><pad><pad><pad> <end><pad><pad><pad><pad>\n",
      "========================================================\n",
      "Epoch 71 finished in 0.51 minutes\n",
      "Epoch 72 started\n",
      "iter 0 out of 538\n",
      "iter 100 out of 538\n",
      "iter 200 out of 538\n",
      "iter 300 out of 538\n",
      "iter 400 out of 538\n",
      "iter 500 out of 538\n"
     ]
    },
    {
     "name": "stderr",
     "output_type": "stream",
     "text": [
      "Setting `pad_token_id` to `eos_token_id`:50256 for open-end generation.\n"
     ]
    },
    {
     "name": "stdout",
     "output_type": "stream",
     "text": [
      "<start>  I   created   my   own   branch   in   our   repo   <response>:   I   pushed   my   updated   util.py   to   master,   but   I   pushed   the   updated   util.py   to   4  <end><pad><pad><pad><pad><pad><pad><pad><pad><pad><pad><pad><pad><pad><pad><pad><pad><pad><pad><pad><pad><pad><pad><pad><pad><pad><pad><pad><pad><pad><pad><pad><pad><pad><pad><pad><pad><pad><pad><pad><pad><pad> <end><pad><pad><pad><pad><pad><pad>\n",
      "========================================================\n",
      "Epoch 72 finished in 0.52 minutes\n",
      "Epoch 73 started\n",
      "iter 0 out of 538\n",
      "iter 100 out of 538\n",
      "iter 200 out of 538\n",
      "iter 300 out of 538\n",
      "iter 400 out of 538\n",
      "iter 500 out of 538\n"
     ]
    },
    {
     "name": "stderr",
     "output_type": "stream",
     "text": [
      "Setting `pad_token_id` to `eos_token_id`:50256 for open-end generation.\n"
     ]
    },
    {
     "name": "stdout",
     "output_type": "stream",
     "text": [
      "<start>  I   created   my   own   branch   in   our   repo   <response>:   I   pushed   the   updated   util.py  <end><pad><pad><pad><pad><pad><pad><pad><pad><pad><pad><pad><pad><pad><pad><pad><pad><pad><pad><pad><pad><pad><pad><pad><pad><pad><pad><pad><pad><pad><pad><pad><pad><pad><pad><pad><pad><pad><pad> <end><pad><pad><pad><pad><pad><pad><pad> <end><pad><pad><pad><pad><pad>  I   created   my   own   code   in   the  \n",
      "========================================================\n",
      "Epoch 73 finished in 0.51 minutes\n",
      "Epoch 74 started\n",
      "iter 0 out of 538\n",
      "iter 100 out of 538\n",
      "iter 200 out of 538\n",
      "iter 300 out of 538\n",
      "iter 400 out of 538\n",
      "iter 500 out of 538\n"
     ]
    },
    {
     "name": "stderr",
     "output_type": "stream",
     "text": [
      "Setting `pad_token_id` to `eos_token_id`:50256 for open-end generation.\n"
     ]
    },
    {
     "name": "stdout",
     "output_type": "stream",
     "text": [
      "<start>  I   created   my   own   branch   in   our   repo   <response>:   I   pushed   pushed   to   my   branch   branch  <end><pad><pad><pad><pad><pad><pad><pad><pad><pad><pad><pad><pad><pad><pad><pad><pad><pad><pad><pad><pad><pad><pad><pad><pad><pad><pad><pad><pad><pad><pad><pad><pad><pad><pad><pad><pad><pad><pad><pad><pad><pad><pad><pad><pad><pad><pad> <end><pad><pad><pad><pad><pad><pad><pad><pad> <end><pad><pad><pad><pad><pad><pad><pad>\n",
      "========================================================\n",
      "Epoch 74 finished in 0.51 minutes\n",
      "Epoch 75 started\n",
      "iter 0 out of 538\n",
      "iter 100 out of 538\n",
      "iter 200 out of 538\n",
      "iter 300 out of 538\n",
      "iter 400 out of 538\n",
      "iter 500 out of 538\n"
     ]
    },
    {
     "name": "stderr",
     "output_type": "stream",
     "text": [
      "Setting `pad_token_id` to `eos_token_id`:50256 for open-end generation.\n"
     ]
    },
    {
     "name": "stdout",
     "output_type": "stream",
     "text": [
      "<start>  I   created   my   own   branch   in   our   repo   <response>:   I   pushed   the   updated   util.py   to   master,   but   I   still   need   a   minor   fix   after   changing   the   kernel   kernel  <end><pad><pad><pad><pad><pad><pad><pad><pad><pad><pad><pad><pad><pad><pad><pad><pad><pad><pad> <end><pad><pad> <end><pad> <end><pad> <end><pad><pad> <end><pad><pad> <end><pad><pad><pad>\n",
      "========================================================\n",
      "Epoch 75 finished in 0.51 minutes\n",
      "Epoch 76 started\n",
      "iter 0 out of 538\n",
      "iter 100 out of 538\n",
      "iter 200 out of 538\n",
      "iter 300 out of 538\n",
      "iter 400 out of 538\n",
      "iter 500 out of 538\n"
     ]
    },
    {
     "name": "stderr",
     "output_type": "stream",
     "text": [
      "Setting `pad_token_id` to `eos_token_id`:50256 for open-end generation.\n"
     ]
    },
    {
     "name": "stdout",
     "output_type": "stream",
     "text": [
      "<start>  I   created   my   own   branch   in   our   repo   <response>:   I   pushed   the   updated   util.py   to   master,   but   I   will   update   the   code   with   the   last   bug   and   i’ll   get   the   baseline   own  <end><pad><pad><pad><pad><pad><pad><pad><pad><pad><pad><pad><pad><pad> <end><pad><pad><pad><pad><pad><pad><pad> <end><pad><pad><pad><pad> <end><pad><pad><pad>\n",
      "========================================================\n",
      "Epoch 76 finished in 0.51 minutes\n",
      "Epoch 77 started\n",
      "iter 0 out of 538\n",
      "iter 100 out of 538\n",
      "iter 200 out of 538\n",
      "iter 300 out of 538\n",
      "iter 400 out of 538\n",
      "iter 500 out of 538\n"
     ]
    },
    {
     "name": "stderr",
     "output_type": "stream",
     "text": [
      "Setting `pad_token_id` to `eos_token_id`:50256 for open-end generation.\n"
     ]
    },
    {
     "name": "stdout",
     "output_type": "stream",
     "text": [
      "<start>  I   created   my   own   branch   in   our   repo   <response>:   I   pushed   the   updated   util.py   to   master,    But   I   will   ask   in   OH   today   to   implement   the   updated   section  <end><pad><pad><pad><pad><pad><pad><pad><pad><pad><pad><pad><pad><pad><pad><pad><pad><pad><pad><pad><pad><pad><pad><pad><pad><pad><pad> <end><pad> <end><pad><pad><pad><pad> <end><pad> <end>\n",
      "========================================================\n",
      "Epoch 77 finished in 0.51 minutes\n",
      "Epoch 78 started\n",
      "iter 0 out of 538\n",
      "iter 100 out of 538\n",
      "iter 200 out of 538\n",
      "iter 300 out of 538\n",
      "iter 400 out of 538\n",
      "iter 500 out of 538\n"
     ]
    },
    {
     "name": "stderr",
     "output_type": "stream",
     "text": [
      "Setting `pad_token_id` to `eos_token_id`:50256 for open-end generation.\n"
     ]
    },
    {
     "name": "stdout",
     "output_type": "stream",
     "text": [
      "<start>  I   created   my   own   branch   in   our   repo   <response>:   I   pushed   the   updated   util.py   to   master,   but   I   need   a   minor   fix   after   i   fj   it  <end><pad><pad><pad><pad><pad><pad><pad><pad><pad><pad><pad><pad><pad><pad><pad><pad><pad><pad><pad><pad><pad><pad><pad><pad><pad><pad><pad><pad><pad><pad><pad><pad><pad><pad><pad><pad><pad><pad><pad><pad><pad> <end><pad><pad>\n",
      "========================================================\n",
      "Epoch 78 finished in 0.51 minutes\n",
      "Epoch 79 started\n",
      "iter 0 out of 538\n",
      "iter 100 out of 538\n",
      "iter 200 out of 538\n",
      "iter 300 out of 538\n",
      "iter 400 out of 538\n",
      "iter 500 out of 538\n"
     ]
    },
    {
     "name": "stderr",
     "output_type": "stream",
     "text": [
      "Setting `pad_token_id` to `eos_token_id`:50256 for open-end generation.\n"
     ]
    },
    {
     "name": "stdout",
     "output_type": "stream",
     "text": [
      "<start>  I   created   my   own   branch   in   our   repo   <response>:   I   pushed   the   updated   util.py   to   master,   but   I   need   a   minor   fix   after   and   see   if   it’s   come   on   <response>:   I   can   get   one   more   plot   updated  <end><pad><pad><pad><pad><pad><pad><pad><pad><pad><pad><pad><pad><pad><pad><pad><pad><pad><pad><pad><pad><pad><pad><pad>\n",
      "========================================================\n",
      "Epoch 79 finished in 0.52 minutes\n",
      "Epoch 80 started\n",
      "iter 0 out of 538\n",
      "iter 100 out of 538\n",
      "iter 200 out of 538\n",
      "iter 300 out of 538\n",
      "iter 400 out of 538\n",
      "iter 500 out of 538\n"
     ]
    },
    {
     "name": "stderr",
     "output_type": "stream",
     "text": [
      "Setting `pad_token_id` to `eos_token_id`:50256 for open-end generation.\n"
     ]
    },
    {
     "name": "stdout",
     "output_type": "stream",
     "text": [
      "<start>  I   created   my   own   branch   in   our   repo   <response>:   I   pushed   the   updated   util.py   to   master,   but   I   need   a   minor   fix   after   and   see   if   it’s   better   implement   it   to   capstone  <end><pad><pad><pad><pad><pad><pad><pad><pad><pad><pad><pad><pad><pad><pad><pad><pad><pad><pad><pad><pad><pad><pad><pad><pad><pad><pad><pad><pad><pad><pad><pad><pad><pad>\n",
      "========================================================\n",
      "Epoch 80 finished in 0.52 minutes\n",
      "Epoch 81 started\n",
      "iter 0 out of 538\n",
      "iter 100 out of 538\n",
      "iter 200 out of 538\n",
      "iter 300 out of 538\n",
      "iter 400 out of 538\n",
      "iter 500 out of 538\n"
     ]
    },
    {
     "name": "stderr",
     "output_type": "stream",
     "text": [
      "Setting `pad_token_id` to `eos_token_id`:50256 for open-end generation.\n"
     ]
    },
    {
     "name": "stdout",
     "output_type": "stream",
     "text": [
      "<start>  I   created   my   own   branch   in   our   repo   <response>:   <end><pad><pad><pad><pad><pad><pad><pad><pad><pad><pad><pad><pad> <end><pad><pad><pad><pad><pad><pad><pad><pad><pad><pad> <end><pad><pad><pad><pad><pad><pad><pad><pad><pad><pad><pad> <end><pad><pad><pad><pad><pad><pad> <end><pad><pad><pad><pad><pad><pad><pad><pad><pad><pad><pad><pad><pad><pad><pad><pad><pad><pad><pad><pad><pad><pad><pad><pad><pad><pad><pad><pad><pad><pad><pad>\n",
      "========================================================\n",
      "Epoch 81 finished in 0.51 minutes\n",
      "Epoch 82 started\n",
      "iter 0 out of 538\n",
      "iter 100 out of 538\n",
      "iter 200 out of 538\n",
      "iter 300 out of 538\n",
      "iter 400 out of 538\n",
      "iter 500 out of 538\n"
     ]
    },
    {
     "name": "stderr",
     "output_type": "stream",
     "text": [
      "Setting `pad_token_id` to `eos_token_id`:50256 for open-end generation.\n"
     ]
    },
    {
     "name": "stdout",
     "output_type": "stream",
     "text": [
      "<start>  I   created   my   own   branch   in   our   repo   <response>:   I   pushed   it   worked   nonetheless  <end><pad><pad><pad><pad><pad><pad><pad><pad><pad><pad><pad><pad><pad><pad><pad><pad><pad><pad><pad><pad><pad><pad><pad><pad><pad><pad><pad><pad><pad><pad><pad><pad><pad> <end><pad><pad><pad><pad><pad><pad><pad><pad><pad><pad><pad><pad><pad><pad><pad> <end><pad><pad><pad><pad><pad><pad><pad><pad><pad><pad><pad><pad><pad><pad><pad><pad> \n",
      "========================================================\n",
      "Epoch 82 finished in 0.51 minutes\n",
      "Epoch 83 started\n",
      "iter 0 out of 538\n",
      "iter 100 out of 538\n",
      "iter 200 out of 538\n",
      "iter 300 out of 538\n",
      "iter 400 out of 538\n",
      "iter 500 out of 538\n"
     ]
    },
    {
     "name": "stderr",
     "output_type": "stream",
     "text": [
      "Setting `pad_token_id` to `eos_token_id`:50256 for open-end generation.\n"
     ]
    },
    {
     "name": "stdout",
     "output_type": "stream",
     "text": [
      "<start>  I   created   my   own   branch   in   our   repo   <response>:   I   pushed   the   updated   util.py   to   master,   but   I   need   a   minor   fix   after   and   if   I   do   else   I   can   make   the   branch   again   on   overleaf  <end><pad><pad><pad><pad><pad><pad><pad><pad><pad> <end><pad><pad><pad><pad> <end><pad> <end><pad><pad> <end><pad>\n",
      "========================================================\n",
      "Epoch 83 finished in 0.51 minutes\n",
      "Epoch 84 started\n",
      "iter 0 out of 538\n",
      "iter 100 out of 538\n",
      "iter 200 out of 538\n",
      "iter 300 out of 538\n",
      "iter 400 out of 538\n",
      "iter 500 out of 538\n"
     ]
    },
    {
     "name": "stderr",
     "output_type": "stream",
     "text": [
      "Setting `pad_token_id` to `eos_token_id`:50256 for open-end generation.\n"
     ]
    },
    {
     "name": "stdout",
     "output_type": "stream",
     "text": [
      "<start>  I   created   my   own   branch   in   our   repo   <response>:   I   pushed   the   updated   util.py   but   somehow   still   clarifying   changes  <end><pad><pad><pad><pad><pad><pad><pad><pad><pad><pad><pad><pad><pad><pad><pad><pad><pad><pad><pad><pad><pad><pad><pad><pad><pad><pad><pad> <end><pad><pad>  ^   just   got   this!   after   his   error  <end><pad><pad><pad><pad><pad><pad><pad><pad><pad><pad><pad><pad>\n",
      "========================================================\n",
      "Epoch 84 finished in 0.51 minutes\n",
      "Epoch 85 started\n",
      "iter 0 out of 538\n",
      "iter 100 out of 538\n",
      "iter 200 out of 538\n",
      "iter 300 out of 538\n",
      "iter 400 out of 538\n",
      "iter 500 out of 538\n"
     ]
    },
    {
     "name": "stderr",
     "output_type": "stream",
     "text": [
      "Setting `pad_token_id` to `eos_token_id`:50256 for open-end generation.\n"
     ]
    },
    {
     "name": "stdout",
     "output_type": "stream",
     "text": [
      "<start>  I   created   my   own   branch   in   our   repo   <response>:   I   pushed   the   updated   util.py   in   A,  <end><pad><pad><pad><pad><pad><pad><pad><pad><pad><pad><pad><pad><pad><pad><pad><pad><pad><pad><pad><pad><pad>  I   added   ester1   to   the   discussion   list  <end><pad><pad><pad><pad><pad><pad><pad><pad><pad><pad><pad><pad><pad><pad><pad><pad><pad><pad><pad><pad><pad><pad><pad><pad><pad><pad><pad><pad>\n",
      "========================================================\n",
      "Epoch 85 finished in 0.51 minutes\n",
      "Epoch 86 started\n",
      "iter 0 out of 538\n",
      "iter 100 out of 538\n",
      "iter 200 out of 538\n",
      "iter 300 out of 538\n",
      "iter 400 out of 538\n",
      "iter 500 out of 538\n"
     ]
    },
    {
     "name": "stderr",
     "output_type": "stream",
     "text": [
      "Setting `pad_token_id` to `eos_token_id`:50256 for open-end generation.\n"
     ]
    },
    {
     "name": "stdout",
     "output_type": "stream",
     "text": [
      "<start>  I   created   my   own   branch   in   our   repo   <response>:   I   pushed   a   paper   called   the   baseline  <end><pad><pad><pad><pad><pad><pad><pad><pad><pad><pad><pad><pad><pad><pad><pad><pad><pad><pad><pad><pad><pad><pad><pad><pad>  just   run   the   command   overnight   and   you   should   be   able   to   get   the   best   result  <end><pad><pad><pad><pad><pad><pad><pad><pad><pad>\n",
      "========================================================\n",
      "Epoch 86 finished in 0.52 minutes\n",
      "Epoch 87 started\n",
      "iter 0 out of 538\n",
      "iter 100 out of 538\n",
      "iter 200 out of 538\n",
      "iter 300 out of 538\n",
      "iter 400 out of 538\n",
      "iter 500 out of 538\n"
     ]
    },
    {
     "name": "stderr",
     "output_type": "stream",
     "text": [
      "Setting `pad_token_id` to `eos_token_id`:50256 for open-end generation.\n"
     ]
    },
    {
     "name": "stdout",
     "output_type": "stream",
     "text": [
      "<start>  I   created   my   own   branch   in   our   repo   <response>:   I   pushed   the   updated   util.py   to   master,   but   somehow   is   still   the   best   <response>:  <end><pad><pad><pad><pad><pad><pad><pad><pad><pad><pad><pad><pad><pad><pad><pad><pad><pad><pad><pad><pad><pad><pad><pad><pad><pad><pad><pad><pad><pad> <end><pad><pad><pad><pad><pad>  I   created   my   own   branch   in   our  \n",
      "========================================================\n",
      "Epoch 87 finished in 0.51 minutes\n",
      "Epoch 88 started\n",
      "iter 0 out of 538\n",
      "iter 100 out of 538\n",
      "iter 200 out of 538\n",
      "iter 300 out of 538\n",
      "iter 400 out of 538\n",
      "iter 500 out of 538\n"
     ]
    },
    {
     "name": "stderr",
     "output_type": "stream",
     "text": [
      "Setting `pad_token_id` to `eos_token_id`:50256 for open-end generation.\n"
     ]
    },
    {
     "name": "stdout",
     "output_type": "stream",
     "text": [
      "<start>  I   created   my   own   branch   in   our   repo   <response>:   I   pushed   the   updated   util.py   --  <end><pad><pad><pad><pad><pad><pad><pad><pad><pad><pad><pad><pad><pad><pad><pad><pad><pad><pad><pad><pad><pad><pad><pad><pad><pad><pad><pad><pad><pad><pad><pad><pad><pad><pad><pad><pad><pad><pad><pad><pad><pad><pad><pad><pad><pad> <end><pad><pad><pad><pad><pad><pad><pad><pad><pad><pad><pad><pad><pad><pad> <end><pad><pad><pad><pad>\n",
      "========================================================\n",
      "Epoch 88 finished in 0.51 minutes\n",
      "Epoch 89 started\n",
      "iter 0 out of 538\n",
      "iter 100 out of 538\n",
      "iter 200 out of 538\n",
      "iter 300 out of 538\n",
      "iter 400 out of 538\n",
      "iter 500 out of 538\n"
     ]
    },
    {
     "name": "stderr",
     "output_type": "stream",
     "text": [
      "Setting `pad_token_id` to `eos_token_id`:50256 for open-end generation.\n"
     ]
    },
    {
     "name": "stdout",
     "output_type": "stream",
     "text": [
      "<start>  I   created   my   own   branch   in   our   repo   <response>:   I   pushed   the   updated   util.py  <end><pad><pad><pad><pad><pad><pad><pad><pad><pad><pad><pad><pad><pad><pad><pad><pad><pad><pad><pad><pad><pad><pad><pad><pad><pad><pad><pad><pad> <end><pad><pad><pad><pad><pad><pad><pad><pad><pad><pad><pad><pad><pad><pad><pad><pad><pad><pad><pad><pad><pad><pad><pad><pad><pad><pad> <end><pad><pad><pad><pad><pad> <end><pad><pad><pad><pad>\n",
      "========================================================\n",
      "Epoch 89 finished in 0.51 minutes\n",
      "Epoch 90 started\n",
      "iter 0 out of 538\n",
      "iter 100 out of 538\n",
      "iter 200 out of 538\n",
      "iter 300 out of 538\n",
      "iter 400 out of 538\n",
      "iter 500 out of 538\n"
     ]
    },
    {
     "name": "stderr",
     "output_type": "stream",
     "text": [
      "Setting `pad_token_id` to `eos_token_id`:50256 for open-end generation.\n"
     ]
    },
    {
     "name": "stdout",
     "output_type": "stream",
     "text": [
      "<start>  I   created   my   own   branch   in   our   repo   <response>:   I   pushed   the   updated   util.py   to   master,   and   custom1and3   to   increase   but   I   get   the   updated   version   locally   because   it's   still   needs   a   update  <end><pad><pad><pad><pad><pad><pad><pad><pad><pad><pad><pad><pad><pad><pad><pad>  I   will   push   the   baseline   code   if   it\n",
      "========================================================\n",
      "Epoch 90 finished in 0.51 minutes\n",
      "Epoch 91 started\n",
      "iter 0 out of 538\n",
      "iter 100 out of 538\n",
      "iter 200 out of 538\n",
      "iter 300 out of 538\n",
      "iter 400 out of 538\n",
      "iter 500 out of 538\n"
     ]
    },
    {
     "name": "stderr",
     "output_type": "stream",
     "text": [
      "Setting `pad_token_id` to `eos_token_id`:50256 for open-end generation.\n"
     ]
    },
    {
     "name": "stdout",
     "output_type": "stream",
     "text": [
      "<start>  I   created   my   own   branch   in   our   repo   <response>:   I   pushed   the   updated   util.py   to   master,   but   I   need   a   minor   fix   after   changing   the   kernel   kernel   <response>:   I   fixed   the   scheduler.step   kernel   but   I   didn’t   added   new   kernel  <end><pad><pad><pad><pad><pad><pad> <end>   If   you   like   like   my\n",
      "========================================================\n",
      "Epoch 91 finished in 0.51 minutes\n",
      "Epoch 92 started\n",
      "iter 0 out of 538\n",
      "iter 100 out of 538\n",
      "iter 200 out of 538\n",
      "iter 300 out of 538\n",
      "iter 400 out of 538\n",
      "iter 500 out of 538\n"
     ]
    },
    {
     "name": "stderr",
     "output_type": "stream",
     "text": [
      "Setting `pad_token_id` to `eos_token_id`:50256 for open-end generation.\n"
     ]
    },
    {
     "name": "stdout",
     "output_type": "stream",
     "text": [
      "<start>  I   created   my   own   branch   in   our   repo   <response>:   I   pushed   the   updated   util.py   to   master,   but   I   need   a   minor   fix   after   and  <end><pad><pad><pad><pad><pad><pad><pad> <end><pad><pad><pad> <end> <end><pad> <end> <end><pad> <end><pad> <end> <end><pad><pad> <end><pad> <end> <end> <end><pad> <end> <end> <end> <end>\n",
      "========================================================\n",
      "Epoch 92 finished in 0.51 minutes\n",
      "Epoch 93 started\n",
      "iter 0 out of 538\n",
      "iter 100 out of 538\n",
      "iter 200 out of 538\n",
      "iter 300 out of 538\n",
      "iter 400 out of 538\n",
      "iter 500 out of 538\n"
     ]
    },
    {
     "name": "stderr",
     "output_type": "stream",
     "text": [
      "Setting `pad_token_id` to `eos_token_id`:50256 for open-end generation.\n"
     ]
    },
    {
     "name": "stdout",
     "output_type": "stream",
     "text": [
      "<start>  I   created   my   own   branch   in   our   repo   <response>:   I   pushed   the   updated   util.py   to   master,   but   I   need   a   break   anyways   before   training?   Can   I   can   try   you  <end><pad><pad><pad><pad><pad><pad><pad><pad><pad><pad><pad><pad> <end><pad> <end><pad><pad><pad><pad> <end><pad><pad><pad><pad><pad><pad><pad> <end><pad><pad> <end><pad><pad><pad>\n",
      "========================================================\n",
      "Epoch 93 finished in 0.52 minutes\n",
      "Epoch 94 started\n",
      "iter 0 out of 538\n",
      "iter 100 out of 538\n",
      "iter 200 out of 538\n",
      "iter 300 out of 538\n",
      "iter 400 out of 538\n",
      "iter 500 out of 538\n"
     ]
    },
    {
     "name": "stderr",
     "output_type": "stream",
     "text": [
      "Setting `pad_token_id` to `eos_token_id`:50256 for open-end generation.\n"
     ]
    },
    {
     "name": "stdout",
     "output_type": "stream",
     "text": [
      "<start>  I   created   my   own   branch   in   our   repo   <response>:   I   pushed   the   updated   util.py   to   master,   but   I   can   only   update   the   code   on   GitHub   until   3pm   and   so  <end><pad><pad><pad><pad><pad><pad><pad><pad><pad><pad> <end><pad><pad> <end><pad><pad> <end><pad><pad><pad> <end><pad><pad><pad><pad><pad> <end><pad><pad><pad><pad><pad> <end>\n",
      "========================================================\n",
      "Epoch 94 finished in 0.51 minutes\n",
      "Epoch 95 started\n",
      "iter 0 out of 538\n",
      "iter 100 out of 538\n",
      "iter 200 out of 538\n",
      "iter 300 out of 538\n",
      "iter 400 out of 538\n",
      "iter 500 out of 538\n"
     ]
    },
    {
     "name": "stderr",
     "output_type": "stream",
     "text": [
      "Setting `pad_token_id` to `eos_token_id`:50256 for open-end generation.\n"
     ]
    },
    {
     "name": "stdout",
     "output_type": "stream",
     "text": [
      "<start>  I   created   my   own   branch   in   our   repo   <response>:   I   pushed   the   updated   util.py   and   custom1and3  <end><pad><pad><pad><pad><pad><pad><pad><pad><pad><pad><pad><pad><pad><pad><pad><pad><pad> <end><pad><pad><pad><pad><pad><pad><pad><pad><pad><pad><pad><pad><pad><pad><pad><pad><pad> <end><pad><pad><pad>  just  <end><pad><pad><pad><pad><pad><pad><pad><pad><pad><pad><pad> <end><pad><pad><pad><pad><pad><pad><pad>\n",
      "========================================================\n",
      "Epoch 95 finished in 0.51 minutes\n",
      "Epoch 96 started\n",
      "iter 0 out of 538\n",
      "iter 100 out of 538\n",
      "iter 200 out of 538\n",
      "iter 300 out of 538\n",
      "iter 400 out of 538\n",
      "iter 500 out of 538\n"
     ]
    },
    {
     "name": "stderr",
     "output_type": "stream",
     "text": [
      "Setting `pad_token_id` to `eos_token_id`:50256 for open-end generation.\n"
     ]
    },
    {
     "name": "stdout",
     "output_type": "stream",
     "text": [
      "<start>  I   created   my   own   branch   in   our   repo   <response>:   I   pushed   the   updated   util.py  <end><pad><pad><pad><pad><pad><pad><pad><pad><pad><pad><pad><pad><pad><pad><pad><pad><pad><pad><pad><pad><pad><pad><pad><pad> <end><pad><pad><pad>  just   updated   the   util.py  <end><pad><pad><pad><pad><pad><pad><pad><pad><pad><pad><pad><pad><pad><pad><pad><pad><pad>  just   updated   the   section  <end><pad><pad><pad>\n",
      "========================================================\n",
      "Epoch 96 finished in 0.51 minutes\n",
      "Epoch 97 started\n",
      "iter 0 out of 538\n",
      "iter 100 out of 538\n",
      "iter 200 out of 538\n",
      "iter 300 out of 538\n",
      "iter 400 out of 538\n",
      "iter 500 out of 538\n"
     ]
    },
    {
     "name": "stderr",
     "output_type": "stream",
     "text": [
      "Setting `pad_token_id` to `eos_token_id`:50256 for open-end generation.\n"
     ]
    },
    {
     "name": "stdout",
     "output_type": "stream",
     "text": [
      "<start>  I   created   my   own   branch   in   our   repo   <response>:   I   pushed   the   updated   util.py   to   master,   but   I   still   need   a   fix   after   adding   to   the   discussion   section   <end><pad><pad><pad><pad><pad><pad><pad><pad><pad><pad><pad><pad><pad><pad><pad><pad><pad><pad><pad> <end><pad><pad><pad><pad> <end><pad><pad><pad><pad><pad><pad><pad><pad>  just   fixed  \n",
      "========================================================\n",
      "Epoch 97 finished in 0.51 minutes\n",
      "Epoch 98 started\n",
      "iter 0 out of 538\n",
      "iter 100 out of 538\n",
      "iter 200 out of 538\n",
      "iter 300 out of 538\n",
      "iter 400 out of 538\n",
      "iter 500 out of 538\n"
     ]
    },
    {
     "name": "stderr",
     "output_type": "stream",
     "text": [
      "Setting `pad_token_id` to `eos_token_id`:50256 for open-end generation.\n"
     ]
    },
    {
     "name": "stdout",
     "output_type": "stream",
     "text": [
      "<start>  I   created   my   own   branch   in   our   repo   <response>:   I   created   my   own   branch   in   our   repo   <end><pad><pad><pad><pad><pad><pad><pad><pad><pad><pad><pad><pad><pad><pad><pad><pad><pad><pad><pad><pad><pad><pad><pad><pad><pad><pad> <end><pad><pad><pad><pad><pad><pad> <end><pad><pad><pad><pad><pad><pad><pad><pad><pad><pad><pad><pad><pad><pad><pad><pad><pad><pad><pad><pad><pad> <end><pad><pad><pad>\n",
      "========================================================\n",
      "Epoch 98 finished in 0.52 minutes\n",
      "Epoch 99 started\n",
      "iter 0 out of 538\n",
      "iter 100 out of 538\n",
      "iter 200 out of 538\n",
      "iter 300 out of 538\n",
      "iter 400 out of 538\n",
      "iter 500 out of 538\n"
     ]
    },
    {
     "name": "stderr",
     "output_type": "stream",
     "text": [
      "Setting `pad_token_id` to `eos_token_id`:50256 for open-end generation.\n"
     ]
    },
    {
     "name": "stdout",
     "output_type": "stream",
     "text": [
      "<start>  I   created   my   own   branch   in   our   repo   <response>:   I   pushed   the   updated   util.py   version   locally   but   somehow   didn’t   update   on   GitHub   if   you   want   the   DSMLP   GPU   to   be   different  <end><pad><pad><pad><pad><pad><pad><pad><pad><pad><pad><pad><pad><pad><pad><pad><pad><pad><pad><pad><pad><pad><pad><pad><pad><pad><pad><pad><pad><pad><pad><pad><pad><pad><pad> \n",
      "========================================================\n",
      "Epoch 99 finished in 0.52 minutes\n"
     ]
    }
   ],
   "source": [
    "# train 10 times\n",
    "epochs = 100  # You can adjust the number of epochs as needed\n",
    "for epoch in range(epochs):\n",
    "    start = time.time()\n",
    "    print(f\"Epoch {epoch} started\")\n",
    "    train(chatData, model, optim)\n",
    "    end = time.time()\n",
    "    print(f\"Epoch {epoch} finished in {np.round((end - start) / 60, 2)} minutes\")"
   ]
  },
  {
   "cell_type": "code",
   "execution_count": 19,
   "metadata": {
    "id": "toCb6YovWMu5"
   },
   "outputs": [
    {
     "name": "stdout",
     "output_type": "stream",
     "text": [
      "Enter your input (press Enter when done):                     Ayo\n"
     ]
    },
    {
     "name": "stderr",
     "output_type": "stream",
     "text": [
      "Setting `pad_token_id` to `eos_token_id`:50256 for open-end generation.\n"
     ]
    },
    {
     "name": "stdout",
     "output_type": "stream",
     "text": [
      "<start> Ay o <response>: I’m updating the related works section with citations\n",
      "Enter your input (press Enter when done):                     bahahah\n"
     ]
    },
    {
     "name": "stderr",
     "output_type": "stream",
     "text": [
      "Setting `pad_token_id` to `eos_token_id`:50256 for open-end generation.\n"
     ]
    },
    {
     "name": "stdout",
     "output_type": "stream",
     "text": [
      "<start> b ah ah ah <response>: not submitted yet\n",
      "Enter your input (press Enter when done):                     are you ok\n"
     ]
    },
    {
     "name": "stderr",
     "output_type": "stream",
     "text": [
      "Setting `pad_token_id` to `eos_token_id`:50256 for open-end generation.\n"
     ]
    },
    {
     "name": "stdout",
     "output_type": "stream",
     "text": [
      "<start> are you ok <response>: I see you ok at all\n",
      "Enter your input (press Enter when done):                     are you ok\n"
     ]
    },
    {
     "name": "stderr",
     "output_type": "stream",
     "text": [
      "Setting `pad_token_id` to `eos_token_id`:50256 for open-end generation.\n"
     ]
    },
    {
     "name": "stdout",
     "output_type": "stream",
     "text": [
      "<start> are you ok <response>: with working rate of 10 <response>: For the report : report can use this copy of PA3\n",
      "Enter your input (press Enter when done):                     I am Ester\n"
     ]
    },
    {
     "name": "stderr",
     "output_type": "stream",
     "text": [
      "Setting `pad_token_id` to `eos_token_id`:50256 for open-end generation.\n"
     ]
    },
    {
     "name": "stdout",
     "output_type": "stream",
     "text": [
      "<start> I am Ester <response>: not doing the individual part so <response>: how about the existing result on report?\n",
      "Enter your input (press Enter when done):                     Are you Ester?\n"
     ]
    },
    {
     "name": "stderr",
     "output_type": "stream",
     "text": [
      "Setting `pad_token_id` to `eos_token_id`:50256 for open-end generation.\n"
     ]
    },
    {
     "name": "stdout",
     "output_type": "stream",
     "text": [
      "<start> Are you Ester? <response>: Are you all free to test your code by cloning my branch code\n",
      "Enter your input (press Enter when done):                     Who are you?\n"
     ]
    },
    {
     "name": "stderr",
     "output_type": "stream",
     "text": [
      "Setting `pad_token_id` to `eos_token_id`:50256 for open-end generation.\n"
     ]
    },
    {
     "name": "stdout",
     "output_type": "stream",
     "text": [
      "<start> Wh o are you? <response>: O IM OK NOW <response>: I'm using capstone platform\n"
     ]
    },
    {
     "ename": "KeyboardInterrupt",
     "evalue": "Interrupted by user",
     "output_type": "error",
     "traceback": [
      "\u001b[0;31m---------------------------------------------------------------------------\u001b[0m",
      "\u001b[0;31mKeyboardInterrupt\u001b[0m                         Traceback (most recent call last)",
      "\u001b[0;32m/tmp/ipykernel_2574/3056494004.py\u001b[0m in \u001b[0;36m<module>\u001b[0;34m\u001b[0m\n\u001b[1;32m      1\u001b[0m \u001b[0minp\u001b[0m \u001b[0;34m=\u001b[0m \u001b[0;34m\"\"\u001b[0m\u001b[0;34m\u001b[0m\u001b[0;34m\u001b[0m\u001b[0m\n\u001b[1;32m      2\u001b[0m \u001b[0;32mwhile\u001b[0m \u001b[0;32mTrue\u001b[0m\u001b[0;34m:\u001b[0m\u001b[0;34m\u001b[0m\u001b[0;34m\u001b[0m\u001b[0m\n\u001b[0;32m----> 3\u001b[0;31m     \u001b[0minp\u001b[0m \u001b[0;34m=\u001b[0m \u001b[0minput\u001b[0m\u001b[0;34m(\u001b[0m\u001b[0;34m\"Enter your input (press Enter when done): \"\u001b[0m \u001b[0;34m+\u001b[0m \u001b[0;34m\" \"\u001b[0m \u001b[0;34m*\u001b[0m \u001b[0;36m20\u001b[0m\u001b[0;34m)\u001b[0m\u001b[0;34m\u001b[0m\u001b[0;34m\u001b[0m\u001b[0m\n\u001b[0m\u001b[1;32m      4\u001b[0m     \u001b[0mprint\u001b[0m\u001b[0;34m(\u001b[0m\u001b[0minfer\u001b[0m\u001b[0;34m(\u001b[0m\u001b[0minp\u001b[0m\u001b[0;34m)\u001b[0m\u001b[0;34m)\u001b[0m\u001b[0;34m\u001b[0m\u001b[0;34m\u001b[0m\u001b[0m\n",
      "\u001b[0;32m/opt/conda/lib/python3.9/site-packages/ipykernel/kernelbase.py\u001b[0m in \u001b[0;36mraw_input\u001b[0;34m(self, prompt)\u001b[0m\n\u001b[1;32m    979\u001b[0m                 \u001b[0;34m\"raw_input was called, but this frontend does not support input requests.\"\u001b[0m\u001b[0;34m\u001b[0m\u001b[0;34m\u001b[0m\u001b[0m\n\u001b[1;32m    980\u001b[0m             )\n\u001b[0;32m--> 981\u001b[0;31m         return self._input_request(\n\u001b[0m\u001b[1;32m    982\u001b[0m             \u001b[0mstr\u001b[0m\u001b[0;34m(\u001b[0m\u001b[0mprompt\u001b[0m\u001b[0;34m)\u001b[0m\u001b[0;34m,\u001b[0m\u001b[0;34m\u001b[0m\u001b[0;34m\u001b[0m\u001b[0m\n\u001b[1;32m    983\u001b[0m             \u001b[0mself\u001b[0m\u001b[0;34m.\u001b[0m\u001b[0m_parent_ident\u001b[0m\u001b[0;34m[\u001b[0m\u001b[0;34m\"shell\"\u001b[0m\u001b[0;34m]\u001b[0m\u001b[0;34m,\u001b[0m\u001b[0;34m\u001b[0m\u001b[0;34m\u001b[0m\u001b[0m\n",
      "\u001b[0;32m/opt/conda/lib/python3.9/site-packages/ipykernel/kernelbase.py\u001b[0m in \u001b[0;36m_input_request\u001b[0;34m(self, prompt, ident, parent, password)\u001b[0m\n\u001b[1;32m   1024\u001b[0m             \u001b[0;32mexcept\u001b[0m \u001b[0mKeyboardInterrupt\u001b[0m\u001b[0;34m:\u001b[0m\u001b[0;34m\u001b[0m\u001b[0;34m\u001b[0m\u001b[0m\n\u001b[1;32m   1025\u001b[0m                 \u001b[0;31m# re-raise KeyboardInterrupt, to truncate traceback\u001b[0m\u001b[0;34m\u001b[0m\u001b[0;34m\u001b[0m\u001b[0;34m\u001b[0m\u001b[0m\n\u001b[0;32m-> 1026\u001b[0;31m                 \u001b[0;32mraise\u001b[0m \u001b[0mKeyboardInterrupt\u001b[0m\u001b[0;34m(\u001b[0m\u001b[0;34m\"Interrupted by user\"\u001b[0m\u001b[0;34m)\u001b[0m \u001b[0;32mfrom\u001b[0m \u001b[0;32mNone\u001b[0m\u001b[0;34m\u001b[0m\u001b[0;34m\u001b[0m\u001b[0m\n\u001b[0m\u001b[1;32m   1027\u001b[0m             \u001b[0;32mexcept\u001b[0m \u001b[0mException\u001b[0m\u001b[0;34m:\u001b[0m\u001b[0;34m\u001b[0m\u001b[0;34m\u001b[0m\u001b[0m\n\u001b[1;32m   1028\u001b[0m                 \u001b[0mself\u001b[0m\u001b[0;34m.\u001b[0m\u001b[0mlog\u001b[0m\u001b[0;34m.\u001b[0m\u001b[0mwarning\u001b[0m\u001b[0;34m(\u001b[0m\u001b[0;34m\"Invalid Message:\"\u001b[0m\u001b[0;34m,\u001b[0m \u001b[0mexc_info\u001b[0m\u001b[0;34m=\u001b[0m\u001b[0;32mTrue\u001b[0m\u001b[0;34m)\u001b[0m\u001b[0;34m\u001b[0m\u001b[0;34m\u001b[0m\u001b[0m\n",
      "\u001b[0;31mKeyboardInterrupt\u001b[0m: Interrupted by user"
     ]
    }
   ],
   "source": [
    "inp = \"\"\n",
    "while True:\n",
    "    inp = input(\"Enter your input (press Enter when done): \" + \" \" * 20)\n",
    "    print(infer(inp))"
   ]
  },
  {
   "cell_type": "code",
   "execution_count": 16,
   "metadata": {},
   "outputs": [],
   "source": [
    "# Save the model's state dictionary after training is complete\n",
    "torch.save(model.state_dict(), f\"models/{data_file_name}_ep{epochs}.pt\")"
   ]
  },
  {
   "cell_type": "code",
   "execution_count": 15,
   "metadata": {},
   "outputs": [
    {
     "name": "stdout",
     "output_type": "stream",
     "text": [
      "model size: 633.979MB\n"
     ]
    }
   ],
   "source": [
    "param_size = 0\n",
    "for param in model.parameters():\n",
    "    param_size += param.nelement() * param.element_size()\n",
    "buffer_size = 0\n",
    "for buffer in model.buffers():\n",
    "    buffer_size += buffer.nelement() * buffer.element_size()\n",
    "\n",
    "size_all_mb = (param_size + buffer_size) / 1024**2\n",
    "print('model size: {:.3f}MB'.format(size_all_mb))"
   ]
  },
  {
   "cell_type": "code",
   "execution_count": null,
   "metadata": {},
   "outputs": [],
   "source": []
  }
 ],
 "metadata": {
  "accelerator": "GPU",
  "colab": {
   "gpuType": "T4",
   "provenance": []
  },
  "kernelspec": {
   "display_name": "Python 3 (ipykernel)",
   "language": "python",
   "name": "python3"
  },
  "language_info": {
   "codemirror_mode": {
    "name": "ipython",
    "version": 3
   },
   "file_extension": ".py",
   "mimetype": "text/x-python",
   "name": "python",
   "nbconvert_exporter": "python",
   "pygments_lexer": "ipython3",
   "version": "3.9.5"
  }
 },
 "nbformat": 4,
 "nbformat_minor": 1
}
