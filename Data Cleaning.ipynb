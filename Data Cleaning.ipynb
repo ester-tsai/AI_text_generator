{
 "cells": [
  {
   "cell_type": "code",
   "execution_count": 1,
   "id": "614c008a",
   "metadata": {},
   "outputs": [],
   "source": [
    "import pandas as pd\n",
    "import json\n",
    "import numpy as np"
   ]
  },
  {
   "cell_type": "code",
   "execution_count": 2,
   "id": "4091463c",
   "metadata": {},
   "outputs": [
    {
     "data": {
      "text/plain": [
       "\"Can one of you guys download your facebook messenger data and upload the json file for this groupchat to the github repo? I can't download the 3 month one for some reason\""
      ]
     },
     "execution_count": 2,
     "metadata": {},
     "output_type": "execute_result"
    }
   ],
   "source": [
    "data_file = open('data/CSE151B_groupchat_3mo.json')\n",
    "json_data = json.load(data_file)\n",
    "json_data['messages'][1]['content'].encode('latin1').decode('utf-8')"
   ]
  },
  {
   "cell_type": "code",
   "execution_count": 3,
   "id": "b31e25b9",
   "metadata": {},
   "outputs": [],
   "source": [
    "one_minute = 60000"
   ]
  },
  {
   "cell_type": "code",
   "execution_count": 4,
   "id": "275ac0a2",
   "metadata": {},
   "outputs": [
    {
     "data": {
      "text/plain": [
       "1664"
      ]
     },
     "execution_count": 4,
     "metadata": {},
     "output_type": "execute_result"
    }
   ],
   "source": [
    "len(json_data['messages'])"
   ]
  },
  {
   "cell_type": "code",
   "execution_count": 30,
   "id": "846aedad",
   "metadata": {},
   "outputs": [],
   "source": [
    "prompt_response = []\n",
    "for i in range(len(json_data['messages'])-1):\n",
    "    this_dict = {}\n",
    "    time_difference = json_data['messages'][i+1]['timestamp_ms'] - json_data['messages'][i]['timestamp_ms']\n",
    "    \n",
    "    #Keeps responses within 2minutes of previous message, removes photos\n",
    "    if json_data['messages'][i]['sender_name'] != json_data['messages'][i+1]['sender_name'] and \\\n",
    "        time_difference <= one_minute*2 and 'content' in json_data['messages'][i] and \\\n",
    "        'content' in json_data['messages'][i+1]:\n",
    "        \n",
    "        this_dict['prompt'] = json_data['messages'][i]['content'].encode('latin1').decode('utf-8').replace('\\n', ' ')\n",
    "        this_dict['response'] = json_data['messages'][i+1]['content'].encode('latin1').decode('utf-8').replace('\\n', ' ')\n",
    "        this_dict['user'] = json_data['messages'][i+1]['sender_name']\n",
    "        \n",
    "        \n",
    "        #removes reactions and links\n",
    "        if not(('reacted' in this_dict['prompt'] and 'to your message' in this_dict['prompt']) or \\\n",
    "        ('reacted' in this_dict['response'] and 'to your message' in this_dict['response'])) and \\\n",
    "        '\\u200d♂️' not in this_dict['response'] and '\\u200d♂️' not in this_dict['prompt'] and \\\n",
    "        'https' not in this_dict['response'] and 'https' not in this_dict['prompt'] and \\\n",
    "        '.com' not in this_dict['response'] and '.com' not in this_dict['prompt']:\n",
    "            prompt_response.append(this_dict)"
   ]
  },
  {
   "cell_type": "code",
   "execution_count": 31,
   "id": "b1b030de",
   "metadata": {},
   "outputs": [
    {
     "data": {
      "text/plain": [
       "[{'prompt': 'I’ll try',\n",
       "  'response': \"Can one of you guys download your facebook messenger data and upload the json file for this groupchat to the github repo? I can't download the 3 month one for some reason\",\n",
       "  'user': 'Ester Tsai'},\n",
       " {'prompt': \"Can one of you guys download your facebook messenger data and upload the json file for this groupchat to the github repo? I can't download the 3 month one for some reason\",\n",
       "  'response': '😂',\n",
       "  'user': 'Samuel Chu'},\n",
       " {'prompt': '😂',\n",
       "  'response': 'keep sending texts and we will have better data 😳😳',\n",
       "  'user': 'Ester Tsai'},\n",
       " {'prompt': 'Spam with what lol', 'response': 'lol ya', 'user': 'Samuel Chu'},\n",
       " {'prompt': 'lol ya',\n",
       "  'response': 'you can spam the chat right now for data haha',\n",
       "  'user': 'Ester Tsai'}]"
      ]
     },
     "execution_count": 31,
     "metadata": {},
     "output_type": "execute_result"
    }
   ],
   "source": [
    "prompt_response[:5]"
   ]
  },
  {
   "cell_type": "code",
   "execution_count": 33,
   "id": "14935398",
   "metadata": {},
   "outputs": [],
   "source": [
    "with open('prompt_response.jsonl', 'w') as json_file:\n",
    "    for entry in prompt_response:\n",
    "        json.dump(entry, json_file)\n",
    "        json_file.write('\\n')"
   ]
  },
  {
   "cell_type": "code",
   "execution_count": 28,
   "id": "37f884f6",
   "metadata": {},
   "outputs": [],
   "source": [
    "junk_messages = ['reacted', 'X:1759 T:F\\\"ur Elise T:Bagatelle', 'Counter({50:']"
   ]
  },
  {
   "cell_type": "code",
   "execution_count": 17,
   "id": "752b7d2a",
   "metadata": {},
   "outputs": [],
   "source": [
    "with open('data/cleaned.txt', 'w+') as f:\n",
    "    for d in json_data['messages'][::-1]:\n",
    "        if 'content' in d:\n",
    "            message = d['content']\n",
    "            if np.all([junk not in message for junk in junk_messages]):\n",
    "                cleaned = message.replace('\\n', ' ').encode('latin1').decode('utf-8')\n",
    "                cleaned = '<start> ' + cleaned + ' <end> '\n",
    "                f.write(cleaned)"
   ]
  },
  {
   "cell_type": "code",
   "execution_count": 14,
   "id": "0d7bc026",
   "metadata": {},
   "outputs": [],
   "source": [
    "with open('data/cleaned_with_name.txt', 'w+') as f:\n",
    "    for d in json_data['messages'][::-1]:\n",
    "        if 'content' in d:\n",
    "            message = d['content']\n",
    "            if np.all([junk not in message for junk in junk_messages]):\n",
    "                sender = d[\"sender_name\"].split(' ')[0].replace('Kong', 'Winfrey')\n",
    "                cleaned = message.replace('\\n', ' ').encode('latin1').decode('utf-8')\n",
    "                cleaned = f'<start> {sender}: ' + cleaned + ' <end> '\n",
    "                f.write(cleaned)"
   ]
  },
  {
   "cell_type": "code",
   "execution_count": null,
   "id": "6ac9c9ca",
   "metadata": {},
   "outputs": [],
   "source": []
  }
 ],
 "metadata": {
  "kernelspec": {
   "display_name": "Python 3 (ipykernel)",
   "language": "python",
   "name": "python3"
  },
  "language_info": {
   "codemirror_mode": {
    "name": "ipython",
    "version": 3
   },
   "file_extension": ".py",
   "mimetype": "text/x-python",
   "name": "python",
   "nbconvert_exporter": "python",
   "pygments_lexer": "ipython3",
   "version": "3.9.5"
  }
 },
 "nbformat": 4,
 "nbformat_minor": 5
}
