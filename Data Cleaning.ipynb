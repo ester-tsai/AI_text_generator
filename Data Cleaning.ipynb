{
 "cells": [
  {
   "cell_type": "code",
   "execution_count": 2,
   "id": "614c008a",
   "metadata": {},
   "outputs": [],
   "source": [
    "import pandas as pd\n",
    "import json\n",
    "import numpy as np"
   ]
  },
  {
   "cell_type": "code",
   "execution_count": 32,
   "id": "4091463c",
   "metadata": {},
   "outputs": [
    {
     "data": {
      "text/plain": [
       "'I’m gonna submit for now, if there’s any more changes lmk'"
      ]
     },
     "execution_count": 32,
     "metadata": {},
     "output_type": "execute_result"
    }
   ],
   "source": [
    "data_file = open('data/cse151B_groupchat.json')\n",
    "json_data = json.load(data_file)\n",
    "json_data['messages'][1]['content'].encode('latin1').decode('utf-8')"
   ]
  },
  {
   "cell_type": "code",
   "execution_count": 41,
   "id": "83d481ef",
   "metadata": {},
   "outputs": [
    {
     "data": {
      "text/plain": [
       "'😂😂😂😂'"
      ]
     },
     "execution_count": 41,
     "metadata": {},
     "output_type": "execute_result"
    }
   ],
   "source": [
    "json_data['messages'][10]['content'].encode('latin1').decode('utf-8')"
   ]
  },
  {
   "cell_type": "code",
   "execution_count": 44,
   "id": "752b7d2a",
   "metadata": {},
   "outputs": [],
   "source": [
    "data_file = open('data/cse151B_groupchat.json')\n",
    "json_data = json.load(data_file)\n",
    "\n",
    "with open('data/cleaned.txt', 'w+') as f:\n",
    "    for d in json_data['messages'][::-1]:\n",
    "        if 'content' in d:\n",
    "            message = d['content']\n",
    "            if 'reacted' not in message:\n",
    "                cleaned = message.replace('\\n', ' ').encode('latin1').decode('utf-8')\n",
    "                cleaned = '<start> ' + cleaned + ' <end> '\n",
    "                f.write(cleaned)"
   ]
  },
  {
   "cell_type": "code",
   "execution_count": 45,
   "id": "0d7bc026",
   "metadata": {},
   "outputs": [],
   "source": [
    "data_file = open('data/cse151B_groupchat.json')\n",
    "json_data = json.load(data_file)\n",
    "\n",
    "with open('data/cleaned_with_name.txt', 'w+') as f:\n",
    "    for d in json_data['messages'][::-1]:\n",
    "        if 'content' in d:\n",
    "            message = d['content']\n",
    "            if 'reacted' not in message:\n",
    "                sender = d[\"sender_name\"].split(' ')[0]\n",
    "                cleaned = message.replace('\\n', ' ').encode('latin1').decode('utf-8')\n",
    "                cleaned = f'<start> {sender}: ' + cleaned + ' <end> '\n",
    "                f.write(cleaned)"
   ]
  },
  {
   "cell_type": "code",
   "execution_count": null,
   "id": "79b4d71c",
   "metadata": {},
   "outputs": [],
   "source": []
  }
 ],
 "metadata": {
  "kernelspec": {
   "display_name": "Python 3 (ipykernel)",
   "language": "python",
   "name": "python3"
  },
  "language_info": {
   "codemirror_mode": {
    "name": "ipython",
    "version": 3
   },
   "file_extension": ".py",
   "mimetype": "text/x-python",
   "name": "python",
   "nbconvert_exporter": "python",
   "pygments_lexer": "ipython3",
   "version": "3.9.5"
  }
 },
 "nbformat": 4,
 "nbformat_minor": 5
}
