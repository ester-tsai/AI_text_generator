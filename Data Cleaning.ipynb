{
 "cells": [
  {
   "cell_type": "code",
   "execution_count": 2,
   "id": "614c008a",
   "metadata": {},
   "outputs": [],
   "source": [
    "import pandas as pd\n",
    "import json\n",
    "import numpy as np"
   ]
  },
  {
   "cell_type": "code",
   "execution_count": 32,
   "id": "4091463c",
   "metadata": {},
   "outputs": [
    {
     "data": {
      "text/plain": [
       "'I’m gonna submit for now, if there’s any more changes lmk'"
      ]
     },
     "execution_count": 32,
     "metadata": {},
     "output_type": "execute_result"
    }
   ],
   "source": [
    "data_file = open('data/cse151B_groupchat.json')\n",
    "json_data = json.load(data_file)\n",
    "json_data['messages'][1]['content'].encode('latin1').decode('utf-8')"
   ]
  },
  {
   "cell_type": "code",
   "execution_count": 41,
   "id": "83d481ef",
   "metadata": {},
   "outputs": [
    {
     "data": {
      "text/plain": [
       "'😂😂😂😂'"
      ]
     },
     "execution_count": 41,
     "metadata": {},
     "output_type": "execute_result"
    }
   ],
   "source": [
    "json_data['messages'][10]['content'].encode('latin1').decode('utf-8')"
   ]
  },
  {
   "cell_type": "code",
   "execution_count": 44,
   "id": "752b7d2a",
   "metadata": {},
   "outputs": [],
   "source": [
    "data_file = open('data/cse151B_groupchat.json')\n",
    "json_data = json.load(data_file)\n",
    "\n",
    "with open('data/cleaned.txt', 'w+') as f:\n",
    "    for d in json_data['messages'][::-1]:\n",
    "        if 'content' in d:\n",
    "            message = d['content']\n",
    "            if 'reacted' not in message:\n",
    "                cleaned = message.replace('\\n', ' ').encode('latin1').decode('utf-8')\n",
    "                cleaned = '<start> ' + cleaned + ' <end> '\n",
    "                f.write(cleaned)"
   ]
  },
  {
   "cell_type": "code",
   "execution_count": 46,
   "id": "0d7bc026",
   "metadata": {},
   "outputs": [],
   "source": [
    "data_file = open('data/cse151B_groupchat.json')\n",
    "json_data = json.load(data_file)\n",
    "\n",
    "with open('data/cleaned_with_name.txt', 'w+') as f:\n",
    "    for d in json_data['messages'][::-1]:\n",
    "        if 'content' in d:\n",
    "            message = d['content']\n",
    "            if 'reacted' not in message:\n",
    "                sender = d[\"sender_name\"].split(' ')[0].replace('Kong', 'Winfrey')\n",
    "                cleaned = message.replace('\\n', ' ').encode('latin1').decode('utf-8')\n",
    "                cleaned = f'<start> {sender}: ' + cleaned + ' <end> '\n",
    "                f.write(cleaned)"
   ]
  },
  {
   "cell_type": "code",
   "execution_count": 47,
   "id": "79b4d71c",
   "metadata": {},
   "outputs": [
    {
     "ename": "TypeError",
     "evalue": "can only concatenate list (not \"str\") to list",
     "output_type": "error",
     "traceback": [
      "\u001b[0;31m---------------------------------------------------------------------------\u001b[0m",
      "\u001b[0;31mTypeError\u001b[0m                                 Traceback (most recent call last)",
      "\u001b[0;32m/tmp/ipykernel_179/1841920419.py\u001b[0m in \u001b[0;36m<module>\u001b[0;34m\u001b[0m\n\u001b[0;32m----> 1\u001b[0;31m \u001b[0;34m[\u001b[0m\u001b[0;34m'a'\u001b[0m\u001b[0;34m]\u001b[0m \u001b[0;34m+\u001b[0m \u001b[0;34m'b'\u001b[0m\u001b[0;34m\u001b[0m\u001b[0;34m\u001b[0m\u001b[0m\n\u001b[0m",
      "\u001b[0;31mTypeError\u001b[0m: can only concatenate list (not \"str\") to list"
     ]
    }
   ],
   "source": [
    "['a'] + 'b'"
   ]
  }
 ],
 "metadata": {
  "kernelspec": {
   "display_name": "Python 3 (ipykernel)",
   "language": "python",
   "name": "python3"
  },
  "language_info": {
   "codemirror_mode": {
    "name": "ipython",
    "version": 3
   },
   "file_extension": ".py",
   "mimetype": "text/x-python",
   "name": "python",
   "nbconvert_exporter": "python",
   "pygments_lexer": "ipython3",
   "version": "3.9.5"
  }
 },
 "nbformat": 4,
 "nbformat_minor": 5
}
