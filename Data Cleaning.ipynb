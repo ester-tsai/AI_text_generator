{
 "cells": [
  {
   "cell_type": "code",
   "execution_count": 1,
   "id": "614c008a",
   "metadata": {},
   "outputs": [],
   "source": [
    "import pandas as pd\n",
    "import json\n",
    "import numpy as np"
   ]
  },
  {
   "cell_type": "markdown",
   "id": "ed731665",
   "metadata": {},
   "source": [
    "# Groupchat"
   ]
  },
  {
   "cell_type": "code",
   "execution_count": 2,
   "id": "4091463c",
   "metadata": {
    "scrolled": true
   },
   "outputs": [
    {
     "data": {
      "text/plain": [
       "\"Can one of you guys download your facebook messenger data and upload the json file for this groupchat to the github repo? I can't download the 3 month one for some reason\""
      ]
     },
     "execution_count": 2,
     "metadata": {},
     "output_type": "execute_result"
    }
   ],
   "source": [
    "groupchat_data = open('data/CSE151B_groupchat_3mo.json')\n",
    "groupchat = json.load(groupchat_data)\n",
    "groupchat['messages'][1]['content'].encode('latin1').decode('utf-8')"
   ]
  },
  {
   "cell_type": "code",
   "execution_count": 20,
   "id": "37f884f6",
   "metadata": {},
   "outputs": [],
   "source": [
    "junk_messages = ['Reacted', 'reacted', 'X:1759 T:F\\\"ur Elise T:Bagatelle', 'Counter({50:']"
   ]
  },
  {
   "cell_type": "code",
   "execution_count": 21,
   "id": "752b7d2a",
   "metadata": {},
   "outputs": [],
   "source": [
    "with open('data/cleaned.txt', 'w+') as f:\n",
    "    for d in groupchat['messages'][::-1]:\n",
    "        if 'content' in d:\n",
    "            message = d['content']\n",
    "            if np.all([junk not in message for junk in junk_messages]):\n",
    "                cleaned = message.replace('\\n', ' ').encode('latin1').decode('utf-8')\n",
    "                cleaned = '<start> ' + cleaned + ' <end> '\n",
    "                f.write(cleaned)"
   ]
  },
  {
   "cell_type": "code",
   "execution_count": 22,
   "id": "0d7bc026",
   "metadata": {},
   "outputs": [],
   "source": [
    "with open('data/cleaned_with_name.txt', 'w+') as f:\n",
    "    for d in groupchat['messages'][::-1]:\n",
    "        if 'content' in d:\n",
    "            message = d['content']\n",
    "            if np.all([junk not in message for junk in junk_messages]):\n",
    "                sender = d[\"sender_name\"].split(' ')[0].replace('Kong', 'Winfrey')\n",
    "                cleaned = message.replace('\\n', ' ').encode('latin1').decode('utf-8')\n",
    "                cleaned = f'<start> {sender}: ' + cleaned + ' <end> '\n",
    "                f.write(cleaned)"
   ]
  },
  {
   "cell_type": "markdown",
   "id": "48669316",
   "metadata": {},
   "source": [
    "# Ester"
   ]
  },
  {
   "cell_type": "code",
   "execution_count": 14,
   "id": "6ac9c9ca",
   "metadata": {},
   "outputs": [],
   "source": [
    "tim_data = open('data/timothy_wu.json')\n",
    "tim = json.load(tim_data)"
   ]
  },
  {
   "cell_type": "code",
   "execution_count": 4,
   "id": "166ef8ba",
   "metadata": {},
   "outputs": [],
   "source": [
    "# junk_messages = ['Reacted', 'reacted']\n",
    "# with open('data/ester.txt', 'w+') as f:\n",
    "#     for d in tim['messages'][::-1]:\n",
    "#         if 'content' in d:\n",
    "#             message = d['content']\n",
    "#             if np.all([junk not in message for junk in junk_messages]):\n",
    "#                 cleaned = message.replace('\\n', ' ').encode('latin1').decode('utf-8')\n",
    "#                 cleaned = '<start> ' + cleaned + ' <end> '\n",
    "#                 f.write(cleaned)"
   ]
  },
  {
   "cell_type": "code",
   "execution_count": 27,
   "id": "28603dd4",
   "metadata": {},
   "outputs": [],
   "source": [
    "junk_messages = ['Reacted', 'reacted', 'X:1759 T:F\\\"ur Elise T:Bagatelle', 'Counter({50:']\n",
    "\n",
    "def clean_message(message):\n",
    "    message = message.replace('\\n', ' ').replace('\\U0001fae8', '🫨').replace('\\U0001f979', '🥹').encode('latin1').decode('utf-8').replace('\\u200d♀️', '')\n",
    "    if 'https:' in message:\n",
    "        message = message[:message.find('https:')]\n",
    "    return message\n",
    "\n",
    "with open('data/prompt_response/Ester.txt', 'w') as f:\n",
    "    message_list = groupchat['messages'][::-1]\n",
    "    for i in range(len(message_list)-1):\n",
    "        d1, d2 = message_list[i], message_list[i+1]\n",
    "        sender1, sender2 = d1[\"sender_name\"].split(' ')[0], d2[\"sender_name\"].split(' ')[0]\n",
    "        if ('content' in d1) & ('content' in d2) & ('Ester' == sender2):\n",
    "            message1, message2 = d1['content'], d2['content']\n",
    "            if np.all([junk not in message1 for junk in junk_messages]) & np.all([junk not in message2 for junk in junk_messages]):\n",
    "                cleaned1 = clean_message(message1)\n",
    "                cleaned2 = clean_message(message2)\n",
    "                pair = {\n",
    "                    'prompt': cleaned1,\n",
    "                    'response': cleaned2\n",
    "                }\n",
    "                f.write(str(pair) + '\\n')\n",
    "                \n",
    "with open('data/prompt_response/Ester.txt', 'a') as f:\n",
    "    message_list = tim['messages'][::-1]\n",
    "    for i in range(len(message_list)-1):\n",
    "        d1, d2 = message_list[i], message_list[i+1]\n",
    "        sender1, sender2 = d1[\"sender_name\"].split(' ')[0], d2[\"sender_name\"].split(' ')[0]\n",
    "        if ('content' in d1) & ('content' in d2) & ('Ester' == sender2):\n",
    "            message1, message2 = d1['content'], d2['content']\n",
    "            if np.all([junk not in message1 for junk in junk_messages]) & np.all([junk not in message2 for junk in junk_messages]):\n",
    "                cleaned1 = clean_message(message1)\n",
    "                cleaned2 = clean_message(message2)\n",
    "                pair = {\n",
    "                    'prompt': cleaned1,\n",
    "                    'response': cleaned2\n",
    "                }\n",
    "                f.write(str(pair) + '\\n')\n",
    "\n"
   ]
  },
  {
   "cell_type": "markdown",
   "id": "07c4e0c9",
   "metadata": {},
   "source": [
    "# Winfrey"
   ]
  },
  {
   "cell_type": "code",
   "execution_count": 8,
   "id": "1f227e1d",
   "metadata": {},
   "outputs": [],
   "source": [
    "name = 'Kong'\n",
    "junk_messages = ['Reacted', 'reacted', 'X:1759 T:F\\\"ur Elise T:Bagatelle', 'Counter({50:', 'python main.py --task', 'gmail.com']\n",
    "\n",
    "def clean_message(message):\n",
    "    message = message.replace('\\n', ' ').replace('\\U0001fae8', '🫨').replace('\\U0001f979', '🥹').encode('latin1').decode('utf-8').replace('\\u200d♀️', '')\n",
    "    if 'https:' in message:\n",
    "        message = message[:message.find('https:')]\n",
    "    return message\n",
    "\n",
    "with open('data/prompt_response/Winfrey.txt', 'w') as f:\n",
    "    message_list = groupchat['messages'][::-1]\n",
    "    for i in range(len(message_list)-1):\n",
    "        d1, d2 = message_list[i], message_list[i+1]\n",
    "        sender1, sender2 = d1[\"sender_name\"].split(' ')[0], d2[\"sender_name\"].split(' ')[0]\n",
    "        if ('content' in d1) & ('content' in d2) & (name == sender2):\n",
    "            message1, message2 = d1['content'], d2['content']\n",
    "            if np.all([junk not in message1 for junk in junk_messages]) & np.all([junk not in message2 for junk in junk_messages]):\n",
    "                cleaned1 = clean_message(message1)\n",
    "                cleaned2 = clean_message(message2)\n",
    "                pair = {\n",
    "                    'prompt': cleaned1,\n",
    "                    'response': cleaned2\n",
    "                }\n",
    "                f.write(str(pair) + '\\n')"
   ]
  },
  {
   "cell_type": "code",
   "execution_count": null,
   "id": "c6cf6df6",
   "metadata": {},
   "outputs": [],
   "source": []
  },
  {
   "cell_type": "code",
   "execution_count": null,
   "id": "7e66dc90",
   "metadata": {},
   "outputs": [],
   "source": []
  },
  {
   "cell_type": "code",
   "execution_count": null,
   "id": "b290c558",
   "metadata": {},
   "outputs": [],
   "source": []
  }
 ],
 "metadata": {
  "kernelspec": {
   "display_name": "Python 3 (ipykernel)",
   "language": "python",
   "name": "python3"
  },
  "language_info": {
   "codemirror_mode": {
    "name": "ipython",
    "version": 3
   },
   "file_extension": ".py",
   "mimetype": "text/x-python",
   "name": "python",
   "nbconvert_exporter": "python",
   "pygments_lexer": "ipython3",
   "version": "3.9.5"
  }
 },
 "nbformat": 4,
 "nbformat_minor": 5
}
